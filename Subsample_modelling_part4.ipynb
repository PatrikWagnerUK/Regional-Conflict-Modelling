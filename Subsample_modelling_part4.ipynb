{
 "cells": [
  {
   "cell_type": "code",
   "execution_count": 52,
   "id": "2beccc25",
   "metadata": {},
   "outputs": [],
   "source": [
    "import pandas as pd\n",
    "import matplotlib.pyplot as plt\n",
    "import matplotlib as mpl\n",
    "import numpy as np\n",
    "import seaborn as sns\n",
    "from datetime import datetime\n",
    "import statistics\n",
    "import re\n",
    "from sklearn.model_selection import GridSearchCV\n",
    "from sklearn.metrics import accuracy_score, auc, classification_report, plot_confusion_matrix, recall_score, precision_recall_curve, roc_auc_score, plot_roc_curve, plot_precision_recall_curve\n",
    "from sklearn.linear_model import LogisticRegression\n",
    "from sklearn import preprocessing\n",
    "from sklearn.preprocessing import StandardScaler\n",
    "from sklearn import metrics\n",
    "from sklearn.model_selection import train_test_split\n",
    "from sklearn.model_selection import cross_val_score\n",
    "from sklearn.metrics import classification_report, confusion_matrix, accuracy_score, roc_curve, roc_auc_score\n",
    "from sklearn.metrics import plot_confusion_matrix, f1_score\n",
    "from sklearn.linear_model import LogisticRegression, LogisticRegressionCV\n",
    "from sklearn.model_selection import cross_val_score\n",
    "from sklearn.model_selection import GridSearchCV"
   ]
  },
  {
   "cell_type": "code",
   "execution_count": 53,
   "id": "bb61eeae",
   "metadata": {},
   "outputs": [],
   "source": [
    "from collections import Counter\n",
    "from imblearn.over_sampling import ADASYN\n",
    "from numpy import where\n",
    "from imblearn.over_sampling import SMOTE"
   ]
  },
  {
   "cell_type": "markdown",
   "id": "8ee97a6f",
   "metadata": {},
   "source": [
    "# Subsamping - Introduction\n",
    "Alongside the modelling carried out with Vaex, in order to explore whether the volume of data makes a material difference to model scores, I wanted to also attempt modelling below using subsampling. The data imported is the same data we used for the our last Vaex model, with SMOTE applied to fix the class imbalance. This data is then split into a regular Test and Train set, with the target (y) removed into y_train and y_test. The data is subsampled to reduce the number of observations to a point where the analysis can be carried out locally."
   ]
  },
  {
   "cell_type": "markdown",
   "id": "7e0c2777",
   "metadata": {},
   "source": [
    "### Imports & Setting the Scene"
   ]
  },
  {
   "cell_type": "code",
   "execution_count": 54,
   "id": "526bdb45",
   "metadata": {},
   "outputs": [],
   "source": [
    "df_train = pd.read_csv('sm_train.csv')\n",
    "df_test = pd.read_csv('sm_test.csv')"
   ]
  },
  {
   "cell_type": "code",
   "execution_count": 55,
   "id": "78040551",
   "metadata": {},
   "outputs": [
    {
     "name": "stdout",
     "output_type": "stream",
     "text": [
      "<class 'pandas.core.frame.DataFrame'>\n",
      "RangeIndex: 267988 entries, 0 to 267987\n",
      "Data columns (total 40 columns):\n",
      " #   Column                                Non-Null Count   Dtype  \n",
      "---  ------                                --------------   -----  \n",
      " 0   Unnamed: 0                            267988 non-null  int64  \n",
      " 1   frequency_encoded_conflict_name       267988 non-null  float64\n",
      " 2   frequency_encoded_dyad_name           267988 non-null  float64\n",
      " 3   frequency_encoded_side_a              267988 non-null  float64\n",
      " 4   frequency_encoded_side_b              267988 non-null  float64\n",
      " 5   frequency_encoded_source_original     267988 non-null  float64\n",
      " 6   frequency_encoded_where_coordinates   267988 non-null  float64\n",
      " 7   frequency_encoded_where_description   267988 non-null  float64\n",
      " 8   frequency_encoded_adm_1               267988 non-null  float64\n",
      " 9   frequency_encoded_country             267988 non-null  float64\n",
      " 10  frequency_encoded_media_org_source    267988 non-null  float64\n",
      " 11  label_encoded_active_year             267988 non-null  int64  \n",
      " 12  label_encoded_type_of_violence        267988 non-null  int64  \n",
      " 13  label_encoded_region                  267988 non-null  int64  \n",
      " 14  year                                  267988 non-null  int64  \n",
      " 15  conflict_new_id                       267988 non-null  int64  \n",
      " 16  dyad_new_id                           267988 non-null  int64  \n",
      " 17  side_a_new_id                         267988 non-null  int64  \n",
      " 18  side_b_new_id                         267988 non-null  int64  \n",
      " 19  priogrid_gid                          267988 non-null  int64  \n",
      " 20  conflict_length                       267988 non-null  int64  \n",
      " 21  capital_investment                    267988 non-null  float64\n",
      " 22  economic_growth                       267988 non-null  float64\n",
      " 23  savings_pcnt_gdp                      267988 non-null  float64\n",
      " 24  inflation                             267988 non-null  float64\n",
      " 25  pcnt_world_tourist_arrivals           267988 non-null  float64\n",
      " 26  death_rate_p1000                      267988 non-null  float64\n",
      " 27  human_flight_brain_drain_index_score  267988 non-null  float64\n",
      " 28  government_debt                       267988 non-null  float64\n",
      " 29  inv_freedom_index_score               267988 non-null  float64\n",
      " 30  external_debt                         267988 non-null  float64\n",
      " 31  labor_freedom_index_score             267988 non-null  float64\n",
      " 32  remittances                           267988 non-null  float64\n",
      " 33  pop_growth_pcnt                       267988 non-null  float64\n",
      " 34  banking_z_score                       267988 non-null  float64\n",
      " 35  oil_reserves_barrels                  267988 non-null  float64\n",
      " 36  pcnt_world_oil_reserves               267988 non-null  float64\n",
      " 37  oil_prod_barrels_daily                267988 non-null  float64\n",
      " 38  trade_balance                         267988 non-null  float64\n",
      " 39  incident_classification               267988 non-null  int64  \n",
      "dtypes: float64(28), int64(12)\n",
      "memory usage: 81.8 MB\n"
     ]
    }
   ],
   "source": [
    "df_train.info()"
   ]
  },
  {
   "cell_type": "code",
   "execution_count": 56,
   "id": "20a923d2",
   "metadata": {},
   "outputs": [
    {
     "name": "stdout",
     "output_type": "stream",
     "text": [
      "<class 'pandas.core.frame.DataFrame'>\n",
      "RangeIndex: 50505 entries, 0 to 50504\n",
      "Data columns (total 40 columns):\n",
      " #   Column                                Non-Null Count  Dtype  \n",
      "---  ------                                --------------  -----  \n",
      " 0   Unnamed: 0                            50505 non-null  int64  \n",
      " 1   frequency_encoded_conflict_name       50505 non-null  float64\n",
      " 2   frequency_encoded_dyad_name           50505 non-null  float64\n",
      " 3   frequency_encoded_side_a              50505 non-null  float64\n",
      " 4   frequency_encoded_side_b              50505 non-null  float64\n",
      " 5   frequency_encoded_source_original     50505 non-null  float64\n",
      " 6   frequency_encoded_where_coordinates   50505 non-null  float64\n",
      " 7   frequency_encoded_where_description   50505 non-null  float64\n",
      " 8   frequency_encoded_adm_1               50505 non-null  float64\n",
      " 9   frequency_encoded_country             50505 non-null  float64\n",
      " 10  frequency_encoded_media_org_source    50505 non-null  float64\n",
      " 11  label_encoded_active_year             50505 non-null  int64  \n",
      " 12  label_encoded_type_of_violence        50505 non-null  int64  \n",
      " 13  label_encoded_region                  50505 non-null  int64  \n",
      " 14  year                                  50505 non-null  int64  \n",
      " 15  conflict_new_id                       50505 non-null  int64  \n",
      " 16  dyad_new_id                           50505 non-null  int64  \n",
      " 17  side_a_new_id                         50505 non-null  int64  \n",
      " 18  side_b_new_id                         50505 non-null  int64  \n",
      " 19  priogrid_gid                          50505 non-null  int64  \n",
      " 20  conflict_length                       50505 non-null  int64  \n",
      " 21  capital_investment                    50505 non-null  float64\n",
      " 22  economic_growth                       50505 non-null  float64\n",
      " 23  savings_pcnt_gdp                      50505 non-null  float64\n",
      " 24  inflation                             50505 non-null  float64\n",
      " 25  pcnt_world_tourist_arrivals           50505 non-null  float64\n",
      " 26  death_rate_p1000                      50505 non-null  float64\n",
      " 27  human_flight_brain_drain_index_score  50505 non-null  float64\n",
      " 28  government_debt                       50505 non-null  float64\n",
      " 29  inv_freedom_index_score               50505 non-null  float64\n",
      " 30  external_debt                         50505 non-null  float64\n",
      " 31  labor_freedom_index_score             50505 non-null  float64\n",
      " 32  remittances                           50505 non-null  float64\n",
      " 33  pop_growth_pcnt                       50505 non-null  float64\n",
      " 34  banking_z_score                       50505 non-null  float64\n",
      " 35  oil_reserves_barrels                  50505 non-null  float64\n",
      " 36  pcnt_world_oil_reserves               50505 non-null  float64\n",
      " 37  oil_prod_barrels_daily                50505 non-null  float64\n",
      " 38  trade_balance                         50505 non-null  float64\n",
      " 39  incident_classification               50505 non-null  int64  \n",
      "dtypes: float64(28), int64(12)\n",
      "memory usage: 15.4 MB\n"
     ]
    }
   ],
   "source": [
    "df_test.info()"
   ]
  },
  {
   "cell_type": "markdown",
   "id": "f5d1e6c6",
   "metadata": {},
   "source": [
    "#### Reducing Sample Size"
   ]
  },
  {
   "cell_type": "code",
   "execution_count": 57,
   "id": "b92aede4",
   "metadata": {},
   "outputs": [],
   "source": [
    "df_train_sample = df_train.sample(50000)\n",
    "df_test_sample = df_test.sample(20000)"
   ]
  },
  {
   "cell_type": "code",
   "execution_count": 58,
   "id": "4a359fa0",
   "metadata": {},
   "outputs": [
    {
     "name": "stdout",
     "output_type": "stream",
     "text": [
      "<class 'pandas.core.frame.DataFrame'>\n",
      "Int64Index: 50000 entries, 33863 to 172256\n",
      "Data columns (total 40 columns):\n",
      " #   Column                                Non-Null Count  Dtype  \n",
      "---  ------                                --------------  -----  \n",
      " 0   Unnamed: 0                            50000 non-null  int64  \n",
      " 1   frequency_encoded_conflict_name       50000 non-null  float64\n",
      " 2   frequency_encoded_dyad_name           50000 non-null  float64\n",
      " 3   frequency_encoded_side_a              50000 non-null  float64\n",
      " 4   frequency_encoded_side_b              50000 non-null  float64\n",
      " 5   frequency_encoded_source_original     50000 non-null  float64\n",
      " 6   frequency_encoded_where_coordinates   50000 non-null  float64\n",
      " 7   frequency_encoded_where_description   50000 non-null  float64\n",
      " 8   frequency_encoded_adm_1               50000 non-null  float64\n",
      " 9   frequency_encoded_country             50000 non-null  float64\n",
      " 10  frequency_encoded_media_org_source    50000 non-null  float64\n",
      " 11  label_encoded_active_year             50000 non-null  int64  \n",
      " 12  label_encoded_type_of_violence        50000 non-null  int64  \n",
      " 13  label_encoded_region                  50000 non-null  int64  \n",
      " 14  year                                  50000 non-null  int64  \n",
      " 15  conflict_new_id                       50000 non-null  int64  \n",
      " 16  dyad_new_id                           50000 non-null  int64  \n",
      " 17  side_a_new_id                         50000 non-null  int64  \n",
      " 18  side_b_new_id                         50000 non-null  int64  \n",
      " 19  priogrid_gid                          50000 non-null  int64  \n",
      " 20  conflict_length                       50000 non-null  int64  \n",
      " 21  capital_investment                    50000 non-null  float64\n",
      " 22  economic_growth                       50000 non-null  float64\n",
      " 23  savings_pcnt_gdp                      50000 non-null  float64\n",
      " 24  inflation                             50000 non-null  float64\n",
      " 25  pcnt_world_tourist_arrivals           50000 non-null  float64\n",
      " 26  death_rate_p1000                      50000 non-null  float64\n",
      " 27  human_flight_brain_drain_index_score  50000 non-null  float64\n",
      " 28  government_debt                       50000 non-null  float64\n",
      " 29  inv_freedom_index_score               50000 non-null  float64\n",
      " 30  external_debt                         50000 non-null  float64\n",
      " 31  labor_freedom_index_score             50000 non-null  float64\n",
      " 32  remittances                           50000 non-null  float64\n",
      " 33  pop_growth_pcnt                       50000 non-null  float64\n",
      " 34  banking_z_score                       50000 non-null  float64\n",
      " 35  oil_reserves_barrels                  50000 non-null  float64\n",
      " 36  pcnt_world_oil_reserves               50000 non-null  float64\n",
      " 37  oil_prod_barrels_daily                50000 non-null  float64\n",
      " 38  trade_balance                         50000 non-null  float64\n",
      " 39  incident_classification               50000 non-null  int64  \n",
      "dtypes: float64(28), int64(12)\n",
      "memory usage: 15.6 MB\n"
     ]
    }
   ],
   "source": [
    "df_train_sample.info()"
   ]
  },
  {
   "cell_type": "code",
   "execution_count": 59,
   "id": "05bd3b79",
   "metadata": {},
   "outputs": [
    {
     "data": {
      "text/plain": [
       "3    12582\n",
       "0    12516\n",
       "1    12468\n",
       "2    12434\n",
       "Name: incident_classification, dtype: int64"
      ]
     },
     "execution_count": 59,
     "metadata": {},
     "output_type": "execute_result"
    }
   ],
   "source": [
    "df_train_sample.incident_classification.value_counts()"
   ]
  },
  {
   "cell_type": "code",
   "execution_count": 60,
   "id": "0eab1bbe",
   "metadata": {},
   "outputs": [
    {
     "name": "stdout",
     "output_type": "stream",
     "text": [
      "<class 'pandas.core.frame.DataFrame'>\n",
      "Int64Index: 20000 entries, 43537 to 27267\n",
      "Data columns (total 40 columns):\n",
      " #   Column                                Non-Null Count  Dtype  \n",
      "---  ------                                --------------  -----  \n",
      " 0   Unnamed: 0                            20000 non-null  int64  \n",
      " 1   frequency_encoded_conflict_name       20000 non-null  float64\n",
      " 2   frequency_encoded_dyad_name           20000 non-null  float64\n",
      " 3   frequency_encoded_side_a              20000 non-null  float64\n",
      " 4   frequency_encoded_side_b              20000 non-null  float64\n",
      " 5   frequency_encoded_source_original     20000 non-null  float64\n",
      " 6   frequency_encoded_where_coordinates   20000 non-null  float64\n",
      " 7   frequency_encoded_where_description   20000 non-null  float64\n",
      " 8   frequency_encoded_adm_1               20000 non-null  float64\n",
      " 9   frequency_encoded_country             20000 non-null  float64\n",
      " 10  frequency_encoded_media_org_source    20000 non-null  float64\n",
      " 11  label_encoded_active_year             20000 non-null  int64  \n",
      " 12  label_encoded_type_of_violence        20000 non-null  int64  \n",
      " 13  label_encoded_region                  20000 non-null  int64  \n",
      " 14  year                                  20000 non-null  int64  \n",
      " 15  conflict_new_id                       20000 non-null  int64  \n",
      " 16  dyad_new_id                           20000 non-null  int64  \n",
      " 17  side_a_new_id                         20000 non-null  int64  \n",
      " 18  side_b_new_id                         20000 non-null  int64  \n",
      " 19  priogrid_gid                          20000 non-null  int64  \n",
      " 20  conflict_length                       20000 non-null  int64  \n",
      " 21  capital_investment                    20000 non-null  float64\n",
      " 22  economic_growth                       20000 non-null  float64\n",
      " 23  savings_pcnt_gdp                      20000 non-null  float64\n",
      " 24  inflation                             20000 non-null  float64\n",
      " 25  pcnt_world_tourist_arrivals           20000 non-null  float64\n",
      " 26  death_rate_p1000                      20000 non-null  float64\n",
      " 27  human_flight_brain_drain_index_score  20000 non-null  float64\n",
      " 28  government_debt                       20000 non-null  float64\n",
      " 29  inv_freedom_index_score               20000 non-null  float64\n",
      " 30  external_debt                         20000 non-null  float64\n",
      " 31  labor_freedom_index_score             20000 non-null  float64\n",
      " 32  remittances                           20000 non-null  float64\n",
      " 33  pop_growth_pcnt                       20000 non-null  float64\n",
      " 34  banking_z_score                       20000 non-null  float64\n",
      " 35  oil_reserves_barrels                  20000 non-null  float64\n",
      " 36  pcnt_world_oil_reserves               20000 non-null  float64\n",
      " 37  oil_prod_barrels_daily                20000 non-null  float64\n",
      " 38  trade_balance                         20000 non-null  float64\n",
      " 39  incident_classification               20000 non-null  int64  \n",
      "dtypes: float64(28), int64(12)\n",
      "memory usage: 6.3 MB\n"
     ]
    }
   ],
   "source": [
    "df_test_sample.info()"
   ]
  },
  {
   "cell_type": "code",
   "execution_count": 61,
   "id": "7be9c3b5",
   "metadata": {},
   "outputs": [
    {
     "data": {
      "text/plain": [
       "0    11501\n",
       "1     6469\n",
       "2     1973\n",
       "3       57\n",
       "Name: incident_classification, dtype: int64"
      ]
     },
     "execution_count": 61,
     "metadata": {},
     "output_type": "execute_result"
    }
   ],
   "source": [
    "df_test_sample.incident_classification.value_counts()"
   ]
  },
  {
   "cell_type": "markdown",
   "id": "9a757056",
   "metadata": {},
   "source": [
    "##### Note:\n",
    "It is worthwhile remembering here as we only apply SMOTE to the training sets, the class proportions in \"df_test_sample\" are not balanced."
   ]
  },
  {
   "cell_type": "code",
   "execution_count": 62,
   "id": "7616af8a",
   "metadata": {},
   "outputs": [],
   "source": [
    "y_train = df_train_sample.pop('incident_classification')\n",
    "X_train = df_train_sample\n",
    "y_test = df_test_sample.pop('incident_classification')\n",
    "X_test = df_test_sample"
   ]
  },
  {
   "cell_type": "code",
   "execution_count": 63,
   "id": "efc1e626",
   "metadata": {},
   "outputs": [],
   "source": [
    "scaler = StandardScaler()\n",
    "X_train = scaler.fit_transform(X_train)\n",
    "X_test = scaler.transform(X_test)"
   ]
  },
  {
   "cell_type": "markdown",
   "id": "4353b705",
   "metadata": {},
   "source": [
    "### Logistic Regression"
   ]
  },
  {
   "cell_type": "code",
   "execution_count": 14,
   "id": "121f4d49",
   "metadata": {},
   "outputs": [
    {
     "name": "stdout",
     "output_type": "stream",
     "text": [
      "Training Score is:  0.71606\n",
      "Test Score is:  0.58585\n",
      "Your CV Scores are:  [0.7189 0.7144 0.7096 0.713  0.7144]\n",
      "Your Mean CV Score is:  0.71406\n"
     ]
    }
   ],
   "source": [
    "model = LogisticRegression(multi_class='ovr', max_iter=10000)\n",
    "model.fit(X_train, y_train)\n",
    "print(\"Training Score is: \", model.score(X_train, y_train))\n",
    "print(\"Test Score is: \", model.score(X_test, y_test))\n",
    "predictions = model.predict(X_test)\n",
    "probabilities = model.predict_proba(X_test)\n",
    "\n",
    "model_cv_scores = cross_val_score(model, X_train, y_train, cv=5)\n",
    "print(\"Your CV Scores are: \", model_cv_scores)\n",
    "print(\"Your Mean CV Score is: \", np.mean(model_cv_scores))"
   ]
  },
  {
   "cell_type": "code",
   "execution_count": 15,
   "id": "15e9c684",
   "metadata": {},
   "outputs": [
    {
     "name": "stdout",
     "output_type": "stream",
     "text": [
      "Accuracy Score: 0.58585\n",
      "Confusion Matrix: \n",
      "[[10215  1178     5     0]\n",
      " [ 5053  1501     3     0]\n",
      " [ 1458   533     1     0]\n",
      " [   50     3     0     0]]\n"
     ]
    }
   ],
   "source": [
    "print(f'Accuracy Score: {accuracy_score(y_test,predictions)}')\n",
    "print(f'Confusion Matrix: \\n{confusion_matrix(y_test, predictions)}')"
   ]
  },
  {
   "cell_type": "code",
   "execution_count": 16,
   "id": "c739310a",
   "metadata": {},
   "outputs": [
    {
     "name": "stdout",
     "output_type": "stream",
     "text": [
      "              precision    recall  f1-score   support\n",
      "\n",
      "           0       0.61      0.90      0.73     11398\n",
      "           1       0.47      0.23      0.31      6557\n",
      "           2       0.11      0.00      0.00      1992\n",
      "           3       0.00      0.00      0.00        53\n",
      "\n",
      "    accuracy                           0.59     20000\n",
      "   macro avg       0.30      0.28      0.26     20000\n",
      "weighted avg       0.51      0.59      0.51     20000\n",
      "\n"
     ]
    }
   ],
   "source": [
    "print(metrics.classification_report(y_test, predictions, zero_division=0))"
   ]
  },
  {
   "cell_type": "code",
   "execution_count": 17,
   "id": "e535701c",
   "metadata": {},
   "outputs": [
    {
     "data": {
      "text/plain": [
       "<sklearn.metrics._plot.confusion_matrix.ConfusionMatrixDisplay at 0x243d38f9d90>"
      ]
     },
     "execution_count": 17,
     "metadata": {},
     "output_type": "execute_result"
    },
    {
     "data": {
      "image/png": "[encoded data removed]",
      "text/plain": [
       "<Figure size 432x288 with 2 Axes>"
      ]
     },
     "metadata": {
      "needs_background": "light"
     },
     "output_type": "display_data"
    }
   ],
   "source": [
    "plot_confusion_matrix(model, X_test, y_test)"
   ]
  },
  {
   "cell_type": "markdown",
   "id": "5db37f70",
   "metadata": {},
   "source": [
    "###### Note:\n",
    "Not terrible results, but there is a clear problem for the model in identifying Class 2 and Class 3 events."
   ]
  },
  {
   "cell_type": "markdown",
   "id": "07859696",
   "metadata": {},
   "source": [
    "#### GridSearch"
   ]
  },
  {
   "cell_type": "code",
   "execution_count": 18,
   "id": "870002e4",
   "metadata": {},
   "outputs": [
    {
     "name": "stdout",
     "output_type": "stream",
     "text": [
      "Fitting 5 folds for each of 18 candidates, totalling 90 fits\n",
      "Best parameters:  {'C': 10000.0, 'penalty': 'l2', 'solver': 'liblinear'}\n",
      "This is the best score:  0.7146600000000001\n",
      "Test score:  0.58685\n"
     ]
    }
   ],
   "source": [
    "lr = LogisticRegression()\n",
    "params = {'penalty': ['l1', 'l2'], 'solver': ['liblinear'], 'C': np.logspace(-4, 4, 9), }\n",
    "\n",
    "search = GridSearchCV(lr, params, cv=5, n_jobs=8, verbose=2)\n",
    "search.fit(X_train, y_train)\n",
    "\n",
    "print('Best parameters: ', search.best_params_)\n",
    "print('This is the best score: ', search.best_score_)\n",
    "print('Test score: ', search.score(X_test, y_test))"
   ]
  },
  {
   "cell_type": "markdown",
   "id": "a5a4ec90",
   "metadata": {},
   "source": [
    "#### Model With GridSearch Params"
   ]
  },
  {
   "cell_type": "code",
   "execution_count": 19,
   "id": "c1bdf260",
   "metadata": {},
   "outputs": [
    {
     "name": "stdout",
     "output_type": "stream",
     "text": [
      "Training Score is:  0.71638\n",
      "Test Score is:  0.58685\n",
      "Your CV Scores are:  [0.7193 0.7149 0.7103 0.7133 0.7155]\n",
      "Your Mean CV Score is:  0.7146600000000001\n"
     ]
    }
   ],
   "source": [
    "grid_model = LogisticRegression(multi_class='ovr', max_iter=10000, penalty='l2', solver='liblinear', C=10000)\n",
    "grid_model.fit(X_train, y_train)\n",
    "print(\"Training Score is: \", grid_model.score(X_train, y_train))\n",
    "print(\"Test Score is: \", grid_model.score(X_test, y_test))\n",
    "predictions_g = grid_model.predict(X_test)\n",
    "probabilities_g = grid_model.predict_proba(X_test)\n",
    "\n",
    "grid_model_cv_scores = cross_val_score(grid_model, X_train, y_train, cv=5)\n",
    "print(\"Your CV Scores are: \", grid_model_cv_scores)\n",
    "print(\"Your Mean CV Score is: \", np.mean(grid_model_cv_scores))"
   ]
  },
  {
   "cell_type": "code",
   "execution_count": 20,
   "id": "a98ebf7c",
   "metadata": {},
   "outputs": [
    {
     "name": "stdout",
     "output_type": "stream",
     "text": [
      "Accuracy Score: 0.58685\n",
      "Confusion Matrix: \n",
      "[[10219  1174     5     0]\n",
      " [ 5037  1517     3     0]\n",
      " [ 1445   546     1     0]\n",
      " [   50     3     0     0]]\n"
     ]
    }
   ],
   "source": [
    "print(f'Accuracy Score: {accuracy_score(y_test, predictions_g)}')\n",
    "print(f'Confusion Matrix: \\n{confusion_matrix(y_test, predictions_g)}')\n",
    "#print(f'Area Under Curve: {roc_auc_score(y_test, predictions)}')\n",
    "#print(f'Recall score: {recall_score(y_test,predictions)}')"
   ]
  },
  {
   "cell_type": "code",
   "execution_count": 21,
   "id": "8a711339",
   "metadata": {},
   "outputs": [
    {
     "name": "stdout",
     "output_type": "stream",
     "text": [
      "              precision    recall  f1-score   support\n",
      "\n",
      "           0       0.61      0.90      0.73     11398\n",
      "           1       0.47      0.23      0.31      6557\n",
      "           2       0.11      0.00      0.00      1992\n",
      "           3       0.00      0.00      0.00        53\n",
      "\n",
      "    accuracy                           0.59     20000\n",
      "   macro avg       0.30      0.28      0.26     20000\n",
      "weighted avg       0.51      0.59      0.52     20000\n",
      "\n"
     ]
    },
    {
     "name": "stderr",
     "output_type": "stream",
     "text": [
      "C:\\ProgramData\\Anaconda3\\lib\\site-packages\\sklearn\\metrics\\_classification.py:1245: UndefinedMetricWarning: Precision and F-score are ill-defined and being set to 0.0 in labels with no predicted samples. Use `zero_division` parameter to control this behavior.\n",
      "  _warn_prf(average, modifier, msg_start, len(result))\n",
      "C:\\ProgramData\\Anaconda3\\lib\\site-packages\\sklearn\\metrics\\_classification.py:1245: UndefinedMetricWarning: Precision and F-score are ill-defined and being set to 0.0 in labels with no predicted samples. Use `zero_division` parameter to control this behavior.\n",
      "  _warn_prf(average, modifier, msg_start, len(result))\n",
      "C:\\ProgramData\\Anaconda3\\lib\\site-packages\\sklearn\\metrics\\_classification.py:1245: UndefinedMetricWarning: Precision and F-score are ill-defined and being set to 0.0 in labels with no predicted samples. Use `zero_division` parameter to control this behavior.\n",
      "  _warn_prf(average, modifier, msg_start, len(result))\n"
     ]
    }
   ],
   "source": [
    "print(metrics.classification_report(y_test, predictions_g))"
   ]
  },
  {
   "cell_type": "code",
   "execution_count": 22,
   "id": "eefef4cf",
   "metadata": {},
   "outputs": [
    {
     "data": {
      "text/plain": [
       "<sklearn.metrics._plot.confusion_matrix.ConfusionMatrixDisplay at 0x243d3f6a460>"
      ]
     },
     "execution_count": 22,
     "metadata": {},
     "output_type": "execute_result"
    },
    {
     "data": {
      "image/png": "[encoded data removed]",
      "text/plain": [
       "<Figure size 432x288 with 2 Axes>"
      ]
     },
     "metadata": {
      "needs_background": "light"
     },
     "output_type": "display_data"
    }
   ],
   "source": [
    "plot_confusion_matrix(grid_model, X_test, y_test)"
   ]
  },
  {
   "cell_type": "markdown",
   "id": "51abdd53",
   "metadata": {},
   "source": [
    "###### Note:\n",
    "Using the Grid Search parameters, the model is able to achieve every so slightly higher results, however, there is still a remaining problem with the model struggling to successfully classify Class 2 and Class 3 events."
   ]
  },
  {
   "cell_type": "markdown",
   "id": "c3a678fb",
   "metadata": {},
   "source": [
    "### Model 2 - LogReg With Class Weightings\n",
    "Adding weightings to the the classes to see if we can push the model into to more successfully classifying the tougher categories."
   ]
  },
  {
   "cell_type": "code",
   "execution_count": 31,
   "id": "f9fba98b",
   "metadata": {},
   "outputs": [
    {
     "name": "stdout",
     "output_type": "stream",
     "text": [
      "Training Score is:  0.66174\n",
      "Test Score is:  0.5837\n",
      "Your CV Scores are:  [0.6643 0.659  0.6579 0.66   0.6598]\n",
      "Your Mean CV Score is:  0.6602000000000001\n"
     ]
    }
   ],
   "source": [
    "w = {0:40, 1:50, 2:70, 3:60}\n",
    "\n",
    "model = LogisticRegression(multi_class='ovr', \n",
    "                           max_iter=10000, \n",
    "                           penalty='l2', \n",
    "                           solver='liblinear',\n",
    "                           class_weight=w,\n",
    "                           C=10000)\n",
    "model.fit(X_train, y_train)\n",
    "print(\"Training Score is: \", model.score(X_train, y_train))\n",
    "print(\"Test Score is: \", model.score(X_test, y_test))\n",
    "predictions = model.predict(X_test)\n",
    "probabilities = model.predict_proba(X_test)\n",
    "\n",
    "model_cv_scores = cross_val_score(model, X_train, y_train, cv=5)\n",
    "print(\"Your CV Scores are: \", model_cv_scores)\n",
    "print(\"Your Mean CV Score is: \", np.mean(model_cv_scores))"
   ]
  },
  {
   "cell_type": "code",
   "execution_count": 34,
   "id": "457aafa6",
   "metadata": {},
   "outputs": [
    {
     "name": "stdout",
     "output_type": "stream",
     "text": [
      "              precision    recall  f1-score   support\n",
      "\n",
      "           0       0.61      0.90      0.72     11398\n",
      "           1       0.47      0.22      0.29      6557\n",
      "           2       0.00      0.00      0.00      1992\n",
      "           3       0.15      0.11      0.13        53\n",
      "\n",
      "    accuracy                           0.58     20000\n",
      "   macro avg       0.30      0.31      0.29     20000\n",
      "weighted avg       0.50      0.58      0.51     20000\n",
      "\n"
     ]
    }
   ],
   "source": [
    "print(metrics.classification_report(y_test, predictions))"
   ]
  },
  {
   "cell_type": "code",
   "execution_count": 32,
   "id": "ce4f715e",
   "metadata": {},
   "outputs": [
    {
     "data": {
      "text/plain": [
       "<sklearn.metrics._plot.confusion_matrix.ConfusionMatrixDisplay at 0x243d3fbcee0>"
      ]
     },
     "execution_count": 32,
     "metadata": {},
     "output_type": "execute_result"
    },
    {
     "data": {
      "image/png": "[encoded data removed]",
      "text/plain": [
       "<Figure size 432x288 with 2 Axes>"
      ]
     },
     "metadata": {
      "needs_background": "light"
     },
     "output_type": "display_data"
    }
   ],
   "source": [
    "plot_confusion_matrix(model, X_test, y_test)"
   ]
  },
  {
   "cell_type": "markdown",
   "id": "4370db17",
   "metadata": {},
   "source": [
    "###### Note:\n",
    "Using weightings on the classes does make the model ever so slightly better at predicting Class 3 and 4 labels, at the expense of a slight decrease in scores. I would like to explore whether there is a way to include the weightings in a Grid Search, as opposed to changing values manually."
   ]
  },
  {
   "cell_type": "markdown",
   "id": "38509715",
   "metadata": {},
   "source": [
    "### Modelling With Data Encoded by One Hot Encoder and LabelEncoder\n",
    "I leave this section in to demonstrate thought process and that an attempt was made to dummify categorical features, and model with higher dimension data. This ultimately, even with a much smaller sample size of data, was too computationally intensive without doing a PCA or working with a sparse matrix. These are two further steps I would like to explore as this project develops further."
   ]
  },
  {
   "cell_type": "code",
   "execution_count": null,
   "id": "43f5955b",
   "metadata": {},
   "outputs": [],
   "source": [
    "df = pd.read_csv('to_model.csv')"
   ]
  },
  {
   "cell_type": "code",
   "execution_count": null,
   "id": "30af68b5",
   "metadata": {
    "scrolled": true
   },
   "outputs": [],
   "source": [
    "df.info()"
   ]
  },
  {
   "cell_type": "code",
   "execution_count": null,
   "id": "a92d39a8",
   "metadata": {},
   "outputs": [],
   "source": [
    "df.drop('Unnamed: 0', axis=1, inplace=True)\n",
    "df.drop('deaths_unknown', axis=1, inplace=True)"
   ]
  },
  {
   "cell_type": "code",
   "execution_count": null,
   "id": "5767026f",
   "metadata": {},
   "outputs": [],
   "source": [
    "df.incident_classification.value_counts(normalize=True)"
   ]
  },
  {
   "cell_type": "code",
   "execution_count": null,
   "id": "a15a948a",
   "metadata": {},
   "outputs": [],
   "source": [
    "very_high = df[(df['incident_classification'] == 3)]\n",
    "high = df[(df['incident_classification'] == 2)].sample(5000)\n",
    "moderate = df[(df['incident_classification'] == 1)].sample(5000)\n",
    "low = df[(df['incident_classification'] == 0)].sample(5000)"
   ]
  },
  {
   "cell_type": "code",
   "execution_count": null,
   "id": "5438b716",
   "metadata": {},
   "outputs": [],
   "source": [
    "balanced_df = pd.concat([very_high.reset_index(), high.reset_index(), moderate.reset_index(), low.reset_index()])"
   ]
  },
  {
   "cell_type": "code",
   "execution_count": null,
   "id": "03eeaefc",
   "metadata": {
    "scrolled": true
   },
   "outputs": [],
   "source": [
    "balanced_df.incident_classification.value_counts()"
   ]
  },
  {
   "cell_type": "code",
   "execution_count": null,
   "id": "5242ff88",
   "metadata": {},
   "outputs": [],
   "source": [
    "balanced_df.info()"
   ]
  },
  {
   "cell_type": "code",
   "execution_count": null,
   "id": "7b9c6584",
   "metadata": {
    "scrolled": true
   },
   "outputs": [],
   "source": [
    "le = preprocessing.LabelEncoder()\n",
    "balanced_df.conflict_name = le.fit_transform(balanced_df.conflict_name)\n",
    "balanced_df.dyad_name = le.fit_transform(balanced_df.dyad_name)\n",
    "balanced_df.side_a = le.fit_transform(balanced_df.side_a)\n",
    "balanced_df.side_b = le.fit_transform(balanced_df.side_b)\n",
    "balanced_df.source_original = le.fit_transform(balanced_df.source_original)\n",
    "balanced_df.where_coordinates = le.fit_transform(balanced_df.where_coordinates)\n",
    "balanced_df.where_description = le.fit_transform(balanced_df.where_description)\n",
    "balanced_df.adm_1 = le.fit_transform(balanced_df.adm_1)\n",
    "balanced_df.media_org_source = le.fit_transform(balanced_df.media_org_source)"
   ]
  },
  {
   "cell_type": "code",
   "execution_count": null,
   "id": "76997ce4",
   "metadata": {},
   "outputs": [],
   "source": [
    "balanced_df.drop('index', axis=1, inplace=True)"
   ]
  },
  {
   "cell_type": "code",
   "execution_count": null,
   "id": "e5881ff3",
   "metadata": {},
   "outputs": [],
   "source": [
    "balanced_df = pd.get_dummies(balanced_df, columns=['year', 'active_year', 'type_of_violence', 'conflict_name', 'dyad_name', 'side_a', 'side_b', 'source_original', 'where_coordinates', 'where_description', 'adm_1', 'country', 'region', 'media_org_source'])"
   ]
  },
  {
   "cell_type": "code",
   "execution_count": null,
   "id": "6763a58d",
   "metadata": {},
   "outputs": [],
   "source": [
    "balanced_df.reset_index(inplace=True)"
   ]
  },
  {
   "cell_type": "code",
   "execution_count": null,
   "id": "78e69b65",
   "metadata": {},
   "outputs": [],
   "source": [
    "balanced_df.drop('index', axis=1, inplace=True)"
   ]
  },
  {
   "cell_type": "code",
   "execution_count": null,
   "id": "145de4a9",
   "metadata": {},
   "outputs": [],
   "source": [
    "y = balanced_df.pop('incident_classification')\n",
    "X = balanced_df"
   ]
  },
  {
   "cell_type": "code",
   "execution_count": null,
   "id": "a0dc68c3",
   "metadata": {},
   "outputs": [],
   "source": [
    "X_sm_train, X_sm_test, y_sm_train, y_sm_test = train_test_split(\n",
    "     X, y, test_size=0.2, random_state=1)"
   ]
  },
  {
   "cell_type": "code",
   "execution_count": null,
   "id": "1830cb17",
   "metadata": {},
   "outputs": [],
   "source": [
    "scaler = StandardScaler()\n",
    "X_sm_train = scaler.fit_transform(X_sm_train)\n",
    "X_sm_test = scaler.transform(X_sm_test)"
   ]
  },
  {
   "cell_type": "code",
   "execution_count": null,
   "id": "23f4876a",
   "metadata": {
    "scrolled": true
   },
   "outputs": [],
   "source": [
    "oversample = SMOTE()\n",
    "X_sm_train, y_sm_train = oversample.fit_resample(X_sm_train, y_sm_train)"
   ]
  },
  {
   "cell_type": "code",
   "execution_count": null,
   "id": "9a6e5c1f",
   "metadata": {},
   "outputs": [],
   "source": [
    "y_sm_train.value_counts(normalize=True)"
   ]
  },
  {
   "cell_type": "markdown",
   "id": "c191310e",
   "metadata": {},
   "source": [
    "### Logistic Regression on OHE Data\n"
   ]
  },
  {
   "cell_type": "code",
   "execution_count": null,
   "id": "9b04b443",
   "metadata": {},
   "outputs": [],
   "source": [
    "##Using same parameters as GridSearch above\n",
    "\n",
    "ohe_model = LogisticRegression(multi_class='ovr', max_iter=10000, penalty='l2', solver='liblinear', C=1000)\n",
    "ohe_model.fit(X_sm_train, y_sm_train)\n",
    "print(\"Training Score is: \", ohe_model.score(X_sm_train, y_sm_train))\n",
    "print(\"Test Score is: \", ohe_model.score(X_sm_train, y_sm_train))\n",
    "predictions_ohe = ohe_model.predict(X_sm_test)\n",
    "probabilities_ohe = ohe_model.predict_proba(X_sm_test)\n",
    "\n",
    "ohe_model_cv_scores = cross_val_score(ohe_model, X_sm_train, y_sm_train, cv=5)\n",
    "print(\"Your CV Scores are: \", ohe_model_cv_scores)\n",
    "print(\"Your Mean CV Score is: \", np.mean(ohe_model_cv_scores))"
   ]
  },
  {
   "cell_type": "markdown",
   "id": "0cff6218",
   "metadata": {},
   "source": [
    "##### Grid Search"
   ]
  },
  {
   "cell_type": "code",
   "execution_count": null,
   "id": "58872d17",
   "metadata": {
    "scrolled": true
   },
   "outputs": [],
   "source": [
    "lr = LogisticRegression()\n",
    "params = {'penalty': ['l1', 'l2'], 'solver': ['liblinear'], 'C': np.logspace(-4, 4, 9), }\n",
    "\n",
    "search = GridSearchCV(lr, params, cv=5, n_jobs=8, verbose=2)\n",
    "search.fit(X_sm_train, y_sm_train)\n",
    "\n",
    "print('Best parameters: ', search.best_params_)\n",
    "print('This is the best score: ', search.best_score_)\n",
    "print('Test score: ', search.score(X_sm_test, y_sm_test))"
   ]
  },
  {
   "cell_type": "code",
   "execution_count": null,
   "id": "472fd1a8",
   "metadata": {},
   "outputs": [],
   "source": []
  },
  {
   "cell_type": "markdown",
   "id": "0c26c0c4",
   "metadata": {},
   "source": [
    "### Further Models\n",
    "Further to the main modelling techniques used so far, I wanted to attempt to use a handful of other models which research suggested worked well for multi class classification problems. Namely network based models, decision trees and bagging classifiers. Interestingly none of these models outperformed the XGB model."
   ]
  },
  {
   "cell_type": "markdown",
   "id": "ef8c3ee7",
   "metadata": {},
   "source": [
    "#### Multi-Layer Perceptron Classifier"
   ]
  },
  {
   "cell_type": "code",
   "execution_count": 64,
   "id": "f2f7c0e0",
   "metadata": {},
   "outputs": [],
   "source": [
    "from sklearn.neural_network import MLPClassifier"
   ]
  },
  {
   "cell_type": "code",
   "execution_count": 65,
   "id": "124a76ee",
   "metadata": {},
   "outputs": [
    {
     "data": {
      "text/plain": [
       "MLPClassifier(alpha=1e-05, hidden_layer_sizes=(15,), max_iter=10000,\n",
       "              random_state=1, solver='lbfgs')"
      ]
     },
     "execution_count": 65,
     "metadata": {},
     "output_type": "execute_result"
    }
   ],
   "source": [
    "clf = MLPClassifier(solver='lbfgs', alpha=1e-5,\n",
    "                     hidden_layer_sizes=(15,), max_iter=10000, random_state=1)\n",
    "clf.fit(X_train, y_train)"
   ]
  },
  {
   "cell_type": "code",
   "execution_count": 66,
   "id": "2534d7b8",
   "metadata": {},
   "outputs": [
    {
     "data": {
      "text/plain": [
       "0.6049"
      ]
     },
     "execution_count": 66,
     "metadata": {},
     "output_type": "execute_result"
    }
   ],
   "source": [
    "## Return the mean accuracy on the given test data and labels.\n",
    "## In multi-label classification, this is the subset accuracy which is a harsh metric since you require \n",
    "## for each sample that each label set be correctly predicted.\n",
    "\n",
    "clf.score(X_test, y_test)"
   ]
  },
  {
   "cell_type": "code",
   "execution_count": 74,
   "id": "6bad67fe",
   "metadata": {},
   "outputs": [],
   "source": [
    "mlp_best = 0.6049"
   ]
  },
  {
   "cell_type": "markdown",
   "id": "0f3c2fe1",
   "metadata": {},
   "source": [
    "##### Winning MLP Stats"
   ]
  },
  {
   "cell_type": "code",
   "execution_count": 78,
   "id": "d928683e",
   "metadata": {},
   "outputs": [],
   "source": [
    "y_test_predict = clf.predict(X_test)"
   ]
  },
  {
   "cell_type": "code",
   "execution_count": 79,
   "id": "362a76ae",
   "metadata": {},
   "outputs": [
    {
     "name": "stdout",
     "output_type": "stream",
     "text": [
      "              precision    recall  f1-score   support\n",
      "\n",
      "           0       0.68      0.80      0.73     11501\n",
      "           1       0.46      0.39      0.42      6469\n",
      "           2       0.33      0.14      0.19      1973\n",
      "           3       0.29      0.25      0.26        57\n",
      "\n",
      "    accuracy                           0.60     20000\n",
      "   macro avg       0.44      0.39      0.40     20000\n",
      "weighted avg       0.57      0.60      0.58     20000\n",
      "\n"
     ]
    }
   ],
   "source": [
    "print(metrics.classification_report(y_test, y_test_predict))"
   ]
  },
  {
   "cell_type": "code",
   "execution_count": 81,
   "id": "438565e3",
   "metadata": {},
   "outputs": [
    {
     "data": {
      "text/plain": [
       "array([[9200, 2040,  246,   15],\n",
       "       [3636, 2538,  291,    4],\n",
       "       [ 773,  916,  268,   16],\n",
       "       [  17,    8,   18,   14]], dtype=int64)"
      ]
     },
     "execution_count": 81,
     "metadata": {},
     "output_type": "execute_result"
    }
   ],
   "source": [
    "confusion_matrix(y_test, y_test_predict)"
   ]
  },
  {
   "cell_type": "markdown",
   "id": "b21ccc8f",
   "metadata": {},
   "source": [
    "##### Worse MLP models"
   ]
  },
  {
   "cell_type": "code",
   "execution_count": 68,
   "id": "a7a7c4c0",
   "metadata": {},
   "outputs": [
    {
     "data": {
      "text/plain": [
       "MLPClassifier(alpha=1e-05, batch_size=500, hidden_layer_sizes=(50,),\n",
       "              max_iter=10000, random_state=1, solver='lbfgs')"
      ]
     },
     "execution_count": 68,
     "metadata": {},
     "output_type": "execute_result"
    }
   ],
   "source": [
    "clf = MLPClassifier(solver='lbfgs', alpha=1e-5,\n",
    "                     hidden_layer_sizes=(50,), max_iter=10000, batch_size=500, random_state=1)\n",
    "clf.fit(X_train, y_train)"
   ]
  },
  {
   "cell_type": "code",
   "execution_count": 69,
   "id": "e76f2e95",
   "metadata": {},
   "outputs": [
    {
     "data": {
      "text/plain": [
       "0.601"
      ]
     },
     "execution_count": 69,
     "metadata": {},
     "output_type": "execute_result"
    }
   ],
   "source": [
    "clf.score(X_test, y_test)"
   ]
  },
  {
   "cell_type": "code",
   "execution_count": 70,
   "id": "8cfb05b8",
   "metadata": {},
   "outputs": [
    {
     "data": {
      "text/plain": [
       "array([[-4.33821697e-01, -1.15205471e+00, -3.32464299e+00,\n",
       "        -1.91680391e+01],\n",
       "       [-7.18228354e-01, -8.85517792e-01, -2.30393770e+00,\n",
       "        -1.08570534e+01],\n",
       "       [-1.49882623e+00, -7.39952294e-01, -1.21072982e+00,\n",
       "        -6.50805479e+00],\n",
       "       ...,\n",
       "       [-1.89740259e-02, -3.98135377e+00, -8.91177998e+00,\n",
       "        -3.30070257e+01],\n",
       "       [-7.56771250e-01, -7.03028267e-01, -3.33190004e+00,\n",
       "        -1.13134389e+01],\n",
       "       [-9.31571349e-01, -1.01494965e+00, -1.58352435e+00,\n",
       "        -3.25983694e+00]])"
      ]
     },
     "execution_count": 70,
     "metadata": {},
     "output_type": "execute_result"
    }
   ],
   "source": [
    "clf.predict_log_proba(X_test)"
   ]
  },
  {
   "cell_type": "code",
   "execution_count": 71,
   "id": "d5ac209e",
   "metadata": {},
   "outputs": [
    {
     "data": {
      "text/plain": [
       "array([0, 0, 1, ..., 0, 1, 0], dtype=int64)"
      ]
     },
     "execution_count": 71,
     "metadata": {},
     "output_type": "execute_result"
    }
   ],
   "source": [
    "clf.predict(X_test)"
   ]
  },
  {
   "cell_type": "code",
   "execution_count": 72,
   "id": "3df605a4",
   "metadata": {},
   "outputs": [
    {
     "data": {
      "text/plain": [
       "MLPClassifier(alpha=0.5, batch_size=1000, hidden_layer_sizes=(50,),\n",
       "              max_iter=10000, random_state=1)"
      ]
     },
     "execution_count": 72,
     "metadata": {},
     "output_type": "execute_result"
    }
   ],
   "source": [
    "clf3 = MLPClassifier(solver='adam', alpha=0.5,\n",
    "                     hidden_layer_sizes=(50,), max_iter=10000, batch_size=1000, random_state=1)\n",
    "clf3.fit(X_train, y_train)"
   ]
  },
  {
   "cell_type": "code",
   "execution_count": 73,
   "id": "d2b81fec",
   "metadata": {},
   "outputs": [
    {
     "data": {
      "text/plain": [
       "0.60225"
      ]
     },
     "execution_count": 73,
     "metadata": {},
     "output_type": "execute_result"
    }
   ],
   "source": [
    "clf3.score(X_test, y_test)"
   ]
  },
  {
   "cell_type": "markdown",
   "id": "9f0433d7",
   "metadata": {},
   "source": [
    "#### Decision Tree"
   ]
  },
  {
   "cell_type": "code",
   "execution_count": 82,
   "id": "f848a87a",
   "metadata": {},
   "outputs": [],
   "source": [
    "from sklearn.ensemble import BaggingClassifier, BaggingRegressor, RandomForestClassifier, RandomForestRegressor\n",
    "from sklearn.tree import DecisionTreeClassifier, DecisionTreeRegressor"
   ]
  },
  {
   "cell_type": "code",
   "execution_count": 100,
   "id": "bb95ac04",
   "metadata": {},
   "outputs": [
    {
     "name": "stdout",
     "output_type": "stream",
     "text": [
      "0.82858\n",
      "0.82304\n",
      "0.60425\n"
     ]
    }
   ],
   "source": [
    "tree = DecisionTreeClassifier(max_depth=8, min_samples_split=2, min_samples_leaf=8)\n",
    "tree.fit(X_train, y_train)\n",
    "\n",
    "print(tree.score(X_train, y_train))\n",
    "print(cross_val_score(tree, X_train, y_train, cv=5).mean())\n",
    "print(tree.score(X_test, y_test))"
   ]
  },
  {
   "cell_type": "code",
   "execution_count": 101,
   "id": "c73a2720",
   "metadata": {},
   "outputs": [],
   "source": [
    "dtree_best = 0.60425"
   ]
  },
  {
   "cell_type": "markdown",
   "id": "f69c0bbf",
   "metadata": {},
   "source": [
    "##### Winning Decision Stats"
   ]
  },
  {
   "cell_type": "code",
   "execution_count": 102,
   "id": "d519a049",
   "metadata": {},
   "outputs": [],
   "source": [
    "y_test_predict = tree.predict(X_test)"
   ]
  },
  {
   "cell_type": "code",
   "execution_count": 103,
   "id": "b40d0e7b",
   "metadata": {},
   "outputs": [
    {
     "name": "stdout",
     "output_type": "stream",
     "text": [
      "              precision    recall  f1-score   support\n",
      "\n",
      "           0       0.65      0.85      0.74     11501\n",
      "           1       0.47      0.33      0.39      6469\n",
      "           2       0.35      0.06      0.10      1973\n",
      "           3       0.00      0.00      0.00        57\n",
      "\n",
      "    accuracy                           0.60     20000\n",
      "   macro avg       0.37      0.31      0.31     20000\n",
      "weighted avg       0.56      0.60      0.56     20000\n",
      "\n"
     ]
    },
    {
     "name": "stderr",
     "output_type": "stream",
     "text": [
      "C:\\ProgramData\\Anaconda3\\lib\\site-packages\\sklearn\\metrics\\_classification.py:1245: UndefinedMetricWarning: Precision and F-score are ill-defined and being set to 0.0 in labels with no predicted samples. Use `zero_division` parameter to control this behavior.\n",
      "  _warn_prf(average, modifier, msg_start, len(result))\n",
      "C:\\ProgramData\\Anaconda3\\lib\\site-packages\\sklearn\\metrics\\_classification.py:1245: UndefinedMetricWarning: Precision and F-score are ill-defined and being set to 0.0 in labels with no predicted samples. Use `zero_division` parameter to control this behavior.\n",
      "  _warn_prf(average, modifier, msg_start, len(result))\n",
      "C:\\ProgramData\\Anaconda3\\lib\\site-packages\\sklearn\\metrics\\_classification.py:1245: UndefinedMetricWarning: Precision and F-score are ill-defined and being set to 0.0 in labels with no predicted samples. Use `zero_division` parameter to control this behavior.\n",
      "  _warn_prf(average, modifier, msg_start, len(result))\n"
     ]
    }
   ],
   "source": [
    "print(metrics.classification_report(y_test, y_test_predict))"
   ]
  },
  {
   "cell_type": "code",
   "execution_count": 104,
   "id": "f6d75a9e",
   "metadata": {},
   "outputs": [
    {
     "data": {
      "text/plain": [
       "array([[9811, 1614,   76,    0],\n",
       "       [4181, 2161,  127,    0],\n",
       "       [1032,  828,  113,    0],\n",
       "       [  33,   21,    3,    0]], dtype=int64)"
      ]
     },
     "execution_count": 104,
     "metadata": {},
     "output_type": "execute_result"
    }
   ],
   "source": [
    "confusion_matrix(y_test, y_test_predict)"
   ]
  },
  {
   "cell_type": "markdown",
   "id": "04f902cb",
   "metadata": {},
   "source": [
    "##### Worse Decision Trees"
   ]
  },
  {
   "cell_type": "code",
   "execution_count": 85,
   "id": "c3bfae8d",
   "metadata": {},
   "outputs": [
    {
     "name": "stdout",
     "output_type": "stream",
     "text": [
      "0.66696\n",
      "0.61706\n",
      "0.52835\n"
     ]
    }
   ],
   "source": [
    "tree = DecisionTreeClassifier(max_depth=8, min_samples_split=2, min_samples_leaf=8, max_features='log2')\n",
    "tree.fit(X_train, y_train)\n",
    "\n",
    "print(tree.score(X_train, y_train))\n",
    "print(cross_val_score(tree, X_train, y_train, cv=5).mean())\n",
    "print(tree.score(X_test, y_test))"
   ]
  },
  {
   "cell_type": "code",
   "execution_count": 86,
   "id": "7e787b1e",
   "metadata": {},
   "outputs": [
    {
     "name": "stdout",
     "output_type": "stream",
     "text": [
      "0.25164\n",
      "0.25164\n",
      "0.00285\n"
     ]
    }
   ],
   "source": [
    "tree = DecisionTreeClassifier(max_depth=8, min_samples_split=2, min_samples_leaf=8, \n",
    "                              max_features='log2', min_impurity_decrease=0.5)\n",
    "tree.fit(X_train, y_train)\n",
    "\n",
    "print(tree.score(X_train, y_train))\n",
    "print(cross_val_score(tree, X_train, y_train, cv=5).mean())\n",
    "print(tree.score(X_test, y_test))"
   ]
  },
  {
   "cell_type": "markdown",
   "id": "02fa69df",
   "metadata": {},
   "source": [
    "### Bagging Model"
   ]
  },
  {
   "cell_type": "code",
   "execution_count": 88,
   "id": "0458dba8",
   "metadata": {},
   "outputs": [
    {
     "name": "stdout",
     "output_type": "stream",
     "text": [
      "0.93778\n",
      "0.7771399999999999\n",
      "0.5633\n"
     ]
    }
   ],
   "source": [
    "bagging = BaggingClassifier(n_estimators=10, n_jobs=8, max_features=10)\n",
    "\n",
    "bagging.fit(X_train, y_train)\n",
    "\n",
    "print(bagging.score(X_train, y_train))\n",
    "print(cross_val_score(bagging, X_train, y_train, cv=5).mean())\n",
    "print(bagging.score(X_test, y_test))"
   ]
  },
  {
   "cell_type": "code",
   "execution_count": 89,
   "id": "cd179ba6",
   "metadata": {},
   "outputs": [
    {
     "name": "stdout",
     "output_type": "stream",
     "text": [
      "0.99282\n",
      "0.8137800000000001\n",
      "0.59795\n"
     ]
    }
   ],
   "source": [
    "bagging = BaggingClassifier(n_estimators=20, n_jobs=8, max_features=20)\n",
    "\n",
    "bagging.fit(X_train, y_train)\n",
    "\n",
    "print(bagging.score(X_train, y_train))\n",
    "print(cross_val_score(bagging, X_train, y_train, cv=5).mean())\n",
    "print(bagging.score(X_test, y_test))"
   ]
  },
  {
   "cell_type": "code",
   "execution_count": 90,
   "id": "b7216ebd",
   "metadata": {},
   "outputs": [
    {
     "name": "stdout",
     "output_type": "stream",
     "text": [
      "0.82318\n",
      "0.8181799999999999\n",
      "0.5866\n"
     ]
    }
   ],
   "source": [
    "bagging = BaggingClassifier(n_estimators=30, n_jobs=8, max_features=30, max_samples = 500)\n",
    "\n",
    "bagging.fit(X_train, y_train)\n",
    "\n",
    "print(bagging.score(X_train, y_train))\n",
    "print(cross_val_score(bagging, X_train, y_train, cv=5).mean())\n",
    "print(bagging.score(X_test, y_test))"
   ]
  },
  {
   "cell_type": "code",
   "execution_count": 92,
   "id": "bf174b47",
   "metadata": {},
   "outputs": [],
   "source": [
    "bagging_best = 0.5866"
   ]
  },
  {
   "cell_type": "markdown",
   "id": "ec7794ce",
   "metadata": {},
   "source": [
    "##### Winning Bagging Model Stats"
   ]
  },
  {
   "cell_type": "code",
   "execution_count": 105,
   "id": "5392b7df",
   "metadata": {},
   "outputs": [],
   "source": [
    "y_test_predict = bagging.predict(X_test)"
   ]
  },
  {
   "cell_type": "code",
   "execution_count": 106,
   "id": "94d9f0a9",
   "metadata": {},
   "outputs": [
    {
     "name": "stdout",
     "output_type": "stream",
     "text": [
      "              precision    recall  f1-score   support\n",
      "\n",
      "           0       0.65      0.82      0.72     11501\n",
      "           1       0.44      0.33      0.38      6469\n",
      "           2       0.32      0.10      0.15      1973\n",
      "           3       0.00      0.00      0.00        57\n",
      "\n",
      "    accuracy                           0.59     20000\n",
      "   macro avg       0.35      0.31      0.31     20000\n",
      "weighted avg       0.55      0.59      0.55     20000\n",
      "\n"
     ]
    },
    {
     "name": "stderr",
     "output_type": "stream",
     "text": [
      "C:\\ProgramData\\Anaconda3\\lib\\site-packages\\sklearn\\metrics\\_classification.py:1245: UndefinedMetricWarning: Precision and F-score are ill-defined and being set to 0.0 in labels with no predicted samples. Use `zero_division` parameter to control this behavior.\n",
      "  _warn_prf(average, modifier, msg_start, len(result))\n",
      "C:\\ProgramData\\Anaconda3\\lib\\site-packages\\sklearn\\metrics\\_classification.py:1245: UndefinedMetricWarning: Precision and F-score are ill-defined and being set to 0.0 in labels with no predicted samples. Use `zero_division` parameter to control this behavior.\n",
      "  _warn_prf(average, modifier, msg_start, len(result))\n",
      "C:\\ProgramData\\Anaconda3\\lib\\site-packages\\sklearn\\metrics\\_classification.py:1245: UndefinedMetricWarning: Precision and F-score are ill-defined and being set to 0.0 in labels with no predicted samples. Use `zero_division` parameter to control this behavior.\n",
      "  _warn_prf(average, modifier, msg_start, len(result))\n"
     ]
    }
   ],
   "source": [
    "print(metrics.classification_report(y_test, y_test_predict))"
   ]
  },
  {
   "cell_type": "code",
   "execution_count": 107,
   "id": "81f4429c",
   "metadata": {},
   "outputs": [
    {
     "data": {
      "text/plain": [
       "array([[9400, 1929,  172,    0],\n",
       "       [4098, 2132,  239,    0],\n",
       "       [1024,  749,  200,    0],\n",
       "       [  44,    7,    6,    0]], dtype=int64)"
      ]
     },
     "execution_count": 107,
     "metadata": {},
     "output_type": "execute_result"
    }
   ],
   "source": [
    "confusion_matrix(y_test, y_test_predict)"
   ]
  },
  {
   "cell_type": "markdown",
   "id": "4a268f76",
   "metadata": {},
   "source": [
    "### Model Roundup"
   ]
  },
  {
   "cell_type": "code",
   "execution_count": 108,
   "id": "b75cf105",
   "metadata": {},
   "outputs": [],
   "source": [
    "test_scores = pd.DataFrame({'Grid_logreg ': grid_model.score(X_test, y_test),\n",
    "                       'Logreg_cl_weight': model.score(X_test, y_test),\n",
    "                       'MLP': mlp_best,\n",
    "                       'Decision_Tree': dtree_best,\n",
    "                       'Bagging': bagging_best},\n",
    "                      index=['Model_Test_Scores'])"
   ]
  },
  {
   "cell_type": "code",
   "execution_count": 109,
   "id": "cb4776c5",
   "metadata": {},
   "outputs": [],
   "source": [
    "test_scores = test_scores.T"
   ]
  },
  {
   "cell_type": "code",
   "execution_count": 110,
   "id": "47494efd",
   "metadata": {},
   "outputs": [
    {
     "data": {
      "image/png": "[encoded data removed]",
      "text/plain": [
       "<Figure size 432x288 with 1 Axes>"
      ]
     },
     "metadata": {
      "needs_background": "light"
     },
     "output_type": "display_data"
    }
   ],
   "source": [
    "test_scores.plot()\n",
    "plt.show()"
   ]
  },
  {
   "cell_type": "markdown",
   "id": "3bc93f28",
   "metadata": {},
   "source": [
    "## Summary\n",
    "\n",
    "Overall, for the models run on a subsample of the data, the Multi-Layer Perceptron provided the best score, with a test score of 0.6049 against a baseline of 0.25. In particular the MLP with a lower number of hidden layers outperformed the rest. The decision tree model also performed well, providing only a slightly lower test score. However, comparing with the XGB model run with Vaex, the winner is the latter model with an accuracy score of 0.623. My hypothesis of why this is the case is due to the fact XGB models seem to be well suited to datasets with larger numbers of observations, and where there is a mixture of both continuous and categorical data.\n",
    "\n",
    "As next steps for the modelling on this project I would like to further explore the following:\n",
    "* Dummifying the categorical data with One Hot Encoder, approaching the added dimensionality with a PCA or a sparse matrix\n",
    "* Modelling with a Tensorflow neural network"
   ]
  }
 ],
 "metadata": {
  "kernelspec": {
   "display_name": "Python 3",
   "language": "python",
   "name": "python3"
  },
  "language_info": {
   "codemirror_mode": {
    "name": "ipython",
    "version": 3
   },
   "file_extension": ".py",
   "mimetype": "text/x-python",
   "name": "python",
   "nbconvert_exporter": "python",
   "pygments_lexer": "ipython3",
   "version": "3.8.8"
  }
 },
 "nbformat": 4,
 "nbformat_minor": 5
}
