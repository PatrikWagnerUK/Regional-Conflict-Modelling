{
 "cells": [
  {
   "cell_type": "code",
   "execution_count": 1,
   "id": "b1594c4a",
   "metadata": {},
   "outputs": [],
   "source": [
    "import vaex\n",
    "vaex.multithreading.thread_count_default = 8\n",
    "import vaex.ml\n",
    "import numpy as np\n",
    "import pylab as plt\n",
    "from vaex.ml.sklearn import Predictor\n",
    "from sklearn.ensemble import GradientBoostingClassifier\n",
    "import pandas as pd\n",
    "import matplotlib.pyplot as plt\n",
    "import matplotlib as mpl\n",
    "import numpy as np\n",
    "import seaborn as sns\n",
    "from datetime import datetime\n",
    "import statistics\n",
    "import re"
   ]
  },
  {
   "cell_type": "code",
   "execution_count": 32,
   "id": "1ffb127f",
   "metadata": {},
   "outputs": [],
   "source": [
    "from sklearn import metrics\n",
    "from sklearn.metrics import classification_report, confusion_matrix, accuracy_score, roc_curve, roc_auc_score\n",
    "from sklearn.metrics import plot_confusion_matrix, f1_score\n",
    "import xgboost\n",
    "import vaex.ml.sklearn"
   ]
  },
  {
   "cell_type": "markdown",
   "id": "51d36019",
   "metadata": {},
   "source": [
    "# Vaex Modelling: Introduction\n",
    "\n",
    "Vaex is a python library which is similar to Pandas, but built specifically to explore and work with large tabular datasets. In the grand scheme of things, the dataset being modelled here is not that large, however, it is still large enough to pose a challenge with local modelling. With this project it was a personal goal to use as much of the data as possible, and Vaex enabled me to exhieve exactly this.\n",
    "\n",
    "Vaex provide a wrapper into Sklearn models, however, there are a handful of models which I discovered with research work particularily well. These models are XGBoost, LogisticRegressions and Support Vector Classifiers. Unfortunately due to time constraints, and wanting to also model without Vaex and instead use subsampling, only XGBoost is used below.\n",
    "\n",
    "Models 1, 2 and 3 are run using without using SMOTE to solve class imbalances, and Model 4 uses SMOTE to create a class balance, bringing the total observations to model up to ~268k observations."
   ]
  },
  {
   "cell_type": "markdown",
   "id": "aaf75483",
   "metadata": {},
   "source": [
    "### Imports and Setting the Scene"
   ]
  },
  {
   "cell_type": "code",
   "execution_count": 3,
   "id": "1f56490d",
   "metadata": {},
   "outputs": [],
   "source": [
    "vaex_df = vaex.from_csv('to_model2.csv', convert=True)"
   ]
  },
  {
   "cell_type": "code",
   "execution_count": 4,
   "id": "aea00537",
   "metadata": {},
   "outputs": [
    {
     "data": {
      "text/html": [
       "<style>.vaex-description pre {\n",
       "          max-width : 450px;\n",
       "          white-space : nowrap;\n",
       "          overflow : hidden;\n",
       "          text-overflow: ellipsis;\n",
       "        }\n",
       "\n",
       "        .vex-description pre:hover {\n",
       "          max-width : initial;\n",
       "          white-space: pre;\n",
       "        }</style>"
      ],
      "text/plain": [
       "<IPython.core.display.HTML object>"
      ]
     },
     "metadata": {},
     "output_type": "display_data"
    },
    {
     "data": {
      "text/html": [
       "<div><h2>to_model2.csv</h2> <b>rows</b>: 168,354</div><h2>Columns:</h2><table class='table-striped'><thead><tr><th>column</th><th>type</th><th>unit</th><th>description</th><th>expression</th></tr></thead><tr><td>Unnamed: 0</td><td>int64</td><td></td><td ><pre></pre></td><td></td></tr><tr><td>id</td><td>int64</td><td></td><td ><pre></pre></td><td></td></tr><tr><td>year</td><td>int64</td><td></td><td ><pre></pre></td><td></td></tr><tr><td>active_year</td><td>str</td><td></td><td ><pre></pre></td><td></td></tr><tr><td>type_of_violence</td><td>str</td><td></td><td ><pre></pre></td><td></td></tr><tr><td>conflict_new_id</td><td>int64</td><td></td><td ><pre></pre></td><td></td></tr><tr><td>conflict_name</td><td>str</td><td></td><td ><pre></pre></td><td></td></tr><tr><td>dyad_new_id</td><td>int64</td><td></td><td ><pre></pre></td><td></td></tr><tr><td>dyad_name</td><td>str</td><td></td><td ><pre></pre></td><td></td></tr><tr><td>side_a_new_id</td><td>int64</td><td></td><td ><pre></pre></td><td></td></tr><tr><td>side_a</td><td>str</td><td></td><td ><pre></pre></td><td></td></tr><tr><td>side_b_new_id</td><td>int64</td><td></td><td ><pre></pre></td><td></td></tr><tr><td>side_b</td><td>str</td><td></td><td ><pre></pre></td><td></td></tr><tr><td>source_original</td><td>str</td><td></td><td ><pre></pre></td><td></td></tr><tr><td>where_coordinates</td><td>str</td><td></td><td ><pre></pre></td><td></td></tr><tr><td>where_description</td><td>str</td><td></td><td ><pre></pre></td><td></td></tr><tr><td>adm_1</td><td>str</td><td></td><td ><pre></pre></td><td></td></tr><tr><td>latitude</td><td>float64</td><td></td><td ><pre></pre></td><td></td></tr><tr><td>longitude</td><td>float64</td><td></td><td ><pre></pre></td><td></td></tr><tr><td>priogrid_gid</td><td>int64</td><td></td><td ><pre></pre></td><td></td></tr><tr><td>country</td><td>str</td><td></td><td ><pre></pre></td><td></td></tr><tr><td>region</td><td>str</td><td></td><td ><pre></pre></td><td></td></tr><tr><td>deaths_unknown</td><td>int64</td><td></td><td ><pre></pre></td><td></td></tr><tr><td>conflict_length</td><td>int64</td><td></td><td ><pre></pre></td><td></td></tr><tr><td>capital_investment</td><td>float64</td><td></td><td ><pre></pre></td><td></td></tr><tr><td>economic_growth</td><td>float64</td><td></td><td ><pre></pre></td><td></td></tr><tr><td>savings_pcnt_gdp</td><td>float64</td><td></td><td ><pre></pre></td><td></td></tr><tr><td>inflation</td><td>float64</td><td></td><td ><pre></pre></td><td></td></tr><tr><td>pcnt_world_tourist_arrivals</td><td>float64</td><td></td><td ><pre></pre></td><td></td></tr><tr><td>death_rate_p1000</td><td>float64</td><td></td><td ><pre></pre></td><td></td></tr><tr><td>human_flight_brain_drain_index_score</td><td>float64</td><td></td><td ><pre></pre></td><td></td></tr><tr><td>government_debt</td><td>float64</td><td></td><td ><pre></pre></td><td></td></tr><tr><td>inv_freedom_index_score</td><td>float64</td><td></td><td ><pre></pre></td><td></td></tr><tr><td>external_debt</td><td>float64</td><td></td><td ><pre></pre></td><td></td></tr><tr><td>labor_freedom_index_score</td><td>float64</td><td></td><td ><pre></pre></td><td></td></tr><tr><td>remittances</td><td>float64</td><td></td><td ><pre></pre></td><td></td></tr><tr><td>pop_growth_pcnt</td><td>float64</td><td></td><td ><pre></pre></td><td></td></tr><tr><td>banking_z_score</td><td>float64</td><td></td><td ><pre></pre></td><td></td></tr><tr><td>oil_reserves_barrels</td><td>float64</td><td></td><td ><pre></pre></td><td></td></tr><tr><td>pcnt_world_oil_reserves</td><td>float64</td><td></td><td ><pre></pre></td><td></td></tr><tr><td>oil_prod_barrels_daily</td><td>float64</td><td></td><td ><pre></pre></td><td></td></tr><tr><td>trade_balance</td><td>float64</td><td></td><td ><pre></pre></td><td></td></tr><tr><td>media_org_source</td><td>str</td><td></td><td ><pre></pre></td><td></td></tr><tr><td>incident_classification</td><td>int64</td><td></td><td ><pre></pre></td><td></td></tr></table><h2>Data:</h2><table>\n",
       "<thead>\n",
       "<tr><th>#                                  </th><th>Unnamed: 0  </th><th>id    </th><th>year  </th><th>active_year                </th><th>type_of_violence    </th><th>conflict_new_id  </th><th>conflict_name                      </th><th>dyad_new_id  </th><th>dyad_name                          </th><th>side_a_new_id  </th><th>side_a                   </th><th>side_b_new_id  </th><th>side_b   </th><th>source_original                                    </th><th>where_coordinates                        </th><th>where_description                                  </th><th>adm_1            </th><th>latitude  </th><th>longitude  </th><th>priogrid_gid  </th><th>country    </th><th>region  </th><th>deaths_unknown  </th><th>conflict_length  </th><th>capital_investment  </th><th>economic_growth  </th><th>savings_pcnt_gdp  </th><th>inflation  </th><th>pcnt_world_tourist_arrivals  </th><th>death_rate_p1000  </th><th>human_flight_brain_drain_index_score  </th><th>government_debt  </th><th>inv_freedom_index_score  </th><th>external_debt  </th><th>labor_freedom_index_score  </th><th>remittances  </th><th>pop_growth_pcnt  </th><th>banking_z_score  </th><th>oil_reserves_barrels  </th><th>pcnt_world_oil_reserves  </th><th>oil_prod_barrels_daily  </th><th>trade_balance  </th><th>media_org_source       </th><th>incident_classification  </th></tr>\n",
       "</thead>\n",
       "<tbody>\n",
       "<tr><td><i style='opacity: 0.6'>0</i>      </td><td>0           </td><td>244657</td><td>2017  </td><td>Part of an Ongoing Conflict</td><td>State-Based Conflict</td><td>259              </td><td>Iraq: Government                   </td><td>524          </td><td>Government of Iraq - IS            </td><td>116            </td><td>Government of Iraq       </td><td>234            </td><td>IS       </td><td>IS, interior ministry, security source             </td><td>Kabul city                               </td><td>Iraqi embassy in Kabul                             </td><td>Kabul province   </td><td>34.531094 </td><td>69.162796  </td><td>179779        </td><td>Afghanistan</td><td>Asia    </td><td>2               </td><td>0                </td><td>0.0                 </td><td>2.65             </td><td>0.0               </td><td>5.0        </td><td>0.0                          </td><td>6.57              </td><td>8.2                                   </td><td>8.0              </td><td>55.0                     </td><td>14.39          </td><td>60.0                       </td><td>4.36         </td><td>2.55             </td><td>11.5             </td><td>0.0                   </td><td>0.0                      </td><td>0.0                     </td><td>0.0            </td><td>Agence France Presse   </td><td>1                        </td></tr>\n",
       "<tr><td><i style='opacity: 0.6'>1</i>      </td><td>1           </td><td>233552</td><td>2017  </td><td>Part of an Ongoing Conflict</td><td>State-Based Conflict</td><td>333              </td><td>Afghanistan: Government            </td><td>735          </td><td>Government of Afghanistan - Taleban</td><td>130            </td><td>Government of Afghanistan</td><td>303            </td><td>Taleban  </td><td>provincial governor, Taleban                       </td><td>Taghaye Khwajasufla village              </td><td>&#x27;Taghai-Khwaj and Tabir localities of Sangcharak...</td><td>Sari Pul province</td><td>35.9654   </td><td>66.3691    </td><td>181213        </td><td>Afghanistan</td><td>Asia    </td><td>0               </td><td>0                </td><td>0.0                 </td><td>2.65             </td><td>0.0               </td><td>5.0        </td><td>0.0                          </td><td>6.57              </td><td>8.2                                   </td><td>8.0              </td><td>55.0                     </td><td>14.39          </td><td>60.0                       </td><td>4.36         </td><td>2.55             </td><td>11.5             </td><td>0.0                   </td><td>0.0                      </td><td>0.0                     </td><td>0.0            </td><td>Xinhua News Agency     </td><td>1                        </td></tr>\n",
       "<tr><td><i style='opacity: 0.6'>2</i>      </td><td>2           </td><td>233553</td><td>2017  </td><td>Part of an Ongoing Conflict</td><td>State-Based Conflict</td><td>333              </td><td>Afghanistan: Government            </td><td>735          </td><td>Government of Afghanistan - Taleban</td><td>130            </td><td>Government of Afghanistan</td><td>303            </td><td>Taleban  </td><td>provincial governor                                </td><td>Sari Pul-Jawzjan road (Sari Pul province)</td><td>&#x27;a road connecting Saripul to the neighboring Ja...</td><td>Sari Pul province</td><td>36.306238 </td><td>65.890063  </td><td>181932        </td><td>Afghanistan</td><td>Asia    </td><td>0               </td><td>0                </td><td>0.0                 </td><td>2.65             </td><td>0.0               </td><td>5.0        </td><td>0.0                          </td><td>6.57              </td><td>8.2                                   </td><td>8.0              </td><td>55.0                     </td><td>14.39          </td><td>60.0                       </td><td>4.36         </td><td>2.55             </td><td>11.5             </td><td>0.0                   </td><td>0.0                      </td><td>0.0                     </td><td>0.0            </td><td>Xinhua News Agency     </td><td>1                        </td></tr>\n",
       "<tr><td><i style='opacity: 0.6'>3</i>      </td><td>3           </td><td>233554</td><td>2017  </td><td>Part of an Ongoing Conflict</td><td>State-Based Conflict</td><td>333              </td><td>Afghanistan: Government            </td><td>735          </td><td>Government of Afghanistan - Taleban</td><td>130            </td><td>Government of Afghanistan</td><td>303            </td><td>Taleban  </td><td>Interior Ministry, governor’s spokesman, resident  </td><td>Abjosh Bala village                      </td><td>Ab Josh area of Charkh district of Logar province  </td><td>Logar province   </td><td>33.8471   </td><td>68.8296    </td><td>178338        </td><td>Afghanistan</td><td>Asia    </td><td>0               </td><td>0                </td><td>0.0                 </td><td>2.65             </td><td>0.0               </td><td>5.0        </td><td>0.0                          </td><td>6.57              </td><td>8.2                                   </td><td>8.0              </td><td>55.0                     </td><td>14.39          </td><td>60.0                       </td><td>4.36         </td><td>2.55             </td><td>11.5             </td><td>0.0                   </td><td>0.0                      </td><td>0.0                     </td><td>0.0            </td><td>Xinhua News Agency     </td><td>2                        </td></tr>\n",
       "<tr><td><i style='opacity: 0.6'>4</i>      </td><td>4           </td><td>237882</td><td>2017  </td><td>Part of an Ongoing Conflict</td><td>State-Based Conflict</td><td>333              </td><td>Afghanistan: Government            </td><td>735          </td><td>Government of Afghanistan - Taleban</td><td>130            </td><td>Government of Afghanistan</td><td>303            </td><td>Taleban  </td><td>&#x27;administrative chief of Marja district, Militar...</td><td>Marja town                               </td><td>Marja district centre, Hilmand                     </td><td>Hilmand province </td><td>31.521994 </td><td>64.118492  </td><td>175449        </td><td>Afghanistan</td><td>Asia    </td><td>0               </td><td>0                </td><td>0.0                 </td><td>2.65             </td><td>0.0               </td><td>5.0        </td><td>0.0                          </td><td>6.57              </td><td>8.2                                   </td><td>8.0              </td><td>55.0                     </td><td>14.39          </td><td>60.0                       </td><td>4.36         </td><td>2.55             </td><td>11.5             </td><td>0.0                   </td><td>0.0                      </td><td>0.0                     </td><td>0.0            </td><td>Pajhwok News           </td><td>0                        </td></tr>\n",
       "<tr><td>...                                </td><td>...         </td><td>...   </td><td>...   </td><td>...                        </td><td>...                 </td><td>...              </td><td>...                                </td><td>...          </td><td>...                                </td><td>...            </td><td>...                      </td><td>...            </td><td>...      </td><td>...                                                </td><td>...                                      </td><td>...                                                </td><td>...              </td><td>...       </td><td>...        </td><td>...           </td><td>...        </td><td>...     </td><td>...             </td><td>...              </td><td>...                 </td><td>...              </td><td>...               </td><td>...        </td><td>...                          </td><td>...               </td><td>...                                   </td><td>...              </td><td>...                      </td><td>...            </td><td>...                        </td><td>...          </td><td>...              </td><td>...              </td><td>...                   </td><td>...                      </td><td>...                     </td><td>...            </td><td>...                    </td><td>...                      </td></tr>\n",
       "<tr><td><i style='opacity: 0.6'>168,349</i></td><td>171386      </td><td>335285</td><td>2019  </td><td>Isolated Incident          </td><td>One-Sided Violence  </td><td>447              </td><td>Government of Venezuela - Civilians</td><td>914          </td><td>Government of Venezuela - Civilians</td><td>18             </td><td>Government of Venezuela  </td><td>1              </td><td>Civilians</td><td>residents                                          </td><td>Caracas city                             </td><td>&quot;Jose Felix Ribas, a district within Caracas&#x27; sp...</td><td>Distrito Capital </td><td>10.488011 </td><td>-66.879193 </td><td>144227        </td><td>Venezuela  </td><td>Americas</td><td>0               </td><td>0                </td><td>26.04               </td><td>-1.27            </td><td>13.98             </td><td>188.3      </td><td>0.04                         </td><td>7.12              </td><td>6.1                                   </td><td>232.79           </td><td>5.0                      </td><td>38.29          </td><td>28.0                       </td><td>0.0          </td><td>-1.66            </td><td>3.51             </td><td>302.81                </td><td>18.23                    </td><td>876.82                  </td><td>-9.72          </td><td>Reuters News           </td><td>0                        </td></tr>\n",
       "<tr><td><i style='opacity: 0.6'>168,350</i></td><td>171387      </td><td>335286</td><td>2019  </td><td>Isolated Incident          </td><td>One-Sided Violence  </td><td>447              </td><td>Government of Venezuela - Civilians</td><td>914          </td><td>Government of Venezuela - Civilians</td><td>18             </td><td>Government of Venezuela  </td><td>1              </td><td>Civilians</td><td>Witnesses                                          </td><td>Carora town                              </td><td>Carora town                                        </td><td>Lara state       </td><td>10.172834 </td><td>-70.081003 </td><td>144220        </td><td>Venezuela  </td><td>Americas</td><td>0               </td><td>0                </td><td>26.04               </td><td>-1.27            </td><td>13.98             </td><td>188.3      </td><td>0.04                         </td><td>7.12              </td><td>6.1                                   </td><td>232.79           </td><td>5.0                      </td><td>38.29          </td><td>28.0                       </td><td>0.0          </td><td>-1.66            </td><td>3.51             </td><td>302.81                </td><td>18.23                    </td><td>876.82                  </td><td>-9.72          </td><td>Amnesty                </td><td>0                        </td></tr>\n",
       "<tr><td><i style='opacity: 0.6'>168,351</i></td><td>171389      </td><td>285541</td><td>2019  </td><td>Isolated Incident          </td><td>One-Sided Violence  </td><td>606              </td><td>ELN - Civilians                    </td><td>1073         </td><td>ELN - Civilians                    </td><td>744            </td><td>ELN                      </td><td>1              </td><td>Civilians</td><td>El Nacional Online                                 </td><td>Ureña town                               </td><td>&#x27;Urena and La Fria (Tachira), located on the Col...</td><td>Táchira state    </td><td>7.91689   </td><td>-72.44188  </td><td>140616        </td><td>Venezuela  </td><td>Americas</td><td>0               </td><td>1                </td><td>26.04               </td><td>-1.27            </td><td>13.98             </td><td>188.3      </td><td>0.04                         </td><td>7.12              </td><td>6.1                                   </td><td>232.79           </td><td>5.0                      </td><td>38.29          </td><td>28.0                       </td><td>0.0          </td><td>-1.66            </td><td>3.51             </td><td>302.81                </td><td>18.23                    </td><td>876.82                  </td><td>-9.72          </td><td>BBC Monitoring Americas</td><td>1                        </td></tr>\n",
       "<tr><td><i style='opacity: 0.6'>168,352</i></td><td>171390      </td><td>285542</td><td>2019  </td><td>Isolated Incident          </td><td>One-Sided Violence  </td><td>606              </td><td>ELN - Civilians                    </td><td>1073         </td><td>ELN - Civilians                    </td><td>744            </td><td>ELN                      </td><td>1              </td><td>Civilians</td><td>El Nacional Online                                 </td><td>La Fría town                             </td><td>&#x27;Urena and La Fria (Tachira), located on the Col...</td><td>Táchira state    </td><td>8.21523   </td><td>-72.24888  </td><td>141336        </td><td>Venezuela  </td><td>Americas</td><td>0               </td><td>1                </td><td>26.04               </td><td>-1.27            </td><td>13.98             </td><td>188.3      </td><td>0.04                         </td><td>7.12              </td><td>6.1                                   </td><td>232.79           </td><td>5.0                      </td><td>38.29          </td><td>28.0                       </td><td>0.0          </td><td>-1.66            </td><td>3.51             </td><td>302.81                </td><td>18.23                    </td><td>876.82                  </td><td>-9.72          </td><td>BBC Monitoring Americas</td><td>0                        </td></tr>\n",
       "<tr><td><i style='opacity: 0.6'>168,353</i></td><td>171392      </td><td>349290</td><td>2020  </td><td>Isolated Incident          </td><td>One-Sided Violence  </td><td>447              </td><td>Government of Venezuela - Civilians</td><td>914          </td><td>Government of Venezuela - Civilians</td><td>18             </td><td>Government of Venezuela  </td><td>1              </td><td>Civilians</td><td>No Source Specified                                </td><td>Aragua de Barcelona town                 </td><td>&#x27;in the town of Aragua de Barcelona, in eastern ...</td><td>Anzoátegui state </td><td>9.45588   </td><td>-64.82928  </td><td>142791        </td><td>Venezuela  </td><td>Americas</td><td>0               </td><td>0                </td><td>26.04               </td><td>-1.27            </td><td>13.98             </td><td>188.3      </td><td>0.04                         </td><td>7.05              </td><td>6.4                                   </td><td>304.13           </td><td>5.0                      </td><td>38.29          </td><td>28.0                       </td><td>0.0          </td><td>-1.66            </td><td>3.51             </td><td>302.81                </td><td>18.23                    </td><td>527.06                  </td><td>-9.72          </td><td>Reuters News           </td><td>0                        </td></tr>\n",
       "</tbody>\n",
       "</table>"
      ],
      "text/plain": [
       "<IPython.core.display.HTML object>"
      ]
     },
     "metadata": {},
     "output_type": "display_data"
    }
   ],
   "source": [
    "vaex_df.info()"
   ]
  },
  {
   "cell_type": "code",
   "execution_count": 5,
   "id": "d25f93bc",
   "metadata": {},
   "outputs": [
    {
     "data": {
      "text/html": [
       "<table>\n",
       "<thead>\n",
       "<tr><th>#                                  </th><th>id    </th><th>year  </th><th>active_year                </th><th>type_of_violence    </th><th>conflict_new_id  </th><th>conflict_name                      </th><th>dyad_new_id  </th><th>dyad_name                          </th><th>side_a_new_id  </th><th>side_a                   </th><th>side_b_new_id  </th><th>side_b   </th><th>source_original                                    </th><th>where_coordinates                        </th><th>where_description                                  </th><th>adm_1            </th><th>latitude  </th><th>longitude  </th><th>priogrid_gid  </th><th>country    </th><th>region  </th><th>deaths_unknown  </th><th>conflict_length  </th><th>capital_investment  </th><th>economic_growth  </th><th>savings_pcnt_gdp  </th><th>inflation  </th><th>pcnt_world_tourist_arrivals  </th><th>death_rate_p1000  </th><th>human_flight_brain_drain_index_score  </th><th>government_debt  </th><th>inv_freedom_index_score  </th><th>external_debt  </th><th>labor_freedom_index_score  </th><th>remittances  </th><th>pop_growth_pcnt  </th><th>banking_z_score  </th><th>oil_reserves_barrels  </th><th>pcnt_world_oil_reserves  </th><th>oil_prod_barrels_daily  </th><th>trade_balance  </th><th>media_org_source       </th><th>incident_classification  </th></tr>\n",
       "</thead>\n",
       "<tbody>\n",
       "<tr><td><i style='opacity: 0.6'>0</i>      </td><td>244657</td><td>2017  </td><td>Part of an Ongoing Conflict</td><td>State-Based Conflict</td><td>259              </td><td>Iraq: Government                   </td><td>524          </td><td>Government of Iraq - IS            </td><td>116            </td><td>Government of Iraq       </td><td>234            </td><td>IS       </td><td>IS, interior ministry, security source             </td><td>Kabul city                               </td><td>Iraqi embassy in Kabul                             </td><td>Kabul province   </td><td>34.531094 </td><td>69.162796  </td><td>179779        </td><td>Afghanistan</td><td>Asia    </td><td>2               </td><td>0                </td><td>0.0                 </td><td>2.65             </td><td>0.0               </td><td>5.0        </td><td>0.0                          </td><td>6.57              </td><td>8.2                                   </td><td>8.0              </td><td>55.0                     </td><td>14.39          </td><td>60.0                       </td><td>4.36         </td><td>2.55             </td><td>11.5             </td><td>0.0                   </td><td>0.0                      </td><td>0.0                     </td><td>0.0            </td><td>Agence France Presse   </td><td>1                        </td></tr>\n",
       "<tr><td><i style='opacity: 0.6'>1</i>      </td><td>233552</td><td>2017  </td><td>Part of an Ongoing Conflict</td><td>State-Based Conflict</td><td>333              </td><td>Afghanistan: Government            </td><td>735          </td><td>Government of Afghanistan - Taleban</td><td>130            </td><td>Government of Afghanistan</td><td>303            </td><td>Taleban  </td><td>provincial governor, Taleban                       </td><td>Taghaye Khwajasufla village              </td><td>&#x27;Taghai-Khwaj and Tabir localities of Sangcharak...</td><td>Sari Pul province</td><td>35.9654   </td><td>66.3691    </td><td>181213        </td><td>Afghanistan</td><td>Asia    </td><td>0               </td><td>0                </td><td>0.0                 </td><td>2.65             </td><td>0.0               </td><td>5.0        </td><td>0.0                          </td><td>6.57              </td><td>8.2                                   </td><td>8.0              </td><td>55.0                     </td><td>14.39          </td><td>60.0                       </td><td>4.36         </td><td>2.55             </td><td>11.5             </td><td>0.0                   </td><td>0.0                      </td><td>0.0                     </td><td>0.0            </td><td>Xinhua News Agency     </td><td>1                        </td></tr>\n",
       "<tr><td><i style='opacity: 0.6'>2</i>      </td><td>233553</td><td>2017  </td><td>Part of an Ongoing Conflict</td><td>State-Based Conflict</td><td>333              </td><td>Afghanistan: Government            </td><td>735          </td><td>Government of Afghanistan - Taleban</td><td>130            </td><td>Government of Afghanistan</td><td>303            </td><td>Taleban  </td><td>provincial governor                                </td><td>Sari Pul-Jawzjan road (Sari Pul province)</td><td>&#x27;a road connecting Saripul to the neighboring Ja...</td><td>Sari Pul province</td><td>36.306238 </td><td>65.890063  </td><td>181932        </td><td>Afghanistan</td><td>Asia    </td><td>0               </td><td>0                </td><td>0.0                 </td><td>2.65             </td><td>0.0               </td><td>5.0        </td><td>0.0                          </td><td>6.57              </td><td>8.2                                   </td><td>8.0              </td><td>55.0                     </td><td>14.39          </td><td>60.0                       </td><td>4.36         </td><td>2.55             </td><td>11.5             </td><td>0.0                   </td><td>0.0                      </td><td>0.0                     </td><td>0.0            </td><td>Xinhua News Agency     </td><td>1                        </td></tr>\n",
       "<tr><td><i style='opacity: 0.6'>3</i>      </td><td>233554</td><td>2017  </td><td>Part of an Ongoing Conflict</td><td>State-Based Conflict</td><td>333              </td><td>Afghanistan: Government            </td><td>735          </td><td>Government of Afghanistan - Taleban</td><td>130            </td><td>Government of Afghanistan</td><td>303            </td><td>Taleban  </td><td>Interior Ministry, governor’s spokesman, resident  </td><td>Abjosh Bala village                      </td><td>Ab Josh area of Charkh district of Logar province  </td><td>Logar province   </td><td>33.8471   </td><td>68.8296    </td><td>178338        </td><td>Afghanistan</td><td>Asia    </td><td>0               </td><td>0                </td><td>0.0                 </td><td>2.65             </td><td>0.0               </td><td>5.0        </td><td>0.0                          </td><td>6.57              </td><td>8.2                                   </td><td>8.0              </td><td>55.0                     </td><td>14.39          </td><td>60.0                       </td><td>4.36         </td><td>2.55             </td><td>11.5             </td><td>0.0                   </td><td>0.0                      </td><td>0.0                     </td><td>0.0            </td><td>Xinhua News Agency     </td><td>2                        </td></tr>\n",
       "<tr><td><i style='opacity: 0.6'>4</i>      </td><td>237882</td><td>2017  </td><td>Part of an Ongoing Conflict</td><td>State-Based Conflict</td><td>333              </td><td>Afghanistan: Government            </td><td>735          </td><td>Government of Afghanistan - Taleban</td><td>130            </td><td>Government of Afghanistan</td><td>303            </td><td>Taleban  </td><td>&#x27;administrative chief of Marja district, Militar...</td><td>Marja town                               </td><td>Marja district centre, Hilmand                     </td><td>Hilmand province </td><td>31.521994 </td><td>64.118492  </td><td>175449        </td><td>Afghanistan</td><td>Asia    </td><td>0               </td><td>0                </td><td>0.0                 </td><td>2.65             </td><td>0.0               </td><td>5.0        </td><td>0.0                          </td><td>6.57              </td><td>8.2                                   </td><td>8.0              </td><td>55.0                     </td><td>14.39          </td><td>60.0                       </td><td>4.36         </td><td>2.55             </td><td>11.5             </td><td>0.0                   </td><td>0.0                      </td><td>0.0                     </td><td>0.0            </td><td>Pajhwok News           </td><td>0                        </td></tr>\n",
       "<tr><td>...                                </td><td>...   </td><td>...   </td><td>...                        </td><td>...                 </td><td>...              </td><td>...                                </td><td>...          </td><td>...                                </td><td>...            </td><td>...                      </td><td>...            </td><td>...      </td><td>...                                                </td><td>...                                      </td><td>...                                                </td><td>...              </td><td>...       </td><td>...        </td><td>...           </td><td>...        </td><td>...     </td><td>...             </td><td>...              </td><td>...                 </td><td>...              </td><td>...               </td><td>...        </td><td>...                          </td><td>...               </td><td>...                                   </td><td>...              </td><td>...                      </td><td>...            </td><td>...                        </td><td>...          </td><td>...              </td><td>...              </td><td>...                   </td><td>...                      </td><td>...                     </td><td>...            </td><td>...                    </td><td>...                      </td></tr>\n",
       "<tr><td><i style='opacity: 0.6'>168,349</i></td><td>335285</td><td>2019  </td><td>Isolated Incident          </td><td>One-Sided Violence  </td><td>447              </td><td>Government of Venezuela - Civilians</td><td>914          </td><td>Government of Venezuela - Civilians</td><td>18             </td><td>Government of Venezuela  </td><td>1              </td><td>Civilians</td><td>residents                                          </td><td>Caracas city                             </td><td>&quot;Jose Felix Ribas, a district within Caracas&#x27; sp...</td><td>Distrito Capital </td><td>10.488011 </td><td>-66.879193 </td><td>144227        </td><td>Venezuela  </td><td>Americas</td><td>0               </td><td>0                </td><td>26.04               </td><td>-1.27            </td><td>13.98             </td><td>188.3      </td><td>0.04                         </td><td>7.12              </td><td>6.1                                   </td><td>232.79           </td><td>5.0                      </td><td>38.29          </td><td>28.0                       </td><td>0.0          </td><td>-1.66            </td><td>3.51             </td><td>302.81                </td><td>18.23                    </td><td>876.82                  </td><td>-9.72          </td><td>Reuters News           </td><td>0                        </td></tr>\n",
       "<tr><td><i style='opacity: 0.6'>168,350</i></td><td>335286</td><td>2019  </td><td>Isolated Incident          </td><td>One-Sided Violence  </td><td>447              </td><td>Government of Venezuela - Civilians</td><td>914          </td><td>Government of Venezuela - Civilians</td><td>18             </td><td>Government of Venezuela  </td><td>1              </td><td>Civilians</td><td>Witnesses                                          </td><td>Carora town                              </td><td>Carora town                                        </td><td>Lara state       </td><td>10.172834 </td><td>-70.081003 </td><td>144220        </td><td>Venezuela  </td><td>Americas</td><td>0               </td><td>0                </td><td>26.04               </td><td>-1.27            </td><td>13.98             </td><td>188.3      </td><td>0.04                         </td><td>7.12              </td><td>6.1                                   </td><td>232.79           </td><td>5.0                      </td><td>38.29          </td><td>28.0                       </td><td>0.0          </td><td>-1.66            </td><td>3.51             </td><td>302.81                </td><td>18.23                    </td><td>876.82                  </td><td>-9.72          </td><td>Amnesty                </td><td>0                        </td></tr>\n",
       "<tr><td><i style='opacity: 0.6'>168,351</i></td><td>285541</td><td>2019  </td><td>Isolated Incident          </td><td>One-Sided Violence  </td><td>606              </td><td>ELN - Civilians                    </td><td>1073         </td><td>ELN - Civilians                    </td><td>744            </td><td>ELN                      </td><td>1              </td><td>Civilians</td><td>El Nacional Online                                 </td><td>Ureña town                               </td><td>&#x27;Urena and La Fria (Tachira), located on the Col...</td><td>Táchira state    </td><td>7.91689   </td><td>-72.44188  </td><td>140616        </td><td>Venezuela  </td><td>Americas</td><td>0               </td><td>1                </td><td>26.04               </td><td>-1.27            </td><td>13.98             </td><td>188.3      </td><td>0.04                         </td><td>7.12              </td><td>6.1                                   </td><td>232.79           </td><td>5.0                      </td><td>38.29          </td><td>28.0                       </td><td>0.0          </td><td>-1.66            </td><td>3.51             </td><td>302.81                </td><td>18.23                    </td><td>876.82                  </td><td>-9.72          </td><td>BBC Monitoring Americas</td><td>1                        </td></tr>\n",
       "<tr><td><i style='opacity: 0.6'>168,352</i></td><td>285542</td><td>2019  </td><td>Isolated Incident          </td><td>One-Sided Violence  </td><td>606              </td><td>ELN - Civilians                    </td><td>1073         </td><td>ELN - Civilians                    </td><td>744            </td><td>ELN                      </td><td>1              </td><td>Civilians</td><td>El Nacional Online                                 </td><td>La Fría town                             </td><td>&#x27;Urena and La Fria (Tachira), located on the Col...</td><td>Táchira state    </td><td>8.21523   </td><td>-72.24888  </td><td>141336        </td><td>Venezuela  </td><td>Americas</td><td>0               </td><td>1                </td><td>26.04               </td><td>-1.27            </td><td>13.98             </td><td>188.3      </td><td>0.04                         </td><td>7.12              </td><td>6.1                                   </td><td>232.79           </td><td>5.0                      </td><td>38.29          </td><td>28.0                       </td><td>0.0          </td><td>-1.66            </td><td>3.51             </td><td>302.81                </td><td>18.23                    </td><td>876.82                  </td><td>-9.72          </td><td>BBC Monitoring Americas</td><td>0                        </td></tr>\n",
       "<tr><td><i style='opacity: 0.6'>168,353</i></td><td>349290</td><td>2020  </td><td>Isolated Incident          </td><td>One-Sided Violence  </td><td>447              </td><td>Government of Venezuela - Civilians</td><td>914          </td><td>Government of Venezuela - Civilians</td><td>18             </td><td>Government of Venezuela  </td><td>1              </td><td>Civilians</td><td>No Source Specified                                </td><td>Aragua de Barcelona town                 </td><td>&#x27;in the town of Aragua de Barcelona, in eastern ...</td><td>Anzoátegui state </td><td>9.45588   </td><td>-64.82928  </td><td>142791        </td><td>Venezuela  </td><td>Americas</td><td>0               </td><td>0                </td><td>26.04               </td><td>-1.27            </td><td>13.98             </td><td>188.3      </td><td>0.04                         </td><td>7.05              </td><td>6.4                                   </td><td>304.13           </td><td>5.0                      </td><td>38.29          </td><td>28.0                       </td><td>0.0          </td><td>-1.66            </td><td>3.51             </td><td>302.81                </td><td>18.23                    </td><td>527.06                  </td><td>-9.72          </td><td>Reuters News           </td><td>0                        </td></tr>\n",
       "</tbody>\n",
       "</table>"
      ],
      "text/plain": [
       "#        id      year    active_year                  type_of_violence      conflict_new_id    conflict_name                        dyad_new_id    dyad_name                            side_a_new_id    side_a                     side_b_new_id    side_b     source_original                                      where_coordinates                          where_description                                    adm_1              latitude    longitude    priogrid_gid    country      region    deaths_unknown    conflict_length    capital_investment    economic_growth    savings_pcnt_gdp    inflation    pcnt_world_tourist_arrivals    death_rate_p1000    human_flight_brain_drain_index_score    government_debt    inv_freedom_index_score    external_debt    labor_freedom_index_score    remittances    pop_growth_pcnt    banking_z_score    oil_reserves_barrels    pcnt_world_oil_reserves    oil_prod_barrels_daily    trade_balance    media_org_source         incident_classification\n",
       "0        244657  2017    Part of an Ongoing Conflict  State-Based Conflict  259                Iraq: Government                     524            Government of Iraq - IS              116              Government of Iraq         234              IS         IS, interior ministry, security source               Kabul city                                 Iraqi embassy in Kabul                               Kabul province     34.531094   69.162796    179779          Afghanistan  Asia      2                 0                  0.0                   2.65               0.0                 5.0          0.0                            6.57                8.2                                     8.0                55.0                       14.39            60.0                         4.36           2.55               11.5               0.0                     0.0                        0.0                       0.0              Agence France Presse     1\n",
       "1        233552  2017    Part of an Ongoing Conflict  State-Based Conflict  333                Afghanistan: Government              735            Government of Afghanistan - Taleban  130              Government of Afghanistan  303              Taleban    provincial governor, Taleban                         Taghaye Khwajasufla village                'Taghai-Khwaj and Tabir localities of Sangcharak...  Sari Pul province  35.9654     66.3691      181213          Afghanistan  Asia      0                 0                  0.0                   2.65               0.0                 5.0          0.0                            6.57                8.2                                     8.0                55.0                       14.39            60.0                         4.36           2.55               11.5               0.0                     0.0                        0.0                       0.0              Xinhua News Agency       1\n",
       "2        233553  2017    Part of an Ongoing Conflict  State-Based Conflict  333                Afghanistan: Government              735            Government of Afghanistan - Taleban  130              Government of Afghanistan  303              Taleban    provincial governor                                  Sari Pul-Jawzjan road (Sari Pul province)  'a road connecting Saripul to the neighboring Ja...  Sari Pul province  36.306238   65.890063    181932          Afghanistan  Asia      0                 0                  0.0                   2.65               0.0                 5.0          0.0                            6.57                8.2                                     8.0                55.0                       14.39            60.0                         4.36           2.55               11.5               0.0                     0.0                        0.0                       0.0              Xinhua News Agency       1\n",
       "3        233554  2017    Part of an Ongoing Conflict  State-Based Conflict  333                Afghanistan: Government              735            Government of Afghanistan - Taleban  130              Government of Afghanistan  303              Taleban    Interior Ministry, governor’s spokesman, resident    Abjosh Bala village                        Ab Josh area of Charkh district of Logar province    Logar province     33.8471     68.8296      178338          Afghanistan  Asia      0                 0                  0.0                   2.65               0.0                 5.0          0.0                            6.57                8.2                                     8.0                55.0                       14.39            60.0                         4.36           2.55               11.5               0.0                     0.0                        0.0                       0.0              Xinhua News Agency       2\n",
       "4        237882  2017    Part of an Ongoing Conflict  State-Based Conflict  333                Afghanistan: Government              735            Government of Afghanistan - Taleban  130              Government of Afghanistan  303              Taleban    'administrative chief of Marja district, Militar...  Marja town                                 Marja district centre, Hilmand                       Hilmand province   31.521994   64.118492    175449          Afghanistan  Asia      0                 0                  0.0                   2.65               0.0                 5.0          0.0                            6.57                8.2                                     8.0                55.0                       14.39            60.0                         4.36           2.55               11.5               0.0                     0.0                        0.0                       0.0              Pajhwok News             0\n",
       "...      ...     ...     ...                          ...                   ...                ...                                  ...            ...                                  ...              ...                        ...              ...        ...                                                  ...                                        ...                                                  ...                ...         ...          ...             ...          ...       ...               ...                ...                   ...                ...                 ...          ...                            ...                 ...                                     ...                ...                        ...              ...                          ...            ...                ...                ...                     ...                        ...                       ...              ...                      ...\n",
       "168,349  335285  2019    Isolated Incident            One-Sided Violence    447                Government of Venezuela - Civilians  914            Government of Venezuela - Civilians  18               Government of Venezuela    1                Civilians  residents                                            Caracas city                               \"Jose Felix Ribas, a district within Caracas' sp...  Distrito Capital   10.488011   -66.879193   144227          Venezuela    Americas  0                 0                  26.04                 -1.27              13.98               188.3        0.04                           7.12                6.1                                     232.79             5.0                        38.29            28.0                         0.0            -1.66              3.51               302.81                  18.23                      876.82                    -9.72            Reuters News             0\n",
       "168,350  335286  2019    Isolated Incident            One-Sided Violence    447                Government of Venezuela - Civilians  914            Government of Venezuela - Civilians  18               Government of Venezuela    1                Civilians  Witnesses                                            Carora town                                Carora town                                          Lara state         10.172834   -70.081003   144220          Venezuela    Americas  0                 0                  26.04                 -1.27              13.98               188.3        0.04                           7.12                6.1                                     232.79             5.0                        38.29            28.0                         0.0            -1.66              3.51               302.81                  18.23                      876.82                    -9.72            Amnesty                  0\n",
       "168,351  285541  2019    Isolated Incident            One-Sided Violence    606                ELN - Civilians                      1073           ELN - Civilians                      744              ELN                        1                Civilians  El Nacional Online                                   Ureña town                                 'Urena and La Fria (Tachira), located on the Col...  Táchira state      7.91689     -72.44188    140616          Venezuela    Americas  0                 1                  26.04                 -1.27              13.98               188.3        0.04                           7.12                6.1                                     232.79             5.0                        38.29            28.0                         0.0            -1.66              3.51               302.81                  18.23                      876.82                    -9.72            BBC Monitoring Americas  1\n",
       "168,352  285542  2019    Isolated Incident            One-Sided Violence    606                ELN - Civilians                      1073           ELN - Civilians                      744              ELN                        1                Civilians  El Nacional Online                                   La Fría town                               'Urena and La Fria (Tachira), located on the Col...  Táchira state      8.21523     -72.24888    141336          Venezuela    Americas  0                 1                  26.04                 -1.27              13.98               188.3        0.04                           7.12                6.1                                     232.79             5.0                        38.29            28.0                         0.0            -1.66              3.51               302.81                  18.23                      876.82                    -9.72            BBC Monitoring Americas  0\n",
       "168,353  349290  2020    Isolated Incident            One-Sided Violence    447                Government of Venezuela - Civilians  914            Government of Venezuela - Civilians  18               Government of Venezuela    1                Civilians  No Source Specified                                  Aragua de Barcelona town                   'in the town of Aragua de Barcelona, in eastern ...  Anzoátegui state   9.45588     -64.82928    142791          Venezuela    Americas  0                 0                  26.04                 -1.27              13.98               188.3        0.04                           7.05                6.4                                     304.13             5.0                        38.29            28.0                         0.0            -1.66              3.51               302.81                  18.23                      527.06                    -9.72            Reuters News             0"
      ]
     },
     "execution_count": 5,
     "metadata": {},
     "output_type": "execute_result"
    }
   ],
   "source": [
    "vaex_df.drop('Unnamed: 0', inplace=True)"
   ]
  },
  {
   "cell_type": "code",
   "execution_count": 6,
   "id": "2299fa7c",
   "metadata": {},
   "outputs": [
    {
     "data": {
      "text/plain": [
       "0    95707\n",
       "1    56026\n",
       "2    16113\n",
       "3      508\n",
       "dtype: int64"
      ]
     },
     "execution_count": 6,
     "metadata": {},
     "output_type": "execute_result"
    }
   ],
   "source": [
    "## Here we see the class imbalance\n",
    "\n",
    "vaex_df.incident_classification.value_counts()"
   ]
  },
  {
   "cell_type": "code",
   "execution_count": 7,
   "id": "5c158570",
   "metadata": {},
   "outputs": [
    {
     "data": {
      "text/html": [
       "<table>\n",
       "<thead>\n",
       "<tr><th>#                                  </th><th>id    </th><th>year  </th><th>active_year                </th><th>type_of_violence    </th><th>conflict_new_id  </th><th>conflict_name                      </th><th>dyad_new_id  </th><th>dyad_name                          </th><th>side_a_new_id  </th><th>side_a                   </th><th>side_b_new_id  </th><th>side_b   </th><th>source_original                                    </th><th>where_coordinates                        </th><th>where_description                                  </th><th>adm_1            </th><th>latitude  </th><th>longitude  </th><th>priogrid_gid  </th><th>country    </th><th>region  </th><th>conflict_length  </th><th>capital_investment  </th><th>economic_growth  </th><th>savings_pcnt_gdp  </th><th>inflation  </th><th>pcnt_world_tourist_arrivals  </th><th>death_rate_p1000  </th><th>human_flight_brain_drain_index_score  </th><th>government_debt  </th><th>inv_freedom_index_score  </th><th>external_debt  </th><th>labor_freedom_index_score  </th><th>remittances  </th><th>pop_growth_pcnt  </th><th>banking_z_score  </th><th>oil_reserves_barrels  </th><th>pcnt_world_oil_reserves  </th><th>oil_prod_barrels_daily  </th><th>trade_balance  </th><th>media_org_source       </th><th>incident_classification  </th></tr>\n",
       "</thead>\n",
       "<tbody>\n",
       "<tr><td><i style='opacity: 0.6'>0</i>      </td><td>244657</td><td>2017  </td><td>Part of an Ongoing Conflict</td><td>State-Based Conflict</td><td>259              </td><td>Iraq: Government                   </td><td>524          </td><td>Government of Iraq - IS            </td><td>116            </td><td>Government of Iraq       </td><td>234            </td><td>IS       </td><td>IS, interior ministry, security source             </td><td>Kabul city                               </td><td>Iraqi embassy in Kabul                             </td><td>Kabul province   </td><td>34.531094 </td><td>69.162796  </td><td>179779        </td><td>Afghanistan</td><td>Asia    </td><td>0                </td><td>0.0                 </td><td>2.65             </td><td>0.0               </td><td>5.0        </td><td>0.0                          </td><td>6.57              </td><td>8.2                                   </td><td>8.0              </td><td>55.0                     </td><td>14.39          </td><td>60.0                       </td><td>4.36         </td><td>2.55             </td><td>11.5             </td><td>0.0                   </td><td>0.0                      </td><td>0.0                     </td><td>0.0            </td><td>Agence France Presse   </td><td>1                        </td></tr>\n",
       "<tr><td><i style='opacity: 0.6'>1</i>      </td><td>233552</td><td>2017  </td><td>Part of an Ongoing Conflict</td><td>State-Based Conflict</td><td>333              </td><td>Afghanistan: Government            </td><td>735          </td><td>Government of Afghanistan - Taleban</td><td>130            </td><td>Government of Afghanistan</td><td>303            </td><td>Taleban  </td><td>provincial governor, Taleban                       </td><td>Taghaye Khwajasufla village              </td><td>&#x27;Taghai-Khwaj and Tabir localities of Sangcharak...</td><td>Sari Pul province</td><td>35.9654   </td><td>66.3691    </td><td>181213        </td><td>Afghanistan</td><td>Asia    </td><td>0                </td><td>0.0                 </td><td>2.65             </td><td>0.0               </td><td>5.0        </td><td>0.0                          </td><td>6.57              </td><td>8.2                                   </td><td>8.0              </td><td>55.0                     </td><td>14.39          </td><td>60.0                       </td><td>4.36         </td><td>2.55             </td><td>11.5             </td><td>0.0                   </td><td>0.0                      </td><td>0.0                     </td><td>0.0            </td><td>Xinhua News Agency     </td><td>1                        </td></tr>\n",
       "<tr><td><i style='opacity: 0.6'>2</i>      </td><td>233553</td><td>2017  </td><td>Part of an Ongoing Conflict</td><td>State-Based Conflict</td><td>333              </td><td>Afghanistan: Government            </td><td>735          </td><td>Government of Afghanistan - Taleban</td><td>130            </td><td>Government of Afghanistan</td><td>303            </td><td>Taleban  </td><td>provincial governor                                </td><td>Sari Pul-Jawzjan road (Sari Pul province)</td><td>&#x27;a road connecting Saripul to the neighboring Ja...</td><td>Sari Pul province</td><td>36.306238 </td><td>65.890063  </td><td>181932        </td><td>Afghanistan</td><td>Asia    </td><td>0                </td><td>0.0                 </td><td>2.65             </td><td>0.0               </td><td>5.0        </td><td>0.0                          </td><td>6.57              </td><td>8.2                                   </td><td>8.0              </td><td>55.0                     </td><td>14.39          </td><td>60.0                       </td><td>4.36         </td><td>2.55             </td><td>11.5             </td><td>0.0                   </td><td>0.0                      </td><td>0.0                     </td><td>0.0            </td><td>Xinhua News Agency     </td><td>1                        </td></tr>\n",
       "<tr><td><i style='opacity: 0.6'>3</i>      </td><td>233554</td><td>2017  </td><td>Part of an Ongoing Conflict</td><td>State-Based Conflict</td><td>333              </td><td>Afghanistan: Government            </td><td>735          </td><td>Government of Afghanistan - Taleban</td><td>130            </td><td>Government of Afghanistan</td><td>303            </td><td>Taleban  </td><td>Interior Ministry, governor’s spokesman, resident  </td><td>Abjosh Bala village                      </td><td>Ab Josh area of Charkh district of Logar province  </td><td>Logar province   </td><td>33.8471   </td><td>68.8296    </td><td>178338        </td><td>Afghanistan</td><td>Asia    </td><td>0                </td><td>0.0                 </td><td>2.65             </td><td>0.0               </td><td>5.0        </td><td>0.0                          </td><td>6.57              </td><td>8.2                                   </td><td>8.0              </td><td>55.0                     </td><td>14.39          </td><td>60.0                       </td><td>4.36         </td><td>2.55             </td><td>11.5             </td><td>0.0                   </td><td>0.0                      </td><td>0.0                     </td><td>0.0            </td><td>Xinhua News Agency     </td><td>2                        </td></tr>\n",
       "<tr><td><i style='opacity: 0.6'>4</i>      </td><td>237882</td><td>2017  </td><td>Part of an Ongoing Conflict</td><td>State-Based Conflict</td><td>333              </td><td>Afghanistan: Government            </td><td>735          </td><td>Government of Afghanistan - Taleban</td><td>130            </td><td>Government of Afghanistan</td><td>303            </td><td>Taleban  </td><td>&#x27;administrative chief of Marja district, Militar...</td><td>Marja town                               </td><td>Marja district centre, Hilmand                     </td><td>Hilmand province </td><td>31.521994 </td><td>64.118492  </td><td>175449        </td><td>Afghanistan</td><td>Asia    </td><td>0                </td><td>0.0                 </td><td>2.65             </td><td>0.0               </td><td>5.0        </td><td>0.0                          </td><td>6.57              </td><td>8.2                                   </td><td>8.0              </td><td>55.0                     </td><td>14.39          </td><td>60.0                       </td><td>4.36         </td><td>2.55             </td><td>11.5             </td><td>0.0                   </td><td>0.0                      </td><td>0.0                     </td><td>0.0            </td><td>Pajhwok News           </td><td>0                        </td></tr>\n",
       "<tr><td>...                                </td><td>...   </td><td>...   </td><td>...                        </td><td>...                 </td><td>...              </td><td>...                                </td><td>...          </td><td>...                                </td><td>...            </td><td>...                      </td><td>...            </td><td>...      </td><td>...                                                </td><td>...                                      </td><td>...                                                </td><td>...              </td><td>...       </td><td>...        </td><td>...           </td><td>...        </td><td>...     </td><td>...              </td><td>...                 </td><td>...              </td><td>...               </td><td>...        </td><td>...                          </td><td>...               </td><td>...                                   </td><td>...              </td><td>...                      </td><td>...            </td><td>...                        </td><td>...          </td><td>...              </td><td>...              </td><td>...                   </td><td>...                      </td><td>...                     </td><td>...            </td><td>...                    </td><td>...                      </td></tr>\n",
       "<tr><td><i style='opacity: 0.6'>168,349</i></td><td>335285</td><td>2019  </td><td>Isolated Incident          </td><td>One-Sided Violence  </td><td>447              </td><td>Government of Venezuela - Civilians</td><td>914          </td><td>Government of Venezuela - Civilians</td><td>18             </td><td>Government of Venezuela  </td><td>1              </td><td>Civilians</td><td>residents                                          </td><td>Caracas city                             </td><td>&quot;Jose Felix Ribas, a district within Caracas&#x27; sp...</td><td>Distrito Capital </td><td>10.488011 </td><td>-66.879193 </td><td>144227        </td><td>Venezuela  </td><td>Americas</td><td>0                </td><td>26.04               </td><td>-1.27            </td><td>13.98             </td><td>188.3      </td><td>0.04                         </td><td>7.12              </td><td>6.1                                   </td><td>232.79           </td><td>5.0                      </td><td>38.29          </td><td>28.0                       </td><td>0.0          </td><td>-1.66            </td><td>3.51             </td><td>302.81                </td><td>18.23                    </td><td>876.82                  </td><td>-9.72          </td><td>Reuters News           </td><td>0                        </td></tr>\n",
       "<tr><td><i style='opacity: 0.6'>168,350</i></td><td>335286</td><td>2019  </td><td>Isolated Incident          </td><td>One-Sided Violence  </td><td>447              </td><td>Government of Venezuela - Civilians</td><td>914          </td><td>Government of Venezuela - Civilians</td><td>18             </td><td>Government of Venezuela  </td><td>1              </td><td>Civilians</td><td>Witnesses                                          </td><td>Carora town                              </td><td>Carora town                                        </td><td>Lara state       </td><td>10.172834 </td><td>-70.081003 </td><td>144220        </td><td>Venezuela  </td><td>Americas</td><td>0                </td><td>26.04               </td><td>-1.27            </td><td>13.98             </td><td>188.3      </td><td>0.04                         </td><td>7.12              </td><td>6.1                                   </td><td>232.79           </td><td>5.0                      </td><td>38.29          </td><td>28.0                       </td><td>0.0          </td><td>-1.66            </td><td>3.51             </td><td>302.81                </td><td>18.23                    </td><td>876.82                  </td><td>-9.72          </td><td>Amnesty                </td><td>0                        </td></tr>\n",
       "<tr><td><i style='opacity: 0.6'>168,351</i></td><td>285541</td><td>2019  </td><td>Isolated Incident          </td><td>One-Sided Violence  </td><td>606              </td><td>ELN - Civilians                    </td><td>1073         </td><td>ELN - Civilians                    </td><td>744            </td><td>ELN                      </td><td>1              </td><td>Civilians</td><td>El Nacional Online                                 </td><td>Ureña town                               </td><td>&#x27;Urena and La Fria (Tachira), located on the Col...</td><td>Táchira state    </td><td>7.91689   </td><td>-72.44188  </td><td>140616        </td><td>Venezuela  </td><td>Americas</td><td>1                </td><td>26.04               </td><td>-1.27            </td><td>13.98             </td><td>188.3      </td><td>0.04                         </td><td>7.12              </td><td>6.1                                   </td><td>232.79           </td><td>5.0                      </td><td>38.29          </td><td>28.0                       </td><td>0.0          </td><td>-1.66            </td><td>3.51             </td><td>302.81                </td><td>18.23                    </td><td>876.82                  </td><td>-9.72          </td><td>BBC Monitoring Americas</td><td>1                        </td></tr>\n",
       "<tr><td><i style='opacity: 0.6'>168,352</i></td><td>285542</td><td>2019  </td><td>Isolated Incident          </td><td>One-Sided Violence  </td><td>606              </td><td>ELN - Civilians                    </td><td>1073         </td><td>ELN - Civilians                    </td><td>744            </td><td>ELN                      </td><td>1              </td><td>Civilians</td><td>El Nacional Online                                 </td><td>La Fría town                             </td><td>&#x27;Urena and La Fria (Tachira), located on the Col...</td><td>Táchira state    </td><td>8.21523   </td><td>-72.24888  </td><td>141336        </td><td>Venezuela  </td><td>Americas</td><td>1                </td><td>26.04               </td><td>-1.27            </td><td>13.98             </td><td>188.3      </td><td>0.04                         </td><td>7.12              </td><td>6.1                                   </td><td>232.79           </td><td>5.0                      </td><td>38.29          </td><td>28.0                       </td><td>0.0          </td><td>-1.66            </td><td>3.51             </td><td>302.81                </td><td>18.23                    </td><td>876.82                  </td><td>-9.72          </td><td>BBC Monitoring Americas</td><td>0                        </td></tr>\n",
       "<tr><td><i style='opacity: 0.6'>168,353</i></td><td>349290</td><td>2020  </td><td>Isolated Incident          </td><td>One-Sided Violence  </td><td>447              </td><td>Government of Venezuela - Civilians</td><td>914          </td><td>Government of Venezuela - Civilians</td><td>18             </td><td>Government of Venezuela  </td><td>1              </td><td>Civilians</td><td>No Source Specified                                </td><td>Aragua de Barcelona town                 </td><td>&#x27;in the town of Aragua de Barcelona, in eastern ...</td><td>Anzoátegui state </td><td>9.45588   </td><td>-64.82928  </td><td>142791        </td><td>Venezuela  </td><td>Americas</td><td>0                </td><td>26.04               </td><td>-1.27            </td><td>13.98             </td><td>188.3      </td><td>0.04                         </td><td>7.05              </td><td>6.4                                   </td><td>304.13           </td><td>5.0                      </td><td>38.29          </td><td>28.0                       </td><td>0.0          </td><td>-1.66            </td><td>3.51             </td><td>302.81                </td><td>18.23                    </td><td>527.06                  </td><td>-9.72          </td><td>Reuters News           </td><td>0                        </td></tr>\n",
       "</tbody>\n",
       "</table>"
      ],
      "text/plain": [
       "#        id      year    active_year                  type_of_violence      conflict_new_id    conflict_name                        dyad_new_id    dyad_name                            side_a_new_id    side_a                     side_b_new_id    side_b     source_original                                      where_coordinates                          where_description                                    adm_1              latitude    longitude    priogrid_gid    country      region    conflict_length    capital_investment    economic_growth    savings_pcnt_gdp    inflation    pcnt_world_tourist_arrivals    death_rate_p1000    human_flight_brain_drain_index_score    government_debt    inv_freedom_index_score    external_debt    labor_freedom_index_score    remittances    pop_growth_pcnt    banking_z_score    oil_reserves_barrels    pcnt_world_oil_reserves    oil_prod_barrels_daily    trade_balance    media_org_source         incident_classification\n",
       "0        244657  2017    Part of an Ongoing Conflict  State-Based Conflict  259                Iraq: Government                     524            Government of Iraq - IS              116              Government of Iraq         234              IS         IS, interior ministry, security source               Kabul city                                 Iraqi embassy in Kabul                               Kabul province     34.531094   69.162796    179779          Afghanistan  Asia      0                  0.0                   2.65               0.0                 5.0          0.0                            6.57                8.2                                     8.0                55.0                       14.39            60.0                         4.36           2.55               11.5               0.0                     0.0                        0.0                       0.0              Agence France Presse     1\n",
       "1        233552  2017    Part of an Ongoing Conflict  State-Based Conflict  333                Afghanistan: Government              735            Government of Afghanistan - Taleban  130              Government of Afghanistan  303              Taleban    provincial governor, Taleban                         Taghaye Khwajasufla village                'Taghai-Khwaj and Tabir localities of Sangcharak...  Sari Pul province  35.9654     66.3691      181213          Afghanistan  Asia      0                  0.0                   2.65               0.0                 5.0          0.0                            6.57                8.2                                     8.0                55.0                       14.39            60.0                         4.36           2.55               11.5               0.0                     0.0                        0.0                       0.0              Xinhua News Agency       1\n",
       "2        233553  2017    Part of an Ongoing Conflict  State-Based Conflict  333                Afghanistan: Government              735            Government of Afghanistan - Taleban  130              Government of Afghanistan  303              Taleban    provincial governor                                  Sari Pul-Jawzjan road (Sari Pul province)  'a road connecting Saripul to the neighboring Ja...  Sari Pul province  36.306238   65.890063    181932          Afghanistan  Asia      0                  0.0                   2.65               0.0                 5.0          0.0                            6.57                8.2                                     8.0                55.0                       14.39            60.0                         4.36           2.55               11.5               0.0                     0.0                        0.0                       0.0              Xinhua News Agency       1\n",
       "3        233554  2017    Part of an Ongoing Conflict  State-Based Conflict  333                Afghanistan: Government              735            Government of Afghanistan - Taleban  130              Government of Afghanistan  303              Taleban    Interior Ministry, governor’s spokesman, resident    Abjosh Bala village                        Ab Josh area of Charkh district of Logar province    Logar province     33.8471     68.8296      178338          Afghanistan  Asia      0                  0.0                   2.65               0.0                 5.0          0.0                            6.57                8.2                                     8.0                55.0                       14.39            60.0                         4.36           2.55               11.5               0.0                     0.0                        0.0                       0.0              Xinhua News Agency       2\n",
       "4        237882  2017    Part of an Ongoing Conflict  State-Based Conflict  333                Afghanistan: Government              735            Government of Afghanistan - Taleban  130              Government of Afghanistan  303              Taleban    'administrative chief of Marja district, Militar...  Marja town                                 Marja district centre, Hilmand                       Hilmand province   31.521994   64.118492    175449          Afghanistan  Asia      0                  0.0                   2.65               0.0                 5.0          0.0                            6.57                8.2                                     8.0                55.0                       14.39            60.0                         4.36           2.55               11.5               0.0                     0.0                        0.0                       0.0              Pajhwok News             0\n",
       "...      ...     ...     ...                          ...                   ...                ...                                  ...            ...                                  ...              ...                        ...              ...        ...                                                  ...                                        ...                                                  ...                ...         ...          ...             ...          ...       ...                ...                   ...                ...                 ...          ...                            ...                 ...                                     ...                ...                        ...              ...                          ...            ...                ...                ...                     ...                        ...                       ...              ...                      ...\n",
       "168,349  335285  2019    Isolated Incident            One-Sided Violence    447                Government of Venezuela - Civilians  914            Government of Venezuela - Civilians  18               Government of Venezuela    1                Civilians  residents                                            Caracas city                               \"Jose Felix Ribas, a district within Caracas' sp...  Distrito Capital   10.488011   -66.879193   144227          Venezuela    Americas  0                  26.04                 -1.27              13.98               188.3        0.04                           7.12                6.1                                     232.79             5.0                        38.29            28.0                         0.0            -1.66              3.51               302.81                  18.23                      876.82                    -9.72            Reuters News             0\n",
       "168,350  335286  2019    Isolated Incident            One-Sided Violence    447                Government of Venezuela - Civilians  914            Government of Venezuela - Civilians  18               Government of Venezuela    1                Civilians  Witnesses                                            Carora town                                Carora town                                          Lara state         10.172834   -70.081003   144220          Venezuela    Americas  0                  26.04                 -1.27              13.98               188.3        0.04                           7.12                6.1                                     232.79             5.0                        38.29            28.0                         0.0            -1.66              3.51               302.81                  18.23                      876.82                    -9.72            Amnesty                  0\n",
       "168,351  285541  2019    Isolated Incident            One-Sided Violence    606                ELN - Civilians                      1073           ELN - Civilians                      744              ELN                        1                Civilians  El Nacional Online                                   Ureña town                                 'Urena and La Fria (Tachira), located on the Col...  Táchira state      7.91689     -72.44188    140616          Venezuela    Americas  1                  26.04                 -1.27              13.98               188.3        0.04                           7.12                6.1                                     232.79             5.0                        38.29            28.0                         0.0            -1.66              3.51               302.81                  18.23                      876.82                    -9.72            BBC Monitoring Americas  1\n",
       "168,352  285542  2019    Isolated Incident            One-Sided Violence    606                ELN - Civilians                      1073           ELN - Civilians                      744              ELN                        1                Civilians  El Nacional Online                                   La Fría town                               'Urena and La Fria (Tachira), located on the Col...  Táchira state      8.21523     -72.24888    141336          Venezuela    Americas  1                  26.04                 -1.27              13.98               188.3        0.04                           7.12                6.1                                     232.79             5.0                        38.29            28.0                         0.0            -1.66              3.51               302.81                  18.23                      876.82                    -9.72            BBC Monitoring Americas  0\n",
       "168,353  349290  2020    Isolated Incident            One-Sided Violence    447                Government of Venezuela - Civilians  914            Government of Venezuela - Civilians  18               Government of Venezuela    1                Civilians  No Source Specified                                  Aragua de Barcelona town                   'in the town of Aragua de Barcelona, in eastern ...  Anzoátegui state   9.45588     -64.82928    142791          Venezuela    Americas  0                  26.04                 -1.27              13.98               188.3        0.04                           7.05                6.4                                     304.13             5.0                        38.29            28.0                         0.0            -1.66              3.51               302.81                  18.23                      527.06                    -9.72            Reuters News             0"
      ]
     },
     "execution_count": 7,
     "metadata": {},
     "output_type": "execute_result"
    }
   ],
   "source": [
    "vaex_df.drop('deaths_unknown', inplace=True)"
   ]
  },
  {
   "cell_type": "code",
   "execution_count": 8,
   "id": "3b816f6f",
   "metadata": {},
   "outputs": [
    {
     "name": "stderr",
     "output_type": "stream",
     "text": [
      "C:\\ProgramData\\Anaconda3\\lib\\site-packages\\vaex\\ml\\__init__.py:31: UserWarning: Make sure the DataFrame is shuffled\n",
      "  warnings.warn('Make sure the DataFrame is shuffled')\n"
     ]
    }
   ],
   "source": [
    "## Shuffling the data to ensure randomly fed into model\n",
    "vaex_df.shuffle().export(\"vaex_shuffled.hdf5\")\n",
    "vaex_df = vaex.open(\"vaex_shuffled.hdf5\")\n",
    "vaex_train, vaex_test = vaex_df.ml.train_test_split(test_size=0.2)"
   ]
  },
  {
   "cell_type": "markdown",
   "id": "a89e5efc",
   "metadata": {},
   "source": [
    "### Encoding Categorical Variables & Model 1"
   ]
  },
  {
   "cell_type": "markdown",
   "id": "9061489e",
   "metadata": {},
   "source": [
    "One of the challenges the dataset presented with modelling was the number of categorical variables, but more specifically the cardinality of the variables. Using One Hot Encoder very quickly lead to an unmanagably large feature space, so where possible I used the frequency and label encoders."
   ]
  },
  {
   "cell_type": "markdown",
   "id": "bb6b23ab",
   "metadata": {},
   "source": [
    "##### Encoding Train Data"
   ]
  },
  {
   "cell_type": "code",
   "execution_count": 9,
   "id": "946a5135",
   "metadata": {},
   "outputs": [],
   "source": [
    "frequency_encoder = vaex.ml.FrequencyEncoder(features=['conflict_name', 'dyad_name', 'side_a', 'side_b', 'source_original', 'where_coordinates', 'where_description', 'adm_1', 'country', 'media_org_source'], allow_unseen=True)\n",
    "vaex_train = frequency_encoder.fit_transform(vaex_train)"
   ]
  },
  {
   "cell_type": "code",
   "execution_count": 10,
   "id": "039087d2",
   "metadata": {},
   "outputs": [],
   "source": [
    "label_encoder = vaex.ml.LabelEncoder(features=['active_year', 'type_of_violence', 'region'])\n",
    "vaex_train = label_encoder.fit_transform(vaex_train)"
   ]
  },
  {
   "cell_type": "markdown",
   "id": "6d945e95",
   "metadata": {},
   "source": [
    "##### Encoding Test Data"
   ]
  },
  {
   "cell_type": "code",
   "execution_count": 11,
   "id": "ec9b3fbd",
   "metadata": {},
   "outputs": [],
   "source": [
    "frequency_encoder = vaex.ml.FrequencyEncoder(features=['conflict_name', 'dyad_name', 'side_a', 'side_b', 'source_original', 'where_coordinates', 'where_description', 'adm_1', 'country', 'media_org_source'], allow_unseen=True)\n",
    "vaex_test = frequency_encoder.fit_transform(vaex_test)"
   ]
  },
  {
   "cell_type": "code",
   "execution_count": 12,
   "id": "867460c3",
   "metadata": {},
   "outputs": [],
   "source": [
    "label_encoder = vaex.ml.LabelEncoder(features=['active_year', 'type_of_violence', 'region'])\n",
    "vaex_test = label_encoder.fit_transform(vaex_test)"
   ]
  },
  {
   "cell_type": "markdown",
   "id": "fb1ccfc8",
   "metadata": {},
   "source": [
    "##### Specify Predictors\n",
    "\n",
    "Vaex follows a slightly different structure for modelling, where you split a core dataset into a test and train set, keeping X and Y in same frame, but then when creating the actual model you specify the feature columns and the target column to be used from the train and test set."
   ]
  },
  {
   "cell_type": "code",
   "execution_count": 13,
   "id": "0aa46d9c",
   "metadata": {},
   "outputs": [
    {
     "data": {
      "text/html": [
       "<style>.vaex-description pre {\n",
       "          max-width : 450px;\n",
       "          white-space : nowrap;\n",
       "          overflow : hidden;\n",
       "          text-overflow: ellipsis;\n",
       "        }\n",
       "\n",
       "        .vex-description pre:hover {\n",
       "          max-width : initial;\n",
       "          white-space: pre;\n",
       "        }</style>"
      ],
      "text/plain": [
       "<IPython.core.display.HTML object>"
      ]
     },
     "metadata": {},
     "output_type": "display_data"
    },
    {
     "data": {
      "text/html": [
       "<div><h2>no-name</h2> <b>rows</b>: 134,683</div><h2>Columns:</h2><table class='table-striped'><thead><tr><th>column</th><th>type</th><th>unit</th><th>description</th><th>expression</th></tr></thead><tr><td>id</td><td>int64</td><td></td><td ><pre></pre></td><td></td></tr><tr><td>year</td><td>int64</td><td></td><td ><pre></pre></td><td></td></tr><tr><td>active_year</td><td>str</td><td></td><td ><pre></pre></td><td></td></tr><tr><td>type_of_violence</td><td>str</td><td></td><td ><pre></pre></td><td></td></tr><tr><td>conflict_new_id</td><td>int64</td><td></td><td ><pre></pre></td><td></td></tr><tr><td>conflict_name</td><td>str</td><td></td><td ><pre></pre></td><td></td></tr><tr><td>dyad_new_id</td><td>int64</td><td></td><td ><pre></pre></td><td></td></tr><tr><td>dyad_name</td><td>str</td><td></td><td ><pre></pre></td><td></td></tr><tr><td>side_a_new_id</td><td>int64</td><td></td><td ><pre></pre></td><td></td></tr><tr><td>side_a</td><td>str</td><td></td><td ><pre></pre></td><td></td></tr><tr><td>side_b_new_id</td><td>int64</td><td></td><td ><pre></pre></td><td></td></tr><tr><td>side_b</td><td>str</td><td></td><td ><pre></pre></td><td></td></tr><tr><td>source_original</td><td>str</td><td></td><td ><pre></pre></td><td></td></tr><tr><td>where_coordinates</td><td>str</td><td></td><td ><pre></pre></td><td></td></tr><tr><td>where_description</td><td>str</td><td></td><td ><pre></pre></td><td></td></tr><tr><td>adm_1</td><td>str</td><td></td><td ><pre></pre></td><td></td></tr><tr><td>latitude</td><td>float64</td><td></td><td ><pre></pre></td><td></td></tr><tr><td>longitude</td><td>float64</td><td></td><td ><pre></pre></td><td></td></tr><tr><td>priogrid_gid</td><td>int64</td><td></td><td ><pre></pre></td><td></td></tr><tr><td>country</td><td>str</td><td></td><td ><pre></pre></td><td></td></tr><tr><td>region</td><td>str</td><td></td><td ><pre></pre></td><td></td></tr><tr><td>conflict_length</td><td>int64</td><td></td><td ><pre></pre></td><td></td></tr><tr><td>capital_investment</td><td>float64</td><td></td><td ><pre></pre></td><td></td></tr><tr><td>economic_growth</td><td>float64</td><td></td><td ><pre></pre></td><td></td></tr><tr><td>savings_pcnt_gdp</td><td>float64</td><td></td><td ><pre></pre></td><td></td></tr><tr><td>inflation</td><td>float64</td><td></td><td ><pre></pre></td><td></td></tr><tr><td>pcnt_world_tourist_arrivals</td><td>float64</td><td></td><td ><pre></pre></td><td></td></tr><tr><td>death_rate_p1000</td><td>float64</td><td></td><td ><pre></pre></td><td></td></tr><tr><td>human_flight_brain_drain_index_score</td><td>float64</td><td></td><td ><pre></pre></td><td></td></tr><tr><td>government_debt</td><td>float64</td><td></td><td ><pre></pre></td><td></td></tr><tr><td>inv_freedom_index_score</td><td>float64</td><td></td><td ><pre></pre></td><td></td></tr><tr><td>external_debt</td><td>float64</td><td></td><td ><pre></pre></td><td></td></tr><tr><td>labor_freedom_index_score</td><td>float64</td><td></td><td ><pre></pre></td><td></td></tr><tr><td>remittances</td><td>float64</td><td></td><td ><pre></pre></td><td></td></tr><tr><td>pop_growth_pcnt</td><td>float64</td><td></td><td ><pre></pre></td><td></td></tr><tr><td>banking_z_score</td><td>float64</td><td></td><td ><pre></pre></td><td></td></tr><tr><td>oil_reserves_barrels</td><td>float64</td><td></td><td ><pre></pre></td><td></td></tr><tr><td>pcnt_world_oil_reserves</td><td>float64</td><td></td><td ><pre></pre></td><td></td></tr><tr><td>oil_prod_barrels_daily</td><td>float64</td><td></td><td ><pre></pre></td><td></td></tr><tr><td>trade_balance</td><td>float64</td><td></td><td ><pre></pre></td><td></td></tr><tr><td>media_org_source</td><td>str</td><td></td><td ><pre></pre></td><td></td></tr><tr><td>incident_classification</td><td>int64</td><td></td><td ><pre></pre></td><td></td></tr><tr><td>frequency_encoded_conflict_name</td><td></i>virtual column</i></td><td></td><td ><pre></pre></td><td><code>_map(conflict_name, map_key_set, map_choices, use_missing=True, axis=None)</code></td></tr><tr><td>frequency_encoded_dyad_name</td><td></i>virtual column</i></td><td></td><td ><pre></pre></td><td><code>_map(dyad_name, map_key_set_1, map_choices_1, use_missing=True, axis=None)</code></td></tr><tr><td>frequency_encoded_side_a</td><td></i>virtual column</i></td><td></td><td ><pre></pre></td><td><code>_map(side_a, map_key_set_2, map_choices_2, use_missing=True, axis=None)</code></td></tr><tr><td>frequency_encoded_side_b</td><td></i>virtual column</i></td><td></td><td ><pre></pre></td><td><code>_map(side_b, map_key_set_3, map_choices_3, use_missing=True, axis=None)</code></td></tr><tr><td>frequency_encoded_source_original</td><td></i>virtual column</i></td><td></td><td ><pre></pre></td><td><code>_map(source_original, map_key_set_4, map_choices_4, use_missing=True, axis=None)</code></td></tr><tr><td>frequency_encoded_where_coordinates</td><td></i>virtual column</i></td><td></td><td ><pre></pre></td><td><code>_map(where_coordinates, map_key_set_5, map_choices_5, use_missing=True, axis=None)</code></td></tr><tr><td>frequency_encoded_where_description</td><td></i>virtual column</i></td><td></td><td ><pre></pre></td><td><code>_map(where_description, map_key_set_6, map_choices_6, use_missing=True, axis=None)</code></td></tr><tr><td>frequency_encoded_adm_1</td><td></i>virtual column</i></td><td></td><td ><pre></pre></td><td><code>_map(adm_1, map_key_set_7, map_choices_7, use_missing=True, axis=None)</code></td></tr><tr><td>frequency_encoded_country</td><td></i>virtual column</i></td><td></td><td ><pre></pre></td><td><code>_map(country, map_key_set_8, map_choices_8, use_missing=True, axis=None)</code></td></tr><tr><td>frequency_encoded_media_org_source</td><td></i>virtual column</i></td><td></td><td ><pre></pre></td><td><code>_map(media_org_source, map_key_set_9, map_choices_9, use_missing=True, axis=None)</code></td></tr><tr><td>label_encoded_active_year</td><td></i>virtual column</i></td><td></td><td ><pre></pre></td><td><code>_map(active_year, map_key_set_10, map_choices_10, axis=None)</code></td></tr><tr><td>label_encoded_type_of_violence</td><td></i>virtual column</i></td><td></td><td ><pre></pre></td><td><code>_map(type_of_violence, map_key_set_11, map_choices_11, axis=None)</code></td></tr><tr><td>label_encoded_region</td><td></i>virtual column</i></td><td></td><td ><pre></pre></td><td><code>_map(region, map_key_set_12, map_choices_12, axis=None)</code></td></tr></table><h2>Variables:</h2><table class='table-striped'><thead><tr><th>variable</th><th>type</th><th>unit</th><th>description</th><th>expression</th></tr></thead><tr><td>map_key_set</td><td><class 'type'></td><td>$\\mathrm{}$</td><td ><pre></pre></td><td><code><vaex.superutils.ordered_set_string object at 0x00000246F4862EB0></code></td></tr><tr><td>map_choices</td><td><class 'type'></td><td>$\\mathrm{}$</td><td ><pre></pre></td><td><code>[\n",
       "  nan,\n",
       "  nan,\n",
       "  0.35023,\n",
       "  0.174617,\n",
       "  0.0297439,\n",
       "  0.0237224,\n",
       "  0.0234031,\n",
       "  0.0225121,\n",
       "  0.0189927,\n",
       "  0.0183022,\n",
       "  ...\n",
       "  7.42484e-06,\n",
       "  7.42484e-06,\n",
       "  7.42484e-06,\n",
       "  7.42484e-06,\n",
       "  7.42484e-06,\n",
       "  7.42484e-06,\n",
       "  7.42484e-06,\n",
       "  7.42484e-06,\n",
       "  7.42484e-06,\n",
       "  7.42484e-06\n",
       "]</code></td></tr><tr><td>map_key_set_1</td><td><class 'type'></td><td>$\\mathrm{}$</td><td ><pre></pre></td><td><code><vaex.superutils.ordered_set_string object at 0x00000246F38318F0></code></td></tr><tr><td>map_choices_1</td><td><class 'type'></td><td>$\\mathrm{}$</td><td ><pre></pre></td><td><code>[\n",
       "  nan,\n",
       "  nan,\n",
       "  0.35023,\n",
       "  0.174038,\n",
       "  0.0297439,\n",
       "  0.0224676,\n",
       "  0.0216805,\n",
       "  0.0214801,\n",
       "  0.0189927,\n",
       "  0.0183022,\n",
       "  ...\n",
       "  7.42484e-06,\n",
       "  7.42484e-06,\n",
       "  7.42484e-06,\n",
       "  7.42484e-06,\n",
       "  7.42484e-06,\n",
       "  7.42484e-06,\n",
       "  7.42484e-06,\n",
       "  7.42484e-06,\n",
       "  7.42484e-06,\n",
       "  7.42484e-06\n",
       "]</code></td></tr><tr><td>map_key_set_2</td><td><class 'type'></td><td>$\\mathrm{}$</td><td ><pre></pre></td><td><code><vaex.superutils.ordered_set_string object at 0x00000246808DB270></code></td></tr><tr><td>map_choices_2</td><td><class 'type'></td><td>$\\mathrm{}$</td><td ><pre></pre></td><td><code>[\n",
       "  nan,\n",
       "  nan,\n",
       "  0.391995,\n",
       "  0.18401,\n",
       "  0.049687,\n",
       "  0.0281179,\n",
       "  0.0249549,\n",
       "  0.0243089,\n",
       "  0.0239228,\n",
       "  0.0182874,\n",
       "  ...\n",
       "  7.42484e-06,\n",
       "  7.42484e-06,\n",
       "  7.42484e-06,\n",
       "  7.42484e-06,\n",
       "  7.42484e-06,\n",
       "  7.42484e-06,\n",
       "  7.42484e-06,\n",
       "  7.42484e-06,\n",
       "  7.42484e-06,\n",
       "  7.42484e-06\n",
       "]</code></td></tr><tr><td>map_key_set_3</td><td><class 'type'></td><td>$\\mathrm{}$</td><td ><pre></pre></td><td><code><vaex.superutils.ordered_set_string object at 0x00000246808C83F0></code></td></tr><tr><td>map_choices_3</td><td><class 'type'></td><td>$\\mathrm{}$</td><td ><pre></pre></td><td><code>[\n",
       "  nan,\n",
       "  nan,\n",
       "  0.35023,\n",
       "  0.175152,\n",
       "  0.0968571,\n",
       "  0.0863138,\n",
       "  0.0255637,\n",
       "  0.023069,\n",
       "  0.0227571,\n",
       "  0.0220741,\n",
       "  ...\n",
       "  7.42484e-06,\n",
       "  7.42484e-06,\n",
       "  7.42484e-06,\n",
       "  7.42484e-06,\n",
       "  7.42484e-06,\n",
       "  7.42484e-06,\n",
       "  7.42484e-06,\n",
       "  7.42484e-06,\n",
       "  7.42484e-06,\n",
       "  7.42484e-06\n",
       "]</code></td></tr><tr><td>map_key_set_4</td><td><class 'type'></td><td>$\\mathrm{}$</td><td ><pre></pre></td><td><code><vaex.superutils.ordered_set_string object at 0x0000024681108BB0></code></td></tr><tr><td>map_choices_4</td><td><class 'type'></td><td>$\\mathrm{}$</td><td ><pre></pre></td><td><code>[\n",
       "  nan,\n",
       "  nan,\n",
       "  0.220919,\n",
       "  0.118434,\n",
       "  0.0633488,\n",
       "  0.032209,\n",
       "  0.0313997,\n",
       "  0.0234774,\n",
       "  0.0188814,\n",
       "  0.0148942,\n",
       "  ...\n",
       "  7.42484e-06,\n",
       "  7.42484e-06,\n",
       "  7.42484e-06,\n",
       "  7.42484e-06,\n",
       "  7.42484e-06,\n",
       "  7.42484e-06,\n",
       "  7.42484e-06,\n",
       "  7.42484e-06,\n",
       "  7.42484e-06,\n",
       "  7.42484e-06\n",
       "]</code></td></tr><tr><td>map_key_set_5</td><td><class 'type'></td><td>$\\mathrm{}$</td><td ><pre></pre></td><td><code><vaex.superutils.ordered_set_string object at 0x00000246809BC030></code></td></tr><tr><td>map_choices_5</td><td><class 'type'></td><td>$\\mathrm{}$</td><td ><pre></pre></td><td><code>[\n",
       "  nan,\n",
       "  nan,\n",
       "  0.0248509,\n",
       "  0.0199134,\n",
       "  0.0105656,\n",
       "  0.00852372,\n",
       "  0.00852372,\n",
       "  0.00818218,\n",
       "  0.00814505,\n",
       "  0.00743227,\n",
       "  ...\n",
       "  7.42484e-06,\n",
       "  7.42484e-06,\n",
       "  7.42484e-06,\n",
       "  7.42484e-06,\n",
       "  7.42484e-06,\n",
       "  7.42484e-06,\n",
       "  7.42484e-06,\n",
       "  7.42484e-06,\n",
       "  7.42484e-06,\n",
       "  7.42484e-06\n",
       "]</code></td></tr><tr><td>map_key_set_6</td><td><class 'type'></td><td>$\\mathrm{}$</td><td ><pre></pre></td><td><code><vaex.superutils.ordered_set_string object at 0x00000246814682B0></code></td></tr><tr><td>map_choices_6</td><td><class 'type'></td><td>$\\mathrm{}$</td><td ><pre></pre></td><td><code>[\n",
       "  nan,\n",
       "  nan,\n",
       "  0.00593245,\n",
       "  0.004841,\n",
       "  0.00377182,\n",
       "  0.0036159,\n",
       "  0.00359362,\n",
       "  0.00311101,\n",
       "  0.002569,\n",
       "  0.00255415,\n",
       "  ...\n",
       "  7.42484e-06,\n",
       "  7.42484e-06,\n",
       "  7.42484e-06,\n",
       "  7.42484e-06,\n",
       "  7.42484e-06,\n",
       "  7.42484e-06,\n",
       "  7.42484e-06,\n",
       "  7.42484e-06,\n",
       "  7.42484e-06,\n",
       "  7.42484e-06\n",
       "]</code></td></tr><tr><td>map_key_set_7</td><td><class 'type'></td><td>$\\mathrm{}$</td><td ><pre></pre></td><td><code><vaex.superutils.ordered_set_string object at 0x0000024681468BF0></code></td></tr><tr><td>map_choices_7</td><td><class 'type'></td><td>$\\mathrm{}$</td><td ><pre></pre></td><td><code>[\n",
       "  nan,\n",
       "  nan,\n",
       "  0.0947633,\n",
       "  0.0836854,\n",
       "  0.0520259,\n",
       "  0.0437026,\n",
       "  0.0433834,\n",
       "  0.0363669,\n",
       "  0.0334638,\n",
       "  0.0238931,\n",
       "  ...\n",
       "  7.42484e-06,\n",
       "  7.42484e-06,\n",
       "  7.42484e-06,\n",
       "  7.42484e-06,\n",
       "  7.42484e-06,\n",
       "  7.42484e-06,\n",
       "  7.42484e-06,\n",
       "  7.42484e-06,\n",
       "  7.42484e-06,\n",
       "  7.42484e-06\n",
       "]</code></td></tr><tr><td>map_key_set_8</td><td><class 'type'></td><td>$\\mathrm{}$</td><td ><pre></pre></td><td><code><vaex.superutils.ordered_set_string object at 0x00000246809B23F0></code></td></tr><tr><td>map_choices_8</td><td><class 'type'></td><td>$\\mathrm{}$</td><td ><pre></pre></td><td><code>[\n",
       "  nan,\n",
       "  nan,\n",
       "  0.452099,\n",
       "  0.19217,\n",
       "  0.0432571,\n",
       "  0.0401313,\n",
       "  0.0333895,\n",
       "  0.0297662,\n",
       "  0.0283258,\n",
       "  0.0281105,\n",
       "  ...\n",
       "  1.48497e-05,\n",
       "  1.48497e-05,\n",
       "  1.48497e-05,\n",
       "  1.48497e-05,\n",
       "  7.42484e-06,\n",
       "  7.42484e-06,\n",
       "  7.42484e-06,\n",
       "  7.42484e-06,\n",
       "  7.42484e-06,\n",
       "  7.42484e-06\n",
       "]</code></td></tr><tr><td>map_key_set_9</td><td><class 'type'></td><td>$\\mathrm{}$</td><td ><pre></pre></td><td><code><vaex.superutils.ordered_set_string object at 0x0000024683E555F0></code></td></tr><tr><td>map_choices_9</td><td><class 'type'></td><td>$\\mathrm{}$</td><td ><pre></pre></td><td><code>[\n",
       "  nan,\n",
       "  nan,\n",
       "  2.96994e-05,\n",
       "  0.263478,\n",
       "  0.121715,\n",
       "  0.0369386,\n",
       "  0.036055,\n",
       "  0.0359288,\n",
       "  0.0234477,\n",
       "  0.0219998,\n",
       "  ...\n",
       "  7.42484e-06,\n",
       "  7.42484e-06,\n",
       "  7.42484e-06,\n",
       "  7.42484e-06,\n",
       "  7.42484e-06,\n",
       "  7.42484e-06,\n",
       "  7.42484e-06,\n",
       "  7.42484e-06,\n",
       "  7.42484e-06,\n",
       "  7.42484e-06\n",
       "]</code></td></tr><tr><td>map_key_set_10</td><td><class 'type'></td><td>$\\mathrm{}$</td><td ><pre></pre></td><td><code><vaex.superutils.ordered_set_string object at 0x00000246F9E87EF0></code></td></tr><tr><td>map_choices_10</td><td><class 'type'></td><td>$\\mathrm{}$</td><td ><pre></pre></td><td><code>[\n",
       "  null,\n",
       "  null,\n",
       "  0,\n",
       "  1\n",
       "]</code></td></tr><tr><td>map_key_set_11</td><td><class 'type'></td><td>$\\mathrm{}$</td><td ><pre></pre></td><td><code><vaex.superutils.ordered_set_string object at 0x00000246F3755FB0></code></td></tr><tr><td>map_choices_11</td><td><class 'type'></td><td>$\\mathrm{}$</td><td ><pre></pre></td><td><code>[\n",
       "  null,\n",
       "  null,\n",
       "  0,\n",
       "  1,\n",
       "  2\n",
       "]</code></td></tr><tr><td>map_key_set_12</td><td><class 'type'></td><td>$\\mathrm{}$</td><td ><pre></pre></td><td><code><vaex.superutils.ordered_set_string object at 0x00000246801CB970></code></td></tr><tr><td>map_choices_12</td><td><class 'type'></td><td>$\\mathrm{}$</td><td ><pre></pre></td><td><code>[\n",
       "  null,\n",
       "  null,\n",
       "  0,\n",
       "  1,\n",
       "  2,\n",
       "  3,\n",
       "  4\n",
       "]</code></td></tr></table><h2>Data:</h2><table>\n",
       "<thead>\n",
       "<tr><th>#                                  </th><th>id    </th><th>year  </th><th>active_year                </th><th>type_of_violence    </th><th>conflict_new_id  </th><th>conflict_name          </th><th>dyad_new_id  </th><th>dyad_name                              </th><th>side_a_new_id  </th><th>side_a                   </th><th>side_b_new_id  </th><th>side_b           </th><th>source_original                                    </th><th>where_coordinates                      </th><th>where_description                                  </th><th>adm_1                   </th><th>latitude  </th><th>longitude  </th><th>priogrid_gid  </th><th>country    </th><th>region     </th><th>conflict_length  </th><th>capital_investment  </th><th>economic_growth  </th><th>savings_pcnt_gdp  </th><th>inflation  </th><th>pcnt_world_tourist_arrivals  </th><th>death_rate_p1000  </th><th>human_flight_brain_drain_index_score  </th><th>government_debt  </th><th>inv_freedom_index_score  </th><th>external_debt  </th><th>labor_freedom_index_score  </th><th>remittances  </th><th>pop_growth_pcnt  </th><th>banking_z_score  </th><th>oil_reserves_barrels  </th><th>pcnt_world_oil_reserves  </th><th>oil_prod_barrels_daily  </th><th>trade_balance  </th><th>media_org_source      </th><th>incident_classification  </th><th>frequency_encoded_conflict_name  </th><th>frequency_encoded_dyad_name  </th><th>frequency_encoded_side_a  </th><th>frequency_encoded_side_b  </th><th>frequency_encoded_source_original  </th><th>frequency_encoded_where_coordinates  </th><th>frequency_encoded_where_description  </th><th>frequency_encoded_adm_1  </th><th>frequency_encoded_country  </th><th>frequency_encoded_media_org_source  </th><th>label_encoded_active_year  </th><th>label_encoded_type_of_violence  </th><th>label_encoded_region  </th></tr>\n",
       "</thead>\n",
       "<tbody>\n",
       "<tr><td><i style='opacity: 0.6'>0</i>      </td><td>326304</td><td>2013  </td><td>Part of an Ongoing Conflict</td><td>State-Based Conflict</td><td>299              </td><td>Syria: Government      </td><td>11973        </td><td>Government of Syria - Syrian insurgents</td><td>118            </td><td>Government of Syria      </td><td>4456           </td><td>Syrian insurgents</td><td>SOHR                                               </td><td>Damascus city                          </td><td>Damascus and Reef Dimashq,                         </td><td>Damascus governorate    </td><td>33.513364 </td><td>36.291575  </td><td>178273        </td><td>Syria      </td><td>Middle East</td><td>0                </td><td>26.16               </td><td>5.7              </td><td>29.46             </td><td>20.75      </td><td>0.73                         </td><td>5.51              </td><td>6.2                                   </td><td>0.0              </td><td>10.0                     </td><td>0.0            </td><td>49.0                       </td><td>2.55         </td><td>-4.29            </td><td>5.17             </td><td>2.5                   </td><td>0.15                     </td><td>58.04                   </td><td>2.6            </td><td>Support Kurds in Syria</td><td>1                        </td><td>0.35022979886102923              </td><td>0.35022979886102923          </td><td>0.39199453531626116       </td><td>0.35022979886102923       </td><td>0.22091874995359473                </td><td>0.019913426341854577                 </td><td>1.4849684072971347e-05               </td><td>0.019957975394073492     </td><td>0.4520986316016127         </td><td>0.03693858913151623                 </td><td>0                          </td><td>0                               </td><td>0                     </td></tr>\n",
       "<tr><td><i style='opacity: 0.6'>1</i>      </td><td>212509</td><td>2015  </td><td>Part of an Ongoing Conflict</td><td>State-Based Conflict</td><td>333              </td><td>Afghanistan: Government</td><td>735          </td><td>Government of Afghanistan - Taleban    </td><td>130            </td><td>Government of Afghanistan</td><td>303            </td><td>Taleban          </td><td>Ministry of Interior                               </td><td>Zabul province                         </td><td>&#x27;Nangarhar, Laghman, Takhar, Kunduz, Sar-e-Pul, ...</td><td>Zabul province          </td><td>32.25     </td><td>67.25      </td><td>176175        </td><td>Afghanistan</td><td>Asia       </td><td>1                </td><td>0.0                 </td><td>1.45             </td><td>0.0               </td><td>-0.7       </td><td>0.0                          </td><td>6.93              </td><td>8.1                                   </td><td>9.15             </td><td>55.0                     </td><td>12.93          </td><td>68.0                       </td><td>1.75         </td><td>3.08             </td><td>10.94            </td><td>0.0                   </td><td>0.0                      </td><td>0.0                     </td><td>0.0            </td><td>Xinhua News Agency    </td><td>0                        </td><td>0.17461743501407007              </td><td>0.1740382973352242           </td><td>0.18400986019022444       </td><td>0.17515202364069704       </td><td>0.0006682357832837107              </td><td>0.0019453086135592466                </td><td>4.4549052218914044e-05               </td><td>0.007313469405938388     </td><td>0.19216976158832222        </td><td>0.03605503292917443                 </td><td>0                          </td><td>0                               </td><td>1                     </td></tr>\n",
       "<tr><td><i style='opacity: 0.6'>2</i>      </td><td>245548</td><td>2017  </td><td>Part of an Ongoing Conflict</td><td>State-Based Conflict</td><td>227              </td><td>India: Government      </td><td>453          </td><td>Government of India - CPI-Maoist       </td><td>141            </td><td>Government of India      </td><td>195            </td><td>CPI-Maoist       </td><td>DIG                                                </td><td>Basaguda town, Usur sub-district       </td><td>&quot;forest pocket of Bijapur&#x27;s Basaguda Police Stat...</td><td>Chhattisgarh state      </td><td>18.559669 </td><td>80.924192  </td><td>156762        </td><td>India      </td><td>Asia       </td><td>0                </td><td>30.98               </td><td>7.04             </td><td>31.71             </td><td>3.3        </td><td>1.19                         </td><td>0.0               </td><td>6.1                                   </td><td>68.2             </td><td>40.0                     </td><td>19.49          </td><td>42.0                       </td><td>2.6          </td><td>1.06             </td><td>15.96            </td><td>4.62                  </td><td>0.28                     </td><td>733.91                  </td><td>-3.16          </td><td>SATP                  </td><td>0                        </td><td>0.009243928335424664             </td><td>0.009221653809315207         </td><td>0.028117876792171245      </td><td>0.009221653809315207      </td><td>7.4248420364856735e-06             </td><td>5.939873629188539e-05                </td><td>7.4248420364856735e-06               </td><td>0.006563560360253335     </td><td>0.04013127120720507        </td><td>0.011560479050808195                </td><td>0                          </td><td>0                               </td><td>1                     </td></tr>\n",
       "<tr><td><i style='opacity: 0.6'>3</i>      </td><td>126293</td><td>2007  </td><td>Part of an Ongoing Conflict</td><td>State-Based Conflict</td><td>333              </td><td>Afghanistan: Government</td><td>735          </td><td>Government of Afghanistan - Taleban    </td><td>130            </td><td>Government of Afghanistan</td><td>303            </td><td>Taleban          </td><td>NATO/Coalition sources, police sources             </td><td>Landay village                         </td><td>Landay village (near Musa Qala town)               </td><td>Hilmand province        </td><td>32.309448 </td><td>64.855247  </td><td>176170        </td><td>Afghanistan</td><td>Asia       </td><td>0                </td><td>0.0                 </td><td>13.83            </td><td>0.0               </td><td>8.7        </td><td>0.0                          </td><td>9.29              </td><td>7.0                                   </td><td>20.14            </td><td>0.0                      </td><td>0.0            </td><td>0.0                        </td><td>0.0          </td><td>2.49             </td><td>20.69            </td><td>0.0                   </td><td>0.0                      </td><td>0.0                     </td><td>0.0            </td><td>AP                    </td><td>1                        </td><td>0.17461743501407007              </td><td>0.1740382973352242           </td><td>0.18400986019022444       </td><td>0.17515202364069704       </td><td>0.00017077136683917049             </td><td>7.4248420364856735e-06               </td><td>7.4248420364856735e-06               </td><td>0.0238931416734109       </td><td>0.19216976158832222        </td><td>0.008798437813235523                </td><td>0                          </td><td>0                               </td><td>1                     </td></tr>\n",
       "<tr><td><i style='opacity: 0.6'>4</i>      </td><td>308313</td><td>2013  </td><td>Part of an Ongoing Conflict</td><td>State-Based Conflict</td><td>299              </td><td>Syria: Government      </td><td>11973        </td><td>Government of Syria - Syrian insurgents</td><td>118            </td><td>Government of Syria      </td><td>4456           </td><td>Syrian insurgents</td><td>SOHR                                               </td><td>Khan ash Shih town                     </td><td>near the Khan al-Sheih camp                        </td><td>Rif Dimashq governorate </td><td>33.3751   </td><td>36.11287   </td><td>177553        </td><td>Syria      </td><td>Middle East</td><td>0                </td><td>26.16               </td><td>5.7              </td><td>29.46             </td><td>20.75      </td><td>0.73                         </td><td>5.51              </td><td>6.2                                   </td><td>0.0              </td><td>10.0                     </td><td>0.0            </td><td>49.0                       </td><td>2.55         </td><td>-4.29            </td><td>5.17             </td><td>2.5                   </td><td>0.15                     </td><td>58.04                   </td><td>2.6            </td><td>Support Kurds in Syria</td><td>0                        </td><td>0.35022979886102923              </td><td>0.35022979886102923          </td><td>0.39199453531626116       </td><td>0.35022979886102923       </td><td>0.22091874995359473                </td><td>0.0013290467245309356                </td><td>7.4248420364856735e-06               </td><td>0.09476325891166665      </td><td>0.4520986316016127         </td><td>0.03693858913151623                 </td><td>0                          </td><td>0                               </td><td>0                     </td></tr>\n",
       "<tr><td>...                                </td><td>...   </td><td>...   </td><td>...                        </td><td>...                 </td><td>...              </td><td>...                    </td><td>...          </td><td>...                                    </td><td>...            </td><td>...                      </td><td>...            </td><td>...              </td><td>...                                                </td><td>...                                    </td><td>...                                                </td><td>...                     </td><td>...       </td><td>...        </td><td>...           </td><td>...        </td><td>...        </td><td>...              </td><td>...                 </td><td>...              </td><td>...               </td><td>...        </td><td>...                          </td><td>...               </td><td>...                                   </td><td>...              </td><td>...                      </td><td>...            </td><td>...                        </td><td>...          </td><td>...              </td><td>...              </td><td>...                   </td><td>...                      </td><td>...                     </td><td>...            </td><td>...                   </td><td>...                      </td><td>...                              </td><td>...                          </td><td>...                       </td><td>...                       </td><td>...                                </td><td>...                                  </td><td>...                                  </td><td>...                      </td><td>...                        </td><td>...                                 </td><td>...                        </td><td>...                             </td><td>...                   </td></tr>\n",
       "<tr><td><i style='opacity: 0.6'>134,678</i></td><td>339002</td><td>2020  </td><td>Part of an Ongoing Conflict</td><td>State-Based Conflict</td><td>13604            </td><td>Syria: Islamic State   </td><td>14620        </td><td>Government of Syria - IS               </td><td>118            </td><td>Government of Syria      </td><td>234            </td><td>IS               </td><td>SOHR                                               </td><td>Albu Kamal town                        </td><td>western desert of Al-Bokamal.                      </td><td>Deir ez Zor governorate </td><td>34.45     </td><td>40.918611  </td><td>179002        </td><td>Syria      </td><td>Middle East</td><td>0                </td><td>26.16               </td><td>5.7              </td><td>29.46             </td><td>20.75      </td><td>0.73                         </td><td>5.24              </td><td>8.4                                   </td><td>0.0              </td><td>15.0                     </td><td>0.0            </td><td>59.0                       </td><td>2.55         </td><td>-1.6             </td><td>8.4              </td><td>2.5                   </td><td>0.15                     </td><td>35.0                    </td><td>2.6            </td><td>SOHR                  </td><td>0                        </td><td>0.02974391719816161              </td><td>0.02974391719816161          </td><td>0.39199453531626116       </td><td>0.08631378867414596       </td><td>0.22091874995359473                </td><td>0.0016111907219173913                </td><td>7.4248420364856735e-06               </td><td>0.03636687629470683      </td><td>0.4520986316016127         </td><td>0.2634779445067306                  </td><td>0                          </td><td>0                               </td><td>0                     </td></tr>\n",
       "<tr><td><i style='opacity: 0.6'>134,679</i></td><td>115977</td><td>2007  </td><td>Part of an Ongoing Conflict</td><td>State-Based Conflict</td><td>338              </td><td>Iran: Government       </td><td>754          </td><td>Government of Iran - PJAK              </td><td>114            </td><td>Government of Iran       </td><td>309            </td><td>PJAK             </td><td>No Source Specified                                </td><td>Khoy town                              </td><td>&#x27;in the valleys close to the town of Khoy&quot; 50 ki...</td><td>West Azarbaijan province</td><td>38.550278 </td><td>44.952222  </td><td>185490        </td><td>Iran       </td><td>Middle East</td><td>0                </td><td>39.73               </td><td>8.16             </td><td>0.0               </td><td>17.3       </td><td>0.25                         </td><td>0.0               </td><td>5.0                                   </td><td>11.38            </td><td>10.0                     </td><td>5.94           </td><td>53.0                       </td><td>0.32         </td><td>1.1              </td><td>0.0              </td><td>136.27                </td><td>10.32                    </td><td>3911.89                 </td><td>7.8            </td><td>Jamestown             </td><td>0                        </td><td>0.0007870332558674814            </td><td>0.0005197389425539971        </td><td>0.0016111907219173913     </td><td>0.0005197389425539971     </td><td>0.06334875225529576                </td><td>2.2274526109457022e-05               </td><td>7.4248420364856735e-06               </td><td>0.0004232159960796834    </td><td>0.0012102492519471648      </td><td>2.2274526109457022e-05              </td><td>0                          </td><td>0                               </td><td>0                     </td></tr>\n",
       "<tr><td><i style='opacity: 0.6'>134,680</i></td><td>315847</td><td>2013  </td><td>Part of an Ongoing Conflict</td><td>State-Based Conflict</td><td>299              </td><td>Syria: Government      </td><td>11973        </td><td>Government of Syria - Syrian insurgents</td><td>118            </td><td>Government of Syria      </td><td>4456           </td><td>Syrian insurgents</td><td>SOHR; VDC                                          </td><td>Qalamoun mountain range                </td><td>al-Qalamoun                                        </td><td>Rif Dimashq governorate </td><td>33.8      </td><td>36.433333  </td><td>178273        </td><td>Syria      </td><td>Middle East</td><td>0                </td><td>26.16               </td><td>5.7              </td><td>29.46             </td><td>20.75      </td><td>0.73                         </td><td>5.51              </td><td>6.2                                   </td><td>0.0              </td><td>10.0                     </td><td>0.0            </td><td>49.0                       </td><td>2.55         </td><td>-4.29            </td><td>5.17             </td><td>2.5                   </td><td>0.15                     </td><td>58.04                   </td><td>2.6            </td><td>Support Kurds in Syria</td><td>0                        </td><td>0.35022979886102923              </td><td>0.35022979886102923          </td><td>0.39199453531626116       </td><td>0.35022979886102923       </td><td>0.031399656972297914               </td><td>0.0020344067179970744                </td><td>7.424842036485673e-05                </td><td>0.09476325891166665      </td><td>0.4520986316016127         </td><td>0.03693858913151623                 </td><td>0                          </td><td>0                               </td><td>0                     </td></tr>\n",
       "<tr><td><i style='opacity: 0.6'>134,681</i></td><td>250549</td><td>2017  </td><td>Part of an Ongoing Conflict</td><td>One-Sided Violence  </td><td>499              </td><td>CPI-Maoist - Civilians </td><td>966          </td><td>CPI-Maoist - Civilians                 </td><td>195            </td><td>CPI-Maoist               </td><td>1              </td><td>Civilians        </td><td>Police                                             </td><td>Badapada town, Chitrakonda sub-district</td><td>Badataekpada village                               </td><td>Odisha state            </td><td>18.138398 </td><td>82.234889  </td><td>156045        </td><td>India      </td><td>Asia       </td><td>0                </td><td>30.98               </td><td>7.04             </td><td>31.71             </td><td>3.3        </td><td>1.19                         </td><td>0.0               </td><td>6.1                                   </td><td>68.2             </td><td>40.0                     </td><td>19.49          </td><td>42.0                       </td><td>2.6          </td><td>1.06             </td><td>15.96            </td><td>4.62                  </td><td>0.28                     </td><td>733.91                  </td><td>-3.16          </td><td>The Telegraph         </td><td>0                        </td><td>0.00827127402864504              </td><td>0.00827127402864504          </td><td>0.00827127402864504       </td><td>0.09685706436595562       </td><td>0.01489423312519026                </td><td>2.2274526109457022e-05               </td><td>7.4248420364856735e-06               </td><td>0.0013810206187863353    </td><td>0.04013127120720507        </td><td>0.00040836631200671204              </td><td>0                          </td><td>2                               </td><td>1                     </td></tr>\n",
       "<tr><td><i style='opacity: 0.6'>134,682</i></td><td>250682</td><td>2017  </td><td>Part of an Ongoing Conflict</td><td>State-Based Conflict</td><td>333              </td><td>Afghanistan: Government</td><td>735          </td><td>Government of Afghanistan - Taleban    </td><td>130            </td><td>Government of Afghanistan</td><td>303            </td><td>Taleban          </td><td>&#x27;local official, Military, police, resident, Tal...</td><td>Nahri Sarraj district (Greshk)         </td><td>&quot;Nahr-e-Saraj district of southern Afghanistan&#x27;s...</td><td>Hilmand province        </td><td>31.829363 </td><td>64.608526  </td><td>175450        </td><td>Afghanistan</td><td>Asia       </td><td>0                </td><td>0.0                 </td><td>2.65             </td><td>0.0               </td><td>5.0        </td><td>0.0                          </td><td>6.57              </td><td>8.2                                   </td><td>8.0              </td><td>55.0                     </td><td>14.39          </td><td>60.0                       </td><td>4.36         </td><td>2.55             </td><td>11.5             </td><td>0.0                   </td><td>0.0                      </td><td>0.0                     </td><td>0.0            </td><td>Xinhua News Agency    </td><td>1                        </td><td>0.17461743501407007              </td><td>0.1740382973352242           </td><td>0.18400986019022444       </td><td>0.17515202364069704       </td><td>7.4248420364856735e-06             </td><td>0.002851139342010499                 </td><td>7.4248420364856735e-06               </td><td>0.0238931416734109       </td><td>0.19216976158832222        </td><td>0.03605503292917443                 </td><td>0                          </td><td>0                               </td><td>1                     </td></tr>\n",
       "</tbody>\n",
       "</table>"
      ],
      "text/plain": [
       "<IPython.core.display.HTML object>"
      ]
     },
     "metadata": {},
     "output_type": "display_data"
    }
   ],
   "source": [
    "vaex_train.info()"
   ]
  },
  {
   "cell_type": "code",
   "execution_count": 14,
   "id": "79ab6850",
   "metadata": {},
   "outputs": [],
   "source": [
    "features = ['frequency_encoded_conflict_name', 'frequency_encoded_dyad_name', 'frequency_encoded_side_a', \n",
    "         'frequency_encoded_side_b', 'frequency_encoded_source_original', 'frequency_encoded_where_coordinates',\n",
    "         'frequency_encoded_where_description', 'frequency_encoded_adm_1', 'frequency_encoded_country',\n",
    "         'frequency_encoded_media_org_source', 'label_encoded_active_year', 'label_encoded_type_of_violence',\n",
    "         'label_encoded_region', 'id', 'year', 'conflict_new_id', 'dyad_new_id', 'side_a_new_id', 'side_b_new_id',\n",
    "         'latitude', 'longitude', 'priogrid_gid', 'conflict_length', 'capital_investment',\n",
    "         'economic_growth', 'savings_pcnt_gdp', 'inflation', 'pcnt_world_tourist_arrivals', 'death_rate_p1000',\n",
    "         'human_flight_brain_drain_index_score', 'government_debt', 'inv_freedom_index_score', 'external_debt',\n",
    "         'labor_freedom_index_score', 'remittances', 'pop_growth_pcnt', 'banking_z_score', 'oil_reserves_barrels',\n",
    "         'pcnt_world_oil_reserves', 'oil_prod_barrels_daily', 'trade_balance']"
   ]
  },
  {
   "cell_type": "markdown",
   "id": "34164a5a",
   "metadata": {},
   "source": [
    "##### Scaling Features"
   ]
  },
  {
   "cell_type": "code",
   "execution_count": 15,
   "id": "1cc41bd5",
   "metadata": {
    "scrolled": true
   },
   "outputs": [
    {
     "data": {
      "text/html": [
       "<table>\n",
       "<thead>\n",
       "<tr><th>#                                  </th><th>id    </th><th>year  </th><th>active_year                </th><th>type_of_violence    </th><th>conflict_new_id  </th><th>conflict_name          </th><th>dyad_new_id  </th><th>dyad_name                              </th><th>side_a_new_id  </th><th>side_a                   </th><th>side_b_new_id  </th><th>side_b           </th><th>source_original                                    </th><th>where_coordinates                      </th><th>where_description                                  </th><th>adm_1                   </th><th>latitude  </th><th>longitude  </th><th>priogrid_gid  </th><th>country    </th><th>region     </th><th>conflict_length  </th><th>capital_investment  </th><th>economic_growth  </th><th>savings_pcnt_gdp  </th><th>inflation  </th><th>pcnt_world_tourist_arrivals  </th><th>death_rate_p1000  </th><th>human_flight_brain_drain_index_score  </th><th>government_debt  </th><th>inv_freedom_index_score  </th><th>external_debt  </th><th>labor_freedom_index_score  </th><th>remittances  </th><th>pop_growth_pcnt  </th><th>banking_z_score  </th><th>oil_reserves_barrels  </th><th>pcnt_world_oil_reserves  </th><th>oil_prod_barrels_daily  </th><th>trade_balance  </th><th>media_org_source      </th><th>incident_classification  </th><th>frequency_encoded_conflict_name  </th><th>frequency_encoded_dyad_name  </th><th>frequency_encoded_side_a  </th><th>frequency_encoded_side_b  </th><th>frequency_encoded_source_original  </th><th>frequency_encoded_where_coordinates  </th><th>frequency_encoded_where_description  </th><th>frequency_encoded_adm_1  </th><th>frequency_encoded_country  </th><th>frequency_encoded_media_org_source  </th><th>label_encoded_active_year  </th><th>label_encoded_type_of_violence  </th><th>label_encoded_region  </th><th>standard_scaled_frequency_encoded_conflict_name  </th><th>standard_scaled_frequency_encoded_dyad_name  </th><th>standard_scaled_frequency_encoded_side_a  </th><th>standard_scaled_frequency_encoded_side_b  </th><th>standard_scaled_frequency_encoded_source_original  </th><th>standard_scaled_frequency_encoded_where_coordinates  </th><th>standard_scaled_frequency_encoded_where_description  </th><th>standard_scaled_frequency_encoded_adm_1  </th><th>standard_scaled_frequency_encoded_country  </th><th>standard_scaled_frequency_encoded_media_org_source  </th><th>standard_scaled_label_encoded_active_year  </th><th>standard_scaled_label_encoded_type_of_violence  </th><th>standard_scaled_label_encoded_region  </th><th>standard_scaled_id  </th><th>standard_scaled_year  </th><th>standard_scaled_conflict_new_id  </th><th>standard_scaled_dyad_new_id  </th><th>standard_scaled_side_a_new_id  </th><th>standard_scaled_side_b_new_id  </th><th>standard_scaled_latitude  </th><th>standard_scaled_longitude  </th><th>standard_scaled_priogrid_gid  </th><th>standard_scaled_conflict_length  </th><th>standard_scaled_capital_investment  </th><th>standard_scaled_economic_growth  </th><th>standard_scaled_savings_pcnt_gdp  </th><th>standard_scaled_inflation  </th><th>standard_scaled_pcnt_world_tourist_arrivals  </th><th>standard_scaled_death_rate_p1000  </th><th>standard_scaled_human_flight_brain_drain_index_score  </th><th>standard_scaled_government_debt  </th><th>standard_scaled_inv_freedom_index_score  </th><th>standard_scaled_external_debt  </th><th>standard_scaled_labor_freedom_index_score  </th><th>standard_scaled_remittances  </th><th>standard_scaled_pop_growth_pcnt  </th><th>standard_scaled_banking_z_score  </th><th>standard_scaled_oil_reserves_barrels  </th><th>standard_scaled_pcnt_world_oil_reserves  </th><th>standard_scaled_oil_prod_barrels_daily  </th><th>standard_scaled_trade_balance  </th></tr>\n",
       "</thead>\n",
       "<tbody>\n",
       "<tr><td><i style='opacity: 0.6'>0</i>      </td><td>326304</td><td>2013  </td><td>Part of an Ongoing Conflict</td><td>State-Based Conflict</td><td>299              </td><td>Syria: Government      </td><td>11973        </td><td>Government of Syria - Syrian insurgents</td><td>118            </td><td>Government of Syria      </td><td>4456           </td><td>Syrian insurgents</td><td>SOHR                                               </td><td>Damascus city                          </td><td>Damascus and Reef Dimashq,                         </td><td>Damascus governorate    </td><td>33.513364 </td><td>36.291575  </td><td>178273        </td><td>Syria      </td><td>Middle East</td><td>0                </td><td>26.16               </td><td>5.7              </td><td>29.46             </td><td>20.75      </td><td>0.73                         </td><td>5.51              </td><td>6.2                                   </td><td>0.0              </td><td>10.0                     </td><td>0.0            </td><td>49.0                       </td><td>2.55         </td><td>-4.29            </td><td>5.17             </td><td>2.5                   </td><td>0.15                     </td><td>58.04                   </td><td>2.6            </td><td>Support Kurds in Syria</td><td>1                        </td><td>0.35022979886102923              </td><td>0.35022979886102923          </td><td>0.39199453531626116       </td><td>0.35022979886102923       </td><td>0.22091874995359473                </td><td>0.019913426341854577                 </td><td>1.4849684072971347e-05               </td><td>0.019957975394073492     </td><td>0.4520986316016127         </td><td>0.03693858913151623                 </td><td>0                          </td><td>0                               </td><td>0                     </td><td>1.2560752472651298                               </td><td>1.2567770745137663                           </td><td>1.162438933701689                         </td><td>1.2533867781739194                        </td><td>1.7025056966700949                                 </td><td>3.5196789395991877                                   </td><td>-0.29232874116909124                                 </td><td>-0.30367092695876224                     </td><td>1.0460410181698643                         </td><td>-0.4953915408101696                                 </td><td>-0.15237165454037568                       </td><td>-0.49845369186578176                            </td><td>-0.813924086246777                    </td><td>0.8730652336042676  </td><td>-0.371611979681008    </td><td>-0.4942320508581076              </td><td>0.7653257755902877           </td><td>-0.25828144398006353           </td><td>0.9619330696705394             </td><td>0.3954880742798763        </td><td>-0.09648833686264478       </td><td>0.4152182518518813            </td><td>-0.08195931603385788             </td><td>0.5923395133801028                  </td><td>0.20375907382715938              </td><td>0.6045213167431813                </td><td>0.6324141331873719         </td><td>0.2460990794230242                           </td><td>-0.09269064228503054              </td><td>-0.7852799374065493                                   </td><td>-0.66338421903607                </td><td>-0.8113639493553084                      </td><td>-0.6622442296531786            </td><td>-0.10503680140929757                       </td><td>-0.0808495479124352          </td><td>-1.3057934793872443              </td><td>-0.863339706532769               </td><td>-0.20757901420956654                  </td><td>-0.213370970750503                       </td><td>-0.3544207459437686                     </td><td>0.31848146502586566            </td></tr>\n",
       "<tr><td><i style='opacity: 0.6'>1</i>      </td><td>212509</td><td>2015  </td><td>Part of an Ongoing Conflict</td><td>State-Based Conflict</td><td>333              </td><td>Afghanistan: Government</td><td>735          </td><td>Government of Afghanistan - Taleban    </td><td>130            </td><td>Government of Afghanistan</td><td>303            </td><td>Taleban          </td><td>Ministry of Interior                               </td><td>Zabul province                         </td><td>&#x27;Nangarhar, Laghman, Takhar, Kunduz, Sar-e-Pul, ...</td><td>Zabul province          </td><td>32.25     </td><td>67.25      </td><td>176175        </td><td>Afghanistan</td><td>Asia       </td><td>1                </td><td>0.0                 </td><td>1.45             </td><td>0.0               </td><td>-0.7       </td><td>0.0                          </td><td>6.93              </td><td>8.1                                   </td><td>9.15             </td><td>55.0                     </td><td>12.93          </td><td>68.0                       </td><td>1.75         </td><td>3.08             </td><td>10.94            </td><td>0.0                   </td><td>0.0                      </td><td>0.0                     </td><td>0.0            </td><td>Xinhua News Agency    </td><td>0                        </td><td>0.17461743501407007              </td><td>0.1740382973352242           </td><td>0.18400986019022444       </td><td>0.17515202364069704       </td><td>0.0006682357832837107              </td><td>0.0019453086135592466                </td><td>4.4549052218914044e-05               </td><td>0.007313469405938388     </td><td>0.19216976158832222        </td><td>0.03605503292917443                 </td><td>0                          </td><td>0                               </td><td>1                     </td><td>0.10971677667572277                              </td><td>0.10880501717149885                          </td><td>-0.06013918943328095                      </td><td>0.01413807029643658                       </td><td>-0.7968272972306384                                </td><td>-0.08617603575406516                                 </td><td>-0.25386351056297907                                 </td><td>-0.7005726281246281                      </td><td>-0.29621679962812547                       </td><td>-0.5034659845081189                                 </td><td>-0.15237165454037568                       </td><td>-0.49845369186578176                            </td><td>0.2784807977876893                    </td><td>-0.28280503563270315</td><td>0.2217996011872484    </td><td>-0.48740734185859036             </td><td>-1.1114405878199392          </td><td>-0.2484707526723401            </td><td>-0.8610232434732973            </td><td>0.2762370114226829        </td><td>0.7017417457723649         </td><td>0.27775129771680673           </td><td>-0.004947772797071026            </td><td>-1.6888863425015612                 </td><td>-0.7163877539014669              </td><td>-1.5858023220808903               </td><td>-1.3112285372167287        </td><td>-0.8728253638992083                          </td><td>0.4068313762507745                </td><td>0.8896117711934245                                    </td><td>-0.33073215813832274             </td><td>1.245901857553454                        </td><td>0.11709119543055342            </td><td>0.8998411304140039                         </td><td>-0.5032501430280346          </td><td>1.1616865096504279               </td><td>0.002711086185447195             </td><td>-0.30828617904998584                  </td><td>-0.30772743061795005                     </td><td>-0.4226832824575012                     </td><td>0.10029278873987017            </td></tr>\n",
       "<tr><td><i style='opacity: 0.6'>2</i>      </td><td>245548</td><td>2017  </td><td>Part of an Ongoing Conflict</td><td>State-Based Conflict</td><td>227              </td><td>India: Government      </td><td>453          </td><td>Government of India - CPI-Maoist       </td><td>141            </td><td>Government of India      </td><td>195            </td><td>CPI-Maoist       </td><td>DIG                                                </td><td>Basaguda town, Usur sub-district       </td><td>&quot;forest pocket of Bijapur&#x27;s Basaguda Police Stat...</td><td>Chhattisgarh state      </td><td>18.559669 </td><td>80.924192  </td><td>156762        </td><td>India      </td><td>Asia       </td><td>0                </td><td>30.98               </td><td>7.04             </td><td>31.71             </td><td>3.3        </td><td>1.19                         </td><td>0.0               </td><td>6.1                                   </td><td>68.2             </td><td>40.0                     </td><td>19.49          </td><td>42.0                       </td><td>2.6          </td><td>1.06             </td><td>15.96            </td><td>4.62                  </td><td>0.28                     </td><td>733.91                  </td><td>-3.16          </td><td>SATP                  </td><td>0                        </td><td>0.009243928335424664             </td><td>0.009221653809315207         </td><td>0.028117876792171245      </td><td>0.009221653809315207      </td><td>7.4248420364856735e-06             </td><td>5.939873629188539e-05                </td><td>7.4248420364856735e-06               </td><td>0.006563560360253335     </td><td>0.04013127120720507        </td><td>0.011560479050808195                </td><td>0                          </td><td>0                               </td><td>1                     </td><td>-0.9698047105320338                              </td><td>-0.9650543898611036                          </td><td>-0.9765053993912212                       </td><td>-1.1603627831236647                       </td><td>-0.8043259702503647                                </td><td>-0.46464180589444787                                 </td><td>-0.30194504882061934                                 </td><td>-0.7241117190334668                      </td><td>-1.0813348679282124                        </td><td>-0.7273112766050478                                 </td><td>-0.15237165454037568                       </td><td>-0.49845369186578176                            </td><td>0.2784807977876893                    </td><td>0.05278789749546837 </td><td>0.8152111820555048    </td><td>-0.5086843757982619              </td><td>-1.1585350988078094          </td><td>-0.2394776189735936            </td><td>-0.9084297644989497            </td><td>-1.0160164662898203       </td><td>1.054316252069988          </td><td>-0.9942439266035955           </td><td>-0.08195931603385788             </td><td>1.0126571213827642                  </td><td>0.49387595598159684              </td><td>0.7718067270403355                </td><td>-0.9487776895889246        </td><td>0.9511747560370336                           </td><td>-2.0309767846317106               </td><td>-0.8734321325960221                                   </td><td>1.8160551856881226               </td><td>0.5601465885838665                       </td><td>0.5124848836400879             </td><td>-0.4752549868178823                        </td><td>-0.05444951071771009         </td><td>0.4853894163185285               </td><td>0.7561902853960966               </td><td>-0.12217933842489095                  </td><td>-0.13159537219871556                     </td><td>0.44048967020951235                     </td><td>-0.1648903716692628            </td></tr>\n",
       "<tr><td><i style='opacity: 0.6'>3</i>      </td><td>126293</td><td>2007  </td><td>Part of an Ongoing Conflict</td><td>State-Based Conflict</td><td>333              </td><td>Afghanistan: Government</td><td>735          </td><td>Government of Afghanistan - Taleban    </td><td>130            </td><td>Government of Afghanistan</td><td>303            </td><td>Taleban          </td><td>NATO/Coalition sources, police sources             </td><td>Landay village                         </td><td>Landay village (near Musa Qala town)               </td><td>Hilmand province        </td><td>32.309448 </td><td>64.855247  </td><td>176170        </td><td>Afghanistan</td><td>Asia       </td><td>0                </td><td>0.0                 </td><td>13.83            </td><td>0.0               </td><td>8.7        </td><td>0.0                          </td><td>9.29              </td><td>7.0                                   </td><td>20.14            </td><td>0.0                      </td><td>0.0            </td><td>0.0                        </td><td>0.0          </td><td>2.49             </td><td>20.69            </td><td>0.0                   </td><td>0.0                      </td><td>0.0                     </td><td>0.0            </td><td>AP                    </td><td>1                        </td><td>0.17461743501407007              </td><td>0.1740382973352242           </td><td>0.18400986019022444       </td><td>0.17515202364069704       </td><td>0.00017077136683917049             </td><td>7.4248420364856735e-06               </td><td>7.4248420364856735e-06               </td><td>0.0238931416734109       </td><td>0.19216976158832222        </td><td>0.008798437813235523                </td><td>0                          </td><td>0                               </td><td>1                     </td><td>0.10971677667572277                              </td><td>0.10880501717149885                          </td><td>-0.06013918943328095                      </td><td>0.01413807029643658                       </td><td>-0.8024723656836908                                </td><td>-0.4750719649140648                                  </td><td>-0.30194504882061934                                 </td><td>-0.18014896476386566                     </td><td>-0.29621679962812547                       </td><td>-0.7525523947196454                                 </td><td>-0.15237165454037568                       </td><td>-0.49845369186578176                            </td><td>0.2784807977876893                    </td><td>-1.1585422045112537 </td><td>-2.1518467222857773   </td><td>-0.48740734185859036             </td><td>-1.1114405878199392          </td><td>-0.2484707526723401            </td><td>-0.8610232434732973            </td><td>0.2818484086009584        </td><td>0.6399955850719923         </td><td>0.2774236834314514            </td><td>-0.08195931603385788             </td><td>-1.6888863425015612                 </td><td>1.9639458289880374               </td><td>-1.5858023220808903               </td><td>-0.4594690452913887        </td><td>-0.8728253638992083                          </td><td>1.2370229000145065                </td><td>-0.08006237589077084                                  </td><td>0.06881386910388955              </td><td>-1.2685341286683667                      </td><td>-0.6622442296531786            </td><td>-2.696564099269391                         </td><td>-1.4272514448434084          </td><td>0.9641541903109127               </td><td>1.46614180178382                 </td><td>-0.30828617904998584                  </td><td>-0.30772743061795005                     </td><td>-0.4226832824575012                     </td><td>0.10029278873987017            </td></tr>\n",
       "<tr><td><i style='opacity: 0.6'>4</i>      </td><td>308313</td><td>2013  </td><td>Part of an Ongoing Conflict</td><td>State-Based Conflict</td><td>299              </td><td>Syria: Government      </td><td>11973        </td><td>Government of Syria - Syrian insurgents</td><td>118            </td><td>Government of Syria      </td><td>4456           </td><td>Syrian insurgents</td><td>SOHR                                               </td><td>Khan ash Shih town                     </td><td>near the Khan al-Sheih camp                        </td><td>Rif Dimashq governorate </td><td>33.3751   </td><td>36.11287   </td><td>177553        </td><td>Syria      </td><td>Middle East</td><td>0                </td><td>26.16               </td><td>5.7              </td><td>29.46             </td><td>20.75      </td><td>0.73                         </td><td>5.51              </td><td>6.2                                   </td><td>0.0              </td><td>10.0                     </td><td>0.0            </td><td>49.0                       </td><td>2.55         </td><td>-4.29            </td><td>5.17             </td><td>2.5                   </td><td>0.15                     </td><td>58.04                   </td><td>2.6            </td><td>Support Kurds in Syria</td><td>0                        </td><td>0.35022979886102923              </td><td>0.35022979886102923          </td><td>0.39199453531626116       </td><td>0.35022979886102923       </td><td>0.22091874995359473                </td><td>0.0013290467245309356                </td><td>7.4248420364856735e-06               </td><td>0.09476325891166665      </td><td>0.4520986316016127         </td><td>0.03693858913151623                 </td><td>0                          </td><td>0                               </td><td>0                     </td><td>1.2560752472651298                               </td><td>1.2567770745137663                           </td><td>1.162438933701689                         </td><td>1.2533867781739194                        </td><td>1.7025056966700949                                 </td><td>-0.2098479212723792                                  </td><td>-0.30194504882061934                                 </td><td>2.0444116562744123                       </td><td>1.0460410181698643                         </td><td>-0.4953915408101696                                 </td><td>-0.15237165454037568                       </td><td>-0.49845369186578176                            </td><td>-0.813924086246777                    </td><td>0.6903220373843779  </td><td>-0.371611979681008    </td><td>-0.4942320508581076              </td><td>0.7653257755902877           </td><td>-0.25828144398006353           </td><td>0.9619330696705394             </td><td>0.3824371016742876        </td><td>-0.10109605534048369       </td><td>0.3680417947607213            </td><td>-0.08195931603385788             </td><td>0.5923395133801028                  </td><td>0.20375907382715938              </td><td>0.6045213167431813                </td><td>0.6324141331873719         </td><td>0.2460990794230242                           </td><td>-0.09269064228503054              </td><td>-0.7852799374065493                                   </td><td>-0.66338421903607                </td><td>-0.8113639493553084                      </td><td>-0.6622442296531786            </td><td>-0.10503680140929757                       </td><td>-0.0808495479124352          </td><td>-1.3057934793872443              </td><td>-0.863339706532769               </td><td>-0.20757901420956654                  </td><td>-0.213370970750503                       </td><td>-0.3544207459437686                     </td><td>0.31848146502586566            </td></tr>\n",
       "<tr><td>...                                </td><td>...   </td><td>...   </td><td>...                        </td><td>...                 </td><td>...              </td><td>...                    </td><td>...          </td><td>...                                    </td><td>...            </td><td>...                      </td><td>...            </td><td>...              </td><td>...                                                </td><td>...                                    </td><td>...                                                </td><td>...                     </td><td>...       </td><td>...        </td><td>...           </td><td>...        </td><td>...        </td><td>...              </td><td>...                 </td><td>...              </td><td>...               </td><td>...        </td><td>...                          </td><td>...               </td><td>...                                   </td><td>...              </td><td>...                      </td><td>...            </td><td>...                        </td><td>...          </td><td>...              </td><td>...              </td><td>...                   </td><td>...                      </td><td>...                     </td><td>...            </td><td>...                   </td><td>...                      </td><td>...                              </td><td>...                          </td><td>...                       </td><td>...                       </td><td>...                                </td><td>...                                  </td><td>...                                  </td><td>...                      </td><td>...                        </td><td>...                                 </td><td>...                        </td><td>...                             </td><td>...                   </td><td>...                                              </td><td>...                                          </td><td>...                                       </td><td>...                                       </td><td>...                                                </td><td>...                                                  </td><td>...                                                  </td><td>...                                      </td><td>...                                        </td><td>...                                                 </td><td>...                                        </td><td>...                                             </td><td>...                                   </td><td>...                 </td><td>...                   </td><td>...                              </td><td>...                          </td><td>...                            </td><td>...                            </td><td>...                       </td><td>...                        </td><td>...                           </td><td>...                              </td><td>...                                 </td><td>...                              </td><td>...                               </td><td>...                        </td><td>...                                          </td><td>...                               </td><td>...                                                   </td><td>...                              </td><td>...                                      </td><td>...                            </td><td>...                                        </td><td>...                          </td><td>...                              </td><td>...                              </td><td>...                                   </td><td>...                                      </td><td>...                                     </td><td>...                            </td></tr>\n",
       "<tr><td><i style='opacity: 0.6'>134,678</i></td><td>339002</td><td>2020  </td><td>Part of an Ongoing Conflict</td><td>State-Based Conflict</td><td>13604            </td><td>Syria: Islamic State   </td><td>14620        </td><td>Government of Syria - IS               </td><td>118            </td><td>Government of Syria      </td><td>234            </td><td>IS               </td><td>SOHR                                               </td><td>Albu Kamal town                        </td><td>western desert of Al-Bokamal.                      </td><td>Deir ez Zor governorate </td><td>34.45     </td><td>40.918611  </td><td>179002        </td><td>Syria      </td><td>Middle East</td><td>0                </td><td>26.16               </td><td>5.7              </td><td>29.46             </td><td>20.75      </td><td>0.73                         </td><td>5.24              </td><td>8.4                                   </td><td>0.0              </td><td>15.0                     </td><td>0.0            </td><td>59.0                       </td><td>2.55         </td><td>-1.6             </td><td>8.4              </td><td>2.5                   </td><td>0.15                     </td><td>35.0                    </td><td>2.6            </td><td>SOHR                  </td><td>0                        </td><td>0.02974391719816161              </td><td>0.02974391719816161          </td><td>0.39199453531626116       </td><td>0.08631378867414596       </td><td>0.22091874995359473                </td><td>0.0016111907219173913                </td><td>7.4248420364856735e-06               </td><td>0.03636687629470683      </td><td>0.4520986316016127         </td><td>0.2634779445067306                  </td><td>0                          </td><td>0                               </td><td>0                     </td><td>-0.8359853406141684                              </td><td>-0.8313420103206893                          </td><td>1.162438933701689                         </td><td>-0.6146834220595464                       </td><td>1.7025056966700949                                 </td><td>-0.1532270580230306                                  </td><td>-0.30194504882061934                                 </td><td>0.21139234936335347                      </td><td>1.0460410181698643                         </td><td>1.5748551118631853                                  </td><td>-0.15237165454037568                       </td><td>-0.49845369186578176                            </td><td>-0.813924086246777                    </td><td>1.002044895968792   </td><td>1.7053285533578895    </td><td>2.1764371620412244               </td><td>1.2073795719906142           </td><td>-0.25828144398006353           </td><td>-0.8913107430174642            </td><td>0.4838987290953609        </td><td>0.022814868278933396       </td><td>0.4629844146566809            </td><td>-0.08195931603385788             </td><td>0.5923395133801028                  </td><td>0.20375907382715938              </td><td>0.6045213167431813                </td><td>0.6324141331873719         </td><td>0.2460990794230242                           </td><td>-0.18767018102071165              </td><td>1.1540683567618422                                    </td><td>-0.66338421903607                </td><td>-0.5827788596987793                      </td><td>-0.6622442296531786            </td><td>0.4238463206029664                         </td><td>-0.0808495479124352          </td><td>-0.4051800234155567              </td><td>-0.37853137716018                </td><td>-0.20757901420956654                  </td><td>-0.213370970750503                       </td><td>-0.3815187618168975                     </td><td>0.31848146502586566            </td></tr>\n",
       "<tr><td><i style='opacity: 0.6'>134,679</i></td><td>115977</td><td>2007  </td><td>Part of an Ongoing Conflict</td><td>State-Based Conflict</td><td>338              </td><td>Iran: Government       </td><td>754          </td><td>Government of Iran - PJAK              </td><td>114            </td><td>Government of Iran       </td><td>309            </td><td>PJAK             </td><td>No Source Specified                                </td><td>Khoy town                              </td><td>&#x27;in the valleys close to the town of Khoy&quot; 50 ki...</td><td>West Azarbaijan province</td><td>38.550278 </td><td>44.952222  </td><td>185490        </td><td>Iran       </td><td>Middle East</td><td>0                </td><td>39.73               </td><td>8.16             </td><td>0.0               </td><td>17.3       </td><td>0.25                         </td><td>0.0               </td><td>5.0                                   </td><td>11.38            </td><td>10.0                     </td><td>5.94           </td><td>53.0                       </td><td>0.32         </td><td>1.1              </td><td>0.0              </td><td>136.27                </td><td>10.32                    </td><td>3911.89                 </td><td>7.8            </td><td>Jamestown             </td><td>0                        </td><td>0.0007870332558674814            </td><td>0.0005197389425539971        </td><td>0.0016111907219173913     </td><td>0.0005197389425539971     </td><td>0.06334875225529576                </td><td>2.2274526109457022e-05               </td><td>7.4248420364856735e-06               </td><td>0.0004232159960796834    </td><td>0.0012102492519471648      </td><td>2.2274526109457022e-05              </td><td>0                          </td><td>0                               </td><td>0                     </td><td>-1.0250094415484947                              </td><td>-1.0217515348760693                          </td><td>-1.13231733354772                         </td><td>-1.221957332980849                        </td><td>-0.08554867214602435                               </td><td>-0.47209191947988854                                 </td><td>-0.30194504882061934                                 </td><td>-0.916852592118711                       </td><td>-1.282320799169559                         </td><td>-0.8327540119547379                                 </td><td>-0.15237165454037568                       </td><td>-0.49845369186578176                            </td><td>-0.813924086246777                    </td><td>-1.2633267530190844 </td><td>-2.1518467222857773   </td><td>-0.48640370818219075             </td><td>-1.1082675533916786          </td><td>-0.2615516744159714            </td><td>-0.858389547860761             </td><td>0.8709308983751294        </td><td>0.12681724055231244        </td><td>0.8880967113336896            </td><td>-0.08195931603385788             </td><td>1.7756818247070973                  </td><td>0.7363617082300818               </td><td>-1.5858023220808903               </td><td>0.3198002771083907         </td><td>-0.4896320613915944                          </td><td>-2.0309767846317106               </td><td>-1.8431062796802173                                   </td><td>-0.24965957936215044             </td><td>-0.8113639493553084                      </td><td>-0.3042200668536915            </td><td>0.10651644739560802                        </td><td>-1.2582912067971688          </td><td>0.49878143796866514              </td><td>-1.6393332244449317              </td><td>5.181059962071591                     </td><td>6.183997008262405                        </td><td>4.178204621793107                       </td><td>0.7548588175978566             </td></tr>\n",
       "<tr><td><i style='opacity: 0.6'>134,680</i></td><td>315847</td><td>2013  </td><td>Part of an Ongoing Conflict</td><td>State-Based Conflict</td><td>299              </td><td>Syria: Government      </td><td>11973        </td><td>Government of Syria - Syrian insurgents</td><td>118            </td><td>Government of Syria      </td><td>4456           </td><td>Syrian insurgents</td><td>SOHR; VDC                                          </td><td>Qalamoun mountain range                </td><td>al-Qalamoun                                        </td><td>Rif Dimashq governorate </td><td>33.8      </td><td>36.433333  </td><td>178273        </td><td>Syria      </td><td>Middle East</td><td>0                </td><td>26.16               </td><td>5.7              </td><td>29.46             </td><td>20.75      </td><td>0.73                         </td><td>5.51              </td><td>6.2                                   </td><td>0.0              </td><td>10.0                     </td><td>0.0            </td><td>49.0                       </td><td>2.55         </td><td>-4.29            </td><td>5.17             </td><td>2.5                   </td><td>0.15                     </td><td>58.04                   </td><td>2.6            </td><td>Support Kurds in Syria</td><td>0                        </td><td>0.35022979886102923              </td><td>0.35022979886102923          </td><td>0.39199453531626116       </td><td>0.35022979886102923       </td><td>0.031399656972297914               </td><td>0.0020344067179970744                </td><td>7.424842036485673e-05                </td><td>0.09476325891166665      </td><td>0.4520986316016127         </td><td>0.03693858913151623                 </td><td>0                          </td><td>0                               </td><td>0                     </td><td>1.2560752472651298                               </td><td>1.2567770745137663                           </td><td>1.162438933701689                         </td><td>1.2533867781739194                        </td><td>-0.4480968744368433                                </td><td>-0.06829576314900775                                 </td><td>-0.2153982799568669                                  </td><td>2.0444116562744123                       </td><td>1.0460410181698643                         </td><td>-0.4953915408101696                                 </td><td>-0.15237165454037568                       </td><td>-0.49845369186578176                            </td><td>-0.813924086246777                    </td><td>0.7668484806238115  </td><td>-0.371611979681008    </td><td>-0.4942320508581076              </td><td>0.7653257755902877           </td><td>-0.25828144398006353           </td><td>0.9619330696705394             </td><td>0.4225441306920692        </td><td>-0.09283325750850546       </td><td>0.4152182518518813            </td><td>-0.08195931603385788             </td><td>0.5923395133801028                  </td><td>0.20375907382715938              </td><td>0.6045213167431813                </td><td>0.6324141331873719         </td><td>0.2460990794230242                           </td><td>-0.09269064228503054              </td><td>-0.7852799374065493                                   </td><td>-0.66338421903607                </td><td>-0.8113639493553084                      </td><td>-0.6622442296531786            </td><td>-0.10503680140929757                       </td><td>-0.0808495479124352          </td><td>-1.3057934793872443              </td><td>-0.863339706532769               </td><td>-0.20757901420956654                  </td><td>-0.213370970750503                       </td><td>-0.3544207459437686                     </td><td>0.31848146502586566            </td></tr>\n",
       "<tr><td><i style='opacity: 0.6'>134,681</i></td><td>250549</td><td>2017  </td><td>Part of an Ongoing Conflict</td><td>One-Sided Violence  </td><td>499              </td><td>CPI-Maoist - Civilians </td><td>966          </td><td>CPI-Maoist - Civilians                 </td><td>195            </td><td>CPI-Maoist               </td><td>1              </td><td>Civilians        </td><td>Police                                             </td><td>Badapada town, Chitrakonda sub-district</td><td>Badataekpada village                               </td><td>Odisha state            </td><td>18.138398 </td><td>82.234889  </td><td>156045        </td><td>India      </td><td>Asia       </td><td>0                </td><td>30.98               </td><td>7.04             </td><td>31.71             </td><td>3.3        </td><td>1.19                         </td><td>0.0               </td><td>6.1                                   </td><td>68.2             </td><td>40.0                     </td><td>19.49          </td><td>42.0                       </td><td>2.6          </td><td>1.06             </td><td>15.96            </td><td>4.62                  </td><td>0.28                     </td><td>733.91                  </td><td>-3.16          </td><td>The Telegraph         </td><td>0                        </td><td>0.00827127402864504              </td><td>0.00827127402864504          </td><td>0.00827127402864504       </td><td>0.09685706436595562       </td><td>0.01489423312519026                </td><td>2.2274526109457022e-05               </td><td>7.4248420364856735e-06               </td><td>0.0013810206187863353    </td><td>0.04013127120720507        </td><td>0.00040836631200671204              </td><td>0                          </td><td>2                               </td><td>1                     </td><td>-0.9761539816146996                              </td><td>-0.9712465695214412                          </td><td>-1.0931679484109191                       </td><td>-0.5400552131882137                       </td><td>-0.6353951904239432                                </td><td>-0.47209191947988854                                 </td><td>-0.30194504882061934                                 </td><td>-0.8867878126410852                      </td><td>-1.0813348679282124                        </td><td>-0.8292256836161382                                 </td><td>-0.15237165454037568                       </td><td>2.6205408529009477                              </td><td>0.2784807977876893                    </td><td>0.10358544762029011 </td><td>0.8152111820555048    </td><td>-0.4540867038021237              </td><td>-1.072863169244769           </td><td>-0.19532950808883806           </td><td>-0.9935859226376216            </td><td>-1.0557809478651325       </td><td>1.0881111810632895         </td><td>-1.0412238151235425           </td><td>-0.08195931603385788             </td><td>1.0126571213827642                  </td><td>0.49387595598159684              </td><td>0.7718067270403355                </td><td>-0.9487776895889246        </td><td>0.9511747560370336                           </td><td>-2.0309767846317106               </td><td>-0.8734321325960221                                   </td><td>1.8160551856881226               </td><td>0.5601465885838665                       </td><td>0.5124848836400879             </td><td>-0.4752549868178823                        </td><td>-0.05444951071771009         </td><td>0.4853894163185285               </td><td>0.7561902853960966               </td><td>-0.12217933842489095                  </td><td>-0.13159537219871556                     </td><td>0.44048967020951235                     </td><td>-0.1648903716692628            </td></tr>\n",
       "<tr><td><i style='opacity: 0.6'>134,682</i></td><td>250682</td><td>2017  </td><td>Part of an Ongoing Conflict</td><td>State-Based Conflict</td><td>333              </td><td>Afghanistan: Government</td><td>735          </td><td>Government of Afghanistan - Taleban    </td><td>130            </td><td>Government of Afghanistan</td><td>303            </td><td>Taleban          </td><td>&#x27;local official, Military, police, resident, Tal...</td><td>Nahri Sarraj district (Greshk)         </td><td>&quot;Nahr-e-Saraj district of southern Afghanistan&#x27;s...</td><td>Hilmand province        </td><td>31.829363 </td><td>64.608526  </td><td>175450        </td><td>Afghanistan</td><td>Asia       </td><td>0                </td><td>0.0                 </td><td>2.65             </td><td>0.0               </td><td>5.0        </td><td>0.0                          </td><td>6.57              </td><td>8.2                                   </td><td>8.0              </td><td>55.0                     </td><td>14.39          </td><td>60.0                       </td><td>4.36         </td><td>2.55             </td><td>11.5             </td><td>0.0                   </td><td>0.0                      </td><td>0.0                     </td><td>0.0            </td><td>Xinhua News Agency    </td><td>1                        </td><td>0.17461743501407007              </td><td>0.1740382973352242           </td><td>0.18400986019022444       </td><td>0.17515202364069704       </td><td>7.4248420364856735e-06             </td><td>0.002851139342010499                 </td><td>7.4248420364856735e-06               </td><td>0.0238931416734109       </td><td>0.19216976158832222        </td><td>0.03605503292917443                 </td><td>0                          </td><td>0                               </td><td>1                     </td><td>0.10971677667572277                              </td><td>0.10880501717149885                          </td><td>-0.06013918943328095                      </td><td>0.01413807029643658                       </td><td>-0.8043259702503647                                </td><td>0.09560673573068564                                  </td><td>-0.30194504882061934                                 </td><td>-0.18014896476386566                     </td><td>-0.29621679962812547                       </td><td>-0.5034659845081189                                 </td><td>-0.15237165454037568                       </td><td>-0.49845369186578176                            </td><td>0.2784807977876893                    </td><td>0.10493639226468149 </td><td>0.8152111820555048    </td><td>-0.48740734185859036             </td><td>-1.1114405878199392          </td><td>-0.2484707526723401            </td><td>-0.8610232434732973            </td><td>0.2365323741787366        </td><td>0.6336341463289749         </td><td>0.2302472263402914            </td><td>-0.08195931603385788             </td><td>-1.6888863425015612                 </td><td>-0.45658159077809013             </td><td>-1.5858023220808903               </td><td>-0.7947360793471077        </td><td>-0.8728253638992083                          </td><td>0.2801919912698663                </td><td>0.9777639663828965                                    </td><td>-0.3725408871036134              </td><td>1.245901857553454                        </td><td>0.2050904004284072             </td><td>0.47673463280419276                        </td><td>0.8748317985366089           </td><td>0.9842422227861175               </td><td>0.08676454267109739              </td><td>-0.30828617904998584                  </td><td>-0.30772743061795005                     </td><td>-0.4226832824575012                     </td><td>0.10029278873987017            </td></tr>\n",
       "</tbody>\n",
       "</table>"
      ],
      "text/plain": [
       "#        id      year    active_year                  type_of_violence      conflict_new_id    conflict_name            dyad_new_id    dyad_name                                side_a_new_id    side_a                     side_b_new_id    side_b             source_original                                      where_coordinates                        where_description                                    adm_1                     latitude    longitude    priogrid_gid    country      region       conflict_length    capital_investment    economic_growth    savings_pcnt_gdp    inflation    pcnt_world_tourist_arrivals    death_rate_p1000    human_flight_brain_drain_index_score    government_debt    inv_freedom_index_score    external_debt    labor_freedom_index_score    remittances    pop_growth_pcnt    banking_z_score    oil_reserves_barrels    pcnt_world_oil_reserves    oil_prod_barrels_daily    trade_balance    media_org_source        incident_classification    frequency_encoded_conflict_name    frequency_encoded_dyad_name    frequency_encoded_side_a    frequency_encoded_side_b    frequency_encoded_source_original    frequency_encoded_where_coordinates    frequency_encoded_where_description    frequency_encoded_adm_1    frequency_encoded_country    frequency_encoded_media_org_source    label_encoded_active_year    label_encoded_type_of_violence    label_encoded_region    standard_scaled_frequency_encoded_conflict_name    standard_scaled_frequency_encoded_dyad_name    standard_scaled_frequency_encoded_side_a    standard_scaled_frequency_encoded_side_b    standard_scaled_frequency_encoded_source_original    standard_scaled_frequency_encoded_where_coordinates    standard_scaled_frequency_encoded_where_description    standard_scaled_frequency_encoded_adm_1    standard_scaled_frequency_encoded_country    standard_scaled_frequency_encoded_media_org_source    standard_scaled_label_encoded_active_year    standard_scaled_label_encoded_type_of_violence    standard_scaled_label_encoded_region    standard_scaled_id    standard_scaled_year    standard_scaled_conflict_new_id    standard_scaled_dyad_new_id    standard_scaled_side_a_new_id    standard_scaled_side_b_new_id    standard_scaled_latitude    standard_scaled_longitude    standard_scaled_priogrid_gid    standard_scaled_conflict_length    standard_scaled_capital_investment    standard_scaled_economic_growth    standard_scaled_savings_pcnt_gdp    standard_scaled_inflation    standard_scaled_pcnt_world_tourist_arrivals    standard_scaled_death_rate_p1000    standard_scaled_human_flight_brain_drain_index_score    standard_scaled_government_debt    standard_scaled_inv_freedom_index_score    standard_scaled_external_debt    standard_scaled_labor_freedom_index_score    standard_scaled_remittances    standard_scaled_pop_growth_pcnt    standard_scaled_banking_z_score    standard_scaled_oil_reserves_barrels    standard_scaled_pcnt_world_oil_reserves    standard_scaled_oil_prod_barrels_daily    standard_scaled_trade_balance\n",
       "0        326304  2013    Part of an Ongoing Conflict  State-Based Conflict  299                Syria: Government        11973          Government of Syria - Syrian insurgents  118              Government of Syria        4456             Syrian insurgents  SOHR                                                 Damascus city                            Damascus and Reef Dimashq,                           Damascus governorate      33.513364   36.291575    178273          Syria        Middle East  0                  26.16                 5.7                29.46               20.75        0.73                           5.51                6.2                                     0.0                10.0                       0.0              49.0                         2.55           -4.29              5.17               2.5                     0.15                       58.04                     2.6              Support Kurds in Syria  1                          0.35022979886102923                0.35022979886102923            0.39199453531626116         0.35022979886102923         0.22091874995359473                  0.019913426341854577                   1.4849684072971347e-05                 0.019957975394073492       0.4520986316016127           0.03693858913151623                   0                            0                                 0                       1.2560752472651298                                 1.2567770745137663                             1.162438933701689                           1.2533867781739194                          1.7025056966700949                                   3.5196789395991877                                     -0.29232874116909124                                   -0.30367092695876224                       1.0460410181698643                           -0.4953915408101696                                   -0.15237165454037568                         -0.49845369186578176                              -0.813924086246777                      0.8730652336042676    -0.371611979681008      -0.4942320508581076                0.7653257755902877             -0.25828144398006353             0.9619330696705394               0.3954880742798763          -0.09648833686264478         0.4152182518518813              -0.08195931603385788               0.5923395133801028                    0.20375907382715938                0.6045213167431813                  0.6324141331873719           0.2460990794230242                             -0.09269064228503054                -0.7852799374065493                                     -0.66338421903607                  -0.8113639493553084                        -0.6622442296531786              -0.10503680140929757                         -0.0808495479124352            -1.3057934793872443                -0.863339706532769                 -0.20757901420956654                    -0.213370970750503                         -0.3544207459437686                       0.31848146502586566\n",
       "1        212509  2015    Part of an Ongoing Conflict  State-Based Conflict  333                Afghanistan: Government  735            Government of Afghanistan - Taleban      130              Government of Afghanistan  303              Taleban            Ministry of Interior                                 Zabul province                           'Nangarhar, Laghman, Takhar, Kunduz, Sar-e-Pul, ...  Zabul province            32.25       67.25        176175          Afghanistan  Asia         1                  0.0                   1.45               0.0                 -0.7         0.0                            6.93                8.1                                     9.15               55.0                       12.93            68.0                         1.75           3.08               10.94              0.0                     0.0                        0.0                       0.0              Xinhua News Agency      0                          0.17461743501407007                0.1740382973352242             0.18400986019022444         0.17515202364069704         0.0006682357832837107                0.0019453086135592466                  4.4549052218914044e-05                 0.007313469405938388       0.19216976158832222          0.03605503292917443                   0                            0                                 1                       0.10971677667572277                                0.10880501717149885                            -0.06013918943328095                        0.01413807029643658                         -0.7968272972306384                                  -0.08617603575406516                                   -0.25386351056297907                                   -0.7005726281246281                        -0.29621679962812547                         -0.5034659845081189                                   -0.15237165454037568                         -0.49845369186578176                              0.2784807977876893                      -0.28280503563270315  0.2217996011872484      -0.48740734185859036               -1.1114405878199392            -0.2484707526723401              -0.8610232434732973              0.2762370114226829          0.7017417457723649           0.27775129771680673             -0.004947772797071026              -1.6888863425015612                   -0.7163877539014669                -1.5858023220808903                 -1.3112285372167287          -0.8728253638992083                            0.4068313762507745                  0.8896117711934245                                      -0.33073215813832274               1.245901857553454                          0.11709119543055342              0.8998411304140039                           -0.5032501430280346            1.1616865096504279                 0.002711086185447195               -0.30828617904998584                    -0.30772743061795005                       -0.4226832824575012                       0.10029278873987017\n",
       "2        245548  2017    Part of an Ongoing Conflict  State-Based Conflict  227                India: Government        453            Government of India - CPI-Maoist         141              Government of India        195              CPI-Maoist         DIG                                                  Basaguda town, Usur sub-district         \"forest pocket of Bijapur's Basaguda Police Stat...  Chhattisgarh state        18.559669   80.924192    156762          India        Asia         0                  30.98                 7.04               31.71               3.3          1.19                           0.0                 6.1                                     68.2               40.0                       19.49            42.0                         2.6            1.06               15.96              4.62                    0.28                       733.91                    -3.16            SATP                    0                          0.009243928335424664               0.009221653809315207           0.028117876792171245        0.009221653809315207        7.4248420364856735e-06               5.939873629188539e-05                  7.4248420364856735e-06                 0.006563560360253335       0.04013127120720507          0.011560479050808195                  0                            0                                 1                       -0.9698047105320338                                -0.9650543898611036                            -0.9765053993912212                         -1.1603627831236647                         -0.8043259702503647                                  -0.46464180589444787                                   -0.30194504882061934                                   -0.7241117190334668                        -1.0813348679282124                          -0.7273112766050478                                   -0.15237165454037568                         -0.49845369186578176                              0.2784807977876893                      0.05278789749546837   0.8152111820555048      -0.5086843757982619                -1.1585350988078094            -0.2394776189735936              -0.9084297644989497              -1.0160164662898203         1.054316252069988            -0.9942439266035955             -0.08195931603385788               1.0126571213827642                    0.49387595598159684                0.7718067270403355                  -0.9487776895889246          0.9511747560370336                             -2.0309767846317106                 -0.8734321325960221                                     1.8160551856881226                 0.5601465885838665                         0.5124848836400879               -0.4752549868178823                          -0.05444951071771009           0.4853894163185285                 0.7561902853960966                 -0.12217933842489095                    -0.13159537219871556                       0.44048967020951235                       -0.1648903716692628\n",
       "3        126293  2007    Part of an Ongoing Conflict  State-Based Conflict  333                Afghanistan: Government  735            Government of Afghanistan - Taleban      130              Government of Afghanistan  303              Taleban            NATO/Coalition sources, police sources               Landay village                           Landay village (near Musa Qala town)                 Hilmand province          32.309448   64.855247    176170          Afghanistan  Asia         0                  0.0                   13.83              0.0                 8.7          0.0                            9.29                7.0                                     20.14              0.0                        0.0              0.0                          0.0            2.49               20.69              0.0                     0.0                        0.0                       0.0              AP                      1                          0.17461743501407007                0.1740382973352242             0.18400986019022444         0.17515202364069704         0.00017077136683917049               7.4248420364856735e-06                 7.4248420364856735e-06                 0.0238931416734109         0.19216976158832222          0.008798437813235523                  0                            0                                 1                       0.10971677667572277                                0.10880501717149885                            -0.06013918943328095                        0.01413807029643658                         -0.8024723656836908                                  -0.4750719649140648                                    -0.30194504882061934                                   -0.18014896476386566                       -0.29621679962812547                         -0.7525523947196454                                   -0.15237165454037568                         -0.49845369186578176                              0.2784807977876893                      -1.1585422045112537   -2.1518467222857773     -0.48740734185859036               -1.1114405878199392            -0.2484707526723401              -0.8610232434732973              0.2818484086009584          0.6399955850719923           0.2774236834314514              -0.08195931603385788               -1.6888863425015612                   1.9639458289880374                 -1.5858023220808903                 -0.4594690452913887          -0.8728253638992083                            1.2370229000145065                  -0.08006237589077084                                    0.06881386910388955                -1.2685341286683667                        -0.6622442296531786              -2.696564099269391                           -1.4272514448434084            0.9641541903109127                 1.46614180178382                   -0.30828617904998584                    -0.30772743061795005                       -0.4226832824575012                       0.10029278873987017\n",
       "4        308313  2013    Part of an Ongoing Conflict  State-Based Conflict  299                Syria: Government        11973          Government of Syria - Syrian insurgents  118              Government of Syria        4456             Syrian insurgents  SOHR                                                 Khan ash Shih town                       near the Khan al-Sheih camp                          Rif Dimashq governorate   33.3751     36.11287     177553          Syria        Middle East  0                  26.16                 5.7                29.46               20.75        0.73                           5.51                6.2                                     0.0                10.0                       0.0              49.0                         2.55           -4.29              5.17               2.5                     0.15                       58.04                     2.6              Support Kurds in Syria  0                          0.35022979886102923                0.35022979886102923            0.39199453531626116         0.35022979886102923         0.22091874995359473                  0.0013290467245309356                  7.4248420364856735e-06                 0.09476325891166665        0.4520986316016127           0.03693858913151623                   0                            0                                 0                       1.2560752472651298                                 1.2567770745137663                             1.162438933701689                           1.2533867781739194                          1.7025056966700949                                   -0.2098479212723792                                    -0.30194504882061934                                   2.0444116562744123                         1.0460410181698643                           -0.4953915408101696                                   -0.15237165454037568                         -0.49845369186578176                              -0.813924086246777                      0.6903220373843779    -0.371611979681008      -0.4942320508581076                0.7653257755902877             -0.25828144398006353             0.9619330696705394               0.3824371016742876          -0.10109605534048369         0.3680417947607213              -0.08195931603385788               0.5923395133801028                    0.20375907382715938                0.6045213167431813                  0.6324141331873719           0.2460990794230242                             -0.09269064228503054                -0.7852799374065493                                     -0.66338421903607                  -0.8113639493553084                        -0.6622442296531786              -0.10503680140929757                         -0.0808495479124352            -1.3057934793872443                -0.863339706532769                 -0.20757901420956654                    -0.213370970750503                         -0.3544207459437686                       0.31848146502586566\n",
       "...      ...     ...     ...                          ...                   ...                ...                      ...            ...                                      ...              ...                        ...              ...                ...                                                  ...                                      ...                                                  ...                       ...         ...          ...             ...          ...          ...                ...                   ...                ...                 ...          ...                            ...                 ...                                     ...                ...                        ...              ...                          ...            ...                ...                ...                     ...                        ...                       ...              ...                     ...                        ...                                ...                            ...                         ...                         ...                                  ...                                    ...                                    ...                        ...                          ...                                   ...                          ...                               ...                     ...                                                ...                                            ...                                         ...                                         ...                                                  ...                                                    ...                                                    ...                                        ...                                          ...                                                   ...                                          ...                                               ...                                     ...                   ...                     ...                                ...                            ...                              ...                              ...                         ...                          ...                             ...                                ...                                   ...                                ...                                 ...                          ...                                            ...                                 ...                                                     ...                                ...                                        ...                              ...                                          ...                            ...                                ...                                ...                                     ...                                        ...                                       ...\n",
       "134,678  339002  2020    Part of an Ongoing Conflict  State-Based Conflict  13604              Syria: Islamic State     14620          Government of Syria - IS                 118              Government of Syria        234              IS                 SOHR                                                 Albu Kamal town                          western desert of Al-Bokamal.                        Deir ez Zor governorate   34.45       40.918611    179002          Syria        Middle East  0                  26.16                 5.7                29.46               20.75        0.73                           5.24                8.4                                     0.0                15.0                       0.0              59.0                         2.55           -1.6               8.4                2.5                     0.15                       35.0                      2.6              SOHR                    0                          0.02974391719816161                0.02974391719816161            0.39199453531626116         0.08631378867414596         0.22091874995359473                  0.0016111907219173913                  7.4248420364856735e-06                 0.03636687629470683        0.4520986316016127           0.2634779445067306                    0                            0                                 0                       -0.8359853406141684                                -0.8313420103206893                            1.162438933701689                           -0.6146834220595464                         1.7025056966700949                                   -0.1532270580230306                                    -0.30194504882061934                                   0.21139234936335347                        1.0460410181698643                           1.5748551118631853                                    -0.15237165454037568                         -0.49845369186578176                              -0.813924086246777                      1.002044895968792     1.7053285533578895      2.1764371620412244                 1.2073795719906142             -0.25828144398006353             -0.8913107430174642              0.4838987290953609          0.022814868278933396         0.4629844146566809              -0.08195931603385788               0.5923395133801028                    0.20375907382715938                0.6045213167431813                  0.6324141331873719           0.2460990794230242                             -0.18767018102071165                1.1540683567618422                                      -0.66338421903607                  -0.5827788596987793                        -0.6622442296531786              0.4238463206029664                           -0.0808495479124352            -0.4051800234155567                -0.37853137716018                  -0.20757901420956654                    -0.213370970750503                         -0.3815187618168975                       0.31848146502586566\n",
       "134,679  115977  2007    Part of an Ongoing Conflict  State-Based Conflict  338                Iran: Government         754            Government of Iran - PJAK                114              Government of Iran         309              PJAK               No Source Specified                                  Khoy town                                'in the valleys close to the town of Khoy\" 50 ki...  West Azarbaijan province  38.550278   44.952222    185490          Iran         Middle East  0                  39.73                 8.16               0.0                 17.3         0.25                           0.0                 5.0                                     11.38              10.0                       5.94             53.0                         0.32           1.1                0.0                136.27                  10.32                      3911.89                   7.8              Jamestown               0                          0.0007870332558674814              0.0005197389425539971          0.0016111907219173913       0.0005197389425539971       0.06334875225529576                  2.2274526109457022e-05                 7.4248420364856735e-06                 0.0004232159960796834      0.0012102492519471648        2.2274526109457022e-05                0                            0                                 0                       -1.0250094415484947                                -1.0217515348760693                            -1.13231733354772                           -1.221957332980849                          -0.08554867214602435                                 -0.47209191947988854                                   -0.30194504882061934                                   -0.916852592118711                         -1.282320799169559                           -0.8327540119547379                                   -0.15237165454037568                         -0.49845369186578176                              -0.813924086246777                      -1.2633267530190844   -2.1518467222857773     -0.48640370818219075               -1.1082675533916786            -0.2615516744159714              -0.858389547860761               0.8709308983751294          0.12681724055231244          0.8880967113336896              -0.08195931603385788               1.7756818247070973                    0.7363617082300818                 -1.5858023220808903                 0.3198002771083907           -0.4896320613915944                            -2.0309767846317106                 -1.8431062796802173                                     -0.24965957936215044               -0.8113639493553084                        -0.3042200668536915              0.10651644739560802                          -1.2582912067971688            0.49878143796866514                -1.6393332244449317                5.181059962071591                       6.183997008262405                          4.178204621793107                         0.7548588175978566\n",
       "134,680  315847  2013    Part of an Ongoing Conflict  State-Based Conflict  299                Syria: Government        11973          Government of Syria - Syrian insurgents  118              Government of Syria        4456             Syrian insurgents  SOHR; VDC                                            Qalamoun mountain range                  al-Qalamoun                                          Rif Dimashq governorate   33.8        36.433333    178273          Syria        Middle East  0                  26.16                 5.7                29.46               20.75        0.73                           5.51                6.2                                     0.0                10.0                       0.0              49.0                         2.55           -4.29              5.17               2.5                     0.15                       58.04                     2.6              Support Kurds in Syria  0                          0.35022979886102923                0.35022979886102923            0.39199453531626116         0.35022979886102923         0.031399656972297914                 0.0020344067179970744                  7.424842036485673e-05                  0.09476325891166665        0.4520986316016127           0.03693858913151623                   0                            0                                 0                       1.2560752472651298                                 1.2567770745137663                             1.162438933701689                           1.2533867781739194                          -0.4480968744368433                                  -0.06829576314900775                                   -0.2153982799568669                                    2.0444116562744123                         1.0460410181698643                           -0.4953915408101696                                   -0.15237165454037568                         -0.49845369186578176                              -0.813924086246777                      0.7668484806238115    -0.371611979681008      -0.4942320508581076                0.7653257755902877             -0.25828144398006353             0.9619330696705394               0.4225441306920692          -0.09283325750850546         0.4152182518518813              -0.08195931603385788               0.5923395133801028                    0.20375907382715938                0.6045213167431813                  0.6324141331873719           0.2460990794230242                             -0.09269064228503054                -0.7852799374065493                                     -0.66338421903607                  -0.8113639493553084                        -0.6622442296531786              -0.10503680140929757                         -0.0808495479124352            -1.3057934793872443                -0.863339706532769                 -0.20757901420956654                    -0.213370970750503                         -0.3544207459437686                       0.31848146502586566\n",
       "134,681  250549  2017    Part of an Ongoing Conflict  One-Sided Violence    499                CPI-Maoist - Civilians   966            CPI-Maoist - Civilians                   195              CPI-Maoist                 1                Civilians          Police                                               Badapada town, Chitrakonda sub-district  Badataekpada village                                 Odisha state              18.138398   82.234889    156045          India        Asia         0                  30.98                 7.04               31.71               3.3          1.19                           0.0                 6.1                                     68.2               40.0                       19.49            42.0                         2.6            1.06               15.96              4.62                    0.28                       733.91                    -3.16            The Telegraph           0                          0.00827127402864504                0.00827127402864504            0.00827127402864504         0.09685706436595562         0.01489423312519026                  2.2274526109457022e-05                 7.4248420364856735e-06                 0.0013810206187863353      0.04013127120720507          0.00040836631200671204                0                            2                                 1                       -0.9761539816146996                                -0.9712465695214412                            -1.0931679484109191                         -0.5400552131882137                         -0.6353951904239432                                  -0.47209191947988854                                   -0.30194504882061934                                   -0.8867878126410852                        -1.0813348679282124                          -0.8292256836161382                                   -0.15237165454037568                         2.6205408529009477                                0.2784807977876893                      0.10358544762029011   0.8152111820555048      -0.4540867038021237                -1.072863169244769             -0.19532950808883806             -0.9935859226376216              -1.0557809478651325         1.0881111810632895           -1.0412238151235425             -0.08195931603385788               1.0126571213827642                    0.49387595598159684                0.7718067270403355                  -0.9487776895889246          0.9511747560370336                             -2.0309767846317106                 -0.8734321325960221                                     1.8160551856881226                 0.5601465885838665                         0.5124848836400879               -0.4752549868178823                          -0.05444951071771009           0.4853894163185285                 0.7561902853960966                 -0.12217933842489095                    -0.13159537219871556                       0.44048967020951235                       -0.1648903716692628\n",
       "134,682  250682  2017    Part of an Ongoing Conflict  State-Based Conflict  333                Afghanistan: Government  735            Government of Afghanistan - Taleban      130              Government of Afghanistan  303              Taleban            'local official, Military, police, resident, Tal...  Nahri Sarraj district (Greshk)           \"Nahr-e-Saraj district of southern Afghanistan's...  Hilmand province          31.829363   64.608526    175450          Afghanistan  Asia         0                  0.0                   2.65               0.0                 5.0          0.0                            6.57                8.2                                     8.0                55.0                       14.39            60.0                         4.36           2.55               11.5               0.0                     0.0                        0.0                       0.0              Xinhua News Agency      1                          0.17461743501407007                0.1740382973352242             0.18400986019022444         0.17515202364069704         7.4248420364856735e-06               0.002851139342010499                   7.4248420364856735e-06                 0.0238931416734109         0.19216976158832222          0.03605503292917443                   0                            0                                 1                       0.10971677667572277                                0.10880501717149885                            -0.06013918943328095                        0.01413807029643658                         -0.8043259702503647                                  0.09560673573068564                                    -0.30194504882061934                                   -0.18014896476386566                       -0.29621679962812547                         -0.5034659845081189                                   -0.15237165454037568                         -0.49845369186578176                              0.2784807977876893                      0.10493639226468149   0.8152111820555048      -0.48740734185859036               -1.1114405878199392            -0.2484707526723401              -0.8610232434732973              0.2365323741787366          0.6336341463289749           0.2302472263402914              -0.08195931603385788               -1.6888863425015612                   -0.45658159077809013               -1.5858023220808903                 -0.7947360793471077          -0.8728253638992083                            0.2801919912698663                  0.9777639663828965                                      -0.3725408871036134                1.245901857553454                          0.2050904004284072               0.47673463280419276                          0.8748317985366089             0.9842422227861175                 0.08676454267109739                -0.30828617904998584                    -0.30772743061795005                       -0.4226832824575012                       0.10029278873987017"
      ]
     },
     "execution_count": 15,
     "metadata": {},
     "output_type": "execute_result"
    }
   ],
   "source": [
    "## Training Data\n",
    "\n",
    "scaler = vaex.ml.StandardScaler(features=features)\n",
    "scaler.fit(vaex_train)\n",
    "vaex_train = scaler.transform(vaex_train)\n",
    "vaex_train\n"
   ]
  },
  {
   "cell_type": "code",
   "execution_count": 16,
   "id": "e11ba846",
   "metadata": {
    "scrolled": true
   },
   "outputs": [
    {
     "data": {
      "text/html": [
       "<table>\n",
       "<thead>\n",
       "<tr><th>#                                 </th><th>id    </th><th>year  </th><th>active_year                </th><th>type_of_violence    </th><th>conflict_new_id  </th><th>conflict_name                            </th><th>dyad_new_id  </th><th>dyad_name                                 </th><th>side_a_new_id  </th><th>side_a                       </th><th>side_b_new_id  </th><th>side_b           </th><th>source_original                </th><th>where_coordinates      </th><th>where_description                                  </th><th>adm_1                  </th><th>latitude  </th><th>longitude  </th><th>priogrid_gid  </th><th>country     </th><th>region     </th><th>conflict_length  </th><th>capital_investment  </th><th>economic_growth  </th><th>savings_pcnt_gdp  </th><th>inflation  </th><th>pcnt_world_tourist_arrivals  </th><th>death_rate_p1000  </th><th>human_flight_brain_drain_index_score  </th><th>government_debt  </th><th>inv_freedom_index_score  </th><th>external_debt  </th><th>labor_freedom_index_score  </th><th>remittances  </th><th>pop_growth_pcnt  </th><th>banking_z_score  </th><th>oil_reserves_barrels  </th><th>pcnt_world_oil_reserves  </th><th>oil_prod_barrels_daily  </th><th>trade_balance  </th><th>media_org_source                                   </th><th>incident_classification  </th><th>frequency_encoded_conflict_name  </th><th>frequency_encoded_dyad_name  </th><th>frequency_encoded_side_a  </th><th>frequency_encoded_side_b  </th><th>frequency_encoded_source_original  </th><th>frequency_encoded_where_coordinates  </th><th>frequency_encoded_where_description  </th><th>frequency_encoded_adm_1  </th><th>frequency_encoded_country  </th><th>frequency_encoded_media_org_source  </th><th>label_encoded_active_year  </th><th>label_encoded_type_of_violence  </th><th>label_encoded_region  </th><th>standard_scaled_frequency_encoded_conflict_name  </th><th>standard_scaled_frequency_encoded_dyad_name  </th><th>standard_scaled_frequency_encoded_side_a  </th><th>standard_scaled_frequency_encoded_side_b  </th><th>standard_scaled_frequency_encoded_source_original  </th><th>standard_scaled_frequency_encoded_where_coordinates  </th><th>standard_scaled_frequency_encoded_where_description  </th><th>standard_scaled_frequency_encoded_adm_1  </th><th>standard_scaled_frequency_encoded_country  </th><th>standard_scaled_frequency_encoded_media_org_source  </th><th>standard_scaled_label_encoded_active_year  </th><th>standard_scaled_label_encoded_type_of_violence  </th><th>standard_scaled_label_encoded_region  </th><th>standard_scaled_id  </th><th>standard_scaled_year  </th><th>standard_scaled_conflict_new_id  </th><th>standard_scaled_dyad_new_id  </th><th>standard_scaled_side_a_new_id  </th><th>standard_scaled_side_b_new_id  </th><th>standard_scaled_latitude  </th><th>standard_scaled_longitude  </th><th>standard_scaled_priogrid_gid  </th><th>standard_scaled_conflict_length  </th><th>standard_scaled_capital_investment  </th><th>standard_scaled_economic_growth  </th><th>standard_scaled_savings_pcnt_gdp  </th><th>standard_scaled_inflation  </th><th>standard_scaled_pcnt_world_tourist_arrivals  </th><th>standard_scaled_death_rate_p1000  </th><th>standard_scaled_human_flight_brain_drain_index_score  </th><th>standard_scaled_government_debt  </th><th>standard_scaled_inv_freedom_index_score  </th><th>standard_scaled_external_debt  </th><th>standard_scaled_labor_freedom_index_score  </th><th>standard_scaled_remittances  </th><th>standard_scaled_pop_growth_pcnt  </th><th>standard_scaled_banking_z_score  </th><th>standard_scaled_oil_reserves_barrels  </th><th>standard_scaled_pcnt_world_oil_reserves  </th><th>standard_scaled_oil_prod_barrels_daily  </th><th>standard_scaled_trade_balance  </th></tr>\n",
       "</thead>\n",
       "<tbody>\n",
       "<tr><td><i style='opacity: 0.6'>0</i>     </td><td>35094 </td><td>2010  </td><td>Part of an Ongoing Conflict</td><td>State-Based Conflict</td><td>329              </td><td>Ethiopia: Ogaden                         </td><td>719          </td><td>Government of Ethiopia - ONLF             </td><td>97             </td><td>Government of Ethiopia       </td><td>497            </td><td>ONLF             </td><td>No Source Specified            </td><td>Yahyah                 </td><td>&#x27;Yahyah, Kebridehar woreda, Korahe zone, Somali ...</td><td>Somali state           </td><td>6.53667   </td><td>44.385     </td><td>139409        </td><td>Ethiopia    </td><td>Africa     </td><td>0                </td><td>0.0                 </td><td>12.55            </td><td>32.56             </td><td>8.1        </td><td>0.05                         </td><td>0.0               </td><td>7.5                                   </td><td>30.9             </td><td>25.0                     </td><td>24.43          </td><td>62.0                       </td><td>1.46         </td><td>2.78             </td><td>9.9              </td><td>0.0                   </td><td>0.0                      </td><td>0.0                     </td><td>0.0            </td><td>&#x27;ONLF Military Communiqu November   at http://ww...</td><td>0                        </td><td>0.0022868343678536427            </td><td>0.0022868343678536427        </td><td>0.006147723560333818      </td><td>0.0022868343678536427     </td><td>0.06319978616613703                </td><td>2.969914763446289e-05                </td><td>2.969914763446289e-05                </td><td>0.0025838258441982717    </td><td>0.007038697989367705       </td><td>0.00020789403344124023              </td><td>0                          </td><td>0                               </td><td>1                     </td><td>-1.0164184299370953                              </td><td>-1.0118965582349704                          </td><td>-1.1080478686048707                       </td><td>-1.206849335254182                        </td><td>-0.10146920173721709                               </td><td>-0.4722350672501065                                  </td><td>-0.2906784360369922                                  </td><td>-0.8521642617713308                      </td><td>-1.2519848921282135                        </td><td>-0.8389445509399603                                 </td><td>-0.15348972386039172                       </td><td>-0.5001196300997884                             </td><td>0.07999267141215669                   </td><td>-2.0906384593407727 </td><td>-1.2648334541122788   </td><td>-0.48554396095868946             </td><td>-1.1206986177424856          </td><td>-0.27456667716247835           </td><td>-0.7821300961971319            </td><td>-2.157709083048254        </td><td>0.11795954021433736        </td><td>-2.1382050990792374           </td><td>-0.08482794848298345             </td><td>-1.7099799707625967                 </td><td>1.7174299588197004               </td><td>0.8204266314093862                </td><td>-0.5259994788504975        </td><td>-0.8004104558565507                          </td><td>-2.0220241177362093               </td><td>0.36209717957588244                                   </td><td>0.4644310886968787               </td><td>-0.12259957074653587                     </td><td>0.8249001590188244             </td><td>0.5831636570489341                         </td><td>-0.6475787472700563          </td><td>1.067788997650186                </td><td>-0.1602360723753649              </td><td>-0.31395917460206313                  </td><td>-0.31284507510574844                     </td><td>-0.42816415722224066                    </td><td>0.09832753015549112            </td></tr>\n",
       "<tr><td><i style='opacity: 0.6'>1</i>     </td><td>347391</td><td>2014  </td><td>Part of an Ongoing Conflict</td><td>State-Based Conflict</td><td>299              </td><td>Syria: Government                        </td><td>11973        </td><td>Government of Syria - Syrian insurgents   </td><td>118            </td><td>Government of Syria          </td><td>4456           </td><td>Syrian insurgents</td><td>VDC                            </td><td>Jasim town             </td><td>Dara: Jasim                                        </td><td>Daraa governorate      </td><td>32.99115  </td><td>36.060232  </td><td>176833        </td><td>Syria       </td><td>Middle East</td><td>0                </td><td>26.16               </td><td>5.7              </td><td>29.46             </td><td>20.75      </td><td>0.73                         </td><td>5.7               </td><td>6.9                                   </td><td>0.0              </td><td>15.0                     </td><td>0.0            </td><td>55.0                       </td><td>2.55         </td><td>-4.54            </td><td>5.56             </td><td>2.5                   </td><td>0.15                     </td><td>22.66                   </td><td>2.6            </td><td>VDC                                                </td><td>0                        </td><td>0.35434053042677677              </td><td>0.35434053042677677          </td><td>0.3971964004633067        </td><td>0.35434053042677677       </td><td>0.12084583172462951                </td><td>0.0009800718719372753                </td><td>2.969914763446289e-05                </td><td>0.04484571292803897      </td><td>0.4565946957322325         </td><td>0.12473642006474414                 </td><td>0                          </td><td>0                               </td><td>0                     </td><td>1.250437998065237                                </td><td>1.2508752183495202                           </td><td>1.1545633900563932                        </td><td>1.2478895654051108                        </td><td>0.5451579188078013                                 </td><td>-0.28870042523311157                                 </td><td>-0.2906784360369922                                  </td><td>0.4467732468008396                       </td><td>1.0397916174870996                         </td><td>0.28725080324940483                                 </td><td>-0.15348972386039172                       </td><td>-0.5001196300997884                             </td><td>-0.8847040474699085                   </td><td>1.0839487581911122  </td><td>-0.07429589403668176  </td><td>-0.49159902338921774             </td><td>0.7627858602762365           </td><td>-0.25695422672240265           </td><td>0.951834376768843              </td><td>0.34228328893160503       </td><td>-0.09763822131902254       </td><td>0.316921059401106             </td><td>-0.08482794848298345             </td><td>0.5810160790293857                  </td><td>0.20972228580197347              </td><td>0.5897946151106541                </td><td>0.6468605690104713         </td><td>0.24365580044476434                          </td><td>-0.009744408297390815             </td><td>-0.16857031504527864                                  </td><td>-0.66284660421336                </td><td>-0.5810171328349987                      </td><td>-0.6583693293581894            </td><td>0.20957619764764573                        </td><td>-0.0801828372962077          </td><td>-1.3790783472057957              </td><td>-0.8100777213103473              </td><td>-0.21174860231608736                  </td><td>-0.21743482774569828                     </td><td>-0.4011955497677968                     </td><td>0.318899171021467              </td></tr>\n",
       "<tr><td><i style='opacity: 0.6'>2</i>     </td><td>98873 </td><td>2007  </td><td>Part of an Ongoing Conflict</td><td>State-Based Conflict</td><td>423              </td><td>Thailand: Patani                         </td><td>888          </td><td>Government of Thailand - Patani insurgents</td><td>147            </td><td>Government of Thailand       </td><td>365            </td><td>Patani insurgents</td><td>police                         </td><td>Narathiwat             </td><td>Narathiwat province                                </td><td>Narathiwat             </td><td>6.203358  </td><td>101.720053 </td><td>138804        </td><td>Thailand    </td><td>Asia       </td><td>0                </td><td>25.5                </td><td>5.44             </td><td>32.25             </td><td>2.2        </td><td>1.64                         </td><td>7.15              </td><td>4.4                                   </td><td>35.16            </td><td>30.0                     </td><td>24.72          </td><td>76.0                       </td><td>0.62         </td><td>0.56             </td><td>5.11             </td><td>0.29                  </td><td>0.02                     </td><td>213.41                  </td><td>7.87           </td><td>AFP /                                              </td><td>0                        </td><td>0.004692465326245137             </td><td>0.004692465326245137         </td><td>0.004692465326245137      </td><td>0.004692465326245137      </td><td>0.023373229188322294               </td><td>0.0005642838050547949                </td><td>0.0005939829526892578                </td><td>0.0017522497104333105    </td><td>0.009266134061952421       </td><td>0.0021086394820468654               </td><td>0                          </td><td>0                               </td><td>2                     </td><td>-1.0009286905522303                              </td><td>-0.9964347298307741                          </td><td>-1.1164680061969114                       </td><td>-1.19007576928882                         </td><td>-0.548211586410514                                 </td><td>-0.3689968311155468                                  </td><td>0.3551952338326901                                   </td><td>-0.8777231164726805                      </td><td>-1.2406297201508636                        </td><td>-0.8217548293401227                                 </td><td>-0.15348972386039172                       </td><td>-0.5001196300997884                             </td><td>1.044689390294222                     </td><td>-1.442306909095442  </td><td>-2.1577366241689764   </td><td>-0.4665714320097008              </td><td>-1.0924145519183197          </td><td>-0.23263227135277428           </td><td>-0.8399435113099152            </td><td>-2.189207621575163        </td><td>1.602842852781913          </td><td>-2.177894905777629            </td><td>-0.08482794848298345             </td><td>0.5232157199750008                  </td><td>0.15249542522027876              </td><td>0.7973634297795129                </td><td>-1.073025113821226         </td><td>1.6408621140244655                           </td><td>0.502151307261607                 </td><td>-2.3796848759667846                                   </td><td>0.6198421881078048               </td><td>0.10660921029769553                      </td><td>0.8425075332156862             </td><td>1.330338575851511                          </td><td>-1.0848379806443982          </td><td>0.32570627830861787              </td><td>-0.8774576157851726              </td><td>-0.3021027482168899                   </td><td>-0.3001237087910751                      </td><td>-0.17417604968239705                    </td><td>0.7659809200075027             </td></tr>\n",
       "<tr><td><i style='opacity: 0.6'>3</i>     </td><td>305785</td><td>2012  </td><td>Part of an Ongoing Conflict</td><td>State-Based Conflict</td><td>299              </td><td>Syria: Government                        </td><td>11973        </td><td>Government of Syria - Syrian insurgents   </td><td>118            </td><td>Government of Syria          </td><td>4456           </td><td>Syrian insurgents</td><td>SOHR                           </td><td>Muh Hasan town         </td><td>al-Muhasan town in Reef Deir Izzor                 </td><td>Deir ez Zor governorate</td><td>35.23349  </td><td>40.3166    </td><td>180441        </td><td>Syria       </td><td>Middle East</td><td>0                </td><td>26.16               </td><td>5.7              </td><td>29.46             </td><td>36.7       </td><td>0.73                         </td><td>5.23              </td><td>6.0                                   </td><td>0.0              </td><td>20.0                     </td><td>0.0            </td><td>50.0                       </td><td>2.55         </td><td>-3.08            </td><td>5.09             </td><td>2.5                   </td><td>0.16                     </td><td>145.23                  </td><td>2.6            </td><td>SOHR                                               </td><td>0                        </td><td>0.35434053042677677              </td><td>0.35434053042677677          </td><td>0.3971964004633067        </td><td>0.35434053042677677       </td><td>0.22277330640610615                </td><td>0.0008018769861304981                </td><td>2.969914763446289e-05                </td><td>0.036025066080603484     </td><td>0.4565946957322325         </td><td>0.2656291764426361                  </td><td>0                          </td><td>0                               </td><td>0                     </td><td>1.250437998065237                                </td><td>1.2508752183495202                           </td><td>1.1545633900563932                        </td><td>1.2478895654051108                        </td><td>1.6884986079940467                                 </td><td>-0.32311317061129813                                 </td><td>-0.2906784360369922                                  </td><td>0.1756668237186647                       </td><td>1.0397916174870996                         </td><td>1.5614389168373728                                  </td><td>-0.15348972386039172                       </td><td>-0.5001196300997884                             </td><td>-0.8847040474699085                   </td><td>0.6610120160109709  </td><td>-0.6695646740744803   </td><td>-0.49159902338921774             </td><td>0.7627858602762365           </td><td>-0.25695422672240265           </td><td>0.951834376768843              </td><td>0.5541881494839702        </td><td>0.012594690044059834       </td><td>0.5536166338933323            </td><td>-0.08482794848298345             </td><td>0.5810160790293857                  </td><td>0.20972228580197347              </td><td>0.5897946151106541                </td><td>2.1256841076177797         </td><td>0.24365580044476434                          </td><td>-0.17566922644410032              </td><td>-0.964571556977021                                    </td><td>-0.66284660421336                </td><td>-0.35180835179076725                     </td><td>-0.6583693293581894            </td><td>-0.05727198763898886                       </td><td>-0.0801828372962077          </td><td>-0.8910419642153949              </td><td>-0.8804522777618314              </td><td>-0.21174860231608736                  </td><td>-0.21107414458836157                     </td><td>-0.2553199003551234                     </td><td>0.318899171021467              </td></tr>\n",
       "<tr><td><i style='opacity: 0.6'>4</i>     </td><td>61932 </td><td>2013  </td><td>Part of an Ongoing Conflict</td><td>One-Sided Violence  </td><td>506              </td><td>IS - Civilians                           </td><td>973          </td><td>IS - Civilians                            </td><td>234            </td><td>IS                           </td><td>1              </td><td>Civilians        </td><td>Officials                      </td><td>Tikrīt town            </td><td>Tikrīt town                                        </td><td>Şalāḩ ad Dīn province  </td><td>34.615807 </td><td>43.678606  </td><td>179728        </td><td>Iraq        </td><td>Middle East</td><td>0                </td><td>20.27               </td><td>7.6              </td><td>41.39             </td><td>1.9        </td><td>0.08                         </td><td>0.0               </td><td>8.3                                   </td><td>31.99            </td><td>0.0                      </td><td>0.0            </td><td>70.0                       </td><td>0.31         </td><td>3.9              </td><td>25.91            </td><td>141.35                </td><td>8.59                     </td><td>3054.38                 </td><td>11.92          </td><td>Agence France Presse                               </td><td>0                        </td><td>0.0188886578955184               </td><td>0.0188886578955184           </td><td>0.049181788482670546      </td><td>0.09658162810727332       </td><td>0.00380149089721125                </td><td>0.0005939829526892578                </td><td>0.00020789403344124023               </td><td>0.0034451011255976953    </td><td>0.030857414392206944       </td><td>0.0351340916515696                  </td><td>0                          </td><td>1                               </td><td>0                     </td><td>-0.9095201050464842                              </td><td>-0.9051908535689733                          </td><td>-0.859052371240234                        </td><td>-0.5493669656242468                       </td><td>-0.7677516546429545                                </td><td>-0.36326137355251575                                 </td><td>-0.08671832976235573                                 </td><td>-0.825692590830647                       </td><td>-1.1305602531170833                        </td><td>-0.523083416542943                                  </td><td>-0.15348972386039172                       </td><td>0.9538199369084983                              </td><td>-0.8847040474699085                   </td><td>-1.817822608582934  </td><td>-0.371930284055581    </td><td>-0.4498190926185725              </td><td>-1.078188838338118           </td><td>-0.15966640524388928           </td><td>-0.99936838328759              </td><td>0.49581607835266645       </td><td>0.09966510063829206        </td><td>0.5068417046768807            </td><td>-0.08482794848298345             </td><td>0.06519166261979939                 </td><td>0.6279185746682042               </td><td>1.47735589073771                  </td><td>-1.1008399766163477        </td><td>-0.7543487092550222                          </td><td>-2.0220241177362093               </td><td>1.0696538390707648                                    </td><td>0.5041959005179842               </td><td>-1.2686434759676928                      </td><td>-0.6583693293581894            </td><td>1.0101207535075496                         </td><td>-1.2462074596277863          </td><td>1.4421730722729593               </td><td>2.2369908399400877               </td><td>5.465026582447005                     </td><td>5.150981757046458                        </td><td>3.206980381025956                       </td><td>1.1095636682795034             </td></tr>\n",
       "<tr><td>...                               </td><td>...   </td><td>...   </td><td>...                        </td><td>...                 </td><td>...              </td><td>...                                      </td><td>...          </td><td>...                                       </td><td>...            </td><td>...                          </td><td>...            </td><td>...              </td><td>...                            </td><td>...                    </td><td>...                                                </td><td>...                    </td><td>...       </td><td>...        </td><td>...           </td><td>...         </td><td>...        </td><td>...              </td><td>...                 </td><td>...              </td><td>...               </td><td>...        </td><td>...                          </td><td>...               </td><td>...                                   </td><td>...              </td><td>...                      </td><td>...            </td><td>...                        </td><td>...          </td><td>...              </td><td>...              </td><td>...                   </td><td>...                      </td><td>...                     </td><td>...            </td><td>...                                                </td><td>...                      </td><td>...                              </td><td>...                          </td><td>...                       </td><td>...                       </td><td>...                                </td><td>...                                  </td><td>...                                  </td><td>...                      </td><td>...                        </td><td>...                                 </td><td>...                        </td><td>...                             </td><td>...                   </td><td>...                                              </td><td>...                                          </td><td>...                                       </td><td>...                                       </td><td>...                                                </td><td>...                                                  </td><td>...                                                  </td><td>...                                      </td><td>...                                        </td><td>...                                                 </td><td>...                                        </td><td>...                                             </td><td>...                                   </td><td>...                 </td><td>...                   </td><td>...                              </td><td>...                          </td><td>...                            </td><td>...                            </td><td>...                       </td><td>...                        </td><td>...                           </td><td>...                              </td><td>...                                 </td><td>...                              </td><td>...                               </td><td>...                        </td><td>...                                          </td><td>...                               </td><td>...                                                   </td><td>...                              </td><td>...                                      </td><td>...                            </td><td>...                                        </td><td>...                          </td><td>...                              </td><td>...                              </td><td>...                                   </td><td>...                                      </td><td>...                                     </td><td>...                            </td></tr>\n",
       "<tr><td><i style='opacity: 0.6'>33,666</i></td><td>164096</td><td>2014  </td><td>Part of an Ongoing Conflict</td><td>Non-State Conflict  </td><td>4979             </td><td>Jalisco Cartel New Generation - Los Zetas</td><td>5589         </td><td>Jalisco Cartel New Generation - Los Zetas </td><td>1151           </td><td>Jalisco Cartel New Generation</td><td>1088           </td><td>Los Zetas        </td><td>Milenio\n",
       "Drug Violence in Mexico report                                </td><td>Veracruz state         </td><td>Veracruz                                           </td><td>Veracruz state         </td><td>19.333333 </td><td>-96.666667 </td><td>157127        </td><td>Mexico      </td><td>Americas   </td><td>364              </td><td>21.87               </td><td>2.85             </td><td>21.26             </td><td>4.0        </td><td>2.58                         </td><td>5.67              </td><td>5.6                                   </td><td>31.7             </td><td>70.0                     </td><td>34.48          </td><td>58.0                       </td><td>1.89         </td><td>1.28             </td><td>20.06            </td><td>10.07                 </td><td>0.61                     </td><td>2468.55                 </td><td>-1.18          </td><td>&#x27;Justice in Mexico Project Department of Politic...</td><td>0                        </td><td>0.0030590122063496776            </td><td>0.0030590122063496776        </td><td>0.01799768346648451       </td><td>0.00585073208398919       </td><td>0.00011879659053785156             </td><td>0.0003266906239790918                </td><td>0.00014849573817231446               </td><td>0.0015740548246265332    </td><td>0.04288556918416441        </td><td>0.00014849573817231446              </td><td>0                          </td><td>2                               </td><td>3                     </td><td>-1.0114464148259041                              </td><td>-1.0069335022039938                          </td><td>-1.0394838910696809                       </td><td>-1.18199960789809                         </td><td>-0.8090611667231103                                </td><td>-0.4148804916197956                                  </td><td>-0.15470503185390122                                 </td><td>-0.8832000139086841                      </td><td>-1.0692423244393927                        </td><td>-0.8394817297399553                                 </td><td>-0.15348972386039172                       </td><td>2.4077595039167847                              </td><td>2.0093861091762872                    </td><td>-0.7792966909726865 </td><td>-0.07429589403668176  </td><td>0.452990715773196                </td><td>-0.3056489102650397          </td><td>0.6094105973060826             </td><td>-0.5232836694421708            </td><td>-0.9484031399037696       </td><td>-3.535046004895015         </td><td>-0.9758513881997289           </td><td>24.75561823651427                </td><td>0.20531374517588408                 </td><td>-0.4175721474973728              </td><td>-0.020264266711798363             </td><td>-0.9061359370504951        </td><td>3.0841301742056952                           </td><td>-0.02033535413654258              </td><td>-1.3183498867244623                                   </td><td>0.4936162716848461               </td><td>1.9402794586515466                       </td><td>1.435086747565242              </td><td>0.3696851088196265                         </td><td>-0.423743663518905           </td><td>0.5663817548518292               </td><td>1.3610522117673582               </td><td>0.09774501056584725                   </td><td>0.07515659749178899                      </td><td>2.5097597585618416                      </td><td>-0.0017780606990671541         </td></tr>\n",
       "<tr><td><i style='opacity: 0.6'>33,667</i></td><td>256781</td><td>2017  </td><td>Part of an Ongoing Conflict</td><td>One-Sided Violence  </td><td>13999            </td><td>Ansaroul Islam - Civilians               </td><td>15176        </td><td>Ansaroul Islam - Civilians                </td><td>6648           </td><td>Ansaroul Islam               </td><td>1              </td><td>Civilians        </td><td>Sahel Memo                     </td><td>Djibo town             </td><td>Boguel Kdaje, 20km from Djibo, Sahel Region        </td><td>Sahel region           </td><td>14.0994   </td><td>-1.62554   </td><td>150117        </td><td>Burkina Faso</td><td>Africa     </td><td>1                </td><td>22.06               </td><td>6.2              </td><td>14.77             </td><td>1.5        </td><td>0.01                         </td><td>8.34              </td><td>7.5                                   </td><td>33.5             </td><td>70.0                     </td><td>23.04          </td><td>53.0                       </td><td>2.95         </td><td>2.89             </td><td>7.74             </td><td>0.0                   </td><td>0.0                      </td><td>0.0                     </td><td>-6.36          </td><td>Sahel memo                                         </td><td>0                        </td><td>0.00011879659053785156           </td><td>0.00011879659053785156       </td><td>0.00011879659053785156    </td><td>0.09658162810727332       </td><td>8.909744290338868e-05              </td><td>8.909744290338868e-05                </td><td>2.969914763446289e-05                </td><td>0.0016928514151643848    </td><td>0.0028808173205429003      </td><td>0.0003563897716135547               </td><td>0                          </td><td>1                               </td><td>1                     </td><td>-1.030378318518517                               </td><td>-1.0258312924757895                          </td><td>-1.1429312957718971                       </td><td>-0.5493669656242468                       </td><td>-0.8093943079495631                                </td><td>-0.4607641521240443                                  </td><td>-0.2906784360369922                                  </td><td>-0.8795487489513484                      </td><td>-1.2731812131526004                        </td><td>-0.8376016039399731                                 </td><td>-0.15348972386039172                       </td><td>0.9538199369084983                              </td><td>0.07999267141215669                   </td><td>0.16287251416518794 </td><td>0.8186072760200159    </td><td>2.2735461532187027               </td><td>1.298844220245489            </td><td>5.219679172024943              </td><td>-0.99936838328759              </td><td>-1.4430185160311273       </td><td>-1.07363756266482          </td><td>-1.435728322010845            </td><td>-0.016584964458265728            </td><td>0.22195324247941892                 </td><td>0.31977394076677107              </td><td>-0.5031035524468859               </td><td>-1.1379264603431767        </td><td>-0.8618261179919222                          </td><td>0.9222588255479566                </td><td>0.36209717957588244                                   </td><td>0.5592829334077727               </td><td>1.9402794586515466                       </td><td>0.7405061930407626             </td><td>0.1028369235329919                         </td><td>0.128035845263003            </td><td>1.1045588621220657               </td><td>-0.48365956585452663             </td><td>-0.31395917460206313                  </td><td>-0.31284507510574844                     </td><td>-0.42816415722224066                    </td><td>-0.4412246375012806            </td></tr>\n",
       "<tr><td><i style='opacity: 0.6'>33,668</i></td><td>310250</td><td>2012  </td><td>Part of an Ongoing Conflict</td><td>State-Based Conflict</td><td>299              </td><td>Syria: Government                        </td><td>11973        </td><td>Government of Syria - Syrian insurgents   </td><td>118            </td><td>Government of Syria          </td><td>4456           </td><td>Syrian insurgents</td><td>Violations Documentation Center</td><td>Rif Dimashq governorate</td><td>on the Dmascus road, Rif DImashq                   </td><td>Rif Dimashq governorate</td><td>33.5      </td><td>37.383333  </td><td>178275        </td><td>Syria       </td><td>Middle East</td><td>0                </td><td>26.16               </td><td>5.7              </td><td>29.46             </td><td>36.7       </td><td>0.73                         </td><td>5.23              </td><td>6.0                                   </td><td>0.0              </td><td>20.0                     </td><td>0.0            </td><td>50.0                       </td><td>2.55         </td><td>-3.08            </td><td>5.09             </td><td>2.5                   </td><td>0.16                     </td><td>145.23                  </td><td>2.6            </td><td>SOHR                                               </td><td>0                        </td><td>0.35434053042677677              </td><td>0.35434053042677677          </td><td>0.3971964004633067        </td><td>0.35434053042677677       </td><td>0.0312138041638205                 </td><td>0.007098096284636631                 </td><td>2.969914763446289e-05                </td><td>0.09500757328264679      </td><td>0.4565946957322325         </td><td>0.2656291764426361                  </td><td>0                          </td><td>0                               </td><td>0                     </td><td>1.250437998065237                                </td><td>1.2508752183495202                           </td><td>1.1545633900563932                        </td><td>1.2478895654051108                        </td><td>-0.4602623026269567                                </td><td>0.8928038327512933                                   </td><td>-0.2906784360369922                                  </td><td>1.9885198750358328                       </td><td>1.0397916174870996                         </td><td>1.5614389168373728                                  </td><td>-0.15348972386039172                       </td><td>-0.5001196300997884                             </td><td>-0.8847040474699085                   </td><td>0.706400002210902   </td><td>-0.6695646740744803   </td><td>-0.49159902338921774             </td><td>0.7627858602762365           </td><td>-0.25695422672240265           </td><td>0.951834376768843              </td><td>0.39037046049883894       </td><td>-0.06337208755018355       </td><td>0.4115205656144625            </td><td>-0.08482794848298345             </td><td>0.5810160790293857                  </td><td>0.20972228580197347              </td><td>0.5897946151106541                </td><td>2.1256841076177797         </td><td>0.24365580044476434                          </td><td>-0.17566922644410032              </td><td>-0.964571556977021                                    </td><td>-0.66284660421336                </td><td>-0.35180835179076725                     </td><td>-0.6583693293581894            </td><td>-0.05727198763898886                       </td><td>-0.0801828372962077          </td><td>-0.8910419642153949              </td><td>-0.8804522777618314              </td><td>-0.21174860231608736                  </td><td>-0.21107414458836157                     </td><td>-0.2553199003551234                     </td><td>0.318899171021467              </td></tr>\n",
       "<tr><td><i style='opacity: 0.6'>33,669</i></td><td>386771</td><td>2020  </td><td>Part of an Ongoing Conflict</td><td>Non-State Conflict  </td><td>15263            </td><td>Guerreros Unidos - Los Tlacos            </td><td>16692        </td><td>Guerreros Unidos - Los Tlacos             </td><td>3298           </td><td>Guerreros Unidos             </td><td>8006           </td><td>Los Tlacos       </td><td>Novedades Acapulco             </td><td>Iguala town            </td><td>Bugambilias neighborhood                           </td><td>Guerrero state         </td><td>18.34928  </td><td>-99.53936  </td><td>155681        </td><td>Mexico      </td><td>Americas   </td><td>0                </td><td>19.21               </td><td>1.07             </td><td>23.78             </td><td>3.4        </td><td>3.0                          </td><td>6.04              </td><td>5.0                                   </td><td>42.0             </td><td>75.0                     </td><td>38.11          </td><td>58.0                       </td><td>3.0          </td><td>1.14             </td><td>19.74            </td><td>5.79                  </td><td>0.44                     </td><td>1710.26                 </td><td>2.2            </td><td>Novedades Acapulco                                 </td><td>0                        </td><td>0.00020789403344124023           </td><td>0.00020789403344124023       </td><td>0.0003563897716135547     </td><td>0.00020789403344124023    </td><td>5.939829526892578e-05              </td><td>0.00023759318107570312               </td><td>2.969914763446289e-05                </td><td>0.0032075079445219924    </td><td>0.04288556918416441        </td><td>5.939829526892578e-05               </td><td>0                          </td><td>2                               </td><td>3                     </td><td>-1.0298046244672254                              </td><td>-1.025258632164523                           </td><td>-1.1415565794303393                       </td><td>-1.2213450095452358                       </td><td>-0.809727449176016                                 </td><td>-0.4320868643088889                                  </td><td>-0.2906784360369922                                  </td><td>-0.8329951207453183                      </td><td>-1.0692423244393927                        </td><td>-0.8402874979399477                                 </td><td>-0.15348972386039172                       </td><td>2.4077595039167847                              </td><td>2.0093861091762872                    </td><td>1.4842575816073016  </td><td>1.7115104460767137    </td><td>2.528666116958295                </td><td>1.5525640059817947           </td><td>2.4100739827747737             </td><td>2.506664858968694              </td><td>-1.0413977855601535       </td><td>-3.609444015791241         </td><td>-1.0707133063581988           </td><td>-0.08482794848298345             </td><td>-0.027639217073606517               </td><td>-0.8093560391720521              </td><td>0.167217243311687                 </td><td>-0.9617656626407387        </td><td>3.7289946266270957                           </td><td>0.1102863112129948                </td><td>-1.8490173813456234                                   </td><td>0.8693755026549257               </td><td>2.169488239695778                        </td><td>1.655482500443202              </td><td>0.3696851088196265                         </td><td>0.15406318058290422          </td><td>0.5195837455239825               </td><td>1.3131376201408158               </td><td>-0.07723948918774326                  </td><td>-0.03297501618293455                     </td><td>1.6072873249064923                      </td><td>0.28496507242670144            </td></tr>\n",
       "<tr><td><i style='opacity: 0.6'>33,670</i></td><td>330952</td><td>2013  </td><td>Part of an Ongoing Conflict</td><td>State-Based Conflict</td><td>299              </td><td>Syria: Government                        </td><td>11973        </td><td>Government of Syria - Syrian insurgents   </td><td>118            </td><td>Government of Syria          </td><td>4456           </td><td>Syrian insurgents</td><td>SOHR                           </td><td>Damascus city          </td><td>Damascus and its countryside                       </td><td>Damascus governorate   </td><td>33.513364 </td><td>36.291575  </td><td>178273        </td><td>Syria       </td><td>Middle East</td><td>0                </td><td>26.16               </td><td>5.7              </td><td>29.46             </td><td>20.75      </td><td>0.73                         </td><td>5.51              </td><td>6.2                                   </td><td>0.0              </td><td>10.0                     </td><td>0.0            </td><td>49.0                       </td><td>2.55         </td><td>-4.29            </td><td>5.17             </td><td>2.5                   </td><td>0.15                     </td><td>58.04                   </td><td>2.6            </td><td>SOHR                                               </td><td>1                        </td><td>0.35434053042677677              </td><td>0.35434053042677677          </td><td>0.3971964004633067        </td><td>0.35434053042677677       </td><td>0.22277330640610615                </td><td>0.020076623800896913                 </td><td>0.002138338629681328                 </td><td>0.020165721243800304     </td><td>0.4565946957322325         </td><td>0.2656291764426361                  </td><td>0                          </td><td>0                               </td><td>0                     </td><td>1.250437998065237                                </td><td>1.2508752183495202                           </td><td>1.1545633900563932                        </td><td>1.2478895654051108                        </td><td>1.6884986079940467                                 </td><td>3.39919878779588                                     </td><td>2.122849488212873                                    </td><td>-0.3117770480856492                      </td><td>1.0397916174870996                         </td><td>1.5614389168373728                                  </td><td>-0.15348972386039172                       </td><td>-0.5001196300997884                             </td><td>-0.8847040474699085                   </td><td>0.91684167977215    </td><td>-0.371930284055581    </td><td>-0.49159902338921774             </td><td>0.7627858602762365           </td><td>-0.25695422672240265           </td><td>0.951834376768843              </td><td>0.391633380732355         </td><td>-0.09164681916266063       </td><td>0.4113893596419058            </td><td>-0.08482794848298345             </td><td>0.5810160790293857                  </td><td>0.20972228580197347              </td><td>0.5897946151106541                </td><td>0.6468605690104713         </td><td>0.24365580044476434                          </td><td>-0.07682039861201824              </td><td>-0.7876823921033004                                   </td><td>-0.66284660421336                </td><td>-0.81022591387923                        </td><td>-0.6583693293581894            </td><td>-0.11064162469631578                       </td><td>-0.0801828372962077          </td><td>-1.2955104734060694              </td><td>-0.8684736298551958              </td><td>-0.21174860231608736                  </td><td>-0.21743482774569828                     </td><td>-0.35908834183583643                    </td><td>0.318899171021467              </td></tr>\n",
       "</tbody>\n",
       "</table>"
      ],
      "text/plain": [
       "#       id      year    active_year                  type_of_violence      conflict_new_id    conflict_name                              dyad_new_id    dyad_name                                   side_a_new_id    side_a                         side_b_new_id    side_b             source_original                  where_coordinates        where_description                                    adm_1                    latitude    longitude    priogrid_gid    country       region       conflict_length    capital_investment    economic_growth    savings_pcnt_gdp    inflation    pcnt_world_tourist_arrivals    death_rate_p1000    human_flight_brain_drain_index_score    government_debt    inv_freedom_index_score    external_debt    labor_freedom_index_score    remittances    pop_growth_pcnt    banking_z_score    oil_reserves_barrels    pcnt_world_oil_reserves    oil_prod_barrels_daily    trade_balance    media_org_source                                     incident_classification    frequency_encoded_conflict_name    frequency_encoded_dyad_name    frequency_encoded_side_a    frequency_encoded_side_b    frequency_encoded_source_original    frequency_encoded_where_coordinates    frequency_encoded_where_description    frequency_encoded_adm_1    frequency_encoded_country    frequency_encoded_media_org_source    label_encoded_active_year    label_encoded_type_of_violence    label_encoded_region    standard_scaled_frequency_encoded_conflict_name    standard_scaled_frequency_encoded_dyad_name    standard_scaled_frequency_encoded_side_a    standard_scaled_frequency_encoded_side_b    standard_scaled_frequency_encoded_source_original    standard_scaled_frequency_encoded_where_coordinates    standard_scaled_frequency_encoded_where_description    standard_scaled_frequency_encoded_adm_1    standard_scaled_frequency_encoded_country    standard_scaled_frequency_encoded_media_org_source    standard_scaled_label_encoded_active_year    standard_scaled_label_encoded_type_of_violence    standard_scaled_label_encoded_region    standard_scaled_id    standard_scaled_year    standard_scaled_conflict_new_id    standard_scaled_dyad_new_id    standard_scaled_side_a_new_id    standard_scaled_side_b_new_id    standard_scaled_latitude    standard_scaled_longitude    standard_scaled_priogrid_gid    standard_scaled_conflict_length    standard_scaled_capital_investment    standard_scaled_economic_growth    standard_scaled_savings_pcnt_gdp    standard_scaled_inflation    standard_scaled_pcnt_world_tourist_arrivals    standard_scaled_death_rate_p1000    standard_scaled_human_flight_brain_drain_index_score    standard_scaled_government_debt    standard_scaled_inv_freedom_index_score    standard_scaled_external_debt    standard_scaled_labor_freedom_index_score    standard_scaled_remittances    standard_scaled_pop_growth_pcnt    standard_scaled_banking_z_score    standard_scaled_oil_reserves_barrels    standard_scaled_pcnt_world_oil_reserves    standard_scaled_oil_prod_barrels_daily    standard_scaled_trade_balance\n",
       "0       35094   2010    Part of an Ongoing Conflict  State-Based Conflict  329                Ethiopia: Ogaden                           719            Government of Ethiopia - ONLF               97               Government of Ethiopia         497              ONLF               No Source Specified              Yahyah                   'Yahyah, Kebridehar woreda, Korahe zone, Somali ...  Somali state             6.53667     44.385       139409          Ethiopia      Africa       0                  0.0                   12.55              32.56               8.1          0.05                           0.0                 7.5                                     30.9               25.0                       24.43            62.0                         1.46           2.78               9.9                0.0                     0.0                        0.0                       0.0              'ONLF Military Communiqu November   at http://ww...  0                          0.0022868343678536427              0.0022868343678536427          0.006147723560333818        0.0022868343678536427       0.06319978616613703                  2.969914763446289e-05                  2.969914763446289e-05                  0.0025838258441982717      0.007038697989367705         0.00020789403344124023                0                            0                                 1                       -1.0164184299370953                                -1.0118965582349704                            -1.1080478686048707                         -1.206849335254182                          -0.10146920173721709                                 -0.4722350672501065                                    -0.2906784360369922                                    -0.8521642617713308                        -1.2519848921282135                          -0.8389445509399603                                   -0.15348972386039172                         -0.5001196300997884                               0.07999267141215669                     -2.0906384593407727   -1.2648334541122788     -0.48554396095868946               -1.1206986177424856            -0.27456667716247835             -0.7821300961971319              -2.157709083048254          0.11795954021433736          -2.1382050990792374             -0.08482794848298345               -1.7099799707625967                   1.7174299588197004                 0.8204266314093862                  -0.5259994788504975          -0.8004104558565507                            -2.0220241177362093                 0.36209717957588244                                     0.4644310886968787                 -0.12259957074653587                       0.8249001590188244               0.5831636570489341                           -0.6475787472700563            1.067788997650186                  -0.1602360723753649                -0.31395917460206313                    -0.31284507510574844                       -0.42816415722224066                      0.09832753015549112\n",
       "1       347391  2014    Part of an Ongoing Conflict  State-Based Conflict  299                Syria: Government                          11973          Government of Syria - Syrian insurgents     118              Government of Syria            4456             Syrian insurgents  VDC                              Jasim town               Dara: Jasim                                          Daraa governorate        32.99115    36.060232    176833          Syria         Middle East  0                  26.16                 5.7                29.46               20.75        0.73                           5.7                 6.9                                     0.0                15.0                       0.0              55.0                         2.55           -4.54              5.56               2.5                     0.15                       22.66                     2.6              VDC                                                  0                          0.35434053042677677                0.35434053042677677            0.3971964004633067          0.35434053042677677         0.12084583172462951                  0.0009800718719372753                  2.969914763446289e-05                  0.04484571292803897        0.4565946957322325           0.12473642006474414                   0                            0                                 0                       1.250437998065237                                  1.2508752183495202                             1.1545633900563932                          1.2478895654051108                          0.5451579188078013                                   -0.28870042523311157                                   -0.2906784360369922                                    0.4467732468008396                         1.0397916174870996                           0.28725080324940483                                   -0.15348972386039172                         -0.5001196300997884                               -0.8847040474699085                     1.0839487581911122    -0.07429589403668176    -0.49159902338921774               0.7627858602762365             -0.25695422672240265             0.951834376768843                0.34228328893160503         -0.09763822131902254         0.316921059401106               -0.08482794848298345               0.5810160790293857                    0.20972228580197347                0.5897946151106541                  0.6468605690104713           0.24365580044476434                            -0.009744408297390815               -0.16857031504527864                                    -0.66284660421336                  -0.5810171328349987                        -0.6583693293581894              0.20957619764764573                          -0.0801828372962077            -1.3790783472057957                -0.8100777213103473                -0.21174860231608736                    -0.21743482774569828                       -0.4011955497677968                       0.318899171021467\n",
       "2       98873   2007    Part of an Ongoing Conflict  State-Based Conflict  423                Thailand: Patani                           888            Government of Thailand - Patani insurgents  147              Government of Thailand         365              Patani insurgents  police                           Narathiwat               Narathiwat province                                  Narathiwat               6.203358    101.720053   138804          Thailand      Asia         0                  25.5                  5.44               32.25               2.2          1.64                           7.15                4.4                                     35.16              30.0                       24.72            76.0                         0.62           0.56               5.11               0.29                    0.02                       213.41                    7.87             AFP /                                                0                          0.004692465326245137               0.004692465326245137           0.004692465326245137        0.004692465326245137        0.023373229188322294                 0.0005642838050547949                  0.0005939829526892578                  0.0017522497104333105      0.009266134061952421         0.0021086394820468654                 0                            0                                 2                       -1.0009286905522303                                -0.9964347298307741                            -1.1164680061969114                         -1.19007576928882                           -0.548211586410514                                   -0.3689968311155468                                    0.3551952338326901                                     -0.8777231164726805                        -1.2406297201508636                          -0.8217548293401227                                   -0.15348972386039172                         -0.5001196300997884                               1.044689390294222                       -1.442306909095442    -2.1577366241689764     -0.4665714320097008                -1.0924145519183197            -0.23263227135277428             -0.8399435113099152              -2.189207621575163          1.602842852781913            -2.177894905777629              -0.08482794848298345               0.5232157199750008                    0.15249542522027876                0.7973634297795129                  -1.073025113821226           1.6408621140244655                             0.502151307261607                   -2.3796848759667846                                     0.6198421881078048                 0.10660921029769553                        0.8425075332156862               1.330338575851511                            -1.0848379806443982            0.32570627830861787                -0.8774576157851726                -0.3021027482168899                     -0.3001237087910751                        -0.17417604968239705                      0.7659809200075027\n",
       "3       305785  2012    Part of an Ongoing Conflict  State-Based Conflict  299                Syria: Government                          11973          Government of Syria - Syrian insurgents     118              Government of Syria            4456             Syrian insurgents  SOHR                             Muh Hasan town           al-Muhasan town in Reef Deir Izzor                   Deir ez Zor governorate  35.23349    40.3166      180441          Syria         Middle East  0                  26.16                 5.7                29.46               36.7         0.73                           5.23                6.0                                     0.0                20.0                       0.0              50.0                         2.55           -3.08              5.09               2.5                     0.16                       145.23                    2.6              SOHR                                                 0                          0.35434053042677677                0.35434053042677677            0.3971964004633067          0.35434053042677677         0.22277330640610615                  0.0008018769861304981                  2.969914763446289e-05                  0.036025066080603484       0.4565946957322325           0.2656291764426361                    0                            0                                 0                       1.250437998065237                                  1.2508752183495202                             1.1545633900563932                          1.2478895654051108                          1.6884986079940467                                   -0.32311317061129813                                   -0.2906784360369922                                    0.1756668237186647                         1.0397916174870996                           1.5614389168373728                                    -0.15348972386039172                         -0.5001196300997884                               -0.8847040474699085                     0.6610120160109709    -0.6695646740744803     -0.49159902338921774               0.7627858602762365             -0.25695422672240265             0.951834376768843                0.5541881494839702          0.012594690044059834         0.5536166338933323              -0.08482794848298345               0.5810160790293857                    0.20972228580197347                0.5897946151106541                  2.1256841076177797           0.24365580044476434                            -0.17566922644410032                -0.964571556977021                                      -0.66284660421336                  -0.35180835179076725                       -0.6583693293581894              -0.05727198763898886                         -0.0801828372962077            -0.8910419642153949                -0.8804522777618314                -0.21174860231608736                    -0.21107414458836157                       -0.2553199003551234                       0.318899171021467\n",
       "4       61932   2013    Part of an Ongoing Conflict  One-Sided Violence    506                IS - Civilians                             973            IS - Civilians                              234              IS                             1                Civilians          Officials                        Tikrīt town              Tikrīt town                                          Şalāḩ ad Dīn province    34.615807   43.678606    179728          Iraq          Middle East  0                  20.27                 7.6                41.39               1.9          0.08                           0.0                 8.3                                     31.99              0.0                        0.0              70.0                         0.31           3.9                25.91              141.35                  8.59                       3054.38                   11.92            Agence France Presse                                 0                          0.0188886578955184                 0.0188886578955184             0.049181788482670546        0.09658162810727332         0.00380149089721125                  0.0005939829526892578                  0.00020789403344124023                 0.0034451011255976953      0.030857414392206944         0.0351340916515696                    0                            1                                 0                       -0.9095201050464842                                -0.9051908535689733                            -0.859052371240234                          -0.5493669656242468                         -0.7677516546429545                                  -0.36326137355251575                                   -0.08671832976235573                                   -0.825692590830647                         -1.1305602531170833                          -0.523083416542943                                    -0.15348972386039172                         0.9538199369084983                                -0.8847040474699085                     -1.817822608582934    -0.371930284055581      -0.4498190926185725                -1.078188838338118             -0.15966640524388928             -0.99936838328759                0.49581607835266645         0.09966510063829206          0.5068417046768807              -0.08482794848298345               0.06519166261979939                   0.6279185746682042                 1.47735589073771                    -1.1008399766163477          -0.7543487092550222                            -2.0220241177362093                 1.0696538390707648                                      0.5041959005179842                 -1.2686434759676928                        -0.6583693293581894              1.0101207535075496                           -1.2462074596277863            1.4421730722729593                 2.2369908399400877                 5.465026582447005                       5.150981757046458                          3.206980381025956                         1.1095636682795034\n",
       "...     ...     ...     ...                          ...                   ...                ...                                        ...            ...                                         ...              ...                            ...              ...                ...                              ...                      ...                                                  ...                      ...         ...          ...             ...           ...          ...                ...                   ...                ...                 ...          ...                            ...                 ...                                     ...                ...                        ...              ...                          ...            ...                ...                ...                     ...                        ...                       ...              ...                                                  ...                        ...                                ...                            ...                         ...                         ...                                  ...                                    ...                                    ...                        ...                          ...                                   ...                          ...                               ...                     ...                                                ...                                            ...                                         ...                                         ...                                                  ...                                                    ...                                                    ...                                        ...                                          ...                                                   ...                                          ...                                               ...                                     ...                   ...                     ...                                ...                            ...                              ...                              ...                         ...                          ...                             ...                                ...                                   ...                                ...                                 ...                          ...                                            ...                                 ...                                                     ...                                ...                                        ...                              ...                                          ...                            ...                                ...                                ...                                     ...                                        ...                                       ...\n",
       "33,666  164096  2014    Part of an Ongoing Conflict  Non-State Conflict    4979               Jalisco Cartel New Generation - Los Zetas  5589           Jalisco Cartel New Generation - Los Zetas   1151             Jalisco Cartel New Generation  1088             Los Zetas          Milenio                          Veracruz state           Veracruz                                             Veracruz state           19.333333   -96.666667   157127          Mexico        Americas     364                21.87                 2.85               21.26               4.0          2.58                           5.67                5.6                                     31.7               70.0                       34.48            58.0                         1.89           1.28               20.06              10.07                   0.61                       2468.55                   -1.18            'Justice in Mexico Project Department of Politic...  0                          0.0030590122063496776              0.0030590122063496776          0.01799768346648451         0.00585073208398919         0.00011879659053785156               0.0003266906239790918                  0.00014849573817231446                 0.0015740548246265332      0.04288556918416441          0.00014849573817231446                0                            2                                 3                       -1.0114464148259041                                -1.0069335022039938                            -1.0394838910696809                         -1.18199960789809                           -0.8090611667231103                                  -0.4148804916197956                                    -0.15470503185390122                                   -0.8832000139086841                        -1.0692423244393927                          -0.8394817297399553                                   -0.15348972386039172                         2.4077595039167847                                2.0093861091762872                      -0.7792966909726865   -0.07429589403668176    0.452990715773196                  -0.3056489102650397            0.6094105973060826               -0.5232836694421708              -0.9484031399037696         -3.535046004895015           -0.9758513881997289             24.75561823651427                  0.20531374517588408                   -0.4175721474973728                -0.020264266711798363               -0.9061359370504951          3.0841301742056952                             -0.02033535413654258                -1.3183498867244623                                     0.4936162716848461                 1.9402794586515466                         1.435086747565242                0.3696851088196265                           -0.423743663518905             0.5663817548518292                 1.3610522117673582                 0.09774501056584725                     0.07515659749178899                        2.5097597585618416                        -0.0017780606990671541\n",
       "                                                                                                                                                                                                                                                                                        Drug Violence in Mexico report\n",
       "33,667  256781  2017    Part of an Ongoing Conflict  One-Sided Violence    13999              Ansaroul Islam - Civilians                 15176          Ansaroul Islam - Civilians                  6648             Ansaroul Islam                 1                Civilians          Sahel Memo                       Djibo town               Boguel Kdaje, 20km from Djibo, Sahel Region          Sahel region             14.0994     -1.62554     150117          Burkina Faso  Africa       1                  22.06                 6.2                14.77               1.5          0.01                           8.34                7.5                                     33.5               70.0                       23.04            53.0                         2.95           2.89               7.74               0.0                     0.0                        0.0                       -6.36            Sahel memo                                           0                          0.00011879659053785156             0.00011879659053785156         0.00011879659053785156      0.09658162810727332         8.909744290338868e-05                8.909744290338868e-05                  2.969914763446289e-05                  0.0016928514151643848      0.0028808173205429003        0.0003563897716135547                 0                            1                                 1                       -1.030378318518517                                 -1.0258312924757895                            -1.1429312957718971                         -0.5493669656242468                         -0.8093943079495631                                  -0.4607641521240443                                    -0.2906784360369922                                    -0.8795487489513484                        -1.2731812131526004                          -0.8376016039399731                                   -0.15348972386039172                         0.9538199369084983                                0.07999267141215669                     0.16287251416518794   0.8186072760200159      2.2735461532187027                 1.298844220245489              5.219679172024943                -0.99936838328759                -1.4430185160311273         -1.07363756266482            -1.435728322010845              -0.016584964458265728              0.22195324247941892                   0.31977394076677107                -0.5031035524468859                 -1.1379264603431767          -0.8618261179919222                            0.9222588255479566                  0.36209717957588244                                     0.5592829334077727                 1.9402794586515466                         0.7405061930407626               0.1028369235329919                           0.128035845263003              1.1045588621220657                 -0.48365956585452663               -0.31395917460206313                    -0.31284507510574844                       -0.42816415722224066                      -0.4412246375012806\n",
       "33,668  310250  2012    Part of an Ongoing Conflict  State-Based Conflict  299                Syria: Government                          11973          Government of Syria - Syrian insurgents     118              Government of Syria            4456             Syrian insurgents  Violations Documentation Center  Rif Dimashq governorate  on the Dmascus road, Rif DImashq                     Rif Dimashq governorate  33.5        37.383333    178275          Syria         Middle East  0                  26.16                 5.7                29.46               36.7         0.73                           5.23                6.0                                     0.0                20.0                       0.0              50.0                         2.55           -3.08              5.09               2.5                     0.16                       145.23                    2.6              SOHR                                                 0                          0.35434053042677677                0.35434053042677677            0.3971964004633067          0.35434053042677677         0.0312138041638205                   0.007098096284636631                   2.969914763446289e-05                  0.09500757328264679        0.4565946957322325           0.2656291764426361                    0                            0                                 0                       1.250437998065237                                  1.2508752183495202                             1.1545633900563932                          1.2478895654051108                          -0.4602623026269567                                  0.8928038327512933                                     -0.2906784360369922                                    1.9885198750358328                         1.0397916174870996                           1.5614389168373728                                    -0.15348972386039172                         -0.5001196300997884                               -0.8847040474699085                     0.706400002210902     -0.6695646740744803     -0.49159902338921774               0.7627858602762365             -0.25695422672240265             0.951834376768843                0.39037046049883894         -0.06337208755018355         0.4115205656144625              -0.08482794848298345               0.5810160790293857                    0.20972228580197347                0.5897946151106541                  2.1256841076177797           0.24365580044476434                            -0.17566922644410032                -0.964571556977021                                      -0.66284660421336                  -0.35180835179076725                       -0.6583693293581894              -0.05727198763898886                         -0.0801828372962077            -0.8910419642153949                -0.8804522777618314                -0.21174860231608736                    -0.21107414458836157                       -0.2553199003551234                       0.318899171021467\n",
       "33,669  386771  2020    Part of an Ongoing Conflict  Non-State Conflict    15263              Guerreros Unidos - Los Tlacos              16692          Guerreros Unidos - Los Tlacos               3298             Guerreros Unidos               8006             Los Tlacos         Novedades Acapulco               Iguala town              Bugambilias neighborhood                             Guerrero state           18.34928    -99.53936    155681          Mexico        Americas     0                  19.21                 1.07               23.78               3.4          3.0                            6.04                5.0                                     42.0               75.0                       38.11            58.0                         3.0            1.14               19.74              5.79                    0.44                       1710.26                   2.2              Novedades Acapulco                                   0                          0.00020789403344124023             0.00020789403344124023         0.0003563897716135547       0.00020789403344124023      5.939829526892578e-05                0.00023759318107570312                 2.969914763446289e-05                  0.0032075079445219924      0.04288556918416441          5.939829526892578e-05                 0                            2                                 3                       -1.0298046244672254                                -1.025258632164523                             -1.1415565794303393                         -1.2213450095452358                         -0.809727449176016                                   -0.4320868643088889                                    -0.2906784360369922                                    -0.8329951207453183                        -1.0692423244393927                          -0.8402874979399477                                   -0.15348972386039172                         2.4077595039167847                                2.0093861091762872                      1.4842575816073016    1.7115104460767137      2.528666116958295                  1.5525640059817947             2.4100739827747737               2.506664858968694                -1.0413977855601535         -3.609444015791241           -1.0707133063581988             -0.08482794848298345               -0.027639217073606517                 -0.8093560391720521                0.167217243311687                   -0.9617656626407387          3.7289946266270957                             0.1102863112129948                  -1.8490173813456234                                     0.8693755026549257                 2.169488239695778                          1.655482500443202                0.3696851088196265                           0.15406318058290422            0.5195837455239825                 1.3131376201408158                 -0.07723948918774326                    -0.03297501618293455                       1.6072873249064923                        0.28496507242670144\n",
       "33,670  330952  2013    Part of an Ongoing Conflict  State-Based Conflict  299                Syria: Government                          11973          Government of Syria - Syrian insurgents     118              Government of Syria            4456             Syrian insurgents  SOHR                             Damascus city            Damascus and its countryside                         Damascus governorate     33.513364   36.291575    178273          Syria         Middle East  0                  26.16                 5.7                29.46               20.75        0.73                           5.51                6.2                                     0.0                10.0                       0.0              49.0                         2.55           -4.29              5.17               2.5                     0.15                       58.04                     2.6              SOHR                                                 1                          0.35434053042677677                0.35434053042677677            0.3971964004633067          0.35434053042677677         0.22277330640610615                  0.020076623800896913                   0.002138338629681328                   0.020165721243800304       0.4565946957322325           0.2656291764426361                    0                            0                                 0                       1.250437998065237                                  1.2508752183495202                             1.1545633900563932                          1.2478895654051108                          1.6884986079940467                                   3.39919878779588                                       2.122849488212873                                      -0.3117770480856492                        1.0397916174870996                           1.5614389168373728                                    -0.15348972386039172                         -0.5001196300997884                               -0.8847040474699085                     0.91684167977215      -0.371930284055581      -0.49159902338921774               0.7627858602762365             -0.25695422672240265             0.951834376768843                0.391633380732355           -0.09164681916266063         0.4113893596419058              -0.08482794848298345               0.5810160790293857                    0.20972228580197347                0.5897946151106541                  0.6468605690104713           0.24365580044476434                            -0.07682039861201824                -0.7876823921033004                                     -0.66284660421336                  -0.81022591387923                          -0.6583693293581894              -0.11064162469631578                         -0.0801828372962077            -1.2955104734060694                -0.8684736298551958                -0.21174860231608736                    -0.21743482774569828                       -0.35908834183583643                      0.318899171021467"
      ]
     },
     "execution_count": 16,
     "metadata": {},
     "output_type": "execute_result"
    }
   ],
   "source": [
    "## Test Data\n",
    "\n",
    "scaler = vaex.ml.StandardScaler(features=features)\n",
    "scaler.fit(vaex_test)\n",
    "vaex_test = scaler.transform(vaex_test)\n",
    "vaex_test\n"
   ]
  },
  {
   "cell_type": "markdown",
   "id": "713d8b6c",
   "metadata": {},
   "source": [
    "##### Model 1"
   ]
  },
  {
   "cell_type": "markdown",
   "id": "1331df2b",
   "metadata": {},
   "source": [
    "XGB: https://xgboost.readthedocs.io/en/latest/parameter.html"
   ]
  },
  {
   "cell_type": "code",
   "execution_count": 17,
   "id": "227201d1",
   "metadata": {},
   "outputs": [
    {
     "name": "stderr",
     "output_type": "stream",
     "text": [
      "C:\\ProgramData\\Anaconda3\\lib\\site-packages\\xgboost\\sklearn.py:1146: UserWarning: The use of label encoder in XGBClassifier is deprecated and will be removed in a future release. To remove this warning, do the following: 1) Pass option use_label_encoder=False when constructing XGBClassifier object; and 2) Encode your labels (y) as integers starting with 0, i.e. 0, 1, 2, ..., [num_class - 1].\n",
      "  warnings.warn(label_encoder_deprecation_msg, UserWarning)\n"
     ]
    },
    {
     "data": {
      "text/html": [
       "<table>\n",
       "<thead>\n",
       "<tr><th>#                                  </th><th>id    </th><th>year  </th><th>active_year                </th><th>type_of_violence    </th><th>conflict_new_id  </th><th>conflict_name          </th><th>dyad_new_id  </th><th>dyad_name                              </th><th>side_a_new_id  </th><th>side_a                   </th><th>side_b_new_id  </th><th>side_b           </th><th>source_original                                    </th><th>where_coordinates                      </th><th>where_description                                  </th><th>adm_1                   </th><th>latitude  </th><th>longitude  </th><th>priogrid_gid  </th><th>country    </th><th>region     </th><th>conflict_length  </th><th>capital_investment  </th><th>economic_growth  </th><th>savings_pcnt_gdp  </th><th>inflation  </th><th>pcnt_world_tourist_arrivals  </th><th>death_rate_p1000  </th><th>human_flight_brain_drain_index_score  </th><th>government_debt  </th><th>inv_freedom_index_score  </th><th>external_debt  </th><th>labor_freedom_index_score  </th><th>remittances  </th><th>pop_growth_pcnt  </th><th>banking_z_score  </th><th>oil_reserves_barrels  </th><th>pcnt_world_oil_reserves  </th><th>oil_prod_barrels_daily  </th><th>trade_balance  </th><th>media_org_source      </th><th>incident_classification  </th><th>frequency_encoded_conflict_name  </th><th>frequency_encoded_dyad_name  </th><th>frequency_encoded_side_a  </th><th>frequency_encoded_side_b  </th><th>frequency_encoded_source_original  </th><th>frequency_encoded_where_coordinates  </th><th>frequency_encoded_where_description  </th><th>frequency_encoded_adm_1  </th><th>frequency_encoded_country  </th><th>frequency_encoded_media_org_source  </th><th>label_encoded_active_year  </th><th>label_encoded_type_of_violence  </th><th>label_encoded_region  </th><th>standard_scaled_frequency_encoded_conflict_name  </th><th>standard_scaled_frequency_encoded_dyad_name  </th><th>standard_scaled_frequency_encoded_side_a  </th><th>standard_scaled_frequency_encoded_side_b  </th><th>standard_scaled_frequency_encoded_source_original  </th><th>standard_scaled_frequency_encoded_where_coordinates  </th><th>standard_scaled_frequency_encoded_where_description  </th><th>standard_scaled_frequency_encoded_adm_1  </th><th>standard_scaled_frequency_encoded_country  </th><th>standard_scaled_frequency_encoded_media_org_source  </th><th>standard_scaled_label_encoded_active_year  </th><th>standard_scaled_label_encoded_type_of_violence  </th><th>standard_scaled_label_encoded_region  </th><th>standard_scaled_id  </th><th>standard_scaled_year  </th><th>standard_scaled_conflict_new_id  </th><th>standard_scaled_dyad_new_id  </th><th>standard_scaled_side_a_new_id  </th><th>standard_scaled_side_b_new_id  </th><th>standard_scaled_latitude  </th><th>standard_scaled_longitude  </th><th>standard_scaled_priogrid_gid  </th><th>standard_scaled_conflict_length  </th><th>standard_scaled_capital_investment  </th><th>standard_scaled_economic_growth  </th><th>standard_scaled_savings_pcnt_gdp  </th><th>standard_scaled_inflation  </th><th>standard_scaled_pcnt_world_tourist_arrivals  </th><th>standard_scaled_death_rate_p1000  </th><th>standard_scaled_human_flight_brain_drain_index_score  </th><th>standard_scaled_government_debt  </th><th>standard_scaled_inv_freedom_index_score  </th><th>standard_scaled_external_debt  </th><th>standard_scaled_labor_freedom_index_score  </th><th>standard_scaled_remittances  </th><th>standard_scaled_pop_growth_pcnt  </th><th>standard_scaled_banking_z_score  </th><th>standard_scaled_oil_reserves_barrels  </th><th>standard_scaled_pcnt_world_oil_reserves  </th><th>standard_scaled_oil_prod_barrels_daily  </th><th>standard_scaled_trade_balance  </th><th>xgb_pred  </th></tr>\n",
       "</thead>\n",
       "<tbody>\n",
       "<tr><td><i style='opacity: 0.6'>0</i>      </td><td>326304</td><td>2013  </td><td>Part of an Ongoing Conflict</td><td>State-Based Conflict</td><td>299              </td><td>Syria: Government      </td><td>11973        </td><td>Government of Syria - Syrian insurgents</td><td>118            </td><td>Government of Syria      </td><td>4456           </td><td>Syrian insurgents</td><td>SOHR                                               </td><td>Damascus city                          </td><td>Damascus and Reef Dimashq,                         </td><td>Damascus governorate    </td><td>33.513364 </td><td>36.291575  </td><td>178273        </td><td>Syria      </td><td>Middle East</td><td>0                </td><td>26.16               </td><td>5.7              </td><td>29.46             </td><td>20.75      </td><td>0.73                         </td><td>5.51              </td><td>6.2                                   </td><td>0.0              </td><td>10.0                     </td><td>0.0            </td><td>49.0                       </td><td>2.55         </td><td>-4.29            </td><td>5.17             </td><td>2.5                   </td><td>0.15                     </td><td>58.04                   </td><td>2.6            </td><td>Support Kurds in Syria</td><td>1                        </td><td>0.35022979886102923              </td><td>0.35022979886102923          </td><td>0.39199453531626116       </td><td>0.35022979886102923       </td><td>0.22091874995359473                </td><td>0.019913426341854577                 </td><td>1.4849684072971347e-05               </td><td>0.019957975394073492     </td><td>0.4520986316016127         </td><td>0.03693858913151623                 </td><td>0                          </td><td>0                               </td><td>0                     </td><td>1.2560752472651298                               </td><td>1.2567770745137663                           </td><td>1.162438933701689                         </td><td>1.2533867781739194                        </td><td>1.7025056966700949                                 </td><td>3.5196789395991877                                   </td><td>-0.29232874116909124                                 </td><td>-0.30367092695876224                     </td><td>1.0460410181698643                         </td><td>-0.4953915408101696                                 </td><td>-0.15237165454037568                       </td><td>-0.49845369186578176                            </td><td>-0.813924086246777                    </td><td>0.8730652336042676  </td><td>-0.371611979681008    </td><td>-0.4942320508581076              </td><td>0.7653257755902877           </td><td>-0.25828144398006353           </td><td>0.9619330696705394             </td><td>0.3954880742798763        </td><td>-0.09648833686264478       </td><td>0.4152182518518813            </td><td>-0.08195931603385788             </td><td>0.5923395133801028                  </td><td>0.20375907382715938              </td><td>0.6045213167431813                </td><td>0.6324141331873719         </td><td>0.2460990794230242                           </td><td>-0.09269064228503054              </td><td>-0.7852799374065493                                   </td><td>-0.66338421903607                </td><td>-0.8113639493553084                      </td><td>-0.6622442296531786            </td><td>-0.10503680140929757                       </td><td>-0.0808495479124352          </td><td>-1.3057934793872443              </td><td>-0.863339706532769               </td><td>-0.20757901420956654                  </td><td>-0.213370970750503                       </td><td>-0.3544207459437686                     </td><td>0.31848146502586566            </td><td>1         </td></tr>\n",
       "<tr><td><i style='opacity: 0.6'>1</i>      </td><td>212509</td><td>2015  </td><td>Part of an Ongoing Conflict</td><td>State-Based Conflict</td><td>333              </td><td>Afghanistan: Government</td><td>735          </td><td>Government of Afghanistan - Taleban    </td><td>130            </td><td>Government of Afghanistan</td><td>303            </td><td>Taleban          </td><td>Ministry of Interior                               </td><td>Zabul province                         </td><td>&#x27;Nangarhar, Laghman, Takhar, Kunduz, Sar-e-Pul, ...</td><td>Zabul province          </td><td>32.25     </td><td>67.25      </td><td>176175        </td><td>Afghanistan</td><td>Asia       </td><td>1                </td><td>0.0                 </td><td>1.45             </td><td>0.0               </td><td>-0.7       </td><td>0.0                          </td><td>6.93              </td><td>8.1                                   </td><td>9.15             </td><td>55.0                     </td><td>12.93          </td><td>68.0                       </td><td>1.75         </td><td>3.08             </td><td>10.94            </td><td>0.0                   </td><td>0.0                      </td><td>0.0                     </td><td>0.0            </td><td>Xinhua News Agency    </td><td>0                        </td><td>0.17461743501407007              </td><td>0.1740382973352242           </td><td>0.18400986019022444       </td><td>0.17515202364069704       </td><td>0.0006682357832837107              </td><td>0.0019453086135592466                </td><td>4.4549052218914044e-05               </td><td>0.007313469405938388     </td><td>0.19216976158832222        </td><td>0.03605503292917443                 </td><td>0                          </td><td>0                               </td><td>1                     </td><td>0.10971677667572277                              </td><td>0.10880501717149885                          </td><td>-0.06013918943328095                      </td><td>0.01413807029643658                       </td><td>-0.7968272972306384                                </td><td>-0.08617603575406516                                 </td><td>-0.25386351056297907                                 </td><td>-0.7005726281246281                      </td><td>-0.29621679962812547                       </td><td>-0.5034659845081189                                 </td><td>-0.15237165454037568                       </td><td>-0.49845369186578176                            </td><td>0.2784807977876893                    </td><td>-0.28280503563270315</td><td>0.2217996011872484    </td><td>-0.48740734185859036             </td><td>-1.1114405878199392          </td><td>-0.2484707526723401            </td><td>-0.8610232434732973            </td><td>0.2762370114226829        </td><td>0.7017417457723649         </td><td>0.27775129771680673           </td><td>-0.004947772797071026            </td><td>-1.6888863425015612                 </td><td>-0.7163877539014669              </td><td>-1.5858023220808903               </td><td>-1.3112285372167287        </td><td>-0.8728253638992083                          </td><td>0.4068313762507745                </td><td>0.8896117711934245                                    </td><td>-0.33073215813832274             </td><td>1.245901857553454                        </td><td>0.11709119543055342            </td><td>0.8998411304140039                         </td><td>-0.5032501430280346          </td><td>1.1616865096504279               </td><td>0.002711086185447195             </td><td>-0.30828617904998584                  </td><td>-0.30772743061795005                     </td><td>-0.4226832824575012                     </td><td>0.10029278873987017            </td><td>0         </td></tr>\n",
       "<tr><td><i style='opacity: 0.6'>2</i>      </td><td>245548</td><td>2017  </td><td>Part of an Ongoing Conflict</td><td>State-Based Conflict</td><td>227              </td><td>India: Government      </td><td>453          </td><td>Government of India - CPI-Maoist       </td><td>141            </td><td>Government of India      </td><td>195            </td><td>CPI-Maoist       </td><td>DIG                                                </td><td>Basaguda town, Usur sub-district       </td><td>&quot;forest pocket of Bijapur&#x27;s Basaguda Police Stat...</td><td>Chhattisgarh state      </td><td>18.559669 </td><td>80.924192  </td><td>156762        </td><td>India      </td><td>Asia       </td><td>0                </td><td>30.98               </td><td>7.04             </td><td>31.71             </td><td>3.3        </td><td>1.19                         </td><td>0.0               </td><td>6.1                                   </td><td>68.2             </td><td>40.0                     </td><td>19.49          </td><td>42.0                       </td><td>2.6          </td><td>1.06             </td><td>15.96            </td><td>4.62                  </td><td>0.28                     </td><td>733.91                  </td><td>-3.16          </td><td>SATP                  </td><td>0                        </td><td>0.009243928335424664             </td><td>0.009221653809315207         </td><td>0.028117876792171245      </td><td>0.009221653809315207      </td><td>7.4248420364856735e-06             </td><td>5.939873629188539e-05                </td><td>7.4248420364856735e-06               </td><td>0.006563560360253335     </td><td>0.04013127120720507        </td><td>0.011560479050808195                </td><td>0                          </td><td>0                               </td><td>1                     </td><td>-0.9698047105320338                              </td><td>-0.9650543898611036                          </td><td>-0.9765053993912212                       </td><td>-1.1603627831236647                       </td><td>-0.8043259702503647                                </td><td>-0.46464180589444787                                 </td><td>-0.30194504882061934                                 </td><td>-0.7241117190334668                      </td><td>-1.0813348679282124                        </td><td>-0.7273112766050478                                 </td><td>-0.15237165454037568                       </td><td>-0.49845369186578176                            </td><td>0.2784807977876893                    </td><td>0.05278789749546837 </td><td>0.8152111820555048    </td><td>-0.5086843757982619              </td><td>-1.1585350988078094          </td><td>-0.2394776189735936            </td><td>-0.9084297644989497            </td><td>-1.0160164662898203       </td><td>1.054316252069988          </td><td>-0.9942439266035955           </td><td>-0.08195931603385788             </td><td>1.0126571213827642                  </td><td>0.49387595598159684              </td><td>0.7718067270403355                </td><td>-0.9487776895889246        </td><td>0.9511747560370336                           </td><td>-2.0309767846317106               </td><td>-0.8734321325960221                                   </td><td>1.8160551856881226               </td><td>0.5601465885838665                       </td><td>0.5124848836400879             </td><td>-0.4752549868178823                        </td><td>-0.05444951071771009         </td><td>0.4853894163185285               </td><td>0.7561902853960966               </td><td>-0.12217933842489095                  </td><td>-0.13159537219871556                     </td><td>0.44048967020951235                     </td><td>-0.1648903716692628            </td><td>0         </td></tr>\n",
       "<tr><td><i style='opacity: 0.6'>3</i>      </td><td>126293</td><td>2007  </td><td>Part of an Ongoing Conflict</td><td>State-Based Conflict</td><td>333              </td><td>Afghanistan: Government</td><td>735          </td><td>Government of Afghanistan - Taleban    </td><td>130            </td><td>Government of Afghanistan</td><td>303            </td><td>Taleban          </td><td>NATO/Coalition sources, police sources             </td><td>Landay village                         </td><td>Landay village (near Musa Qala town)               </td><td>Hilmand province        </td><td>32.309448 </td><td>64.855247  </td><td>176170        </td><td>Afghanistan</td><td>Asia       </td><td>0                </td><td>0.0                 </td><td>13.83            </td><td>0.0               </td><td>8.7        </td><td>0.0                          </td><td>9.29              </td><td>7.0                                   </td><td>20.14            </td><td>0.0                      </td><td>0.0            </td><td>0.0                        </td><td>0.0          </td><td>2.49             </td><td>20.69            </td><td>0.0                   </td><td>0.0                      </td><td>0.0                     </td><td>0.0            </td><td>AP                    </td><td>1                        </td><td>0.17461743501407007              </td><td>0.1740382973352242           </td><td>0.18400986019022444       </td><td>0.17515202364069704       </td><td>0.00017077136683917049             </td><td>7.4248420364856735e-06               </td><td>7.4248420364856735e-06               </td><td>0.0238931416734109       </td><td>0.19216976158832222        </td><td>0.008798437813235523                </td><td>0                          </td><td>0                               </td><td>1                     </td><td>0.10971677667572277                              </td><td>0.10880501717149885                          </td><td>-0.06013918943328095                      </td><td>0.01413807029643658                       </td><td>-0.8024723656836908                                </td><td>-0.4750719649140648                                  </td><td>-0.30194504882061934                                 </td><td>-0.18014896476386566                     </td><td>-0.29621679962812547                       </td><td>-0.7525523947196454                                 </td><td>-0.15237165454037568                       </td><td>-0.49845369186578176                            </td><td>0.2784807977876893                    </td><td>-1.1585422045112537 </td><td>-2.1518467222857773   </td><td>-0.48740734185859036             </td><td>-1.1114405878199392          </td><td>-0.2484707526723401            </td><td>-0.8610232434732973            </td><td>0.2818484086009584        </td><td>0.6399955850719923         </td><td>0.2774236834314514            </td><td>-0.08195931603385788             </td><td>-1.6888863425015612                 </td><td>1.9639458289880374               </td><td>-1.5858023220808903               </td><td>-0.4594690452913887        </td><td>-0.8728253638992083                          </td><td>1.2370229000145065                </td><td>-0.08006237589077084                                  </td><td>0.06881386910388955              </td><td>-1.2685341286683667                      </td><td>-0.6622442296531786            </td><td>-2.696564099269391                         </td><td>-1.4272514448434084          </td><td>0.9641541903109127               </td><td>1.46614180178382                 </td><td>-0.30828617904998584                  </td><td>-0.30772743061795005                     </td><td>-0.4226832824575012                     </td><td>0.10029278873987017            </td><td>1         </td></tr>\n",
       "<tr><td><i style='opacity: 0.6'>4</i>      </td><td>308313</td><td>2013  </td><td>Part of an Ongoing Conflict</td><td>State-Based Conflict</td><td>299              </td><td>Syria: Government      </td><td>11973        </td><td>Government of Syria - Syrian insurgents</td><td>118            </td><td>Government of Syria      </td><td>4456           </td><td>Syrian insurgents</td><td>SOHR                                               </td><td>Khan ash Shih town                     </td><td>near the Khan al-Sheih camp                        </td><td>Rif Dimashq governorate </td><td>33.3751   </td><td>36.11287   </td><td>177553        </td><td>Syria      </td><td>Middle East</td><td>0                </td><td>26.16               </td><td>5.7              </td><td>29.46             </td><td>20.75      </td><td>0.73                         </td><td>5.51              </td><td>6.2                                   </td><td>0.0              </td><td>10.0                     </td><td>0.0            </td><td>49.0                       </td><td>2.55         </td><td>-4.29            </td><td>5.17             </td><td>2.5                   </td><td>0.15                     </td><td>58.04                   </td><td>2.6            </td><td>Support Kurds in Syria</td><td>0                        </td><td>0.35022979886102923              </td><td>0.35022979886102923          </td><td>0.39199453531626116       </td><td>0.35022979886102923       </td><td>0.22091874995359473                </td><td>0.0013290467245309356                </td><td>7.4248420364856735e-06               </td><td>0.09476325891166665      </td><td>0.4520986316016127         </td><td>0.03693858913151623                 </td><td>0                          </td><td>0                               </td><td>0                     </td><td>1.2560752472651298                               </td><td>1.2567770745137663                           </td><td>1.162438933701689                         </td><td>1.2533867781739194                        </td><td>1.7025056966700949                                 </td><td>-0.2098479212723792                                  </td><td>-0.30194504882061934                                 </td><td>2.0444116562744123                       </td><td>1.0460410181698643                         </td><td>-0.4953915408101696                                 </td><td>-0.15237165454037568                       </td><td>-0.49845369186578176                            </td><td>-0.813924086246777                    </td><td>0.6903220373843779  </td><td>-0.371611979681008    </td><td>-0.4942320508581076              </td><td>0.7653257755902877           </td><td>-0.25828144398006353           </td><td>0.9619330696705394             </td><td>0.3824371016742876        </td><td>-0.10109605534048369       </td><td>0.3680417947607213            </td><td>-0.08195931603385788             </td><td>0.5923395133801028                  </td><td>0.20375907382715938              </td><td>0.6045213167431813                </td><td>0.6324141331873719         </td><td>0.2460990794230242                           </td><td>-0.09269064228503054              </td><td>-0.7852799374065493                                   </td><td>-0.66338421903607                </td><td>-0.8113639493553084                      </td><td>-0.6622442296531786            </td><td>-0.10503680140929757                       </td><td>-0.0808495479124352          </td><td>-1.3057934793872443              </td><td>-0.863339706532769               </td><td>-0.20757901420956654                  </td><td>-0.213370970750503                       </td><td>-0.3544207459437686                     </td><td>0.31848146502586566            </td><td>0         </td></tr>\n",
       "<tr><td>...                                </td><td>...   </td><td>...   </td><td>...                        </td><td>...                 </td><td>...              </td><td>...                    </td><td>...          </td><td>...                                    </td><td>...            </td><td>...                      </td><td>...            </td><td>...              </td><td>...                                                </td><td>...                                    </td><td>...                                                </td><td>...                     </td><td>...       </td><td>...        </td><td>...           </td><td>...        </td><td>...        </td><td>...              </td><td>...                 </td><td>...              </td><td>...               </td><td>...        </td><td>...                          </td><td>...               </td><td>...                                   </td><td>...              </td><td>...                      </td><td>...            </td><td>...                        </td><td>...          </td><td>...              </td><td>...              </td><td>...                   </td><td>...                      </td><td>...                     </td><td>...            </td><td>...                   </td><td>...                      </td><td>...                              </td><td>...                          </td><td>...                       </td><td>...                       </td><td>...                                </td><td>...                                  </td><td>...                                  </td><td>...                      </td><td>...                        </td><td>...                                 </td><td>...                        </td><td>...                             </td><td>...                   </td><td>...                                              </td><td>...                                          </td><td>...                                       </td><td>...                                       </td><td>...                                                </td><td>...                                                  </td><td>...                                                  </td><td>...                                      </td><td>...                                        </td><td>...                                                 </td><td>...                                        </td><td>...                                             </td><td>...                                   </td><td>...                 </td><td>...                   </td><td>...                              </td><td>...                          </td><td>...                            </td><td>...                            </td><td>...                       </td><td>...                        </td><td>...                           </td><td>...                              </td><td>...                                 </td><td>...                              </td><td>...                               </td><td>...                        </td><td>...                                          </td><td>...                               </td><td>...                                                   </td><td>...                              </td><td>...                                      </td><td>...                            </td><td>...                                        </td><td>...                          </td><td>...                              </td><td>...                              </td><td>...                                   </td><td>...                                      </td><td>...                                     </td><td>...                            </td><td>...       </td></tr>\n",
       "<tr><td><i style='opacity: 0.6'>134,678</i></td><td>339002</td><td>2020  </td><td>Part of an Ongoing Conflict</td><td>State-Based Conflict</td><td>13604            </td><td>Syria: Islamic State   </td><td>14620        </td><td>Government of Syria - IS               </td><td>118            </td><td>Government of Syria      </td><td>234            </td><td>IS               </td><td>SOHR                                               </td><td>Albu Kamal town                        </td><td>western desert of Al-Bokamal.                      </td><td>Deir ez Zor governorate </td><td>34.45     </td><td>40.918611  </td><td>179002        </td><td>Syria      </td><td>Middle East</td><td>0                </td><td>26.16               </td><td>5.7              </td><td>29.46             </td><td>20.75      </td><td>0.73                         </td><td>5.24              </td><td>8.4                                   </td><td>0.0              </td><td>15.0                     </td><td>0.0            </td><td>59.0                       </td><td>2.55         </td><td>-1.6             </td><td>8.4              </td><td>2.5                   </td><td>0.15                     </td><td>35.0                    </td><td>2.6            </td><td>SOHR                  </td><td>0                        </td><td>0.02974391719816161              </td><td>0.02974391719816161          </td><td>0.39199453531626116       </td><td>0.08631378867414596       </td><td>0.22091874995359473                </td><td>0.0016111907219173913                </td><td>7.4248420364856735e-06               </td><td>0.03636687629470683      </td><td>0.4520986316016127         </td><td>0.2634779445067306                  </td><td>0                          </td><td>0                               </td><td>0                     </td><td>-0.8359853406141684                              </td><td>-0.8313420103206893                          </td><td>1.162438933701689                         </td><td>-0.6146834220595464                       </td><td>1.7025056966700949                                 </td><td>-0.1532270580230306                                  </td><td>-0.30194504882061934                                 </td><td>0.21139234936335347                      </td><td>1.0460410181698643                         </td><td>1.5748551118631853                                  </td><td>-0.15237165454037568                       </td><td>-0.49845369186578176                            </td><td>-0.813924086246777                    </td><td>1.002044895968792   </td><td>1.7053285533578895    </td><td>2.1764371620412244               </td><td>1.2073795719906142           </td><td>-0.25828144398006353           </td><td>-0.8913107430174642            </td><td>0.4838987290953609        </td><td>0.022814868278933396       </td><td>0.4629844146566809            </td><td>-0.08195931603385788             </td><td>0.5923395133801028                  </td><td>0.20375907382715938              </td><td>0.6045213167431813                </td><td>0.6324141331873719         </td><td>0.2460990794230242                           </td><td>-0.18767018102071165              </td><td>1.1540683567618422                                    </td><td>-0.66338421903607                </td><td>-0.5827788596987793                      </td><td>-0.6622442296531786            </td><td>0.4238463206029664                         </td><td>-0.0808495479124352          </td><td>-0.4051800234155567              </td><td>-0.37853137716018                </td><td>-0.20757901420956654                  </td><td>-0.213370970750503                       </td><td>-0.3815187618168975                     </td><td>0.31848146502586566            </td><td>0         </td></tr>\n",
       "<tr><td><i style='opacity: 0.6'>134,679</i></td><td>115977</td><td>2007  </td><td>Part of an Ongoing Conflict</td><td>State-Based Conflict</td><td>338              </td><td>Iran: Government       </td><td>754          </td><td>Government of Iran - PJAK              </td><td>114            </td><td>Government of Iran       </td><td>309            </td><td>PJAK             </td><td>No Source Specified                                </td><td>Khoy town                              </td><td>&#x27;in the valleys close to the town of Khoy&quot; 50 ki...</td><td>West Azarbaijan province</td><td>38.550278 </td><td>44.952222  </td><td>185490        </td><td>Iran       </td><td>Middle East</td><td>0                </td><td>39.73               </td><td>8.16             </td><td>0.0               </td><td>17.3       </td><td>0.25                         </td><td>0.0               </td><td>5.0                                   </td><td>11.38            </td><td>10.0                     </td><td>5.94           </td><td>53.0                       </td><td>0.32         </td><td>1.1              </td><td>0.0              </td><td>136.27                </td><td>10.32                    </td><td>3911.89                 </td><td>7.8            </td><td>Jamestown             </td><td>0                        </td><td>0.0007870332558674814            </td><td>0.0005197389425539971        </td><td>0.0016111907219173913     </td><td>0.0005197389425539971     </td><td>0.06334875225529576                </td><td>2.2274526109457022e-05               </td><td>7.4248420364856735e-06               </td><td>0.0004232159960796834    </td><td>0.0012102492519471648      </td><td>2.2274526109457022e-05              </td><td>0                          </td><td>0                               </td><td>0                     </td><td>-1.0250094415484947                              </td><td>-1.0217515348760693                          </td><td>-1.13231733354772                         </td><td>-1.221957332980849                        </td><td>-0.08554867214602435                               </td><td>-0.47209191947988854                                 </td><td>-0.30194504882061934                                 </td><td>-0.916852592118711                       </td><td>-1.282320799169559                         </td><td>-0.8327540119547379                                 </td><td>-0.15237165454037568                       </td><td>-0.49845369186578176                            </td><td>-0.813924086246777                    </td><td>-1.2633267530190844 </td><td>-2.1518467222857773   </td><td>-0.48640370818219075             </td><td>-1.1082675533916786          </td><td>-0.2615516744159714            </td><td>-0.858389547860761             </td><td>0.8709308983751294        </td><td>0.12681724055231244        </td><td>0.8880967113336896            </td><td>-0.08195931603385788             </td><td>1.7756818247070973                  </td><td>0.7363617082300818               </td><td>-1.5858023220808903               </td><td>0.3198002771083907         </td><td>-0.4896320613915944                          </td><td>-2.0309767846317106               </td><td>-1.8431062796802173                                   </td><td>-0.24965957936215044             </td><td>-0.8113639493553084                      </td><td>-0.3042200668536915            </td><td>0.10651644739560802                        </td><td>-1.2582912067971688          </td><td>0.49878143796866514              </td><td>-1.6393332244449317              </td><td>5.181059962071591                     </td><td>6.183997008262405                        </td><td>4.178204621793107                       </td><td>0.7548588175978566             </td><td>0         </td></tr>\n",
       "<tr><td><i style='opacity: 0.6'>134,680</i></td><td>315847</td><td>2013  </td><td>Part of an Ongoing Conflict</td><td>State-Based Conflict</td><td>299              </td><td>Syria: Government      </td><td>11973        </td><td>Government of Syria - Syrian insurgents</td><td>118            </td><td>Government of Syria      </td><td>4456           </td><td>Syrian insurgents</td><td>SOHR; VDC                                          </td><td>Qalamoun mountain range                </td><td>al-Qalamoun                                        </td><td>Rif Dimashq governorate </td><td>33.8      </td><td>36.433333  </td><td>178273        </td><td>Syria      </td><td>Middle East</td><td>0                </td><td>26.16               </td><td>5.7              </td><td>29.46             </td><td>20.75      </td><td>0.73                         </td><td>5.51              </td><td>6.2                                   </td><td>0.0              </td><td>10.0                     </td><td>0.0            </td><td>49.0                       </td><td>2.55         </td><td>-4.29            </td><td>5.17             </td><td>2.5                   </td><td>0.15                     </td><td>58.04                   </td><td>2.6            </td><td>Support Kurds in Syria</td><td>0                        </td><td>0.35022979886102923              </td><td>0.35022979886102923          </td><td>0.39199453531626116       </td><td>0.35022979886102923       </td><td>0.031399656972297914               </td><td>0.0020344067179970744                </td><td>7.424842036485673e-05                </td><td>0.09476325891166665      </td><td>0.4520986316016127         </td><td>0.03693858913151623                 </td><td>0                          </td><td>0                               </td><td>0                     </td><td>1.2560752472651298                               </td><td>1.2567770745137663                           </td><td>1.162438933701689                         </td><td>1.2533867781739194                        </td><td>-0.4480968744368433                                </td><td>-0.06829576314900775                                 </td><td>-0.2153982799568669                                  </td><td>2.0444116562744123                       </td><td>1.0460410181698643                         </td><td>-0.4953915408101696                                 </td><td>-0.15237165454037568                       </td><td>-0.49845369186578176                            </td><td>-0.813924086246777                    </td><td>0.7668484806238115  </td><td>-0.371611979681008    </td><td>-0.4942320508581076              </td><td>0.7653257755902877           </td><td>-0.25828144398006353           </td><td>0.9619330696705394             </td><td>0.4225441306920692        </td><td>-0.09283325750850546       </td><td>0.4152182518518813            </td><td>-0.08195931603385788             </td><td>0.5923395133801028                  </td><td>0.20375907382715938              </td><td>0.6045213167431813                </td><td>0.6324141331873719         </td><td>0.2460990794230242                           </td><td>-0.09269064228503054              </td><td>-0.7852799374065493                                   </td><td>-0.66338421903607                </td><td>-0.8113639493553084                      </td><td>-0.6622442296531786            </td><td>-0.10503680140929757                       </td><td>-0.0808495479124352          </td><td>-1.3057934793872443              </td><td>-0.863339706532769               </td><td>-0.20757901420956654                  </td><td>-0.213370970750503                       </td><td>-0.3544207459437686                     </td><td>0.31848146502586566            </td><td>0         </td></tr>\n",
       "<tr><td><i style='opacity: 0.6'>134,681</i></td><td>250549</td><td>2017  </td><td>Part of an Ongoing Conflict</td><td>One-Sided Violence  </td><td>499              </td><td>CPI-Maoist - Civilians </td><td>966          </td><td>CPI-Maoist - Civilians                 </td><td>195            </td><td>CPI-Maoist               </td><td>1              </td><td>Civilians        </td><td>Police                                             </td><td>Badapada town, Chitrakonda sub-district</td><td>Badataekpada village                               </td><td>Odisha state            </td><td>18.138398 </td><td>82.234889  </td><td>156045        </td><td>India      </td><td>Asia       </td><td>0                </td><td>30.98               </td><td>7.04             </td><td>31.71             </td><td>3.3        </td><td>1.19                         </td><td>0.0               </td><td>6.1                                   </td><td>68.2             </td><td>40.0                     </td><td>19.49          </td><td>42.0                       </td><td>2.6          </td><td>1.06             </td><td>15.96            </td><td>4.62                  </td><td>0.28                     </td><td>733.91                  </td><td>-3.16          </td><td>The Telegraph         </td><td>0                        </td><td>0.00827127402864504              </td><td>0.00827127402864504          </td><td>0.00827127402864504       </td><td>0.09685706436595562       </td><td>0.01489423312519026                </td><td>2.2274526109457022e-05               </td><td>7.4248420364856735e-06               </td><td>0.0013810206187863353    </td><td>0.04013127120720507        </td><td>0.00040836631200671204              </td><td>0                          </td><td>2                               </td><td>1                     </td><td>-0.9761539816146996                              </td><td>-0.9712465695214412                          </td><td>-1.0931679484109191                       </td><td>-0.5400552131882137                       </td><td>-0.6353951904239432                                </td><td>-0.47209191947988854                                 </td><td>-0.30194504882061934                                 </td><td>-0.8867878126410852                      </td><td>-1.0813348679282124                        </td><td>-0.8292256836161382                                 </td><td>-0.15237165454037568                       </td><td>2.6205408529009477                              </td><td>0.2784807977876893                    </td><td>0.10358544762029011 </td><td>0.8152111820555048    </td><td>-0.4540867038021237              </td><td>-1.072863169244769           </td><td>-0.19532950808883806           </td><td>-0.9935859226376216            </td><td>-1.0557809478651325       </td><td>1.0881111810632895         </td><td>-1.0412238151235425           </td><td>-0.08195931603385788             </td><td>1.0126571213827642                  </td><td>0.49387595598159684              </td><td>0.7718067270403355                </td><td>-0.9487776895889246        </td><td>0.9511747560370336                           </td><td>-2.0309767846317106               </td><td>-0.8734321325960221                                   </td><td>1.8160551856881226               </td><td>0.5601465885838665                       </td><td>0.5124848836400879             </td><td>-0.4752549868178823                        </td><td>-0.05444951071771009         </td><td>0.4853894163185285               </td><td>0.7561902853960966               </td><td>-0.12217933842489095                  </td><td>-0.13159537219871556                     </td><td>0.44048967020951235                     </td><td>-0.1648903716692628            </td><td>0         </td></tr>\n",
       "<tr><td><i style='opacity: 0.6'>134,682</i></td><td>250682</td><td>2017  </td><td>Part of an Ongoing Conflict</td><td>State-Based Conflict</td><td>333              </td><td>Afghanistan: Government</td><td>735          </td><td>Government of Afghanistan - Taleban    </td><td>130            </td><td>Government of Afghanistan</td><td>303            </td><td>Taleban          </td><td>&#x27;local official, Military, police, resident, Tal...</td><td>Nahri Sarraj district (Greshk)         </td><td>&quot;Nahr-e-Saraj district of southern Afghanistan&#x27;s...</td><td>Hilmand province        </td><td>31.829363 </td><td>64.608526  </td><td>175450        </td><td>Afghanistan</td><td>Asia       </td><td>0                </td><td>0.0                 </td><td>2.65             </td><td>0.0               </td><td>5.0        </td><td>0.0                          </td><td>6.57              </td><td>8.2                                   </td><td>8.0              </td><td>55.0                     </td><td>14.39          </td><td>60.0                       </td><td>4.36         </td><td>2.55             </td><td>11.5             </td><td>0.0                   </td><td>0.0                      </td><td>0.0                     </td><td>0.0            </td><td>Xinhua News Agency    </td><td>1                        </td><td>0.17461743501407007              </td><td>0.1740382973352242           </td><td>0.18400986019022444       </td><td>0.17515202364069704       </td><td>7.4248420364856735e-06             </td><td>0.002851139342010499                 </td><td>7.4248420364856735e-06               </td><td>0.0238931416734109       </td><td>0.19216976158832222        </td><td>0.03605503292917443                 </td><td>0                          </td><td>0                               </td><td>1                     </td><td>0.10971677667572277                              </td><td>0.10880501717149885                          </td><td>-0.06013918943328095                      </td><td>0.01413807029643658                       </td><td>-0.8043259702503647                                </td><td>0.09560673573068564                                  </td><td>-0.30194504882061934                                 </td><td>-0.18014896476386566                     </td><td>-0.29621679962812547                       </td><td>-0.5034659845081189                                 </td><td>-0.15237165454037568                       </td><td>-0.49845369186578176                            </td><td>0.2784807977876893                    </td><td>0.10493639226468149 </td><td>0.8152111820555048    </td><td>-0.48740734185859036             </td><td>-1.1114405878199392          </td><td>-0.2484707526723401            </td><td>-0.8610232434732973            </td><td>0.2365323741787366        </td><td>0.6336341463289749         </td><td>0.2302472263402914            </td><td>-0.08195931603385788             </td><td>-1.6888863425015612                 </td><td>-0.45658159077809013             </td><td>-1.5858023220808903               </td><td>-0.7947360793471077        </td><td>-0.8728253638992083                          </td><td>0.2801919912698663                </td><td>0.9777639663828965                                    </td><td>-0.3725408871036134              </td><td>1.245901857553454                        </td><td>0.2050904004284072             </td><td>0.47673463280419276                        </td><td>0.8748317985366089           </td><td>0.9842422227861175               </td><td>0.08676454267109739              </td><td>-0.30828617904998584                  </td><td>-0.30772743061795005                     </td><td>-0.4226832824575012                     </td><td>0.10029278873987017            </td><td>1         </td></tr>\n",
       "</tbody>\n",
       "</table>"
      ],
      "text/plain": [
       "#        id      year    active_year                  type_of_violence      conflict_new_id    conflict_name            dyad_new_id    dyad_name                                side_a_new_id    side_a                     side_b_new_id    side_b             source_original                                      where_coordinates                        where_description                                    adm_1                     latitude    longitude    priogrid_gid    country      region       conflict_length    capital_investment    economic_growth    savings_pcnt_gdp    inflation    pcnt_world_tourist_arrivals    death_rate_p1000    human_flight_brain_drain_index_score    government_debt    inv_freedom_index_score    external_debt    labor_freedom_index_score    remittances    pop_growth_pcnt    banking_z_score    oil_reserves_barrels    pcnt_world_oil_reserves    oil_prod_barrels_daily    trade_balance    media_org_source        incident_classification    frequency_encoded_conflict_name    frequency_encoded_dyad_name    frequency_encoded_side_a    frequency_encoded_side_b    frequency_encoded_source_original    frequency_encoded_where_coordinates    frequency_encoded_where_description    frequency_encoded_adm_1    frequency_encoded_country    frequency_encoded_media_org_source    label_encoded_active_year    label_encoded_type_of_violence    label_encoded_region    standard_scaled_frequency_encoded_conflict_name    standard_scaled_frequency_encoded_dyad_name    standard_scaled_frequency_encoded_side_a    standard_scaled_frequency_encoded_side_b    standard_scaled_frequency_encoded_source_original    standard_scaled_frequency_encoded_where_coordinates    standard_scaled_frequency_encoded_where_description    standard_scaled_frequency_encoded_adm_1    standard_scaled_frequency_encoded_country    standard_scaled_frequency_encoded_media_org_source    standard_scaled_label_encoded_active_year    standard_scaled_label_encoded_type_of_violence    standard_scaled_label_encoded_region    standard_scaled_id    standard_scaled_year    standard_scaled_conflict_new_id    standard_scaled_dyad_new_id    standard_scaled_side_a_new_id    standard_scaled_side_b_new_id    standard_scaled_latitude    standard_scaled_longitude    standard_scaled_priogrid_gid    standard_scaled_conflict_length    standard_scaled_capital_investment    standard_scaled_economic_growth    standard_scaled_savings_pcnt_gdp    standard_scaled_inflation    standard_scaled_pcnt_world_tourist_arrivals    standard_scaled_death_rate_p1000    standard_scaled_human_flight_brain_drain_index_score    standard_scaled_government_debt    standard_scaled_inv_freedom_index_score    standard_scaled_external_debt    standard_scaled_labor_freedom_index_score    standard_scaled_remittances    standard_scaled_pop_growth_pcnt    standard_scaled_banking_z_score    standard_scaled_oil_reserves_barrels    standard_scaled_pcnt_world_oil_reserves    standard_scaled_oil_prod_barrels_daily    standard_scaled_trade_balance    xgb_pred\n",
       "0        326304  2013    Part of an Ongoing Conflict  State-Based Conflict  299                Syria: Government        11973          Government of Syria - Syrian insurgents  118              Government of Syria        4456             Syrian insurgents  SOHR                                                 Damascus city                            Damascus and Reef Dimashq,                           Damascus governorate      33.513364   36.291575    178273          Syria        Middle East  0                  26.16                 5.7                29.46               20.75        0.73                           5.51                6.2                                     0.0                10.0                       0.0              49.0                         2.55           -4.29              5.17               2.5                     0.15                       58.04                     2.6              Support Kurds in Syria  1                          0.35022979886102923                0.35022979886102923            0.39199453531626116         0.35022979886102923         0.22091874995359473                  0.019913426341854577                   1.4849684072971347e-05                 0.019957975394073492       0.4520986316016127           0.03693858913151623                   0                            0                                 0                       1.2560752472651298                                 1.2567770745137663                             1.162438933701689                           1.2533867781739194                          1.7025056966700949                                   3.5196789395991877                                     -0.29232874116909124                                   -0.30367092695876224                       1.0460410181698643                           -0.4953915408101696                                   -0.15237165454037568                         -0.49845369186578176                              -0.813924086246777                      0.8730652336042676    -0.371611979681008      -0.4942320508581076                0.7653257755902877             -0.25828144398006353             0.9619330696705394               0.3954880742798763          -0.09648833686264478         0.4152182518518813              -0.08195931603385788               0.5923395133801028                    0.20375907382715938                0.6045213167431813                  0.6324141331873719           0.2460990794230242                             -0.09269064228503054                -0.7852799374065493                                     -0.66338421903607                  -0.8113639493553084                        -0.6622442296531786              -0.10503680140929757                         -0.0808495479124352            -1.3057934793872443                -0.863339706532769                 -0.20757901420956654                    -0.213370970750503                         -0.3544207459437686                       0.31848146502586566              1\n",
       "1        212509  2015    Part of an Ongoing Conflict  State-Based Conflict  333                Afghanistan: Government  735            Government of Afghanistan - Taleban      130              Government of Afghanistan  303              Taleban            Ministry of Interior                                 Zabul province                           'Nangarhar, Laghman, Takhar, Kunduz, Sar-e-Pul, ...  Zabul province            32.25       67.25        176175          Afghanistan  Asia         1                  0.0                   1.45               0.0                 -0.7         0.0                            6.93                8.1                                     9.15               55.0                       12.93            68.0                         1.75           3.08               10.94              0.0                     0.0                        0.0                       0.0              Xinhua News Agency      0                          0.17461743501407007                0.1740382973352242             0.18400986019022444         0.17515202364069704         0.0006682357832837107                0.0019453086135592466                  4.4549052218914044e-05                 0.007313469405938388       0.19216976158832222          0.03605503292917443                   0                            0                                 1                       0.10971677667572277                                0.10880501717149885                            -0.06013918943328095                        0.01413807029643658                         -0.7968272972306384                                  -0.08617603575406516                                   -0.25386351056297907                                   -0.7005726281246281                        -0.29621679962812547                         -0.5034659845081189                                   -0.15237165454037568                         -0.49845369186578176                              0.2784807977876893                      -0.28280503563270315  0.2217996011872484      -0.48740734185859036               -1.1114405878199392            -0.2484707526723401              -0.8610232434732973              0.2762370114226829          0.7017417457723649           0.27775129771680673             -0.004947772797071026              -1.6888863425015612                   -0.7163877539014669                -1.5858023220808903                 -1.3112285372167287          -0.8728253638992083                            0.4068313762507745                  0.8896117711934245                                      -0.33073215813832274               1.245901857553454                          0.11709119543055342              0.8998411304140039                           -0.5032501430280346            1.1616865096504279                 0.002711086185447195               -0.30828617904998584                    -0.30772743061795005                       -0.4226832824575012                       0.10029278873987017              0\n",
       "2        245548  2017    Part of an Ongoing Conflict  State-Based Conflict  227                India: Government        453            Government of India - CPI-Maoist         141              Government of India        195              CPI-Maoist         DIG                                                  Basaguda town, Usur sub-district         \"forest pocket of Bijapur's Basaguda Police Stat...  Chhattisgarh state        18.559669   80.924192    156762          India        Asia         0                  30.98                 7.04               31.71               3.3          1.19                           0.0                 6.1                                     68.2               40.0                       19.49            42.0                         2.6            1.06               15.96              4.62                    0.28                       733.91                    -3.16            SATP                    0                          0.009243928335424664               0.009221653809315207           0.028117876792171245        0.009221653809315207        7.4248420364856735e-06               5.939873629188539e-05                  7.4248420364856735e-06                 0.006563560360253335       0.04013127120720507          0.011560479050808195                  0                            0                                 1                       -0.9698047105320338                                -0.9650543898611036                            -0.9765053993912212                         -1.1603627831236647                         -0.8043259702503647                                  -0.46464180589444787                                   -0.30194504882061934                                   -0.7241117190334668                        -1.0813348679282124                          -0.7273112766050478                                   -0.15237165454037568                         -0.49845369186578176                              0.2784807977876893                      0.05278789749546837   0.8152111820555048      -0.5086843757982619                -1.1585350988078094            -0.2394776189735936              -0.9084297644989497              -1.0160164662898203         1.054316252069988            -0.9942439266035955             -0.08195931603385788               1.0126571213827642                    0.49387595598159684                0.7718067270403355                  -0.9487776895889246          0.9511747560370336                             -2.0309767846317106                 -0.8734321325960221                                     1.8160551856881226                 0.5601465885838665                         0.5124848836400879               -0.4752549868178823                          -0.05444951071771009           0.4853894163185285                 0.7561902853960966                 -0.12217933842489095                    -0.13159537219871556                       0.44048967020951235                       -0.1648903716692628              0\n",
       "3        126293  2007    Part of an Ongoing Conflict  State-Based Conflict  333                Afghanistan: Government  735            Government of Afghanistan - Taleban      130              Government of Afghanistan  303              Taleban            NATO/Coalition sources, police sources               Landay village                           Landay village (near Musa Qala town)                 Hilmand province          32.309448   64.855247    176170          Afghanistan  Asia         0                  0.0                   13.83              0.0                 8.7          0.0                            9.29                7.0                                     20.14              0.0                        0.0              0.0                          0.0            2.49               20.69              0.0                     0.0                        0.0                       0.0              AP                      1                          0.17461743501407007                0.1740382973352242             0.18400986019022444         0.17515202364069704         0.00017077136683917049               7.4248420364856735e-06                 7.4248420364856735e-06                 0.0238931416734109         0.19216976158832222          0.008798437813235523                  0                            0                                 1                       0.10971677667572277                                0.10880501717149885                            -0.06013918943328095                        0.01413807029643658                         -0.8024723656836908                                  -0.4750719649140648                                    -0.30194504882061934                                   -0.18014896476386566                       -0.29621679962812547                         -0.7525523947196454                                   -0.15237165454037568                         -0.49845369186578176                              0.2784807977876893                      -1.1585422045112537   -2.1518467222857773     -0.48740734185859036               -1.1114405878199392            -0.2484707526723401              -0.8610232434732973              0.2818484086009584          0.6399955850719923           0.2774236834314514              -0.08195931603385788               -1.6888863425015612                   1.9639458289880374                 -1.5858023220808903                 -0.4594690452913887          -0.8728253638992083                            1.2370229000145065                  -0.08006237589077084                                    0.06881386910388955                -1.2685341286683667                        -0.6622442296531786              -2.696564099269391                           -1.4272514448434084            0.9641541903109127                 1.46614180178382                   -0.30828617904998584                    -0.30772743061795005                       -0.4226832824575012                       0.10029278873987017              1\n",
       "4        308313  2013    Part of an Ongoing Conflict  State-Based Conflict  299                Syria: Government        11973          Government of Syria - Syrian insurgents  118              Government of Syria        4456             Syrian insurgents  SOHR                                                 Khan ash Shih town                       near the Khan al-Sheih camp                          Rif Dimashq governorate   33.3751     36.11287     177553          Syria        Middle East  0                  26.16                 5.7                29.46               20.75        0.73                           5.51                6.2                                     0.0                10.0                       0.0              49.0                         2.55           -4.29              5.17               2.5                     0.15                       58.04                     2.6              Support Kurds in Syria  0                          0.35022979886102923                0.35022979886102923            0.39199453531626116         0.35022979886102923         0.22091874995359473                  0.0013290467245309356                  7.4248420364856735e-06                 0.09476325891166665        0.4520986316016127           0.03693858913151623                   0                            0                                 0                       1.2560752472651298                                 1.2567770745137663                             1.162438933701689                           1.2533867781739194                          1.7025056966700949                                   -0.2098479212723792                                    -0.30194504882061934                                   2.0444116562744123                         1.0460410181698643                           -0.4953915408101696                                   -0.15237165454037568                         -0.49845369186578176                              -0.813924086246777                      0.6903220373843779    -0.371611979681008      -0.4942320508581076                0.7653257755902877             -0.25828144398006353             0.9619330696705394               0.3824371016742876          -0.10109605534048369         0.3680417947607213              -0.08195931603385788               0.5923395133801028                    0.20375907382715938                0.6045213167431813                  0.6324141331873719           0.2460990794230242                             -0.09269064228503054                -0.7852799374065493                                     -0.66338421903607                  -0.8113639493553084                        -0.6622442296531786              -0.10503680140929757                         -0.0808495479124352            -1.3057934793872443                -0.863339706532769                 -0.20757901420956654                    -0.213370970750503                         -0.3544207459437686                       0.31848146502586566              0\n",
       "...      ...     ...     ...                          ...                   ...                ...                      ...            ...                                      ...              ...                        ...              ...                ...                                                  ...                                      ...                                                  ...                       ...         ...          ...             ...          ...          ...                ...                   ...                ...                 ...          ...                            ...                 ...                                     ...                ...                        ...              ...                          ...            ...                ...                ...                     ...                        ...                       ...              ...                     ...                        ...                                ...                            ...                         ...                         ...                                  ...                                    ...                                    ...                        ...                          ...                                   ...                          ...                               ...                     ...                                                ...                                            ...                                         ...                                         ...                                                  ...                                                    ...                                                    ...                                        ...                                          ...                                                   ...                                          ...                                               ...                                     ...                   ...                     ...                                ...                            ...                              ...                              ...                         ...                          ...                             ...                                ...                                   ...                                ...                                 ...                          ...                                            ...                                 ...                                                     ...                                ...                                        ...                              ...                                          ...                            ...                                ...                                ...                                     ...                                        ...                                       ...                              ...\n",
       "134,678  339002  2020    Part of an Ongoing Conflict  State-Based Conflict  13604              Syria: Islamic State     14620          Government of Syria - IS                 118              Government of Syria        234              IS                 SOHR                                                 Albu Kamal town                          western desert of Al-Bokamal.                        Deir ez Zor governorate   34.45       40.918611    179002          Syria        Middle East  0                  26.16                 5.7                29.46               20.75        0.73                           5.24                8.4                                     0.0                15.0                       0.0              59.0                         2.55           -1.6               8.4                2.5                     0.15                       35.0                      2.6              SOHR                    0                          0.02974391719816161                0.02974391719816161            0.39199453531626116         0.08631378867414596         0.22091874995359473                  0.0016111907219173913                  7.4248420364856735e-06                 0.03636687629470683        0.4520986316016127           0.2634779445067306                    0                            0                                 0                       -0.8359853406141684                                -0.8313420103206893                            1.162438933701689                           -0.6146834220595464                         1.7025056966700949                                   -0.1532270580230306                                    -0.30194504882061934                                   0.21139234936335347                        1.0460410181698643                           1.5748551118631853                                    -0.15237165454037568                         -0.49845369186578176                              -0.813924086246777                      1.002044895968792     1.7053285533578895      2.1764371620412244                 1.2073795719906142             -0.25828144398006353             -0.8913107430174642              0.4838987290953609          0.022814868278933396         0.4629844146566809              -0.08195931603385788               0.5923395133801028                    0.20375907382715938                0.6045213167431813                  0.6324141331873719           0.2460990794230242                             -0.18767018102071165                1.1540683567618422                                      -0.66338421903607                  -0.5827788596987793                        -0.6622442296531786              0.4238463206029664                           -0.0808495479124352            -0.4051800234155567                -0.37853137716018                  -0.20757901420956654                    -0.213370970750503                         -0.3815187618168975                       0.31848146502586566              0\n",
       "134,679  115977  2007    Part of an Ongoing Conflict  State-Based Conflict  338                Iran: Government         754            Government of Iran - PJAK                114              Government of Iran         309              PJAK               No Source Specified                                  Khoy town                                'in the valleys close to the town of Khoy\" 50 ki...  West Azarbaijan province  38.550278   44.952222    185490          Iran         Middle East  0                  39.73                 8.16               0.0                 17.3         0.25                           0.0                 5.0                                     11.38              10.0                       5.94             53.0                         0.32           1.1                0.0                136.27                  10.32                      3911.89                   7.8              Jamestown               0                          0.0007870332558674814              0.0005197389425539971          0.0016111907219173913       0.0005197389425539971       0.06334875225529576                  2.2274526109457022e-05                 7.4248420364856735e-06                 0.0004232159960796834      0.0012102492519471648        2.2274526109457022e-05                0                            0                                 0                       -1.0250094415484947                                -1.0217515348760693                            -1.13231733354772                           -1.221957332980849                          -0.08554867214602435                                 -0.47209191947988854                                   -0.30194504882061934                                   -0.916852592118711                         -1.282320799169559                           -0.8327540119547379                                   -0.15237165454037568                         -0.49845369186578176                              -0.813924086246777                      -1.2633267530190844   -2.1518467222857773     -0.48640370818219075               -1.1082675533916786            -0.2615516744159714              -0.858389547860761               0.8709308983751294          0.12681724055231244          0.8880967113336896              -0.08195931603385788               1.7756818247070973                    0.7363617082300818                 -1.5858023220808903                 0.3198002771083907           -0.4896320613915944                            -2.0309767846317106                 -1.8431062796802173                                     -0.24965957936215044               -0.8113639493553084                        -0.3042200668536915              0.10651644739560802                          -1.2582912067971688            0.49878143796866514                -1.6393332244449317                5.181059962071591                       6.183997008262405                          4.178204621793107                         0.7548588175978566               0\n",
       "134,680  315847  2013    Part of an Ongoing Conflict  State-Based Conflict  299                Syria: Government        11973          Government of Syria - Syrian insurgents  118              Government of Syria        4456             Syrian insurgents  SOHR; VDC                                            Qalamoun mountain range                  al-Qalamoun                                          Rif Dimashq governorate   33.8        36.433333    178273          Syria        Middle East  0                  26.16                 5.7                29.46               20.75        0.73                           5.51                6.2                                     0.0                10.0                       0.0              49.0                         2.55           -4.29              5.17               2.5                     0.15                       58.04                     2.6              Support Kurds in Syria  0                          0.35022979886102923                0.35022979886102923            0.39199453531626116         0.35022979886102923         0.031399656972297914                 0.0020344067179970744                  7.424842036485673e-05                  0.09476325891166665        0.4520986316016127           0.03693858913151623                   0                            0                                 0                       1.2560752472651298                                 1.2567770745137663                             1.162438933701689                           1.2533867781739194                          -0.4480968744368433                                  -0.06829576314900775                                   -0.2153982799568669                                    2.0444116562744123                         1.0460410181698643                           -0.4953915408101696                                   -0.15237165454037568                         -0.49845369186578176                              -0.813924086246777                      0.7668484806238115    -0.371611979681008      -0.4942320508581076                0.7653257755902877             -0.25828144398006353             0.9619330696705394               0.4225441306920692          -0.09283325750850546         0.4152182518518813              -0.08195931603385788               0.5923395133801028                    0.20375907382715938                0.6045213167431813                  0.6324141331873719           0.2460990794230242                             -0.09269064228503054                -0.7852799374065493                                     -0.66338421903607                  -0.8113639493553084                        -0.6622442296531786              -0.10503680140929757                         -0.0808495479124352            -1.3057934793872443                -0.863339706532769                 -0.20757901420956654                    -0.213370970750503                         -0.3544207459437686                       0.31848146502586566              0\n",
       "134,681  250549  2017    Part of an Ongoing Conflict  One-Sided Violence    499                CPI-Maoist - Civilians   966            CPI-Maoist - Civilians                   195              CPI-Maoist                 1                Civilians          Police                                               Badapada town, Chitrakonda sub-district  Badataekpada village                                 Odisha state              18.138398   82.234889    156045          India        Asia         0                  30.98                 7.04               31.71               3.3          1.19                           0.0                 6.1                                     68.2               40.0                       19.49            42.0                         2.6            1.06               15.96              4.62                    0.28                       733.91                    -3.16            The Telegraph           0                          0.00827127402864504                0.00827127402864504            0.00827127402864504         0.09685706436595562         0.01489423312519026                  2.2274526109457022e-05                 7.4248420364856735e-06                 0.0013810206187863353      0.04013127120720507          0.00040836631200671204                0                            2                                 1                       -0.9761539816146996                                -0.9712465695214412                            -1.0931679484109191                         -0.5400552131882137                         -0.6353951904239432                                  -0.47209191947988854                                   -0.30194504882061934                                   -0.8867878126410852                        -1.0813348679282124                          -0.8292256836161382                                   -0.15237165454037568                         2.6205408529009477                                0.2784807977876893                      0.10358544762029011   0.8152111820555048      -0.4540867038021237                -1.072863169244769             -0.19532950808883806             -0.9935859226376216              -1.0557809478651325         1.0881111810632895           -1.0412238151235425             -0.08195931603385788               1.0126571213827642                    0.49387595598159684                0.7718067270403355                  -0.9487776895889246          0.9511747560370336                             -2.0309767846317106                 -0.8734321325960221                                     1.8160551856881226                 0.5601465885838665                         0.5124848836400879               -0.4752549868178823                          -0.05444951071771009           0.4853894163185285                 0.7561902853960966                 -0.12217933842489095                    -0.13159537219871556                       0.44048967020951235                       -0.1648903716692628              0\n",
       "134,682  250682  2017    Part of an Ongoing Conflict  State-Based Conflict  333                Afghanistan: Government  735            Government of Afghanistan - Taleban      130              Government of Afghanistan  303              Taleban            'local official, Military, police, resident, Tal...  Nahri Sarraj district (Greshk)           \"Nahr-e-Saraj district of southern Afghanistan's...  Hilmand province          31.829363   64.608526    175450          Afghanistan  Asia         0                  0.0                   2.65               0.0                 5.0          0.0                            6.57                8.2                                     8.0                55.0                       14.39            60.0                         4.36           2.55               11.5               0.0                     0.0                        0.0                       0.0              Xinhua News Agency      1                          0.17461743501407007                0.1740382973352242             0.18400986019022444         0.17515202364069704         7.4248420364856735e-06               0.002851139342010499                   7.4248420364856735e-06                 0.0238931416734109         0.19216976158832222          0.03605503292917443                   0                            0                                 1                       0.10971677667572277                                0.10880501717149885                            -0.06013918943328095                        0.01413807029643658                         -0.8043259702503647                                  0.09560673573068564                                    -0.30194504882061934                                   -0.18014896476386566                       -0.29621679962812547                         -0.5034659845081189                                   -0.15237165454037568                         -0.49845369186578176                              0.2784807977876893                      0.10493639226468149   0.8152111820555048      -0.48740734185859036               -1.1114405878199392            -0.2484707526723401              -0.8610232434732973              0.2365323741787366          0.6336341463289749           0.2302472263402914              -0.08195931603385788               -1.6888863425015612                   -0.45658159077809013               -1.5858023220808903                 -0.7947360793471077          -0.8728253638992083                            0.2801919912698663                  0.9777639663828965                                      -0.3725408871036134                1.245901857553454                          0.2050904004284072               0.47673463280419276                          0.8748317985366089             0.9842422227861175                 0.08676454267109739                -0.30828617904998584                    -0.30772743061795005                       -0.4226832824575012                       0.10029278873987017              1"
      ]
     },
     "execution_count": 17,
     "metadata": {},
     "output_type": "execute_result"
    }
   ],
   "source": [
    "xgb_model = xgboost.sklearn.XGBClassifier(max_depth=11,               # Increasing this value will make the model more complex and more likely to overfit.\n",
    "                                          objective='multi:softmax',\n",
    "                                          learning_rate=0.1,          # Boosting learning rate (xgb’s “eta”)\n",
    "                                          n_estimators=500,           # Number of gradient boosted trees. Equivalent to number of boosting rounds.\n",
    "                                          subsample=0.75,             # Subsample ratio of the training instances. Setting it to 0.5 means that XGBoost would randomly sample half of the training data prior to growing trees. and this will prevent overfitting.\n",
    "                                          colsample_bylevel=1,        # This is a family of parameters for subsampling of columns. range of (0, 1], the default value of 1, and specify the fraction of columns to be subsampled.\n",
    "                                          colsample_bytree=1,         #  is the subsample ratio of columns when constructing each tree.\n",
    "                                          scale_pos_weight=1.5,       # Balancing of positive and negative weights.\n",
    "                                          reg_lambda=1.5,              # Lambda L2 Reg. Higher = More conserv model.\n",
    "                                          reg_alpha=5,                 # L1 Reg\n",
    "                                          n_jobs=8,                   # Number of parallel threads used to run xgboost.\n",
    "                                          random_state=42,\n",
    "                                          use_label_encoder=True,      # (Deprecated) I seem to need it on True\n",
    "                                          verbosity=0)\n",
    "\n",
    "vaex_xgb_model = vaex.ml.sklearn.Predictor(features=features,\n",
    "                                           target='incident_classification',\n",
    "                                           model=xgb_model,\n",
    "                                           prediction_name='xgb_pred')\n",
    "\n",
    "vaex_xgb_model.fit(vaex_train)\n",
    "vaex_train = vaex_xgb_model.transform(vaex_train)\n",
    "\n",
    "vaex_train"
   ]
  },
  {
   "cell_type": "code",
   "execution_count": 18,
   "id": "5eea0ea6",
   "metadata": {},
   "outputs": [],
   "source": [
    "y_true = vaex_train.incident_classification.values\n",
    "y_pred = vaex_train.xgb_pred.values"
   ]
  },
  {
   "cell_type": "code",
   "execution_count": 19,
   "id": "4fbf23a8",
   "metadata": {},
   "outputs": [
    {
     "data": {
      "text/plain": [
       "0.8275431940185473"
      ]
     },
     "execution_count": 19,
     "metadata": {},
     "output_type": "execute_result"
    }
   ],
   "source": [
    "accuracy_score(y_true, y_pred)"
   ]
  },
  {
   "cell_type": "code",
   "execution_count": 26,
   "id": "ce0e3e47",
   "metadata": {},
   "outputs": [
    {
     "data": {
      "text/plain": [
       "0.8229529327291606"
      ]
     },
     "execution_count": 26,
     "metadata": {},
     "output_type": "execute_result"
    }
   ],
   "source": [
    "f1_score(y_true, y_pred, average='weighted')"
   ]
  },
  {
   "cell_type": "markdown",
   "id": "b8443bc6",
   "metadata": {},
   "source": [
    "##### Vaex State\n",
    "\"Vaex keeps track of all the changes one applies to a DataFrame in something called a state. A state is the place which contains all the informations regarding, for instance, the virtual columns we’ve created, which includes the newly engineered features, the categorically encoded columns, and even the model prediction\""
   ]
  },
  {
   "cell_type": "markdown",
   "id": "3226cc4c",
   "metadata": {},
   "source": [
    "###### Test Results:"
   ]
  },
  {
   "cell_type": "code",
   "execution_count": 27,
   "id": "ce9d373b",
   "metadata": {},
   "outputs": [],
   "source": [
    "state = vaex_train.state_get()  #Get the state from Train data\n",
    "vaex_test.state_set(state) # Apply state to Test data"
   ]
  },
  {
   "cell_type": "code",
   "execution_count": 28,
   "id": "4891ae4d",
   "metadata": {},
   "outputs": [],
   "source": [
    "y_test_true = vaex_test.incident_classification.values\n",
    "y_test_pred = vaex_test.xgb_pred.values"
   ]
  },
  {
   "cell_type": "code",
   "execution_count": 29,
   "id": "0d94e8ea",
   "metadata": {},
   "outputs": [
    {
     "name": "stdout",
     "output_type": "stream",
     "text": [
      "Model 1 Test Accuracy Score:  0.649045172403552\n",
      "Model 1 Test F1 Score:  0.634430119444292\n"
     ]
    }
   ],
   "source": [
    "print(\"Model 1 Test Accuracy Score: \", accuracy_score(y_test_true, y_test_pred))\n",
    "print(\"Model 1 Test F1 Score: \", f1_score(y_test_true, y_test_pred, average='weighted'))"
   ]
  },
  {
   "cell_type": "code",
   "execution_count": 30,
   "id": "3c6760e4",
   "metadata": {},
   "outputs": [
    {
     "name": "stdout",
     "output_type": "stream",
     "text": [
      "              precision    recall  f1-score   support\n",
      "\n",
      "           0       0.71      0.82      0.77     19217\n",
      "           1       0.54      0.46      0.50     11133\n",
      "           2       0.46      0.28      0.35      3221\n",
      "           3       0.51      0.23      0.32       100\n",
      "\n",
      "    accuracy                           0.65     33671\n",
      "   macro avg       0.56      0.45      0.48     33671\n",
      "weighted avg       0.63      0.65      0.63     33671\n",
      "\n"
     ]
    }
   ],
   "source": [
    "print(metrics.classification_report(y_test_true, y_test_pred))"
   ]
  },
  {
   "cell_type": "code",
   "execution_count": 31,
   "id": "8dc29968",
   "metadata": {},
   "outputs": [
    {
     "name": "stdout",
     "output_type": "stream",
     "text": [
      "Confusion Matrix: \n",
      "[[15814  3062   339     2]\n",
      " [ 5337  5123   670     3]\n",
      " [  947  1363   894    17]\n",
      " [   24    12    41    23]]\n"
     ]
    }
   ],
   "source": [
    "print(f'Confusion Matrix: \\n{confusion_matrix(y_test_true, y_test_pred)}')"
   ]
  },
  {
   "cell_type": "markdown",
   "id": "616f01da",
   "metadata": {},
   "source": [
    "###### Result: \n",
    "Not bad considering the baseline accuracy with unbalanced classes is 56.84%."
   ]
  },
  {
   "cell_type": "markdown",
   "id": "661cc6fc",
   "metadata": {},
   "source": [
    "#### XGB Model 2 - Parameter Tuning"
   ]
  },
  {
   "cell_type": "code",
   "execution_count": 35,
   "id": "733f4d89",
   "metadata": {},
   "outputs": [
    {
     "name": "stderr",
     "output_type": "stream",
     "text": [
      "C:\\ProgramData\\Anaconda3\\lib\\site-packages\\vaex\\ml\\__init__.py:31: UserWarning: Make sure the DataFrame is shuffled\n",
      "  warnings.warn('Make sure the DataFrame is shuffled')\n"
     ]
    }
   ],
   "source": [
    "vaex_train2, vaex_test2 = vaex_df.ml.train_test_split(test_size=0.2)"
   ]
  },
  {
   "cell_type": "code",
   "execution_count": null,
   "id": "55a9a9a3",
   "metadata": {
    "scrolled": true
   },
   "outputs": [],
   "source": [
    "#vaex_test2.drop('xgb_pred', inplace=True)\n",
    "#vaex_train2.drop('xgb_pred', inplace=True)"
   ]
  },
  {
   "cell_type": "markdown",
   "id": "e6dc9511",
   "metadata": {},
   "source": [
    "#### Parameter Tuning Results:\n",
    "\n",
    "* Increasing n_estimators to 800: Moderate increase in Training scores, Slight drop in Test scores.\n",
    "* Setting Objective to multi:softprob = No major change in results.\n",
    "* Following suggestion in documentation to set \"num_class\" with multi:softmax = No change.\n",
    "* Dropping lambda to 1 from 1.5 = Test scores dropping by approx 0.002\n",
    "* Dropping lambda to 0 from 1 = Test scores remain the same\n",
    "* Increasing Lambda from 1.5 to 5 = no measurable impact\n",
    "* Increasing alpha from 5 to 10 = Test Scores increase by 0.001, Train scores drop to ~0.77\n",
    "* Increasing alpha from 10 to 20 = Test scores drop by 0.001, Train scores drop by around ~0.5\n",
    "* Increasing Lambda to 20 and n_estimators to 700 from 500 = very small decrease in test scores.\n",
    "* Increasing max depth from 12 to 15 = Train Scores increase to 0.9, Test scores drop ~0.005 for both Accuracy and F1\n",
    "* Increasing depth to 20 and alpha to 20 = Test Accuracy up to 0.646 from 0.639\n",
    "* Increased learning_rate from 0.1 to 0.3 = Test Accuracy drops from 0.646 to 0.642"
   ]
  },
  {
   "cell_type": "markdown",
   "id": "c6222d24",
   "metadata": {},
   "source": [
    "#### Encoding Train Data"
   ]
  },
  {
   "cell_type": "code",
   "execution_count": 37,
   "id": "05ba42b3",
   "metadata": {},
   "outputs": [],
   "source": [
    "frequency_encoder = vaex.ml.FrequencyEncoder(features=['conflict_name', 'dyad_name', 'side_a', 'side_b', 'source_original', 'where_coordinates', 'where_description', 'adm_1', 'country', 'media_org_source'], allow_unseen=True)\n",
    "vaex_train2 = frequency_encoder.fit_transform(vaex_train2)\n",
    "\n",
    "label_encoder = vaex.ml.LabelEncoder(features=['active_year', 'type_of_violence', 'region'])\n",
    "vaex_train2 = label_encoder.fit_transform(vaex_train2)\n"
   ]
  },
  {
   "cell_type": "markdown",
   "id": "c601f1ba",
   "metadata": {},
   "source": [
    "#### Encoding Test Data"
   ]
  },
  {
   "cell_type": "code",
   "execution_count": 38,
   "id": "be632c06",
   "metadata": {},
   "outputs": [],
   "source": [
    "frequency_encoder = vaex.ml.FrequencyEncoder(features=['conflict_name', 'dyad_name', 'side_a', 'side_b', 'source_original', 'where_coordinates', 'where_description', 'adm_1', 'country', 'media_org_source'], allow_unseen=True)\n",
    "vaex_test2 = frequency_encoder.fit_transform(vaex_test2)"
   ]
  },
  {
   "cell_type": "code",
   "execution_count": 39,
   "id": "b78db201",
   "metadata": {},
   "outputs": [],
   "source": [
    "label_encoder = vaex.ml.LabelEncoder(features=['active_year', 'type_of_violence', 'region'])\n",
    "vaex_test2 = label_encoder.fit_transform(vaex_test2)"
   ]
  },
  {
   "cell_type": "markdown",
   "id": "a7e50858",
   "metadata": {},
   "source": [
    "##### Scaling Features"
   ]
  },
  {
   "cell_type": "code",
   "execution_count": 40,
   "id": "550d5b04",
   "metadata": {},
   "outputs": [],
   "source": [
    "## Training Data\n",
    "\n",
    "scaler = vaex.ml.StandardScaler(features=features)\n",
    "scaler.fit(vaex_train2)\n",
    "vaex_train2 = scaler.transform(vaex_train2)"
   ]
  },
  {
   "cell_type": "code",
   "execution_count": 41,
   "id": "b0d64a79",
   "metadata": {},
   "outputs": [],
   "source": [
    "## Test Data\n",
    "\n",
    "scaler = vaex.ml.StandardScaler(features=features)\n",
    "scaler.fit(vaex_test2)\n",
    "vaex_test2 = scaler.transform(vaex_test2)"
   ]
  },
  {
   "cell_type": "code",
   "execution_count": 42,
   "id": "7a08a417",
   "metadata": {},
   "outputs": [
    {
     "name": "stderr",
     "output_type": "stream",
     "text": [
      "C:\\ProgramData\\Anaconda3\\lib\\site-packages\\xgboost\\sklearn.py:1146: UserWarning: The use of label encoder in XGBClassifier is deprecated and will be removed in a future release. To remove this warning, do the following: 1) Pass option use_label_encoder=False when constructing XGBClassifier object; and 2) Encode your labels (y) as integers starting with 0, i.e. 0, 1, 2, ..., [num_class - 1].\n",
      "  warnings.warn(label_encoder_deprecation_msg, UserWarning)\n"
     ]
    },
    {
     "name": "stdout",
     "output_type": "stream",
     "text": [
      "[20:51:49] WARNING: C:/Users/Administrator/workspace/xgboost-win64_release_1.4.0/src/learner.cc:573: \n",
      "Parameters: { \"scale_pos_weight\" } might not be used.\n",
      "\n",
      "  This may not be accurate due to some parameters are only used in language bindings but\n",
      "  passed down to XGBoost core.  Or some parameters are not used but slip through this\n",
      "  verification. Please open an issue if you find above cases.\n",
      "\n",
      "\n",
      "[20:51:50] WARNING: C:/Users/Administrator/workspace/xgboost-win64_release_1.4.0/src/learner.cc:1095: Starting in XGBoost 1.3.0, the default evaluation metric used with the objective 'multi:softprob' was changed from 'merror' to 'mlogloss'. Explicitly set eval_metric if you'd like to restore the old behavior.\n"
     ]
    },
    {
     "data": {
      "text/html": [
       "<table>\n",
       "<thead>\n",
       "<tr><th>#                                  </th><th>id    </th><th>year  </th><th>active_year                </th><th>type_of_violence    </th><th>conflict_new_id  </th><th>conflict_name          </th><th>dyad_new_id  </th><th>dyad_name                              </th><th>side_a_new_id  </th><th>side_a                   </th><th>side_b_new_id  </th><th>side_b           </th><th>source_original                                    </th><th>where_coordinates                      </th><th>where_description                                  </th><th>adm_1                   </th><th>latitude  </th><th>longitude  </th><th>priogrid_gid  </th><th>country    </th><th>region     </th><th>conflict_length  </th><th>capital_investment  </th><th>economic_growth  </th><th>savings_pcnt_gdp  </th><th>inflation  </th><th>pcnt_world_tourist_arrivals  </th><th>death_rate_p1000  </th><th>human_flight_brain_drain_index_score  </th><th>government_debt  </th><th>inv_freedom_index_score  </th><th>external_debt  </th><th>labor_freedom_index_score  </th><th>remittances  </th><th>pop_growth_pcnt  </th><th>banking_z_score  </th><th>oil_reserves_barrels  </th><th>pcnt_world_oil_reserves  </th><th>oil_prod_barrels_daily  </th><th>trade_balance  </th><th>media_org_source      </th><th>incident_classification  </th><th>frequency_encoded_conflict_name  </th><th>frequency_encoded_dyad_name  </th><th>frequency_encoded_side_a  </th><th>frequency_encoded_side_b  </th><th>frequency_encoded_source_original  </th><th>frequency_encoded_where_coordinates  </th><th>frequency_encoded_where_description  </th><th>frequency_encoded_adm_1  </th><th>frequency_encoded_country  </th><th>frequency_encoded_media_org_source  </th><th>label_encoded_active_year  </th><th>label_encoded_type_of_violence  </th><th>label_encoded_region  </th><th>standard_scaled_frequency_encoded_conflict_name  </th><th>standard_scaled_frequency_encoded_dyad_name  </th><th>standard_scaled_frequency_encoded_side_a  </th><th>standard_scaled_frequency_encoded_side_b  </th><th>standard_scaled_frequency_encoded_source_original  </th><th>standard_scaled_frequency_encoded_where_coordinates  </th><th>standard_scaled_frequency_encoded_where_description  </th><th>standard_scaled_frequency_encoded_adm_1  </th><th>standard_scaled_frequency_encoded_country  </th><th>standard_scaled_frequency_encoded_media_org_source  </th><th>standard_scaled_label_encoded_active_year  </th><th>standard_scaled_label_encoded_type_of_violence  </th><th>standard_scaled_label_encoded_region  </th><th>standard_scaled_id  </th><th>standard_scaled_year  </th><th>standard_scaled_conflict_new_id  </th><th>standard_scaled_dyad_new_id  </th><th>standard_scaled_side_a_new_id  </th><th>standard_scaled_side_b_new_id  </th><th>standard_scaled_latitude  </th><th>standard_scaled_longitude  </th><th>standard_scaled_priogrid_gid  </th><th>standard_scaled_conflict_length  </th><th>standard_scaled_capital_investment  </th><th>standard_scaled_economic_growth  </th><th>standard_scaled_savings_pcnt_gdp  </th><th>standard_scaled_inflation  </th><th>standard_scaled_pcnt_world_tourist_arrivals  </th><th>standard_scaled_death_rate_p1000  </th><th>standard_scaled_human_flight_brain_drain_index_score  </th><th>standard_scaled_government_debt  </th><th>standard_scaled_inv_freedom_index_score  </th><th>standard_scaled_external_debt  </th><th>standard_scaled_labor_freedom_index_score  </th><th>standard_scaled_remittances  </th><th>standard_scaled_pop_growth_pcnt  </th><th>standard_scaled_banking_z_score  </th><th>standard_scaled_oil_reserves_barrels  </th><th>standard_scaled_pcnt_world_oil_reserves  </th><th>standard_scaled_oil_prod_barrels_daily  </th><th>standard_scaled_trade_balance  </th><th>xgb_pred  </th></tr>\n",
       "</thead>\n",
       "<tbody>\n",
       "<tr><td><i style='opacity: 0.6'>0</i>      </td><td>326304</td><td>2013  </td><td>Part of an Ongoing Conflict</td><td>State-Based Conflict</td><td>299              </td><td>Syria: Government      </td><td>11973        </td><td>Government of Syria - Syrian insurgents</td><td>118            </td><td>Government of Syria      </td><td>4456           </td><td>Syrian insurgents</td><td>SOHR                                               </td><td>Damascus city                          </td><td>Damascus and Reef Dimashq,                         </td><td>Damascus governorate    </td><td>33.513364 </td><td>36.291575  </td><td>178273        </td><td>Syria      </td><td>Middle East</td><td>0                </td><td>26.16               </td><td>5.7              </td><td>29.46             </td><td>20.75      </td><td>0.73                         </td><td>5.51              </td><td>6.2                                   </td><td>0.0              </td><td>10.0                     </td><td>0.0            </td><td>49.0                       </td><td>2.55         </td><td>-4.29            </td><td>5.17             </td><td>2.5                   </td><td>0.15                     </td><td>58.04                   </td><td>2.6            </td><td>Support Kurds in Syria</td><td>1                        </td><td>0.35022979886102923              </td><td>0.35022979886102923          </td><td>0.39199453531626116       </td><td>0.35022979886102923       </td><td>0.22091874995359473                </td><td>0.019913426341854577                 </td><td>1.4849684072971347e-05               </td><td>0.019957975394073492     </td><td>0.4520986316016127         </td><td>0.03693858913151623                 </td><td>0                          </td><td>0                               </td><td>0                     </td><td>1.2560752472651298                               </td><td>1.2567770745137665                           </td><td>1.1624389337016892                        </td><td>1.2533867781739194                        </td><td>1.7025056966700949                                 </td><td>3.5196789395991877                                   </td><td>-0.2923287411690913                                  </td><td>-0.3036709269587624                      </td><td>1.0460410181698643                         </td><td>-0.4953915408101695                                 </td><td>-0.15237165454037568                       </td><td>-0.5038391265626665                             </td><td>-0.7578850764843217                   </td><td>0.8730652336042676  </td><td>-0.371611979681008    </td><td>-0.4942320508581076              </td><td>0.7653257755902877           </td><td>-0.25828144398006353           </td><td>0.9619330696705394             </td><td>0.3954880742798763        </td><td>-0.0964883368626448        </td><td>0.4152182518518813            </td><td>-0.08195931603385788             </td><td>0.5923395133801026                  </td><td>0.20375907382715938              </td><td>0.6045213167431813                </td><td>0.6324141331873717         </td><td>0.2460990794230242                           </td><td>-0.09269064228503054              </td><td>-0.7852799374065413                                   </td><td>-0.66338421903607                </td><td>-0.8113639493553084                      </td><td>-0.6622442296531788            </td><td>-0.10503680140929757                       </td><td>-0.0808495479124352          </td><td>-1.3057934793872443              </td><td>-0.8633397065327688              </td><td>-0.20757901420956656                  </td><td>-0.21337097075050293                     </td><td>-0.3544207459437685                     </td><td>0.31848146502586566            </td><td>1         </td></tr>\n",
       "<tr><td><i style='opacity: 0.6'>1</i>      </td><td>212509</td><td>2015  </td><td>Part of an Ongoing Conflict</td><td>State-Based Conflict</td><td>333              </td><td>Afghanistan: Government</td><td>735          </td><td>Government of Afghanistan - Taleban    </td><td>130            </td><td>Government of Afghanistan</td><td>303            </td><td>Taleban          </td><td>Ministry of Interior                               </td><td>Zabul province                         </td><td>&#x27;Nangarhar, Laghman, Takhar, Kunduz, Sar-e-Pul, ...</td><td>Zabul province          </td><td>32.25     </td><td>67.25      </td><td>176175        </td><td>Afghanistan</td><td>Asia       </td><td>1                </td><td>0.0                 </td><td>1.45             </td><td>0.0               </td><td>-0.7       </td><td>0.0                          </td><td>6.93              </td><td>8.1                                   </td><td>9.15             </td><td>55.0                     </td><td>12.93          </td><td>68.0                       </td><td>1.75         </td><td>3.08             </td><td>10.94            </td><td>0.0                   </td><td>0.0                      </td><td>0.0                     </td><td>0.0            </td><td>Xinhua News Agency    </td><td>0                        </td><td>0.17461743501407007              </td><td>0.1740382973352242           </td><td>0.18400986019022444       </td><td>0.17515202364069704       </td><td>0.0006682357832837107              </td><td>0.0019453086135592466                </td><td>4.4549052218914044e-05               </td><td>0.007313469405938388     </td><td>0.19216976158832222        </td><td>0.03605503292917443                 </td><td>0                          </td><td>0                               </td><td>1                     </td><td>0.10971677667572292                              </td><td>0.10880501717149887                          </td><td>-0.060139189433281136                     </td><td>0.01413807029643658                       </td><td>-0.7968272972306384                                </td><td>-0.08617603575406516                                 </td><td>-0.2538635105629791                                  </td><td>-0.7005726281246282                      </td><td>-0.29621679962812514                       </td><td>-0.5034659845081187                                 </td><td>-0.15237165454037568                       </td><td>-0.5038391265626665                             </td><td>0.20007272665904133                   </td><td>-0.28280503563270315</td><td>0.2217996011872484    </td><td>-0.48740734185859036             </td><td>-1.1114405878199392          </td><td>-0.2484707526723401            </td><td>-0.8610232434732973            </td><td>0.2762370114226829        </td><td>0.701741745772365          </td><td>0.27775129771680673           </td><td>-0.004947772797071026            </td><td>-1.6888863425015603                 </td><td>-0.7163877539014669              </td><td>-1.5858023220808903               </td><td>-1.3112285372167283        </td><td>-0.8728253638992083                          </td><td>0.4068313762507745                </td><td>0.8896117711934187                                    </td><td>-0.33073215813832274             </td><td>1.245901857553454                        </td><td>0.11709119543055331            </td><td>0.8998411304140039                         </td><td>-0.5032501430280346          </td><td>1.1616865096504279               </td><td>0.0027110861854471946            </td><td>-0.3082861790499859                   </td><td>-0.30772743061795                        </td><td>-0.4226832824575011                     </td><td>0.10029278873987017            </td><td>0         </td></tr>\n",
       "<tr><td><i style='opacity: 0.6'>2</i>      </td><td>245548</td><td>2017  </td><td>Part of an Ongoing Conflict</td><td>State-Based Conflict</td><td>227              </td><td>India: Government      </td><td>453          </td><td>Government of India - CPI-Maoist       </td><td>141            </td><td>Government of India      </td><td>195            </td><td>CPI-Maoist       </td><td>DIG                                                </td><td>Basaguda town, Usur sub-district       </td><td>&quot;forest pocket of Bijapur&#x27;s Basaguda Police Stat...</td><td>Chhattisgarh state      </td><td>18.559669 </td><td>80.924192  </td><td>156762        </td><td>India      </td><td>Asia       </td><td>0                </td><td>30.98               </td><td>7.04             </td><td>31.71             </td><td>3.3        </td><td>1.19                         </td><td>0.0               </td><td>6.1                                   </td><td>68.2             </td><td>40.0                     </td><td>19.49          </td><td>42.0                       </td><td>2.6          </td><td>1.06             </td><td>15.96            </td><td>4.62                  </td><td>0.28                     </td><td>733.91                  </td><td>-3.16          </td><td>SATP                  </td><td>0                        </td><td>0.009243928335424664             </td><td>0.009221653809315207         </td><td>0.028117876792171245      </td><td>0.009221653809315207      </td><td>7.4248420364856735e-06             </td><td>5.939873629188539e-05                </td><td>7.4248420364856735e-06               </td><td>0.006563560360253335     </td><td>0.04013127120720507        </td><td>0.011560479050808195                </td><td>0                          </td><td>0                               </td><td>1                     </td><td>-0.9698047105320334                              </td><td>-0.9650543898611037                          </td><td>-0.9765053993912218                       </td><td>-1.1603627831236647                       </td><td>-0.8043259702503647                                </td><td>-0.46464180589444787                                 </td><td>-0.3019450488206194                                  </td><td>-0.7241117190334669                      </td><td>-1.0813348679282118                        </td><td>-0.7273112766050477                                 </td><td>-0.15237165454037568                       </td><td>-0.5038391265626665                             </td><td>0.20007272665904133                   </td><td>0.05278789749546837 </td><td>0.8152111820555048    </td><td>-0.5086843757982619              </td><td>-1.1585350988078094          </td><td>-0.2394776189735936            </td><td>-0.9084297644989497            </td><td>-1.0160164662898203       </td><td>1.0543162520699882         </td><td>-0.9942439266035955           </td><td>-0.08195931603385788             </td><td>1.0126571213827638                  </td><td>0.49387595598159684              </td><td>0.7718067270403355                </td><td>-0.9487776895889243        </td><td>0.9511747560370336                           </td><td>-2.0309767846317106               </td><td>-0.8734321325960134                                   </td><td>1.8160551856881226               </td><td>0.5601465885838665                       </td><td>0.5124848836400878             </td><td>-0.4752549868178823                        </td><td>-0.05444951071771009         </td><td>0.4853894163185285               </td><td>0.7561902853960965               </td><td>-0.122179338424891                    </td><td>-0.1315953721987155                      </td><td>0.4404896702095125                      </td><td>-0.1648903716692628            </td><td>0         </td></tr>\n",
       "<tr><td><i style='opacity: 0.6'>3</i>      </td><td>126293</td><td>2007  </td><td>Part of an Ongoing Conflict</td><td>State-Based Conflict</td><td>333              </td><td>Afghanistan: Government</td><td>735          </td><td>Government of Afghanistan - Taleban    </td><td>130            </td><td>Government of Afghanistan</td><td>303            </td><td>Taleban          </td><td>NATO/Coalition sources, police sources             </td><td>Landay village                         </td><td>Landay village (near Musa Qala town)               </td><td>Hilmand province        </td><td>32.309448 </td><td>64.855247  </td><td>176170        </td><td>Afghanistan</td><td>Asia       </td><td>0                </td><td>0.0                 </td><td>13.83            </td><td>0.0               </td><td>8.7        </td><td>0.0                          </td><td>9.29              </td><td>7.0                                   </td><td>20.14            </td><td>0.0                      </td><td>0.0            </td><td>0.0                        </td><td>0.0          </td><td>2.49             </td><td>20.69            </td><td>0.0                   </td><td>0.0                      </td><td>0.0                     </td><td>0.0            </td><td>AP                    </td><td>1                        </td><td>0.17461743501407007              </td><td>0.1740382973352242           </td><td>0.18400986019022444       </td><td>0.17515202364069704       </td><td>0.00017077136683917049             </td><td>7.4248420364856735e-06               </td><td>7.4248420364856735e-06               </td><td>0.0238931416734109       </td><td>0.19216976158832222        </td><td>0.008798437813235523                </td><td>0                          </td><td>0                               </td><td>1                     </td><td>0.10971677667572292                              </td><td>0.10880501717149887                          </td><td>-0.060139189433281136                     </td><td>0.01413807029643658                       </td><td>-0.8024723656836908                                </td><td>-0.4750719649140648                                  </td><td>-0.3019450488206194                                  </td><td>-0.18014896476386583                     </td><td>-0.29621679962812514                       </td><td>-0.7525523947196452                                 </td><td>-0.15237165454037568                       </td><td>-0.5038391265626665                             </td><td>0.20007272665904133                   </td><td>-1.1585422045112537 </td><td>-2.1518467222857773   </td><td>-0.48740734185859036             </td><td>-1.1114405878199392          </td><td>-0.2484707526723401            </td><td>-0.8610232434732973            </td><td>0.2818484086009584        </td><td>0.6399955850719924         </td><td>0.2774236834314514            </td><td>-0.08195931603385788             </td><td>-1.6888863425015603                 </td><td>1.9639458289880374               </td><td>-1.5858023220808903               </td><td>-0.4594690452913886        </td><td>-0.8728253638992083                          </td><td>1.2370229000145065                </td><td>-0.08006237589076862                                  </td><td>0.06881386910388955              </td><td>-1.2685341286683667                      </td><td>-0.6622442296531788            </td><td>-2.696564099269391                         </td><td>-1.4272514448434084          </td><td>0.9641541903109127               </td><td>1.4661418017838195               </td><td>-0.3082861790499859                   </td><td>-0.30772743061795                        </td><td>-0.4226832824575011                     </td><td>0.10029278873987017            </td><td>1         </td></tr>\n",
       "<tr><td><i style='opacity: 0.6'>4</i>      </td><td>308313</td><td>2013  </td><td>Part of an Ongoing Conflict</td><td>State-Based Conflict</td><td>299              </td><td>Syria: Government      </td><td>11973        </td><td>Government of Syria - Syrian insurgents</td><td>118            </td><td>Government of Syria      </td><td>4456           </td><td>Syrian insurgents</td><td>SOHR                                               </td><td>Khan ash Shih town                     </td><td>near the Khan al-Sheih camp                        </td><td>Rif Dimashq governorate </td><td>33.3751   </td><td>36.11287   </td><td>177553        </td><td>Syria      </td><td>Middle East</td><td>0                </td><td>26.16               </td><td>5.7              </td><td>29.46             </td><td>20.75      </td><td>0.73                         </td><td>5.51              </td><td>6.2                                   </td><td>0.0              </td><td>10.0                     </td><td>0.0            </td><td>49.0                       </td><td>2.55         </td><td>-4.29            </td><td>5.17             </td><td>2.5                   </td><td>0.15                     </td><td>58.04                   </td><td>2.6            </td><td>Support Kurds in Syria</td><td>0                        </td><td>0.35022979886102923              </td><td>0.35022979886102923          </td><td>0.39199453531626116       </td><td>0.35022979886102923       </td><td>0.22091874995359473                </td><td>0.0013290467245309356                </td><td>7.4248420364856735e-06               </td><td>0.09476325891166665      </td><td>0.4520986316016127         </td><td>0.03693858913151623                 </td><td>0                          </td><td>0                               </td><td>0                     </td><td>1.2560752472651298                               </td><td>1.2567770745137665                           </td><td>1.1624389337016892                        </td><td>1.2533867781739194                        </td><td>1.7025056966700949                                 </td><td>-0.2098479212723792                                  </td><td>-0.3019450488206194                                  </td><td>2.044411656274413                        </td><td>1.0460410181698643                         </td><td>-0.4953915408101695                                 </td><td>-0.15237165454037568                       </td><td>-0.5038391265626665                             </td><td>-0.7578850764843217                   </td><td>0.6903220373843779  </td><td>-0.371611979681008    </td><td>-0.4942320508581076              </td><td>0.7653257755902877           </td><td>-0.25828144398006353           </td><td>0.9619330696705394             </td><td>0.3824371016742876        </td><td>-0.1010960553404837        </td><td>0.3680417947607213            </td><td>-0.08195931603385788             </td><td>0.5923395133801026                  </td><td>0.20375907382715938              </td><td>0.6045213167431813                </td><td>0.6324141331873717         </td><td>0.2460990794230242                           </td><td>-0.09269064228503054              </td><td>-0.7852799374065413                                   </td><td>-0.66338421903607                </td><td>-0.8113639493553084                      </td><td>-0.6622442296531788            </td><td>-0.10503680140929757                       </td><td>-0.0808495479124352          </td><td>-1.3057934793872443              </td><td>-0.8633397065327688              </td><td>-0.20757901420956656                  </td><td>-0.21337097075050293                     </td><td>-0.3544207459437685                     </td><td>0.31848146502586566            </td><td>0         </td></tr>\n",
       "<tr><td>...                                </td><td>...   </td><td>...   </td><td>...                        </td><td>...                 </td><td>...              </td><td>...                    </td><td>...          </td><td>...                                    </td><td>...            </td><td>...                      </td><td>...            </td><td>...              </td><td>...                                                </td><td>...                                    </td><td>...                                                </td><td>...                     </td><td>...       </td><td>...        </td><td>...           </td><td>...        </td><td>...        </td><td>...              </td><td>...                 </td><td>...              </td><td>...               </td><td>...        </td><td>...                          </td><td>...               </td><td>...                                   </td><td>...              </td><td>...                      </td><td>...            </td><td>...                        </td><td>...          </td><td>...              </td><td>...              </td><td>...                   </td><td>...                      </td><td>...                     </td><td>...            </td><td>...                   </td><td>...                      </td><td>...                              </td><td>...                          </td><td>...                       </td><td>...                       </td><td>...                                </td><td>...                                  </td><td>...                                  </td><td>...                      </td><td>...                        </td><td>...                                 </td><td>...                        </td><td>...                             </td><td>...                   </td><td>...                                              </td><td>...                                          </td><td>...                                       </td><td>...                                       </td><td>...                                                </td><td>...                                                  </td><td>...                                                  </td><td>...                                      </td><td>...                                        </td><td>...                                                 </td><td>...                                        </td><td>...                                             </td><td>...                                   </td><td>...                 </td><td>...                   </td><td>...                              </td><td>...                          </td><td>...                            </td><td>...                            </td><td>...                       </td><td>...                        </td><td>...                           </td><td>...                              </td><td>...                                 </td><td>...                              </td><td>...                               </td><td>...                        </td><td>...                                          </td><td>...                               </td><td>...                                                   </td><td>...                              </td><td>...                                      </td><td>...                            </td><td>...                                        </td><td>...                          </td><td>...                              </td><td>...                              </td><td>...                                   </td><td>...                                      </td><td>...                                     </td><td>...                            </td><td>...       </td></tr>\n",
       "<tr><td><i style='opacity: 0.6'>134,678</i></td><td>339002</td><td>2020  </td><td>Part of an Ongoing Conflict</td><td>State-Based Conflict</td><td>13604            </td><td>Syria: Islamic State   </td><td>14620        </td><td>Government of Syria - IS               </td><td>118            </td><td>Government of Syria      </td><td>234            </td><td>IS               </td><td>SOHR                                               </td><td>Albu Kamal town                        </td><td>western desert of Al-Bokamal.                      </td><td>Deir ez Zor governorate </td><td>34.45     </td><td>40.918611  </td><td>179002        </td><td>Syria      </td><td>Middle East</td><td>0                </td><td>26.16               </td><td>5.7              </td><td>29.46             </td><td>20.75      </td><td>0.73                         </td><td>5.24              </td><td>8.4                                   </td><td>0.0              </td><td>15.0                     </td><td>0.0            </td><td>59.0                       </td><td>2.55         </td><td>-1.6             </td><td>8.4              </td><td>2.5                   </td><td>0.15                     </td><td>35.0                    </td><td>2.6            </td><td>SOHR                  </td><td>0                        </td><td>0.02974391719816161              </td><td>0.02974391719816161          </td><td>0.39199453531626116       </td><td>0.08631378867414596       </td><td>0.22091874995359473                </td><td>0.0016111907219173913                </td><td>7.4248420364856735e-06               </td><td>0.03636687629470683      </td><td>0.4520986316016127         </td><td>0.2634779445067306                  </td><td>0                          </td><td>0                               </td><td>0                     </td><td>-0.8359853406141681                              </td><td>-0.8313420103206896                          </td><td>1.1624389337016892                        </td><td>-0.6146834220595464                       </td><td>1.7025056966700949                                 </td><td>-0.1532270580230306                                  </td><td>-0.3019450488206194                                  </td><td>0.2113923493633534                       </td><td>1.0460410181698643                         </td><td>1.5748551118631853                                  </td><td>-0.15237165454037568                       </td><td>-0.5038391265626665                             </td><td>-0.7578850764843217                   </td><td>1.002044895968792   </td><td>1.7053285533578895    </td><td>2.1764371620412244               </td><td>1.2073795719906142           </td><td>-0.25828144398006353           </td><td>-0.8913107430174642            </td><td>0.4838987290953609        </td><td>0.0228148682789334         </td><td>0.4629844146566809            </td><td>-0.08195931603385788             </td><td>0.5923395133801026                  </td><td>0.20375907382715938              </td><td>0.6045213167431813                </td><td>0.6324141331873717         </td><td>0.2460990794230242                           </td><td>-0.18767018102071165              </td><td>1.1540683567618342                                    </td><td>-0.66338421903607                </td><td>-0.5827788596987793                      </td><td>-0.6622442296531788            </td><td>0.4238463206029664                         </td><td>-0.0808495479124352          </td><td>-0.4051800234155567              </td><td>-0.37853137716017987             </td><td>-0.20757901420956656                  </td><td>-0.21337097075050293                     </td><td>-0.38151876181689737                    </td><td>0.31848146502586566            </td><td>0         </td></tr>\n",
       "<tr><td><i style='opacity: 0.6'>134,679</i></td><td>115977</td><td>2007  </td><td>Part of an Ongoing Conflict</td><td>State-Based Conflict</td><td>338              </td><td>Iran: Government       </td><td>754          </td><td>Government of Iran - PJAK              </td><td>114            </td><td>Government of Iran       </td><td>309            </td><td>PJAK             </td><td>No Source Specified                                </td><td>Khoy town                              </td><td>&#x27;in the valleys close to the town of Khoy&quot; 50 ki...</td><td>West Azarbaijan province</td><td>38.550278 </td><td>44.952222  </td><td>185490        </td><td>Iran       </td><td>Middle East</td><td>0                </td><td>39.73               </td><td>8.16             </td><td>0.0               </td><td>17.3       </td><td>0.25                         </td><td>0.0               </td><td>5.0                                   </td><td>11.38            </td><td>10.0                     </td><td>5.94           </td><td>53.0                       </td><td>0.32         </td><td>1.1              </td><td>0.0              </td><td>136.27                </td><td>10.32                    </td><td>3911.89                 </td><td>7.8            </td><td>Jamestown             </td><td>0                        </td><td>0.0007870332558674814            </td><td>0.0005197389425539971        </td><td>0.0016111907219173913     </td><td>0.0005197389425539971     </td><td>0.06334875225529576                </td><td>2.2274526109457022e-05               </td><td>7.4248420364856735e-06               </td><td>0.0004232159960796834    </td><td>0.0012102492519471648      </td><td>2.2274526109457022e-05              </td><td>0                          </td><td>0                               </td><td>0                     </td><td>-1.0250094415484945                              </td><td>-1.0217515348760695                          </td><td>-1.1323173335477206                       </td><td>-1.221957332980849                        </td><td>-0.08554867214602435                               </td><td>-0.47209191947988854                                 </td><td>-0.3019450488206194                                  </td><td>-0.9168525921187113                      </td><td>-1.2823207991695584                        </td><td>-0.8327540119547377                                 </td><td>-0.15237165454037568                       </td><td>-0.5038391265626665                             </td><td>-0.7578850764843217                   </td><td>-1.2633267530190844 </td><td>-2.1518467222857773   </td><td>-0.48640370818219075             </td><td>-1.1082675533916786          </td><td>-0.2615516744159714            </td><td>-0.858389547860761             </td><td>0.8709308983751294        </td><td>0.12681724055231247        </td><td>0.8880967113336896            </td><td>-0.08195931603385788             </td><td>1.7756818247070965                  </td><td>0.7363617082300818               </td><td>-1.5858023220808903               </td><td>0.3198002771083906         </td><td>-0.4896320613915944                          </td><td>-2.0309767846317106               </td><td>-1.8431062796802007                                   </td><td>-0.24965957936215044             </td><td>-0.8113639493553084                      </td><td>-0.30422006685369163           </td><td>0.10651644739560802                        </td><td>-1.2582912067971688          </td><td>0.49878143796866514              </td><td>-1.6393332244449312              </td><td>5.181059962071591                     </td><td>6.183997008262405                        </td><td>4.178204621793107                       </td><td>0.7548588175978566             </td><td>0         </td></tr>\n",
       "<tr><td><i style='opacity: 0.6'>134,680</i></td><td>315847</td><td>2013  </td><td>Part of an Ongoing Conflict</td><td>State-Based Conflict</td><td>299              </td><td>Syria: Government      </td><td>11973        </td><td>Government of Syria - Syrian insurgents</td><td>118            </td><td>Government of Syria      </td><td>4456           </td><td>Syrian insurgents</td><td>SOHR; VDC                                          </td><td>Qalamoun mountain range                </td><td>al-Qalamoun                                        </td><td>Rif Dimashq governorate </td><td>33.8      </td><td>36.433333  </td><td>178273        </td><td>Syria      </td><td>Middle East</td><td>0                </td><td>26.16               </td><td>5.7              </td><td>29.46             </td><td>20.75      </td><td>0.73                         </td><td>5.51              </td><td>6.2                                   </td><td>0.0              </td><td>10.0                     </td><td>0.0            </td><td>49.0                       </td><td>2.55         </td><td>-4.29            </td><td>5.17             </td><td>2.5                   </td><td>0.15                     </td><td>58.04                   </td><td>2.6            </td><td>Support Kurds in Syria</td><td>0                        </td><td>0.35022979886102923              </td><td>0.35022979886102923          </td><td>0.39199453531626116       </td><td>0.35022979886102923       </td><td>0.031399656972297914               </td><td>0.0020344067179970744                </td><td>7.424842036485673e-05                </td><td>0.09476325891166665      </td><td>0.4520986316016127         </td><td>0.03693858913151623                 </td><td>0                          </td><td>0                               </td><td>0                     </td><td>1.2560752472651298                               </td><td>1.2567770745137665                           </td><td>1.1624389337016892                        </td><td>1.2533867781739194                        </td><td>-0.4480968744368433                                </td><td>-0.06829576314900775                                 </td><td>-0.21539827995686692                                 </td><td>2.044411656274413                        </td><td>1.0460410181698643                         </td><td>-0.4953915408101695                                 </td><td>-0.15237165454037568                       </td><td>-0.5038391265626665                             </td><td>-0.7578850764843217                   </td><td>0.7668484806238115  </td><td>-0.371611979681008    </td><td>-0.4942320508581076              </td><td>0.7653257755902877           </td><td>-0.25828144398006353           </td><td>0.9619330696705394             </td><td>0.4225441306920692        </td><td>-0.09283325750850548       </td><td>0.4152182518518813            </td><td>-0.08195931603385788             </td><td>0.5923395133801026                  </td><td>0.20375907382715938              </td><td>0.6045213167431813                </td><td>0.6324141331873717         </td><td>0.2460990794230242                           </td><td>-0.09269064228503054              </td><td>-0.7852799374065413                                   </td><td>-0.66338421903607                </td><td>-0.8113639493553084                      </td><td>-0.6622442296531788            </td><td>-0.10503680140929757                       </td><td>-0.0808495479124352          </td><td>-1.3057934793872443              </td><td>-0.8633397065327688              </td><td>-0.20757901420956656                  </td><td>-0.21337097075050293                     </td><td>-0.3544207459437685                     </td><td>0.31848146502586566            </td><td>0         </td></tr>\n",
       "<tr><td><i style='opacity: 0.6'>134,681</i></td><td>250549</td><td>2017  </td><td>Part of an Ongoing Conflict</td><td>One-Sided Violence  </td><td>499              </td><td>CPI-Maoist - Civilians </td><td>966          </td><td>CPI-Maoist - Civilians                 </td><td>195            </td><td>CPI-Maoist               </td><td>1              </td><td>Civilians        </td><td>Police                                             </td><td>Badapada town, Chitrakonda sub-district</td><td>Badataekpada village                               </td><td>Odisha state            </td><td>18.138398 </td><td>82.234889  </td><td>156045        </td><td>India      </td><td>Asia       </td><td>0                </td><td>30.98               </td><td>7.04             </td><td>31.71             </td><td>3.3        </td><td>1.19                         </td><td>0.0               </td><td>6.1                                   </td><td>68.2             </td><td>40.0                     </td><td>19.49          </td><td>42.0                       </td><td>2.6          </td><td>1.06             </td><td>15.96            </td><td>4.62                  </td><td>0.28                     </td><td>733.91                  </td><td>-3.16          </td><td>The Telegraph         </td><td>0                        </td><td>0.00827127402864504              </td><td>0.00827127402864504          </td><td>0.00827127402864504       </td><td>0.09685706436595562       </td><td>0.01489423312519026                </td><td>2.2274526109457022e-05               </td><td>7.4248420364856735e-06               </td><td>0.0013810206187863353    </td><td>0.04013127120720507        </td><td>0.00040836631200671204              </td><td>0                          </td><td>1                               </td><td>1                     </td><td>-0.9761539816146995                              </td><td>-0.9712465695214413                          </td><td>-1.0931679484109196                       </td><td>-0.5400552131882137                       </td><td>-0.6353951904239432                                </td><td>-0.47209191947988854                                 </td><td>-0.3019450488206194                                  </td><td>-0.8867878126410855                      </td><td>-1.0813348679282118                        </td><td>-0.8292256836161381                                 </td><td>-0.15237165454037568                       </td><td>0.9411591716601059                              </td><td>0.20007272665904133                   </td><td>0.10358544762029011 </td><td>0.8152111820555048    </td><td>-0.4540867038021237              </td><td>-1.072863169244769           </td><td>-0.19532950808883806           </td><td>-0.9935859226376216            </td><td>-1.0557809478651325       </td><td>1.0881111810632897         </td><td>-1.0412238151235425           </td><td>-0.08195931603385788             </td><td>1.0126571213827638                  </td><td>0.49387595598159684              </td><td>0.7718067270403355                </td><td>-0.9487776895889243        </td><td>0.9511747560370336                           </td><td>-2.0309767846317106               </td><td>-0.8734321325960134                                   </td><td>1.8160551856881226               </td><td>0.5601465885838665                       </td><td>0.5124848836400878             </td><td>-0.4752549868178823                        </td><td>-0.05444951071771009         </td><td>0.4853894163185285               </td><td>0.7561902853960965               </td><td>-0.122179338424891                    </td><td>-0.1315953721987155                      </td><td>0.4404896702095125                      </td><td>-0.1648903716692628            </td><td>0         </td></tr>\n",
       "<tr><td><i style='opacity: 0.6'>134,682</i></td><td>250682</td><td>2017  </td><td>Part of an Ongoing Conflict</td><td>State-Based Conflict</td><td>333              </td><td>Afghanistan: Government</td><td>735          </td><td>Government of Afghanistan - Taleban    </td><td>130            </td><td>Government of Afghanistan</td><td>303            </td><td>Taleban          </td><td>&#x27;local official, Military, police, resident, Tal...</td><td>Nahri Sarraj district (Greshk)         </td><td>&quot;Nahr-e-Saraj district of southern Afghanistan&#x27;s...</td><td>Hilmand province        </td><td>31.829363 </td><td>64.608526  </td><td>175450        </td><td>Afghanistan</td><td>Asia       </td><td>0                </td><td>0.0                 </td><td>2.65             </td><td>0.0               </td><td>5.0        </td><td>0.0                          </td><td>6.57              </td><td>8.2                                   </td><td>8.0              </td><td>55.0                     </td><td>14.39          </td><td>60.0                       </td><td>4.36         </td><td>2.55             </td><td>11.5             </td><td>0.0                   </td><td>0.0                      </td><td>0.0                     </td><td>0.0            </td><td>Xinhua News Agency    </td><td>1                        </td><td>0.17461743501407007              </td><td>0.1740382973352242           </td><td>0.18400986019022444       </td><td>0.17515202364069704       </td><td>7.4248420364856735e-06             </td><td>0.002851139342010499                 </td><td>7.4248420364856735e-06               </td><td>0.0238931416734109       </td><td>0.19216976158832222        </td><td>0.03605503292917443                 </td><td>0                          </td><td>0                               </td><td>1                     </td><td>0.10971677667572292                              </td><td>0.10880501717149887                          </td><td>-0.060139189433281136                     </td><td>0.01413807029643658                       </td><td>-0.8043259702503647                                </td><td>0.09560673573068564                                  </td><td>-0.3019450488206194                                  </td><td>-0.18014896476386583                     </td><td>-0.29621679962812514                       </td><td>-0.5034659845081187                                 </td><td>-0.15237165454037568                       </td><td>-0.5038391265626665                             </td><td>0.20007272665904133                   </td><td>0.10493639226468149 </td><td>0.8152111820555048    </td><td>-0.48740734185859036             </td><td>-1.1114405878199392          </td><td>-0.2484707526723401            </td><td>-0.8610232434732973            </td><td>0.2365323741787366        </td><td>0.633634146328975          </td><td>0.2302472263402914            </td><td>-0.08195931603385788             </td><td>-1.6888863425015603                 </td><td>-0.45658159077809013             </td><td>-1.5858023220808903               </td><td>-0.7947360793471074        </td><td>-0.8728253638992083                          </td><td>0.2801919912698663                </td><td>0.97776396638289                                      </td><td>-0.3725408871036134              </td><td>1.245901857553454                        </td><td>0.20509040042840712            </td><td>0.47673463280419276                        </td><td>0.8748317985366089           </td><td>0.9842422227861175               </td><td>0.08676454267109736              </td><td>-0.3082861790499859                   </td><td>-0.30772743061795                        </td><td>-0.4226832824575011                     </td><td>0.10029278873987017            </td><td>1         </td></tr>\n",
       "</tbody>\n",
       "</table>"
      ],
      "text/plain": [
       "#        id      year    active_year                  type_of_violence      conflict_new_id    conflict_name            dyad_new_id    dyad_name                                side_a_new_id    side_a                     side_b_new_id    side_b             source_original                                      where_coordinates                        where_description                                    adm_1                     latitude    longitude    priogrid_gid    country      region       conflict_length    capital_investment    economic_growth    savings_pcnt_gdp    inflation    pcnt_world_tourist_arrivals    death_rate_p1000    human_flight_brain_drain_index_score    government_debt    inv_freedom_index_score    external_debt    labor_freedom_index_score    remittances    pop_growth_pcnt    banking_z_score    oil_reserves_barrels    pcnt_world_oil_reserves    oil_prod_barrels_daily    trade_balance    media_org_source        incident_classification    frequency_encoded_conflict_name    frequency_encoded_dyad_name    frequency_encoded_side_a    frequency_encoded_side_b    frequency_encoded_source_original    frequency_encoded_where_coordinates    frequency_encoded_where_description    frequency_encoded_adm_1    frequency_encoded_country    frequency_encoded_media_org_source    label_encoded_active_year    label_encoded_type_of_violence    label_encoded_region    standard_scaled_frequency_encoded_conflict_name    standard_scaled_frequency_encoded_dyad_name    standard_scaled_frequency_encoded_side_a    standard_scaled_frequency_encoded_side_b    standard_scaled_frequency_encoded_source_original    standard_scaled_frequency_encoded_where_coordinates    standard_scaled_frequency_encoded_where_description    standard_scaled_frequency_encoded_adm_1    standard_scaled_frequency_encoded_country    standard_scaled_frequency_encoded_media_org_source    standard_scaled_label_encoded_active_year    standard_scaled_label_encoded_type_of_violence    standard_scaled_label_encoded_region    standard_scaled_id    standard_scaled_year    standard_scaled_conflict_new_id    standard_scaled_dyad_new_id    standard_scaled_side_a_new_id    standard_scaled_side_b_new_id    standard_scaled_latitude    standard_scaled_longitude    standard_scaled_priogrid_gid    standard_scaled_conflict_length    standard_scaled_capital_investment    standard_scaled_economic_growth    standard_scaled_savings_pcnt_gdp    standard_scaled_inflation    standard_scaled_pcnt_world_tourist_arrivals    standard_scaled_death_rate_p1000    standard_scaled_human_flight_brain_drain_index_score    standard_scaled_government_debt    standard_scaled_inv_freedom_index_score    standard_scaled_external_debt    standard_scaled_labor_freedom_index_score    standard_scaled_remittances    standard_scaled_pop_growth_pcnt    standard_scaled_banking_z_score    standard_scaled_oil_reserves_barrels    standard_scaled_pcnt_world_oil_reserves    standard_scaled_oil_prod_barrels_daily    standard_scaled_trade_balance    xgb_pred\n",
       "0        326304  2013    Part of an Ongoing Conflict  State-Based Conflict  299                Syria: Government        11973          Government of Syria - Syrian insurgents  118              Government of Syria        4456             Syrian insurgents  SOHR                                                 Damascus city                            Damascus and Reef Dimashq,                           Damascus governorate      33.513364   36.291575    178273          Syria        Middle East  0                  26.16                 5.7                29.46               20.75        0.73                           5.51                6.2                                     0.0                10.0                       0.0              49.0                         2.55           -4.29              5.17               2.5                     0.15                       58.04                     2.6              Support Kurds in Syria  1                          0.35022979886102923                0.35022979886102923            0.39199453531626116         0.35022979886102923         0.22091874995359473                  0.019913426341854577                   1.4849684072971347e-05                 0.019957975394073492       0.4520986316016127           0.03693858913151623                   0                            0                                 0                       1.2560752472651298                                 1.2567770745137665                             1.1624389337016892                          1.2533867781739194                          1.7025056966700949                                   3.5196789395991877                                     -0.2923287411690913                                    -0.3036709269587624                        1.0460410181698643                           -0.4953915408101695                                   -0.15237165454037568                         -0.5038391265626665                               -0.7578850764843217                     0.8730652336042676    -0.371611979681008      -0.4942320508581076                0.7653257755902877             -0.25828144398006353             0.9619330696705394               0.3954880742798763          -0.0964883368626448          0.4152182518518813              -0.08195931603385788               0.5923395133801026                    0.20375907382715938                0.6045213167431813                  0.6324141331873717           0.2460990794230242                             -0.09269064228503054                -0.7852799374065413                                     -0.66338421903607                  -0.8113639493553084                        -0.6622442296531788              -0.10503680140929757                         -0.0808495479124352            -1.3057934793872443                -0.8633397065327688                -0.20757901420956656                    -0.21337097075050293                       -0.3544207459437685                       0.31848146502586566              1\n",
       "1        212509  2015    Part of an Ongoing Conflict  State-Based Conflict  333                Afghanistan: Government  735            Government of Afghanistan - Taleban      130              Government of Afghanistan  303              Taleban            Ministry of Interior                                 Zabul province                           'Nangarhar, Laghman, Takhar, Kunduz, Sar-e-Pul, ...  Zabul province            32.25       67.25        176175          Afghanistan  Asia         1                  0.0                   1.45               0.0                 -0.7         0.0                            6.93                8.1                                     9.15               55.0                       12.93            68.0                         1.75           3.08               10.94              0.0                     0.0                        0.0                       0.0              Xinhua News Agency      0                          0.17461743501407007                0.1740382973352242             0.18400986019022444         0.17515202364069704         0.0006682357832837107                0.0019453086135592466                  4.4549052218914044e-05                 0.007313469405938388       0.19216976158832222          0.03605503292917443                   0                            0                                 1                       0.10971677667572292                                0.10880501717149887                            -0.060139189433281136                       0.01413807029643658                         -0.7968272972306384                                  -0.08617603575406516                                   -0.2538635105629791                                    -0.7005726281246282                        -0.29621679962812514                         -0.5034659845081187                                   -0.15237165454037568                         -0.5038391265626665                               0.20007272665904133                     -0.28280503563270315  0.2217996011872484      -0.48740734185859036               -1.1114405878199392            -0.2484707526723401              -0.8610232434732973              0.2762370114226829          0.701741745772365            0.27775129771680673             -0.004947772797071026              -1.6888863425015603                   -0.7163877539014669                -1.5858023220808903                 -1.3112285372167283          -0.8728253638992083                            0.4068313762507745                  0.8896117711934187                                      -0.33073215813832274               1.245901857553454                          0.11709119543055331              0.8998411304140039                           -0.5032501430280346            1.1616865096504279                 0.0027110861854471946              -0.3082861790499859                     -0.30772743061795                          -0.4226832824575011                       0.10029278873987017              0\n",
       "2        245548  2017    Part of an Ongoing Conflict  State-Based Conflict  227                India: Government        453            Government of India - CPI-Maoist         141              Government of India        195              CPI-Maoist         DIG                                                  Basaguda town, Usur sub-district         \"forest pocket of Bijapur's Basaguda Police Stat...  Chhattisgarh state        18.559669   80.924192    156762          India        Asia         0                  30.98                 7.04               31.71               3.3          1.19                           0.0                 6.1                                     68.2               40.0                       19.49            42.0                         2.6            1.06               15.96              4.62                    0.28                       733.91                    -3.16            SATP                    0                          0.009243928335424664               0.009221653809315207           0.028117876792171245        0.009221653809315207        7.4248420364856735e-06               5.939873629188539e-05                  7.4248420364856735e-06                 0.006563560360253335       0.04013127120720507          0.011560479050808195                  0                            0                                 1                       -0.9698047105320334                                -0.9650543898611037                            -0.9765053993912218                         -1.1603627831236647                         -0.8043259702503647                                  -0.46464180589444787                                   -0.3019450488206194                                    -0.7241117190334669                        -1.0813348679282118                          -0.7273112766050477                                   -0.15237165454037568                         -0.5038391265626665                               0.20007272665904133                     0.05278789749546837   0.8152111820555048      -0.5086843757982619                -1.1585350988078094            -0.2394776189735936              -0.9084297644989497              -1.0160164662898203         1.0543162520699882           -0.9942439266035955             -0.08195931603385788               1.0126571213827638                    0.49387595598159684                0.7718067270403355                  -0.9487776895889243          0.9511747560370336                             -2.0309767846317106                 -0.8734321325960134                                     1.8160551856881226                 0.5601465885838665                         0.5124848836400878               -0.4752549868178823                          -0.05444951071771009           0.4853894163185285                 0.7561902853960965                 -0.122179338424891                      -0.1315953721987155                        0.4404896702095125                        -0.1648903716692628              0\n",
       "3        126293  2007    Part of an Ongoing Conflict  State-Based Conflict  333                Afghanistan: Government  735            Government of Afghanistan - Taleban      130              Government of Afghanistan  303              Taleban            NATO/Coalition sources, police sources               Landay village                           Landay village (near Musa Qala town)                 Hilmand province          32.309448   64.855247    176170          Afghanistan  Asia         0                  0.0                   13.83              0.0                 8.7          0.0                            9.29                7.0                                     20.14              0.0                        0.0              0.0                          0.0            2.49               20.69              0.0                     0.0                        0.0                       0.0              AP                      1                          0.17461743501407007                0.1740382973352242             0.18400986019022444         0.17515202364069704         0.00017077136683917049               7.4248420364856735e-06                 7.4248420364856735e-06                 0.0238931416734109         0.19216976158832222          0.008798437813235523                  0                            0                                 1                       0.10971677667572292                                0.10880501717149887                            -0.060139189433281136                       0.01413807029643658                         -0.8024723656836908                                  -0.4750719649140648                                    -0.3019450488206194                                    -0.18014896476386583                       -0.29621679962812514                         -0.7525523947196452                                   -0.15237165454037568                         -0.5038391265626665                               0.20007272665904133                     -1.1585422045112537   -2.1518467222857773     -0.48740734185859036               -1.1114405878199392            -0.2484707526723401              -0.8610232434732973              0.2818484086009584          0.6399955850719924           0.2774236834314514              -0.08195931603385788               -1.6888863425015603                   1.9639458289880374                 -1.5858023220808903                 -0.4594690452913886          -0.8728253638992083                            1.2370229000145065                  -0.08006237589076862                                    0.06881386910388955                -1.2685341286683667                        -0.6622442296531788              -2.696564099269391                           -1.4272514448434084            0.9641541903109127                 1.4661418017838195                 -0.3082861790499859                     -0.30772743061795                          -0.4226832824575011                       0.10029278873987017              1\n",
       "4        308313  2013    Part of an Ongoing Conflict  State-Based Conflict  299                Syria: Government        11973          Government of Syria - Syrian insurgents  118              Government of Syria        4456             Syrian insurgents  SOHR                                                 Khan ash Shih town                       near the Khan al-Sheih camp                          Rif Dimashq governorate   33.3751     36.11287     177553          Syria        Middle East  0                  26.16                 5.7                29.46               20.75        0.73                           5.51                6.2                                     0.0                10.0                       0.0              49.0                         2.55           -4.29              5.17               2.5                     0.15                       58.04                     2.6              Support Kurds in Syria  0                          0.35022979886102923                0.35022979886102923            0.39199453531626116         0.35022979886102923         0.22091874995359473                  0.0013290467245309356                  7.4248420364856735e-06                 0.09476325891166665        0.4520986316016127           0.03693858913151623                   0                            0                                 0                       1.2560752472651298                                 1.2567770745137665                             1.1624389337016892                          1.2533867781739194                          1.7025056966700949                                   -0.2098479212723792                                    -0.3019450488206194                                    2.044411656274413                          1.0460410181698643                           -0.4953915408101695                                   -0.15237165454037568                         -0.5038391265626665                               -0.7578850764843217                     0.6903220373843779    -0.371611979681008      -0.4942320508581076                0.7653257755902877             -0.25828144398006353             0.9619330696705394               0.3824371016742876          -0.1010960553404837          0.3680417947607213              -0.08195931603385788               0.5923395133801026                    0.20375907382715938                0.6045213167431813                  0.6324141331873717           0.2460990794230242                             -0.09269064228503054                -0.7852799374065413                                     -0.66338421903607                  -0.8113639493553084                        -0.6622442296531788              -0.10503680140929757                         -0.0808495479124352            -1.3057934793872443                -0.8633397065327688                -0.20757901420956656                    -0.21337097075050293                       -0.3544207459437685                       0.31848146502586566              0\n",
       "...      ...     ...     ...                          ...                   ...                ...                      ...            ...                                      ...              ...                        ...              ...                ...                                                  ...                                      ...                                                  ...                       ...         ...          ...             ...          ...          ...                ...                   ...                ...                 ...          ...                            ...                 ...                                     ...                ...                        ...              ...                          ...            ...                ...                ...                     ...                        ...                       ...              ...                     ...                        ...                                ...                            ...                         ...                         ...                                  ...                                    ...                                    ...                        ...                          ...                                   ...                          ...                               ...                     ...                                                ...                                            ...                                         ...                                         ...                                                  ...                                                    ...                                                    ...                                        ...                                          ...                                                   ...                                          ...                                               ...                                     ...                   ...                     ...                                ...                            ...                              ...                              ...                         ...                          ...                             ...                                ...                                   ...                                ...                                 ...                          ...                                            ...                                 ...                                                     ...                                ...                                        ...                              ...                                          ...                            ...                                ...                                ...                                     ...                                        ...                                       ...                              ...\n",
       "134,678  339002  2020    Part of an Ongoing Conflict  State-Based Conflict  13604              Syria: Islamic State     14620          Government of Syria - IS                 118              Government of Syria        234              IS                 SOHR                                                 Albu Kamal town                          western desert of Al-Bokamal.                        Deir ez Zor governorate   34.45       40.918611    179002          Syria        Middle East  0                  26.16                 5.7                29.46               20.75        0.73                           5.24                8.4                                     0.0                15.0                       0.0              59.0                         2.55           -1.6               8.4                2.5                     0.15                       35.0                      2.6              SOHR                    0                          0.02974391719816161                0.02974391719816161            0.39199453531626116         0.08631378867414596         0.22091874995359473                  0.0016111907219173913                  7.4248420364856735e-06                 0.03636687629470683        0.4520986316016127           0.2634779445067306                    0                            0                                 0                       -0.8359853406141681                                -0.8313420103206896                            1.1624389337016892                          -0.6146834220595464                         1.7025056966700949                                   -0.1532270580230306                                    -0.3019450488206194                                    0.2113923493633534                         1.0460410181698643                           1.5748551118631853                                    -0.15237165454037568                         -0.5038391265626665                               -0.7578850764843217                     1.002044895968792     1.7053285533578895      2.1764371620412244                 1.2073795719906142             -0.25828144398006353             -0.8913107430174642              0.4838987290953609          0.0228148682789334           0.4629844146566809              -0.08195931603385788               0.5923395133801026                    0.20375907382715938                0.6045213167431813                  0.6324141331873717           0.2460990794230242                             -0.18767018102071165                1.1540683567618342                                      -0.66338421903607                  -0.5827788596987793                        -0.6622442296531788              0.4238463206029664                           -0.0808495479124352            -0.4051800234155567                -0.37853137716017987               -0.20757901420956656                    -0.21337097075050293                       -0.38151876181689737                      0.31848146502586566              0\n",
       "134,679  115977  2007    Part of an Ongoing Conflict  State-Based Conflict  338                Iran: Government         754            Government of Iran - PJAK                114              Government of Iran         309              PJAK               No Source Specified                                  Khoy town                                'in the valleys close to the town of Khoy\" 50 ki...  West Azarbaijan province  38.550278   44.952222    185490          Iran         Middle East  0                  39.73                 8.16               0.0                 17.3         0.25                           0.0                 5.0                                     11.38              10.0                       5.94             53.0                         0.32           1.1                0.0                136.27                  10.32                      3911.89                   7.8              Jamestown               0                          0.0007870332558674814              0.0005197389425539971          0.0016111907219173913       0.0005197389425539971       0.06334875225529576                  2.2274526109457022e-05                 7.4248420364856735e-06                 0.0004232159960796834      0.0012102492519471648        2.2274526109457022e-05                0                            0                                 0                       -1.0250094415484945                                -1.0217515348760695                            -1.1323173335477206                         -1.221957332980849                          -0.08554867214602435                                 -0.47209191947988854                                   -0.3019450488206194                                    -0.9168525921187113                        -1.2823207991695584                          -0.8327540119547377                                   -0.15237165454037568                         -0.5038391265626665                               -0.7578850764843217                     -1.2633267530190844   -2.1518467222857773     -0.48640370818219075               -1.1082675533916786            -0.2615516744159714              -0.858389547860761               0.8709308983751294          0.12681724055231247          0.8880967113336896              -0.08195931603385788               1.7756818247070965                    0.7363617082300818                 -1.5858023220808903                 0.3198002771083906           -0.4896320613915944                            -2.0309767846317106                 -1.8431062796802007                                     -0.24965957936215044               -0.8113639493553084                        -0.30422006685369163             0.10651644739560802                          -1.2582912067971688            0.49878143796866514                -1.6393332244449312                5.181059962071591                       6.183997008262405                          4.178204621793107                         0.7548588175978566               0\n",
       "134,680  315847  2013    Part of an Ongoing Conflict  State-Based Conflict  299                Syria: Government        11973          Government of Syria - Syrian insurgents  118              Government of Syria        4456             Syrian insurgents  SOHR; VDC                                            Qalamoun mountain range                  al-Qalamoun                                          Rif Dimashq governorate   33.8        36.433333    178273          Syria        Middle East  0                  26.16                 5.7                29.46               20.75        0.73                           5.51                6.2                                     0.0                10.0                       0.0              49.0                         2.55           -4.29              5.17               2.5                     0.15                       58.04                     2.6              Support Kurds in Syria  0                          0.35022979886102923                0.35022979886102923            0.39199453531626116         0.35022979886102923         0.031399656972297914                 0.0020344067179970744                  7.424842036485673e-05                  0.09476325891166665        0.4520986316016127           0.03693858913151623                   0                            0                                 0                       1.2560752472651298                                 1.2567770745137665                             1.1624389337016892                          1.2533867781739194                          -0.4480968744368433                                  -0.06829576314900775                                   -0.21539827995686692                                   2.044411656274413                          1.0460410181698643                           -0.4953915408101695                                   -0.15237165454037568                         -0.5038391265626665                               -0.7578850764843217                     0.7668484806238115    -0.371611979681008      -0.4942320508581076                0.7653257755902877             -0.25828144398006353             0.9619330696705394               0.4225441306920692          -0.09283325750850548         0.4152182518518813              -0.08195931603385788               0.5923395133801026                    0.20375907382715938                0.6045213167431813                  0.6324141331873717           0.2460990794230242                             -0.09269064228503054                -0.7852799374065413                                     -0.66338421903607                  -0.8113639493553084                        -0.6622442296531788              -0.10503680140929757                         -0.0808495479124352            -1.3057934793872443                -0.8633397065327688                -0.20757901420956656                    -0.21337097075050293                       -0.3544207459437685                       0.31848146502586566              0\n",
       "134,681  250549  2017    Part of an Ongoing Conflict  One-Sided Violence    499                CPI-Maoist - Civilians   966            CPI-Maoist - Civilians                   195              CPI-Maoist                 1                Civilians          Police                                               Badapada town, Chitrakonda sub-district  Badataekpada village                                 Odisha state              18.138398   82.234889    156045          India        Asia         0                  30.98                 7.04               31.71               3.3          1.19                           0.0                 6.1                                     68.2               40.0                       19.49            42.0                         2.6            1.06               15.96              4.62                    0.28                       733.91                    -3.16            The Telegraph           0                          0.00827127402864504                0.00827127402864504            0.00827127402864504         0.09685706436595562         0.01489423312519026                  2.2274526109457022e-05                 7.4248420364856735e-06                 0.0013810206187863353      0.04013127120720507          0.00040836631200671204                0                            1                                 1                       -0.9761539816146995                                -0.9712465695214413                            -1.0931679484109196                         -0.5400552131882137                         -0.6353951904239432                                  -0.47209191947988854                                   -0.3019450488206194                                    -0.8867878126410855                        -1.0813348679282118                          -0.8292256836161381                                   -0.15237165454037568                         0.9411591716601059                                0.20007272665904133                     0.10358544762029011   0.8152111820555048      -0.4540867038021237                -1.072863169244769             -0.19532950808883806             -0.9935859226376216              -1.0557809478651325         1.0881111810632897           -1.0412238151235425             -0.08195931603385788               1.0126571213827638                    0.49387595598159684                0.7718067270403355                  -0.9487776895889243          0.9511747560370336                             -2.0309767846317106                 -0.8734321325960134                                     1.8160551856881226                 0.5601465885838665                         0.5124848836400878               -0.4752549868178823                          -0.05444951071771009           0.4853894163185285                 0.7561902853960965                 -0.122179338424891                      -0.1315953721987155                        0.4404896702095125                        -0.1648903716692628              0\n",
       "134,682  250682  2017    Part of an Ongoing Conflict  State-Based Conflict  333                Afghanistan: Government  735            Government of Afghanistan - Taleban      130              Government of Afghanistan  303              Taleban            'local official, Military, police, resident, Tal...  Nahri Sarraj district (Greshk)           \"Nahr-e-Saraj district of southern Afghanistan's...  Hilmand province          31.829363   64.608526    175450          Afghanistan  Asia         0                  0.0                   2.65               0.0                 5.0          0.0                            6.57                8.2                                     8.0                55.0                       14.39            60.0                         4.36           2.55               11.5               0.0                     0.0                        0.0                       0.0              Xinhua News Agency      1                          0.17461743501407007                0.1740382973352242             0.18400986019022444         0.17515202364069704         7.4248420364856735e-06               0.002851139342010499                   7.4248420364856735e-06                 0.0238931416734109         0.19216976158832222          0.03605503292917443                   0                            0                                 1                       0.10971677667572292                                0.10880501717149887                            -0.060139189433281136                       0.01413807029643658                         -0.8043259702503647                                  0.09560673573068564                                    -0.3019450488206194                                    -0.18014896476386583                       -0.29621679962812514                         -0.5034659845081187                                   -0.15237165454037568                         -0.5038391265626665                               0.20007272665904133                     0.10493639226468149   0.8152111820555048      -0.48740734185859036               -1.1114405878199392            -0.2484707526723401              -0.8610232434732973              0.2365323741787366          0.633634146328975            0.2302472263402914              -0.08195931603385788               -1.6888863425015603                   -0.45658159077809013               -1.5858023220808903                 -0.7947360793471074          -0.8728253638992083                            0.2801919912698663                  0.97776396638289                                        -0.3725408871036134                1.245901857553454                          0.20509040042840712              0.47673463280419276                          0.8748317985366089             0.9842422227861175                 0.08676454267109736                -0.3082861790499859                     -0.30772743061795                          -0.4226832824575011                       0.10029278873987017              1"
      ]
     },
     "execution_count": 42,
     "metadata": {},
     "output_type": "execute_result"
    }
   ],
   "source": [
    "xgb_model2 = xgboost.sklearn.XGBClassifier(max_depth=20,               # Increasing this value will make the model more complex and more likely to overfit.\n",
    "                                          objective='multi:softmax',\n",
    "                                          learning_rate=0.3,          # Boosting learning rate (xgb’s “eta”)\n",
    "                                          n_estimators=500,           # Number of gradient boosted trees. Equivalent to number of boosting rounds.\n",
    "                                          subsample=0.75,             # Subsample ratio of the training instances. Setting it to 0.5 means that XGBoost would randomly sample half of the training data prior to growing trees. Prevent overfitting.\n",
    "                                          colsample_bylevel=1,        # This is a family of parameters for subsampling of columns. range of (0, 1], the default value of 1, and specify the fraction of columns to be subsampled.\n",
    "                                          colsample_bytree=1,         #  is the subsample ratio of columns when constructing each tree.\n",
    "                                          scale_pos_weight=1.5,       # Balancing of positive and negative weights.\n",
    "                                          reg_lambda=1.5,              # Lambda L2 Reg. Higher = More conserv model.\n",
    "                                          reg_alpha=20,                 # L1 Reg\n",
    "                                          n_jobs=8,                   # Number of parallel threads used to run xgboost.\n",
    "                                          random_state=42,\n",
    "                                          use_label_encoder=True,      # (Deprecated) I seem to need it on True\n",
    "                                          verbosity=1)\n",
    "\n",
    "vaex_xgb_model = vaex.ml.sklearn.Predictor(features=features,\n",
    "                                           target='incident_classification',\n",
    "                                           model=xgb_model2,\n",
    "                                           prediction_name='xgb_pred')\n",
    "\n",
    "vaex_xgb_model.fit(vaex_train2)\n",
    "vaex_train2 = vaex_xgb_model.transform(vaex_train2)\n",
    "\n",
    "vaex_train2"
   ]
  },
  {
   "cell_type": "code",
   "execution_count": 43,
   "id": "1638c280",
   "metadata": {},
   "outputs": [],
   "source": [
    "y_true2 = vaex_train2.incident_classification.values\n",
    "y_pred2 = vaex_train2.xgb_pred.values"
   ]
  },
  {
   "cell_type": "code",
   "execution_count": 44,
   "id": "80d8a4b5",
   "metadata": {},
   "outputs": [
    {
     "name": "stdout",
     "output_type": "stream",
     "text": [
      "Model 2 Training Accuracy Score:  0.7869738571311895\n",
      "Model 2 Training F1 Score:  0.7794092132100345\n"
     ]
    }
   ],
   "source": [
    "print(\"Model 2 Training Accuracy Score: \", accuracy_score(y_true2, y_pred2))\n",
    "print(\"Model 2 Training F1 Score: \", f1_score(y_true2, y_pred2, average='weighted'))"
   ]
  },
  {
   "cell_type": "markdown",
   "id": "b65af510",
   "metadata": {},
   "source": [
    "###### Test Results:"
   ]
  },
  {
   "cell_type": "code",
   "execution_count": 45,
   "id": "fd7aa553",
   "metadata": {},
   "outputs": [],
   "source": [
    "state = vaex_train2.state_get()  #Get the state from Train data\n",
    "vaex_test2.state_set(state) # Apply state to Test data"
   ]
  },
  {
   "cell_type": "code",
   "execution_count": 46,
   "id": "51b81e69",
   "metadata": {},
   "outputs": [],
   "source": [
    "y_test2_true = vaex_test2.incident_classification.values\n",
    "y_test2_pred = vaex_test2.xgb_pred.values"
   ]
  },
  {
   "cell_type": "code",
   "execution_count": 47,
   "id": "b8b78d6e",
   "metadata": {},
   "outputs": [
    {
     "name": "stdout",
     "output_type": "stream",
     "text": [
      "Model 3 Test Accuracy Score:  0.6456891687208577\n",
      "Model 3 Test F1 Score:  0.6302406962522199\n"
     ]
    }
   ],
   "source": [
    "print(\"Model 3 Test Accuracy Score: \", accuracy_score(y_test2_true, y_test2_pred))\n",
    "print(\"Model 3 Test F1 Score: \", f1_score(y_test2_true, y_test2_pred, average='weighted'))"
   ]
  },
  {
   "cell_type": "code",
   "execution_count": 48,
   "id": "4a3ae963",
   "metadata": {},
   "outputs": [
    {
     "name": "stdout",
     "output_type": "stream",
     "text": [
      "              precision    recall  f1-score   support\n",
      "\n",
      "           0       0.71      0.82      0.76     19217\n",
      "           1       0.53      0.45      0.49     11133\n",
      "           2       0.47      0.27      0.35      3221\n",
      "           3       0.50      0.18      0.26       100\n",
      "\n",
      "    accuracy                           0.65     33671\n",
      "   macro avg       0.55      0.43      0.47     33671\n",
      "weighted avg       0.63      0.65      0.63     33671\n",
      "\n"
     ]
    }
   ],
   "source": [
    "print(metrics.classification_report(y_test2_true, y_test2_pred))"
   ]
  },
  {
   "cell_type": "code",
   "execution_count": 49,
   "id": "ef41edf9",
   "metadata": {},
   "outputs": [
    {
     "name": "stdout",
     "output_type": "stream",
     "text": [
      "Confusion Matrix: \n",
      "[[15813  3075   326     3]\n",
      " [ 5461  5025   644     3]\n",
      " [  976  1348   885    12]\n",
      " [   22    15    45    18]]\n"
     ]
    }
   ],
   "source": [
    "print(f'Confusion Matrix: \\n{confusion_matrix(y_test2_true, y_test2_pred)}')"
   ]
  },
  {
   "cell_type": "markdown",
   "id": "0747e86f",
   "metadata": {},
   "source": [
    "### XGB Model  3"
   ]
  },
  {
   "cell_type": "markdown",
   "id": "587158eb",
   "metadata": {},
   "source": [
    "Because I am slightly suspicious of the high scores, I am running a model below where I remove a few of the variables which I thought might be causing issues."
   ]
  },
  {
   "cell_type": "code",
   "execution_count": 50,
   "id": "1b3c86bf",
   "metadata": {},
   "outputs": [],
   "source": [
    "## I beliebe this is an unecessary step as we specify the features to use in the model below. However,\n",
    "## I am dropping just to be certain.\n",
    "\n",
    "vaex_df3 = vaex_df.drop('latitude', inplace=True)\n",
    "vaex_df3 = vaex_df.drop('longitude', inplace=True)"
   ]
  },
  {
   "cell_type": "code",
   "execution_count": 51,
   "id": "f93849c7",
   "metadata": {},
   "outputs": [],
   "source": [
    "vaex_df3 = vaex_df.drop('id', inplace=True)"
   ]
  },
  {
   "cell_type": "code",
   "execution_count": 52,
   "id": "d3368595",
   "metadata": {},
   "outputs": [
    {
     "name": "stderr",
     "output_type": "stream",
     "text": [
      "C:\\ProgramData\\Anaconda3\\lib\\site-packages\\vaex\\ml\\__init__.py:31: UserWarning: Make sure the DataFrame is shuffled\n",
      "  warnings.warn('Make sure the DataFrame is shuffled')\n"
     ]
    }
   ],
   "source": [
    "vaex_train3, vaex_test3 = vaex_df3.ml.train_test_split(test_size=0.2)"
   ]
  },
  {
   "cell_type": "markdown",
   "id": "2a62f719",
   "metadata": {},
   "source": [
    "#### Encoding Train Data"
   ]
  },
  {
   "cell_type": "code",
   "execution_count": 53,
   "id": "d0617008",
   "metadata": {},
   "outputs": [],
   "source": [
    "frequency_encoder = vaex.ml.FrequencyEncoder(features=['conflict_name', 'dyad_name', 'side_a', 'side_b', 'source_original', 'where_coordinates', 'where_description', 'adm_1', 'country', 'media_org_source'], allow_unseen=True)\n",
    "vaex_train3 = frequency_encoder.fit_transform(vaex_train3)"
   ]
  },
  {
   "cell_type": "code",
   "execution_count": 54,
   "id": "2d1f02ed",
   "metadata": {},
   "outputs": [],
   "source": [
    "label_encoder = vaex.ml.LabelEncoder(features=['active_year', 'type_of_violence', 'region'])\n",
    "vaex_train3 = label_encoder.fit_transform(vaex_train3)"
   ]
  },
  {
   "cell_type": "markdown",
   "id": "da8edffe",
   "metadata": {},
   "source": [
    "#### Encoding Test Data"
   ]
  },
  {
   "cell_type": "code",
   "execution_count": 55,
   "id": "2e349f60",
   "metadata": {},
   "outputs": [],
   "source": [
    "frequency_encoder = vaex.ml.FrequencyEncoder(features=['conflict_name', 'dyad_name', 'side_a', 'side_b', 'source_original', 'where_coordinates', 'where_description', 'adm_1', 'country', 'media_org_source'], allow_unseen=True)\n",
    "vaex_test3 = frequency_encoder.fit_transform(vaex_test3)"
   ]
  },
  {
   "cell_type": "code",
   "execution_count": 56,
   "id": "e8a9a6fd",
   "metadata": {},
   "outputs": [],
   "source": [
    "label_encoder = vaex.ml.LabelEncoder(features=['active_year', 'type_of_violence', 'region'])\n",
    "vaex_test3 = label_encoder.fit_transform(vaex_test3)"
   ]
  },
  {
   "cell_type": "code",
   "execution_count": 57,
   "id": "ca31aa3a",
   "metadata": {},
   "outputs": [],
   "source": [
    "features3 = ['frequency_encoded_conflict_name', 'frequency_encoded_dyad_name', 'frequency_encoded_side_a', \n",
    "         'frequency_encoded_side_b', 'frequency_encoded_source_original', 'frequency_encoded_where_coordinates',\n",
    "         'frequency_encoded_where_description', 'frequency_encoded_adm_1', 'frequency_encoded_country',\n",
    "         'frequency_encoded_media_org_source', 'label_encoded_active_year', 'label_encoded_type_of_violence',\n",
    "         'label_encoded_region', 'year', 'conflict_new_id', 'dyad_new_id', 'side_a_new_id', 'side_b_new_id',\n",
    "         'priogrid_gid', 'conflict_length', 'capital_investment','economic_growth', 'savings_pcnt_gdp', 'inflation', \n",
    "         'pcnt_world_tourist_arrivals', 'death_rate_p1000', 'human_flight_brain_drain_index_score', 'government_debt', 'inv_freedom_index_score', 'external_debt',\n",
    "         'labor_freedom_index_score', 'remittances', 'pop_growth_pcnt', 'banking_z_score', 'oil_reserves_barrels',\n",
    "         'pcnt_world_oil_reserves', 'oil_prod_barrels_daily', 'trade_balance']"
   ]
  },
  {
   "cell_type": "markdown",
   "id": "f0fd2e78",
   "metadata": {},
   "source": [
    "##### Scaling Features"
   ]
  },
  {
   "cell_type": "code",
   "execution_count": 58,
   "id": "42bd8792",
   "metadata": {},
   "outputs": [],
   "source": [
    "## Training Data\n",
    "\n",
    "scaler = vaex.ml.StandardScaler(features=features3)\n",
    "scaler.fit(vaex_train3)\n",
    "vaex_train3 = scaler.transform(vaex_train3)"
   ]
  },
  {
   "cell_type": "code",
   "execution_count": 59,
   "id": "7d719e7a",
   "metadata": {},
   "outputs": [],
   "source": [
    "## Test Data\n",
    "\n",
    "scaler = vaex.ml.StandardScaler(features=features3)\n",
    "scaler.fit(vaex_test3)\n",
    "vaex_test3 = scaler.transform(vaex_test3)"
   ]
  },
  {
   "cell_type": "markdown",
   "id": "172f0737",
   "metadata": {},
   "source": [
    "#### Model 3"
   ]
  },
  {
   "cell_type": "code",
   "execution_count": 60,
   "id": "be36bf64",
   "metadata": {},
   "outputs": [
    {
     "name": "stderr",
     "output_type": "stream",
     "text": [
      "C:\\ProgramData\\Anaconda3\\lib\\site-packages\\xgboost\\sklearn.py:1146: UserWarning: The use of label encoder in XGBClassifier is deprecated and will be removed in a future release. To remove this warning, do the following: 1) Pass option use_label_encoder=False when constructing XGBClassifier object; and 2) Encode your labels (y) as integers starting with 0, i.e. 0, 1, 2, ..., [num_class - 1].\n",
      "  warnings.warn(label_encoder_deprecation_msg, UserWarning)\n"
     ]
    }
   ],
   "source": [
    "xgb_model3 = xgboost.sklearn.XGBClassifier(max_depth=11,\n",
    "                                          objective='multi:softmax',\n",
    "                                          learning_rate=0.1,\n",
    "                                          n_estimators=500,\n",
    "                                          subsample=0.75,\n",
    "                                          colsample_bylevel=1,\n",
    "                                          colsample_bytree=1,\n",
    "                                          scale_pos_weight=1.5,\n",
    "                                          reg_lambda=1.5,\n",
    "                                          reg_alpha=5,\n",
    "                                          n_jobs=8,\n",
    "                                          random_state=42,\n",
    "                                          use_label_encoder=True,\n",
    "                                          verbosity=0)\n",
    "\n",
    "vaex_xgb_model = vaex.ml.sklearn.Predictor(features=features3,\n",
    "                                           target='incident_classification',\n",
    "                                           model=xgb_model3,\n",
    "                                           prediction_name='xgb_pred')\n",
    "\n",
    "vaex_xgb_model.fit(vaex_train3)\n",
    "vaex_train3 = vaex_xgb_model.transform(vaex_train3)"
   ]
  },
  {
   "cell_type": "code",
   "execution_count": 61,
   "id": "91028598",
   "metadata": {},
   "outputs": [],
   "source": [
    "y_true3 = vaex_train3.incident_classification.values\n",
    "y_pred3 = vaex_train3.xgb_pred.values"
   ]
  },
  {
   "cell_type": "code",
   "execution_count": 62,
   "id": "b06b602d",
   "metadata": {},
   "outputs": [
    {
     "name": "stdout",
     "output_type": "stream",
     "text": [
      "Model 3 Training Accuracy Score:  0.7821551346495104\n",
      "Model 3 Training F1 Score:  0.7745703184904308\n"
     ]
    }
   ],
   "source": [
    "print(\"Model 3 Training Accuracy Score: \", accuracy_score(y_true3, y_pred3))\n",
    "print(\"Model 3 Training F1 Score: \", f1_score(y_true3, y_pred3, average='weighted'))"
   ]
  },
  {
   "cell_type": "markdown",
   "id": "69b092d0",
   "metadata": {},
   "source": [
    "###### Test Results:"
   ]
  },
  {
   "cell_type": "code",
   "execution_count": 63,
   "id": "39419f72",
   "metadata": {},
   "outputs": [],
   "source": [
    "state = vaex_train3.state_get()  #Get the state from Train data\n",
    "vaex_test3.state_set(state) # Apply state to Test data"
   ]
  },
  {
   "cell_type": "code",
   "execution_count": 64,
   "id": "0da80332",
   "metadata": {},
   "outputs": [],
   "source": [
    "y_test3_true = vaex_test3.incident_classification.values\n",
    "y_test3_pred = vaex_test3.xgb_pred.values"
   ]
  },
  {
   "cell_type": "code",
   "execution_count": 65,
   "id": "199cef53",
   "metadata": {},
   "outputs": [
    {
     "name": "stdout",
     "output_type": "stream",
     "text": [
      "Model 3 Test Accuracy Score:  0.6465801431498917\n",
      "Model 3 Test F1 Score:  0.6287230038749595\n"
     ]
    }
   ],
   "source": [
    "print(\"Model 3 Test Accuracy Score: \", accuracy_score(y_test3_true, y_test3_pred))\n",
    "print(\"Model 3 Test F1 Score: \", f1_score(y_test3_true, y_test3_pred, average='weighted'))"
   ]
  },
  {
   "cell_type": "code",
   "execution_count": 66,
   "id": "7fe40d73",
   "metadata": {},
   "outputs": [
    {
     "name": "stdout",
     "output_type": "stream",
     "text": [
      "              precision    recall  f1-score   support\n",
      "\n",
      "           0       0.70      0.83      0.76     19217\n",
      "           1       0.54      0.44      0.48     11133\n",
      "           2       0.47      0.26      0.34      3221\n",
      "           3       0.61      0.23      0.33       100\n",
      "\n",
      "    accuracy                           0.65     33671\n",
      "   macro avg       0.58      0.44      0.48     33671\n",
      "weighted avg       0.63      0.65      0.63     33671\n",
      "\n"
     ]
    }
   ],
   "source": [
    "print(metrics.classification_report(y_test3_true, y_test3_pred))"
   ]
  },
  {
   "cell_type": "code",
   "execution_count": 67,
   "id": "e7126c0a",
   "metadata": {},
   "outputs": [
    {
     "name": "stdout",
     "output_type": "stream",
     "text": [
      "Confusion Matrix: \n",
      "[[16017  2864   333     3]\n",
      " [ 5645  4882   604     2]\n",
      " [ 1063  1299   849    10]\n",
      " [   22    17    38    23]]\n"
     ]
    }
   ],
   "source": [
    "print(f'Confusion Matrix: \\n{confusion_matrix(y_test3_true, y_test3_pred)}')"
   ]
  },
  {
   "cell_type": "markdown",
   "id": "9b12e484",
   "metadata": {},
   "source": [
    "## Combining Vaex & SMOTE\n",
    "The next step is to fix the class imbalance, upsampling the model data with SMOTE, and then rerunning the above XGB model. Due to the way both SMOTE and Vaex consume data, it was necessary to first process the data in Pandas, then bring it back into Vaex for modelling."
   ]
  },
  {
   "cell_type": "code",
   "execution_count": 68,
   "id": "16410432",
   "metadata": {},
   "outputs": [],
   "source": [
    "from collections import Counter\n",
    "from imblearn.over_sampling import ADASYN\n",
    "from numpy import where\n",
    "from imblearn.over_sampling import SMOTE\n",
    "from sklearn.model_selection import train_test_split\n",
    "from sklearn import preprocessing"
   ]
  },
  {
   "cell_type": "markdown",
   "id": "f6178546",
   "metadata": {},
   "source": [
    "### Encode Categorical Variables and Export"
   ]
  },
  {
   "cell_type": "code",
   "execution_count": 69,
   "id": "22b2e507",
   "metadata": {},
   "outputs": [],
   "source": [
    "frequency_encoder = vaex.ml.FrequencyEncoder(features=['conflict_name', 'dyad_name', 'side_a', 'side_b', 'source_original', 'where_coordinates', 'where_description', 'adm_1', 'country', 'media_org_source'], allow_unseen=True)\n",
    "vaex_df = frequency_encoder.fit_transform(vaex_df)"
   ]
  },
  {
   "cell_type": "code",
   "execution_count": 70,
   "id": "6035ffda",
   "metadata": {},
   "outputs": [],
   "source": [
    "label_encoder = vaex.ml.LabelEncoder(features=['active_year', 'type_of_violence', 'region'])\n",
    "vaex_df = label_encoder.fit_transform(vaex_df)"
   ]
  },
  {
   "cell_type": "code",
   "execution_count": 71,
   "id": "65be97de",
   "metadata": {},
   "outputs": [],
   "source": [
    "vaex_df.export_csv('vaex_encoded.csv', chunk_size=10000, parallel=True)"
   ]
  },
  {
   "cell_type": "markdown",
   "id": "3add9c9a",
   "metadata": {},
   "source": [
    "### Open and SMOTE"
   ]
  },
  {
   "cell_type": "code",
   "execution_count": 72,
   "id": "2e9d1f55",
   "metadata": {},
   "outputs": [],
   "source": [
    "df = pd.read_csv('vaex_encoded.csv')"
   ]
  },
  {
   "cell_type": "code",
   "execution_count": 73,
   "id": "532bbdcd",
   "metadata": {
    "scrolled": true
   },
   "outputs": [
    {
     "name": "stdout",
     "output_type": "stream",
     "text": [
      "<class 'pandas.core.frame.DataFrame'>\n",
      "RangeIndex: 168354 entries, 0 to 168353\n",
      "Data columns (total 52 columns):\n",
      " #   Column                                Non-Null Count   Dtype  \n",
      "---  ------                                --------------   -----  \n",
      " 0   year                                  168354 non-null  int64  \n",
      " 1   active_year                           168354 non-null  object \n",
      " 2   type_of_violence                      168354 non-null  object \n",
      " 3   conflict_new_id                       168354 non-null  int64  \n",
      " 4   conflict_name                         168354 non-null  object \n",
      " 5   dyad_new_id                           168354 non-null  int64  \n",
      " 6   dyad_name                             168354 non-null  object \n",
      " 7   side_a_new_id                         168354 non-null  int64  \n",
      " 8   side_a                                168354 non-null  object \n",
      " 9   side_b_new_id                         168354 non-null  int64  \n",
      " 10  side_b                                168354 non-null  object \n",
      " 11  source_original                       168354 non-null  object \n",
      " 12  where_coordinates                     168354 non-null  object \n",
      " 13  where_description                     168354 non-null  object \n",
      " 14  adm_1                                 168354 non-null  object \n",
      " 15  priogrid_gid                          168354 non-null  int64  \n",
      " 16  country                               168354 non-null  object \n",
      " 17  region                                168354 non-null  object \n",
      " 18  conflict_length                       168354 non-null  int64  \n",
      " 19  capital_investment                    168354 non-null  float64\n",
      " 20  economic_growth                       168354 non-null  float64\n",
      " 21  savings_pcnt_gdp                      168354 non-null  float64\n",
      " 22  inflation                             168354 non-null  float64\n",
      " 23  pcnt_world_tourist_arrivals           168354 non-null  float64\n",
      " 24  death_rate_p1000                      168354 non-null  float64\n",
      " 25  human_flight_brain_drain_index_score  168354 non-null  float64\n",
      " 26  government_debt                       168354 non-null  float64\n",
      " 27  inv_freedom_index_score               168354 non-null  float64\n",
      " 28  external_debt                         168354 non-null  float64\n",
      " 29  labor_freedom_index_score             168354 non-null  float64\n",
      " 30  remittances                           168354 non-null  float64\n",
      " 31  pop_growth_pcnt                       168354 non-null  float64\n",
      " 32  banking_z_score                       168354 non-null  float64\n",
      " 33  oil_reserves_barrels                  168354 non-null  float64\n",
      " 34  pcnt_world_oil_reserves               168354 non-null  float64\n",
      " 35  oil_prod_barrels_daily                168354 non-null  float64\n",
      " 36  trade_balance                         168354 non-null  float64\n",
      " 37  media_org_source                      168349 non-null  object \n",
      " 38  incident_classification               168354 non-null  int64  \n",
      " 39  frequency_encoded_conflict_name       168354 non-null  float64\n",
      " 40  frequency_encoded_dyad_name           168354 non-null  float64\n",
      " 41  frequency_encoded_side_a              168354 non-null  float64\n",
      " 42  frequency_encoded_side_b              168354 non-null  float64\n",
      " 43  frequency_encoded_source_original     168354 non-null  float64\n",
      " 44  frequency_encoded_where_coordinates   168354 non-null  float64\n",
      " 45  frequency_encoded_where_description   168354 non-null  float64\n",
      " 46  frequency_encoded_adm_1               168354 non-null  float64\n",
      " 47  frequency_encoded_country             168354 non-null  float64\n",
      " 48  frequency_encoded_media_org_source    168349 non-null  float64\n",
      " 49  label_encoded_active_year             168354 non-null  int64  \n",
      " 50  label_encoded_type_of_violence        168354 non-null  int64  \n",
      " 51  label_encoded_region                  168354 non-null  int64  \n",
      "dtypes: float64(28), int64(11), object(13)\n",
      "memory usage: 66.8+ MB\n"
     ]
    }
   ],
   "source": [
    "df.info()"
   ]
  },
  {
   "cell_type": "code",
   "execution_count": 74,
   "id": "025f1b53",
   "metadata": {
    "scrolled": true
   },
   "outputs": [
    {
     "data": {
      "text/plain": [
       "year                                    0\n",
       "active_year                             0\n",
       "type_of_violence                        0\n",
       "conflict_new_id                         0\n",
       "conflict_name                           0\n",
       "dyad_new_id                             0\n",
       "dyad_name                               0\n",
       "side_a_new_id                           0\n",
       "side_a                                  0\n",
       "side_b_new_id                           0\n",
       "side_b                                  0\n",
       "source_original                         0\n",
       "where_coordinates                       0\n",
       "where_description                       0\n",
       "adm_1                                   0\n",
       "priogrid_gid                            0\n",
       "country                                 0\n",
       "region                                  0\n",
       "conflict_length                         0\n",
       "capital_investment                      0\n",
       "economic_growth                         0\n",
       "savings_pcnt_gdp                        0\n",
       "inflation                               0\n",
       "pcnt_world_tourist_arrivals             0\n",
       "death_rate_p1000                        0\n",
       "human_flight_brain_drain_index_score    0\n",
       "government_debt                         0\n",
       "inv_freedom_index_score                 0\n",
       "external_debt                           0\n",
       "labor_freedom_index_score               0\n",
       "remittances                             0\n",
       "pop_growth_pcnt                         0\n",
       "banking_z_score                         0\n",
       "oil_reserves_barrels                    0\n",
       "pcnt_world_oil_reserves                 0\n",
       "oil_prod_barrels_daily                  0\n",
       "trade_balance                           0\n",
       "media_org_source                        5\n",
       "incident_classification                 0\n",
       "frequency_encoded_conflict_name         0\n",
       "frequency_encoded_dyad_name             0\n",
       "frequency_encoded_side_a                0\n",
       "frequency_encoded_side_b                0\n",
       "frequency_encoded_source_original       0\n",
       "frequency_encoded_where_coordinates     0\n",
       "frequency_encoded_where_description     0\n",
       "frequency_encoded_adm_1                 0\n",
       "frequency_encoded_country               0\n",
       "frequency_encoded_media_org_source      5\n",
       "label_encoded_active_year               0\n",
       "label_encoded_type_of_violence          0\n",
       "label_encoded_region                    0\n",
       "dtype: int64"
      ]
     },
     "execution_count": 74,
     "metadata": {},
     "output_type": "execute_result"
    }
   ],
   "source": [
    "## The export from Vaex seems to have produced a very small number of NaN's. I will drop.\n",
    "\n",
    "df.isnull().sum()"
   ]
  },
  {
   "cell_type": "code",
   "execution_count": 75,
   "id": "cd7aabc7",
   "metadata": {},
   "outputs": [],
   "source": [
    "df.dropna(inplace=True)"
   ]
  },
  {
   "cell_type": "code",
   "execution_count": 76,
   "id": "b718af39",
   "metadata": {},
   "outputs": [],
   "source": [
    "y = df.pop('incident_classification')"
   ]
  },
  {
   "cell_type": "code",
   "execution_count": 77,
   "id": "322f1d04",
   "metadata": {},
   "outputs": [],
   "source": [
    "X = df[['frequency_encoded_conflict_name', 'frequency_encoded_dyad_name', 'frequency_encoded_side_a', \n",
    "         'frequency_encoded_side_b', 'frequency_encoded_source_original', 'frequency_encoded_where_coordinates',\n",
    "         'frequency_encoded_where_description', 'frequency_encoded_adm_1', 'frequency_encoded_country',\n",
    "         'frequency_encoded_media_org_source', 'label_encoded_active_year', 'label_encoded_type_of_violence',\n",
    "         'label_encoded_region', 'year', 'conflict_new_id', 'dyad_new_id', 'side_a_new_id', 'side_b_new_id',\n",
    "         'priogrid_gid', 'conflict_length', 'capital_investment','economic_growth', 'savings_pcnt_gdp', 'inflation', \n",
    "         'pcnt_world_tourist_arrivals', 'death_rate_p1000', 'human_flight_brain_drain_index_score', 'government_debt', 'inv_freedom_index_score', 'external_debt',\n",
    "         'labor_freedom_index_score', 'remittances', 'pop_growth_pcnt', 'banking_z_score', 'oil_reserves_barrels',\n",
    "         'pcnt_world_oil_reserves', 'oil_prod_barrels_daily', 'trade_balance']]"
   ]
  },
  {
   "cell_type": "code",
   "execution_count": 78,
   "id": "88ad5629",
   "metadata": {},
   "outputs": [],
   "source": [
    "sm_features = ['frequency_encoded_conflict_name', 'frequency_encoded_dyad_name', 'frequency_encoded_side_a', \n",
    "         'frequency_encoded_side_b', 'frequency_encoded_source_original', 'frequency_encoded_where_coordinates',\n",
    "         'frequency_encoded_where_description', 'frequency_encoded_adm_1', 'frequency_encoded_country',\n",
    "         'frequency_encoded_media_org_source', 'label_encoded_active_year', 'label_encoded_type_of_violence',\n",
    "         'label_encoded_region', 'year', 'conflict_new_id', 'dyad_new_id', 'side_a_new_id', 'side_b_new_id',\n",
    "         'priogrid_gid', 'conflict_length', 'capital_investment','economic_growth', 'savings_pcnt_gdp', 'inflation', \n",
    "         'pcnt_world_tourist_arrivals', 'death_rate_p1000', 'human_flight_brain_drain_index_score', 'government_debt', 'inv_freedom_index_score', 'external_debt',\n",
    "         'labor_freedom_index_score', 'remittances', 'pop_growth_pcnt', 'banking_z_score', 'oil_reserves_barrels',\n",
    "         'pcnt_world_oil_reserves', 'oil_prod_barrels_daily', 'trade_balance']"
   ]
  },
  {
   "cell_type": "code",
   "execution_count": 79,
   "id": "f42e224a",
   "metadata": {},
   "outputs": [
    {
     "data": {
      "text/plain": [
       "0    0.568480\n",
       "1    0.332791\n",
       "2    0.095712\n",
       "3    0.003018\n",
       "Name: incident_classification, dtype: float64"
      ]
     },
     "execution_count": 79,
     "metadata": {},
     "output_type": "execute_result"
    }
   ],
   "source": [
    "y.value_counts(normalize=True)"
   ]
  },
  {
   "cell_type": "code",
   "execution_count": 80,
   "id": "11eb654b",
   "metadata": {},
   "outputs": [],
   "source": [
    "X_sm_train, X_sm_test, y_sm_train, y_sm_test = train_test_split(\n",
    "     X, y, test_size=0.3, random_state=1)"
   ]
  },
  {
   "cell_type": "code",
   "execution_count": 81,
   "id": "aac8f71e",
   "metadata": {},
   "outputs": [],
   "source": [
    "oversample = SMOTE()\n",
    "X_sm_train, y_sm_train = oversample.fit_resample(X_sm_train, y_sm_train)"
   ]
  },
  {
   "cell_type": "code",
   "execution_count": 82,
   "id": "9e6fc57d",
   "metadata": {
    "scrolled": true
   },
   "outputs": [
    {
     "name": "stdout",
     "output_type": "stream",
     "text": [
      "<class 'pandas.core.frame.DataFrame'>\n",
      "RangeIndex: 267704 entries, 0 to 267703\n",
      "Data columns (total 38 columns):\n",
      " #   Column                                Non-Null Count   Dtype  \n",
      "---  ------                                --------------   -----  \n",
      " 0   frequency_encoded_conflict_name       267704 non-null  float64\n",
      " 1   frequency_encoded_dyad_name           267704 non-null  float64\n",
      " 2   frequency_encoded_side_a              267704 non-null  float64\n",
      " 3   frequency_encoded_side_b              267704 non-null  float64\n",
      " 4   frequency_encoded_source_original     267704 non-null  float64\n",
      " 5   frequency_encoded_where_coordinates   267704 non-null  float64\n",
      " 6   frequency_encoded_where_description   267704 non-null  float64\n",
      " 7   frequency_encoded_adm_1               267704 non-null  float64\n",
      " 8   frequency_encoded_country             267704 non-null  float64\n",
      " 9   frequency_encoded_media_org_source    267704 non-null  float64\n",
      " 10  label_encoded_active_year             267704 non-null  int64  \n",
      " 11  label_encoded_type_of_violence        267704 non-null  int64  \n",
      " 12  label_encoded_region                  267704 non-null  int64  \n",
      " 13  year                                  267704 non-null  int64  \n",
      " 14  conflict_new_id                       267704 non-null  int64  \n",
      " 15  dyad_new_id                           267704 non-null  int64  \n",
      " 16  side_a_new_id                         267704 non-null  int64  \n",
      " 17  side_b_new_id                         267704 non-null  int64  \n",
      " 18  priogrid_gid                          267704 non-null  int64  \n",
      " 19  conflict_length                       267704 non-null  int64  \n",
      " 20  capital_investment                    267704 non-null  float64\n",
      " 21  economic_growth                       267704 non-null  float64\n",
      " 22  savings_pcnt_gdp                      267704 non-null  float64\n",
      " 23  inflation                             267704 non-null  float64\n",
      " 24  pcnt_world_tourist_arrivals           267704 non-null  float64\n",
      " 25  death_rate_p1000                      267704 non-null  float64\n",
      " 26  human_flight_brain_drain_index_score  267704 non-null  float64\n",
      " 27  government_debt                       267704 non-null  float64\n",
      " 28  inv_freedom_index_score               267704 non-null  float64\n",
      " 29  external_debt                         267704 non-null  float64\n",
      " 30  labor_freedom_index_score             267704 non-null  float64\n",
      " 31  remittances                           267704 non-null  float64\n",
      " 32  pop_growth_pcnt                       267704 non-null  float64\n",
      " 33  banking_z_score                       267704 non-null  float64\n",
      " 34  oil_reserves_barrels                  267704 non-null  float64\n",
      " 35  pcnt_world_oil_reserves               267704 non-null  float64\n",
      " 36  oil_prod_barrels_daily                267704 non-null  float64\n",
      " 37  trade_balance                         267704 non-null  float64\n",
      "dtypes: float64(28), int64(10)\n",
      "memory usage: 77.6 MB\n"
     ]
    }
   ],
   "source": [
    "X_sm_train.info()"
   ]
  },
  {
   "cell_type": "code",
   "execution_count": 83,
   "id": "adc000d8",
   "metadata": {},
   "outputs": [
    {
     "data": {
      "text/plain": [
       "0    0.25\n",
       "1    0.25\n",
       "2    0.25\n",
       "3    0.25\n",
       "Name: incident_classification, dtype: float64"
      ]
     },
     "execution_count": 83,
     "metadata": {},
     "output_type": "execute_result"
    }
   ],
   "source": [
    "y_sm_train.value_counts(normalize=True)"
   ]
  },
  {
   "cell_type": "code",
   "execution_count": 84,
   "id": "82d74ce2",
   "metadata": {},
   "outputs": [],
   "source": [
    "sm_train = pd.merge(\n",
    "    X_sm_train.reset_index(),\n",
    "    y_sm_train.reset_index(),\n",
    "    how='right'\n",
    ")"
   ]
  },
  {
   "cell_type": "code",
   "execution_count": 85,
   "id": "325dae69",
   "metadata": {},
   "outputs": [],
   "source": [
    "sm_test = pd.merge(\n",
    "    X_sm_test.reset_index(),\n",
    "    y_sm_test.reset_index(),\n",
    "    how='right'\n",
    ")"
   ]
  },
  {
   "cell_type": "code",
   "execution_count": 86,
   "id": "28c53660",
   "metadata": {},
   "outputs": [],
   "source": [
    "sm_test.drop('index', axis=1, inplace=True)"
   ]
  },
  {
   "cell_type": "code",
   "execution_count": 87,
   "id": "df28b67f",
   "metadata": {},
   "outputs": [],
   "source": [
    "sm_train.drop('index', axis=1, inplace=True)"
   ]
  },
  {
   "cell_type": "code",
   "execution_count": 88,
   "id": "acf335fe",
   "metadata": {},
   "outputs": [
    {
     "data": {
      "text/html": [
       "<div>\n",
       "<style scoped>\n",
       "    .dataframe tbody tr th:only-of-type {\n",
       "        vertical-align: middle;\n",
       "    }\n",
       "\n",
       "    .dataframe tbody tr th {\n",
       "        vertical-align: top;\n",
       "    }\n",
       "\n",
       "    .dataframe thead th {\n",
       "        text-align: right;\n",
       "    }\n",
       "</style>\n",
       "<table border=\"1\" class=\"dataframe\">\n",
       "  <thead>\n",
       "    <tr style=\"text-align: right;\">\n",
       "      <th></th>\n",
       "      <th>frequency_encoded_conflict_name</th>\n",
       "      <th>frequency_encoded_dyad_name</th>\n",
       "      <th>frequency_encoded_side_a</th>\n",
       "      <th>frequency_encoded_side_b</th>\n",
       "      <th>frequency_encoded_source_original</th>\n",
       "      <th>frequency_encoded_where_coordinates</th>\n",
       "      <th>frequency_encoded_where_description</th>\n",
       "      <th>frequency_encoded_adm_1</th>\n",
       "      <th>frequency_encoded_country</th>\n",
       "      <th>frequency_encoded_media_org_source</th>\n",
       "      <th>...</th>\n",
       "      <th>external_debt</th>\n",
       "      <th>labor_freedom_index_score</th>\n",
       "      <th>remittances</th>\n",
       "      <th>pop_growth_pcnt</th>\n",
       "      <th>banking_z_score</th>\n",
       "      <th>oil_reserves_barrels</th>\n",
       "      <th>pcnt_world_oil_reserves</th>\n",
       "      <th>oil_prod_barrels_daily</th>\n",
       "      <th>trade_balance</th>\n",
       "      <th>incident_classification</th>\n",
       "    </tr>\n",
       "  </thead>\n",
       "  <tbody>\n",
       "    <tr>\n",
       "      <th>0</th>\n",
       "      <td>0.174317</td>\n",
       "      <td>0.173765</td>\n",
       "      <td>0.183696</td>\n",
       "      <td>0.174804</td>\n",
       "      <td>0.023457</td>\n",
       "      <td>0.001532</td>\n",
       "      <td>0.000030</td>\n",
       "      <td>0.013810</td>\n",
       "      <td>0.191721</td>\n",
       "      <td>0.021948</td>\n",
       "      <td>...</td>\n",
       "      <td>14.440000</td>\n",
       "      <td>57.000000</td>\n",
       "      <td>4.380000</td>\n",
       "      <td>2.380000</td>\n",
       "      <td>12.080000</td>\n",
       "      <td>0.000000</td>\n",
       "      <td>0.000000</td>\n",
       "      <td>0.000000</td>\n",
       "      <td>0.000000</td>\n",
       "      <td>1</td>\n",
       "    </tr>\n",
       "    <tr>\n",
       "      <th>1</th>\n",
       "      <td>0.174317</td>\n",
       "      <td>0.173765</td>\n",
       "      <td>0.183696</td>\n",
       "      <td>0.174804</td>\n",
       "      <td>0.063319</td>\n",
       "      <td>0.000327</td>\n",
       "      <td>0.000024</td>\n",
       "      <td>0.016721</td>\n",
       "      <td>0.191721</td>\n",
       "      <td>0.000267</td>\n",
       "      <td>...</td>\n",
       "      <td>13.970000</td>\n",
       "      <td>0.000000</td>\n",
       "      <td>1.010000</td>\n",
       "      <td>3.140000</td>\n",
       "      <td>12.290000</td>\n",
       "      <td>0.000000</td>\n",
       "      <td>0.000000</td>\n",
       "      <td>0.000000</td>\n",
       "      <td>0.000000</td>\n",
       "      <td>2</td>\n",
       "    </tr>\n",
       "    <tr>\n",
       "      <th>2</th>\n",
       "      <td>0.174317</td>\n",
       "      <td>0.173765</td>\n",
       "      <td>0.183696</td>\n",
       "      <td>0.174804</td>\n",
       "      <td>0.000006</td>\n",
       "      <td>0.000065</td>\n",
       "      <td>0.000006</td>\n",
       "      <td>0.023819</td>\n",
       "      <td>0.191721</td>\n",
       "      <td>0.017410</td>\n",
       "      <td>...</td>\n",
       "      <td>14.390000</td>\n",
       "      <td>60.000000</td>\n",
       "      <td>4.360000</td>\n",
       "      <td>2.550000</td>\n",
       "      <td>11.500000</td>\n",
       "      <td>0.000000</td>\n",
       "      <td>0.000000</td>\n",
       "      <td>0.000000</td>\n",
       "      <td>0.000000</td>\n",
       "      <td>0</td>\n",
       "    </tr>\n",
       "    <tr>\n",
       "      <th>3</th>\n",
       "      <td>0.005970</td>\n",
       "      <td>0.005970</td>\n",
       "      <td>0.006272</td>\n",
       "      <td>0.096802</td>\n",
       "      <td>0.008387</td>\n",
       "      <td>0.000071</td>\n",
       "      <td>0.000006</td>\n",
       "      <td>0.004277</td>\n",
       "      <td>0.191721</td>\n",
       "      <td>0.010401</td>\n",
       "      <td>...</td>\n",
       "      <td>14.010000</td>\n",
       "      <td>62.000000</td>\n",
       "      <td>4.340000</td>\n",
       "      <td>2.460000</td>\n",
       "      <td>12.080000</td>\n",
       "      <td>0.000000</td>\n",
       "      <td>0.000000</td>\n",
       "      <td>0.000000</td>\n",
       "      <td>0.000000</td>\n",
       "      <td>0</td>\n",
       "    </tr>\n",
       "    <tr>\n",
       "      <th>4</th>\n",
       "      <td>0.005970</td>\n",
       "      <td>0.005970</td>\n",
       "      <td>0.006272</td>\n",
       "      <td>0.096802</td>\n",
       "      <td>0.000006</td>\n",
       "      <td>0.000647</td>\n",
       "      <td>0.000006</td>\n",
       "      <td>0.006950</td>\n",
       "      <td>0.191721</td>\n",
       "      <td>0.014499</td>\n",
       "      <td>...</td>\n",
       "      <td>13.580000</td>\n",
       "      <td>60.000000</td>\n",
       "      <td>4.300000</td>\n",
       "      <td>2.460000</td>\n",
       "      <td>12.080000</td>\n",
       "      <td>0.000000</td>\n",
       "      <td>0.000000</td>\n",
       "      <td>0.000000</td>\n",
       "      <td>0.000000</td>\n",
       "      <td>0</td>\n",
       "    </tr>\n",
       "    <tr>\n",
       "      <th>...</th>\n",
       "      <td>...</td>\n",
       "      <td>...</td>\n",
       "      <td>...</td>\n",
       "      <td>...</td>\n",
       "      <td>...</td>\n",
       "      <td>...</td>\n",
       "      <td>...</td>\n",
       "      <td>...</td>\n",
       "      <td>...</td>\n",
       "      <td>...</td>\n",
       "      <td>...</td>\n",
       "      <td>...</td>\n",
       "      <td>...</td>\n",
       "      <td>...</td>\n",
       "      <td>...</td>\n",
       "      <td>...</td>\n",
       "      <td>...</td>\n",
       "      <td>...</td>\n",
       "      <td>...</td>\n",
       "      <td>...</td>\n",
       "      <td>...</td>\n",
       "    </tr>\n",
       "    <tr>\n",
       "      <th>267699</th>\n",
       "      <td>0.018811</td>\n",
       "      <td>0.018721</td>\n",
       "      <td>0.047781</td>\n",
       "      <td>0.096074</td>\n",
       "      <td>0.021794</td>\n",
       "      <td>0.000761</td>\n",
       "      <td>0.000116</td>\n",
       "      <td>0.008411</td>\n",
       "      <td>0.029984</td>\n",
       "      <td>0.002546</td>\n",
       "      <td>...</td>\n",
       "      <td>0.000000</td>\n",
       "      <td>5.174029</td>\n",
       "      <td>0.021972</td>\n",
       "      <td>1.814589</td>\n",
       "      <td>20.006462</td>\n",
       "      <td>116.793191</td>\n",
       "      <td>8.694407</td>\n",
       "      <td>2177.136727</td>\n",
       "      <td>17.085573</td>\n",
       "      <td>3</td>\n",
       "    </tr>\n",
       "    <tr>\n",
       "      <th>267700</th>\n",
       "      <td>0.001207</td>\n",
       "      <td>0.001207</td>\n",
       "      <td>0.049586</td>\n",
       "      <td>0.001615</td>\n",
       "      <td>0.221290</td>\n",
       "      <td>0.000898</td>\n",
       "      <td>0.000014</td>\n",
       "      <td>0.032011</td>\n",
       "      <td>0.452998</td>\n",
       "      <td>0.263908</td>\n",
       "      <td>...</td>\n",
       "      <td>0.000000</td>\n",
       "      <td>49.000000</td>\n",
       "      <td>2.550000</td>\n",
       "      <td>-3.910000</td>\n",
       "      <td>12.020000</td>\n",
       "      <td>2.500000</td>\n",
       "      <td>0.150000</td>\n",
       "      <td>30.000000</td>\n",
       "      <td>2.600000</td>\n",
       "      <td>3</td>\n",
       "    </tr>\n",
       "    <tr>\n",
       "      <th>267701</th>\n",
       "      <td>0.000048</td>\n",
       "      <td>0.000048</td>\n",
       "      <td>0.000166</td>\n",
       "      <td>0.000048</td>\n",
       "      <td>0.000006</td>\n",
       "      <td>0.000030</td>\n",
       "      <td>0.000006</td>\n",
       "      <td>0.000190</td>\n",
       "      <td>0.007146</td>\n",
       "      <td>0.000498</td>\n",
       "      <td>...</td>\n",
       "      <td>33.125765</td>\n",
       "      <td>51.017136</td>\n",
       "      <td>0.520049</td>\n",
       "      <td>2.620049</td>\n",
       "      <td>9.520000</td>\n",
       "      <td>0.000000</td>\n",
       "      <td>0.000000</td>\n",
       "      <td>0.000000</td>\n",
       "      <td>-14.438715</td>\n",
       "      <td>3</td>\n",
       "    </tr>\n",
       "    <tr>\n",
       "      <th>267702</th>\n",
       "      <td>0.000463</td>\n",
       "      <td>0.000463</td>\n",
       "      <td>0.018229</td>\n",
       "      <td>0.000463</td>\n",
       "      <td>0.001165</td>\n",
       "      <td>0.000131</td>\n",
       "      <td>0.000059</td>\n",
       "      <td>0.000582</td>\n",
       "      <td>0.043183</td>\n",
       "      <td>0.001003</td>\n",
       "      <td>...</td>\n",
       "      <td>38.110000</td>\n",
       "      <td>58.000000</td>\n",
       "      <td>3.000000</td>\n",
       "      <td>1.140000</td>\n",
       "      <td>19.740000</td>\n",
       "      <td>5.790000</td>\n",
       "      <td>0.440000</td>\n",
       "      <td>1710.260000</td>\n",
       "      <td>2.200000</td>\n",
       "      <td>3</td>\n",
       "    </tr>\n",
       "    <tr>\n",
       "      <th>267703</th>\n",
       "      <td>0.017422</td>\n",
       "      <td>0.017422</td>\n",
       "      <td>0.182816</td>\n",
       "      <td>0.050787</td>\n",
       "      <td>0.102171</td>\n",
       "      <td>0.003748</td>\n",
       "      <td>0.000569</td>\n",
       "      <td>0.045816</td>\n",
       "      <td>0.223143</td>\n",
       "      <td>0.121862</td>\n",
       "      <td>...</td>\n",
       "      <td>21.380521</td>\n",
       "      <td>53.730489</td>\n",
       "      <td>2.847263</td>\n",
       "      <td>-0.708720</td>\n",
       "      <td>15.691259</td>\n",
       "      <td>4.704235</td>\n",
       "      <td>0.312653</td>\n",
       "      <td>968.218275</td>\n",
       "      <td>1.001509</td>\n",
       "      <td>3</td>\n",
       "    </tr>\n",
       "  </tbody>\n",
       "</table>\n",
       "<p>267704 rows × 39 columns</p>\n",
       "</div>"
      ],
      "text/plain": [
       "        frequency_encoded_conflict_name  frequency_encoded_dyad_name  \\\n",
       "0                              0.174317                     0.173765   \n",
       "1                              0.174317                     0.173765   \n",
       "2                              0.174317                     0.173765   \n",
       "3                              0.005970                     0.005970   \n",
       "4                              0.005970                     0.005970   \n",
       "...                                 ...                          ...   \n",
       "267699                         0.018811                     0.018721   \n",
       "267700                         0.001207                     0.001207   \n",
       "267701                         0.000048                     0.000048   \n",
       "267702                         0.000463                     0.000463   \n",
       "267703                         0.017422                     0.017422   \n",
       "\n",
       "        frequency_encoded_side_a  frequency_encoded_side_b  \\\n",
       "0                       0.183696                  0.174804   \n",
       "1                       0.183696                  0.174804   \n",
       "2                       0.183696                  0.174804   \n",
       "3                       0.006272                  0.096802   \n",
       "4                       0.006272                  0.096802   \n",
       "...                          ...                       ...   \n",
       "267699                  0.047781                  0.096074   \n",
       "267700                  0.049586                  0.001615   \n",
       "267701                  0.000166                  0.000048   \n",
       "267702                  0.018229                  0.000463   \n",
       "267703                  0.182816                  0.050787   \n",
       "\n",
       "        frequency_encoded_source_original  \\\n",
       "0                                0.023457   \n",
       "1                                0.063319   \n",
       "2                                0.000006   \n",
       "3                                0.008387   \n",
       "4                                0.000006   \n",
       "...                                   ...   \n",
       "267699                           0.021794   \n",
       "267700                           0.221290   \n",
       "267701                           0.000006   \n",
       "267702                           0.001165   \n",
       "267703                           0.102171   \n",
       "\n",
       "        frequency_encoded_where_coordinates  \\\n",
       "0                                  0.001532   \n",
       "1                                  0.000327   \n",
       "2                                  0.000065   \n",
       "3                                  0.000071   \n",
       "4                                  0.000647   \n",
       "...                                     ...   \n",
       "267699                             0.000761   \n",
       "267700                             0.000898   \n",
       "267701                             0.000030   \n",
       "267702                             0.000131   \n",
       "267703                             0.003748   \n",
       "\n",
       "        frequency_encoded_where_description  frequency_encoded_adm_1  \\\n",
       "0                                  0.000030                 0.013810   \n",
       "1                                  0.000024                 0.016721   \n",
       "2                                  0.000006                 0.023819   \n",
       "3                                  0.000006                 0.004277   \n",
       "4                                  0.000006                 0.006950   \n",
       "...                                     ...                      ...   \n",
       "267699                             0.000116                 0.008411   \n",
       "267700                             0.000014                 0.032011   \n",
       "267701                             0.000006                 0.000190   \n",
       "267702                             0.000059                 0.000582   \n",
       "267703                             0.000569                 0.045816   \n",
       "\n",
       "        frequency_encoded_country  frequency_encoded_media_org_source  ...  \\\n",
       "0                        0.191721                            0.021948  ...   \n",
       "1                        0.191721                            0.000267  ...   \n",
       "2                        0.191721                            0.017410  ...   \n",
       "3                        0.191721                            0.010401  ...   \n",
       "4                        0.191721                            0.014499  ...   \n",
       "...                           ...                                 ...  ...   \n",
       "267699                   0.029984                            0.002546  ...   \n",
       "267700                   0.452998                            0.263908  ...   \n",
       "267701                   0.007146                            0.000498  ...   \n",
       "267702                   0.043183                            0.001003  ...   \n",
       "267703                   0.223143                            0.121862  ...   \n",
       "\n",
       "        external_debt  labor_freedom_index_score  remittances  \\\n",
       "0           14.440000                  57.000000     4.380000   \n",
       "1           13.970000                   0.000000     1.010000   \n",
       "2           14.390000                  60.000000     4.360000   \n",
       "3           14.010000                  62.000000     4.340000   \n",
       "4           13.580000                  60.000000     4.300000   \n",
       "...               ...                        ...          ...   \n",
       "267699       0.000000                   5.174029     0.021972   \n",
       "267700       0.000000                  49.000000     2.550000   \n",
       "267701      33.125765                  51.017136     0.520049   \n",
       "267702      38.110000                  58.000000     3.000000   \n",
       "267703      21.380521                  53.730489     2.847263   \n",
       "\n",
       "        pop_growth_pcnt  banking_z_score  oil_reserves_barrels  \\\n",
       "0              2.380000        12.080000              0.000000   \n",
       "1              3.140000        12.290000              0.000000   \n",
       "2              2.550000        11.500000              0.000000   \n",
       "3              2.460000        12.080000              0.000000   \n",
       "4              2.460000        12.080000              0.000000   \n",
       "...                 ...              ...                   ...   \n",
       "267699         1.814589        20.006462            116.793191   \n",
       "267700        -3.910000        12.020000              2.500000   \n",
       "267701         2.620049         9.520000              0.000000   \n",
       "267702         1.140000        19.740000              5.790000   \n",
       "267703        -0.708720        15.691259              4.704235   \n",
       "\n",
       "        pcnt_world_oil_reserves  oil_prod_barrels_daily  trade_balance  \\\n",
       "0                      0.000000                0.000000       0.000000   \n",
       "1                      0.000000                0.000000       0.000000   \n",
       "2                      0.000000                0.000000       0.000000   \n",
       "3                      0.000000                0.000000       0.000000   \n",
       "4                      0.000000                0.000000       0.000000   \n",
       "...                         ...                     ...            ...   \n",
       "267699                 8.694407             2177.136727      17.085573   \n",
       "267700                 0.150000               30.000000       2.600000   \n",
       "267701                 0.000000                0.000000     -14.438715   \n",
       "267702                 0.440000             1710.260000       2.200000   \n",
       "267703                 0.312653              968.218275       1.001509   \n",
       "\n",
       "        incident_classification  \n",
       "0                             1  \n",
       "1                             2  \n",
       "2                             0  \n",
       "3                             0  \n",
       "4                             0  \n",
       "...                         ...  \n",
       "267699                        3  \n",
       "267700                        3  \n",
       "267701                        3  \n",
       "267702                        3  \n",
       "267703                        3  \n",
       "\n",
       "[267704 rows x 39 columns]"
      ]
     },
     "execution_count": 88,
     "metadata": {},
     "output_type": "execute_result"
    }
   ],
   "source": [
    "sm_train"
   ]
  },
  {
   "cell_type": "code",
   "execution_count": 89,
   "id": "c5f86564",
   "metadata": {},
   "outputs": [],
   "source": [
    "sm_train.to_csv('sm_train.csv', encoding='utf-8')"
   ]
  },
  {
   "cell_type": "code",
   "execution_count": 90,
   "id": "d31b5ee5",
   "metadata": {},
   "outputs": [],
   "source": [
    "sm_test.to_csv('sm_test.csv', encoding='utf-8')"
   ]
  },
  {
   "cell_type": "markdown",
   "id": "bc45fa78",
   "metadata": {},
   "source": [
    "## XGB Model 4 (SMOTE Data)"
   ]
  },
  {
   "cell_type": "code",
   "execution_count": 92,
   "id": "7a7a539c",
   "metadata": {},
   "outputs": [],
   "source": [
    "smote_train = vaex.from_csv('sm_train.csv', convert=True)"
   ]
  },
  {
   "cell_type": "code",
   "execution_count": 94,
   "id": "6a30c73e",
   "metadata": {},
   "outputs": [],
   "source": [
    "smote_test = vaex.from_csv('sm_test.csv', convert=True)"
   ]
  },
  {
   "cell_type": "code",
   "execution_count": 95,
   "id": "291c7163",
   "metadata": {
    "scrolled": true
   },
   "outputs": [
    {
     "data": {
      "text/html": [
       "<table>\n",
       "<thead>\n",
       "<tr><th>#                                  </th><th>frequency_encoded_conflict_name  </th><th>frequency_encoded_dyad_name  </th><th>frequency_encoded_side_a  </th><th>frequency_encoded_side_b  </th><th>frequency_encoded_source_original  </th><th>frequency_encoded_where_coordinates  </th><th>frequency_encoded_where_description  </th><th>frequency_encoded_adm_1  </th><th>frequency_encoded_country  </th><th>frequency_encoded_media_org_source  </th><th>label_encoded_active_year  </th><th>label_encoded_type_of_violence  </th><th>label_encoded_region  </th><th>year  </th><th>conflict_new_id  </th><th>dyad_new_id  </th><th>side_a_new_id  </th><th>side_b_new_id  </th><th>priogrid_gid  </th><th>conflict_length  </th><th>capital_investment  </th><th>economic_growth   </th><th>savings_pcnt_gdp  </th><th>inflation         </th><th>pcnt_world_tourist_arrivals  </th><th>death_rate_p1000  </th><th>human_flight_brain_drain_index_score  </th><th>government_debt   </th><th>inv_freedom_index_score  </th><th>external_debt     </th><th>labor_freedom_index_score  </th><th>remittances       </th><th>pop_growth_pcnt   </th><th>banking_z_score   </th><th>oil_reserves_barrels  </th><th>pcnt_world_oil_reserves  </th><th>oil_prod_barrels_daily  </th><th>trade_balance      </th><th>incident_classification  </th></tr>\n",
       "</thead>\n",
       "<tbody>\n",
       "<tr><td><i style='opacity: 0.6'>0</i>      </td><td>0.1743172125402425               </td><td>0.1737648051130356           </td><td>0.1836962590731435        </td><td>0.1748042814545541        </td><td>0.0234565261294652                 </td><td>0.0015324851206386                   </td><td>2.969932404338477e-05                </td><td>0.0138101856801739       </td><td>0.191721016429666          </td><td>0.0219478004680613                  </td><td>0                          </td><td>0                               </td><td>0                     </td><td>2018  </td><td>333              </td><td>735          </td><td>130            </td><td>303            </td><td>177617        </td><td>0                </td><td>0.0                 </td><td>1.19              </td><td>0.0               </td><td>0.6               </td><td>0.0                          </td><td>6.42              </td><td>8.1                                   </td><td>7.38              </td><td>10.0                     </td><td>14.44             </td><td>57.0                       </td><td>4.38              </td><td>2.38              </td><td>12.08             </td><td>0.0                   </td><td>0.0                      </td><td>0.0                     </td><td>0.0                </td><td>1                        </td></tr>\n",
       "<tr><td><i style='opacity: 0.6'>1</i>      </td><td>0.1743172125402425               </td><td>0.1737648051130356           </td><td>0.1836962590731435        </td><td>0.1748042814545541        </td><td>0.0633189588604963                 </td><td>0.0003266925644772                   </td><td>2.375945923470781e-05                </td><td>0.0167207194364256       </td><td>0.191721016429666          </td><td>0.0002672939163904                  </td><td>0                          </td><td>0                               </td><td>0                     </td><td>2011  </td><td>333              </td><td>735          </td><td>130            </td><td>303            </td><td>179060        </td><td>0                </td><td>0.0                 </td><td>0.43              </td><td>0.0               </td><td>11.8              </td><td>0.0                          </td><td>7.94              </td><td>7.2                                   </td><td>7.5               </td><td>65.0                     </td><td>13.97             </td><td>0.0                        </td><td>1.01              </td><td>3.14              </td><td>12.29             </td><td>0.0                   </td><td>0.0                      </td><td>0.0                     </td><td>0.0                </td><td>2                        </td></tr>\n",
       "<tr><td><i style='opacity: 0.6'>2</i>      </td><td>0.1743172125402425               </td><td>0.1737648051130356           </td><td>0.1836962590731435        </td><td>0.1748042814545541        </td><td>5.9398648086769546e-06             </td><td>6.53385128954465e-05                 </td><td>5.9398648086769546e-06               </td><td>0.0238188578827945       </td><td>0.191721016429666          </td><td>0.0174097437542321                  </td><td>0                          </td><td>0                               </td><td>0                     </td><td>2017  </td><td>333              </td><td>735          </td><td>130            </td><td>303            </td><td>175449        </td><td>0                </td><td>0.0                 </td><td>2.65              </td><td>0.0               </td><td>5.0               </td><td>0.0                          </td><td>6.57              </td><td>8.2                                   </td><td>8.0               </td><td>55.0                     </td><td>14.39             </td><td>60.0                       </td><td>4.36              </td><td>2.55              </td><td>11.5              </td><td>0.0                   </td><td>0.0                      </td><td>0.0                     </td><td>0.0                </td><td>0                        </td></tr>\n",
       "<tr><td><i style='opacity: 0.6'>3</i>      </td><td>0.0059695641327203               </td><td>0.0059695641327203           </td><td>0.0062724972379628        </td><td>0.0968019767870083        </td><td>0.0083870891098518                 </td><td>7.127837770412345e-05                </td><td>5.9398648086769546e-06               </td><td>0.0042767026622474       </td><td>0.191721016429666          </td><td>0.0104007032799933                  </td><td>0                          </td><td>1                               </td><td>0                     </td><td>2020  </td><td>514              </td><td>981          </td><td>303            </td><td>1              </td><td>179767        </td><td>0                </td><td>0.0                 </td><td>2.55              </td><td>0.0               </td><td>1.45              </td><td>0.0                          </td><td>6.35              </td><td>7.5                                   </td><td>6.76              </td><td>10.0                     </td><td>14.01             </td><td>62.0                       </td><td>4.34              </td><td>2.46              </td><td>12.08             </td><td>0.0                   </td><td>0.0                      </td><td>0.0                     </td><td>0.0                </td><td>0                        </td></tr>\n",
       "<tr><td><i style='opacity: 0.6'>4</i>      </td><td>0.0059695641327203               </td><td>0.0059695641327203           </td><td>0.0062724972379628        </td><td>0.0968019767870083        </td><td>5.9398648086769546e-06             </td><td>0.0006474452641457                   </td><td>5.9398648086769546e-06               </td><td>0.006949641826152        </td><td>0.191721016429666          </td><td>0.0144992099979804                  </td><td>0                          </td><td>1                               </td><td>0                     </td><td>2019  </td><td>514              </td><td>981          </td><td>303            </td><td>1              </td><td>176165        </td><td>0                </td><td>0.0                 </td><td>3.91              </td><td>0.0               </td><td>2.3               </td><td>0.0                          </td><td>6.28              </td><td>7.8                                   </td><td>6.13              </td><td>10.0                     </td><td>13.58             </td><td>60.0                       </td><td>4.3               </td><td>2.46              </td><td>12.08             </td><td>0.0                   </td><td>0.0                      </td><td>0.0                     </td><td>0.0                </td><td>0                        </td></tr>\n",
       "<tr><td>...                                </td><td>...                              </td><td>...                          </td><td>...                       </td><td>...                       </td><td>...                                </td><td>...                                  </td><td>...                                  </td><td>...                      </td><td>...                        </td><td>...                                 </td><td>...                        </td><td>...                             </td><td>...                   </td><td>...   </td><td>...              </td><td>...          </td><td>...            </td><td>...            </td><td>...           </td><td>...              </td><td>...                 </td><td>...               </td><td>...               </td><td>...               </td><td>...                          </td><td>...               </td><td>...                                   </td><td>...               </td><td>...                      </td><td>...               </td><td>...                        </td><td>...               </td><td>...               </td><td>...               </td><td>...                   </td><td>...                      </td><td>...                     </td><td>...                </td><td>...                      </td></tr>\n",
       "<tr><td><i style='opacity: 0.6'>267,699</i></td><td>0.0188106301525354               </td><td>0.0187213780656295           </td><td>0.04778116266545          </td><td>0.0960744880786431        </td><td>0.0217944165110475                 </td><td>0.0007606440001959                   </td><td>0.0001163171527835                   </td><td>0.0084108485690865       </td><td>0.0299844375542012         </td><td>0.0025463021974173                  </td><td>0                          </td><td>0                               </td><td>1                     </td><td>2007  </td><td>488              </td><td>941          </td><td>225            </td><td>17             </td><td>181885        </td><td>0                </td><td>9.969388674763898   </td><td>1.3318035699505122</td><td>38.788336920377866</td><td>-9.228211632928383</td><td>0.0070877103013952           </td><td>0.0               </td><td>9.393684345479071                     </td><td>111.11073038416492</td><td>0.0                      </td><td>0.0               </td><td>5.1740285200185285         </td><td>0.0219719019343252</td><td>1.8145892901484628</td><td>20.006462464237572</td><td>116.793190706253      </td><td>8.694407037336932        </td><td>2177.1367267881337      </td><td>17.08557272244708  </td><td>3                        </td></tr>\n",
       "<tr><td><i style='opacity: 0.6'>267,700</i></td><td>0.0012068134414386               </td><td>0.0012068134414386           </td><td>0.0495859914228352        </td><td>0.0016152844462875        </td><td>0.2212896634472599                 </td><td>0.0008976448841171                   </td><td>1.4387064973519367e-05               </td><td>0.0320111834149986       </td><td>0.4529978497689392         </td><td>0.2639081934495171                  </td><td>0                          </td><td>2                               </td><td>1                     </td><td>2015  </td><td>13505            </td><td>14478        </td><td>234            </td><td>5730           </td><td>182599        </td><td>1                </td><td>26.16               </td><td>5.7               </td><td>29.46             </td><td>20.75             </td><td>0.73                         </td><td>5.77              </td><td>7.4                                   </td><td>0.0               </td><td>15.0                     </td><td>0.0               </td><td>49.0                       </td><td>2.55              </td><td>-3.91             </td><td>12.02             </td><td>2.5                   </td><td>0.15                     </td><td>30.0                    </td><td>2.6                </td><td>3                        </td></tr>\n",
       "<tr><td><i style='opacity: 0.6'>267,701</i></td><td>4.750437751787229e-05            </td><td>4.750437751787229e-05        </td><td>0.0001663162146429        </td><td>4.756254132404569e-05     </td><td>5.9398648086769546e-06             </td><td>2.9670242140298076e-05               </td><td>5.9398648086769546e-06               </td><td>0.0001899593462652       </td><td>0.0071456573648383         </td><td>0.0004976697235737                  </td><td>0                          </td><td>2                               </td><td>3                     </td><td>2018  </td><td>14542            </td><td>15819        </td><td>916            </td><td>7244           </td><td>146592        </td><td>90               </td><td>34.720256851122606  </td><td>6.82188498106422  </td><td>33.15686652498415 </td><td>13.80244802735613 </td><td>0.06                         </td><td>0.0               </td><td>7.596817564437032                     </td><td>49.70242354708257 </td><td>35.0                     </td><td>33.1257649126739  </td><td>51.0171361914929           </td><td>0.5200489605471226</td><td>2.620048960547123 </td><td>9.52              </td><td>0.0                   </td><td>0.0                      </td><td>0.0                     </td><td>-14.438714593888244</td><td>3                        </td></tr>\n",
       "<tr><td><i style='opacity: 0.6'>267,702</i></td><td>0.0004633094550768               </td><td>0.0004633094550768           </td><td>0.0182294450978295        </td><td>0.0004633094550768        </td><td>0.0011649856730803                 </td><td>0.0001306770257908                   </td><td>5.939864808676954e-05                </td><td>0.0005821067512503       </td><td>0.0431828171590814         </td><td>0.0010028273676245                  </td><td>0                          </td><td>2                               </td><td>2                     </td><td>2020  </td><td>14674            </td><td>15973        </td><td>1151           </td><td>1149           </td><td>157122        </td><td>30               </td><td>19.21               </td><td>1.07              </td><td>23.78             </td><td>3.4               </td><td>3.0                          </td><td>6.04              </td><td>5.0                                   </td><td>42.0              </td><td>75.0                     </td><td>38.11             </td><td>58.0                       </td><td>3.0               </td><td>1.14              </td><td>19.74             </td><td>5.79                  </td><td>0.44                     </td><td>1710.26                 </td><td>2.2                </td><td>3                        </td></tr>\n",
       "<tr><td><i style='opacity: 0.6'>267,703</i></td><td>0.0174218330618817               </td><td>0.0174218330618817           </td><td>0.1828162283792647        </td><td>0.0507873876870979        </td><td>0.102171293825182                  </td><td>0.0037478446709994                   </td><td>0.0005689661399066                   </td><td>0.0458155100768874       </td><td>0.2231432058392611         </td><td>0.1218623278201915                  </td><td>0                          </td><td>1                               </td><td>1                     </td><td>2017  </td><td>13678            </td><td>14720        </td><td>697            </td><td>537            </td><td>176976        </td><td>11               </td><td>23.316368234464232  </td><td>2.4749738359308364</td><td>26.22375635362103 </td><td>11.131008919341538</td><td>2.003184242162957            </td><td>5.926305940421601 </td><td>6.749115418882045                     </td><td>20.303642980748474</td><td>48.65244692941736        </td><td>21.380521282489827</td><td>53.73048938588347          </td><td>2.847263281209853 </td><td>-0.708719973785882</td><td>15.691259344820466</td><td>4.7042352738768365    </td><td>0.3126534934921838       </td><td>968.218274563558        </td><td>1.0015087708526755 </td><td>3                        </td></tr>\n",
       "</tbody>\n",
       "</table>"
      ],
      "text/plain": [
       "#        frequency_encoded_conflict_name    frequency_encoded_dyad_name    frequency_encoded_side_a    frequency_encoded_side_b    frequency_encoded_source_original    frequency_encoded_where_coordinates    frequency_encoded_where_description    frequency_encoded_adm_1    frequency_encoded_country    frequency_encoded_media_org_source    label_encoded_active_year    label_encoded_type_of_violence    label_encoded_region    year    conflict_new_id    dyad_new_id    side_a_new_id    side_b_new_id    priogrid_gid    conflict_length    capital_investment    economic_growth     savings_pcnt_gdp    inflation           pcnt_world_tourist_arrivals    death_rate_p1000    human_flight_brain_drain_index_score    government_debt     inv_freedom_index_score    external_debt       labor_freedom_index_score    remittances         pop_growth_pcnt     banking_z_score     oil_reserves_barrels    pcnt_world_oil_reserves    oil_prod_barrels_daily    trade_balance        incident_classification\n",
       "0        0.1743172125402425                 0.1737648051130356             0.1836962590731435          0.1748042814545541          0.0234565261294652                   0.0015324851206386                     2.969932404338477e-05                  0.0138101856801739         0.191721016429666            0.0219478004680613                    0                            0                                 0                       2018    333                735            130              303              177617          0                  0.0                   1.19                0.0                 0.6                 0.0                            6.42                8.1                                     7.38                10.0                       14.44               57.0                         4.38                2.38                12.08               0.0                     0.0                        0.0                       0.0                  1\n",
       "1        0.1743172125402425                 0.1737648051130356             0.1836962590731435          0.1748042814545541          0.0633189588604963                   0.0003266925644772                     2.375945923470781e-05                  0.0167207194364256         0.191721016429666            0.0002672939163904                    0                            0                                 0                       2011    333                735            130              303              179060          0                  0.0                   0.43                0.0                 11.8                0.0                            7.94                7.2                                     7.5                 65.0                       13.97               0.0                          1.01                3.14                12.29               0.0                     0.0                        0.0                       0.0                  2\n",
       "2        0.1743172125402425                 0.1737648051130356             0.1836962590731435          0.1748042814545541          5.9398648086769546e-06               6.53385128954465e-05                   5.9398648086769546e-06                 0.0238188578827945         0.191721016429666            0.0174097437542321                    0                            0                                 0                       2017    333                735            130              303              175449          0                  0.0                   2.65                0.0                 5.0                 0.0                            6.57                8.2                                     8.0                 55.0                       14.39               60.0                         4.36                2.55                11.5                0.0                     0.0                        0.0                       0.0                  0\n",
       "3        0.0059695641327203                 0.0059695641327203             0.0062724972379628          0.0968019767870083          0.0083870891098518                   7.127837770412345e-05                  5.9398648086769546e-06                 0.0042767026622474         0.191721016429666            0.0104007032799933                    0                            1                                 0                       2020    514                981            303              1                179767          0                  0.0                   2.55                0.0                 1.45                0.0                            6.35                7.5                                     6.76                10.0                       14.01               62.0                         4.34                2.46                12.08               0.0                     0.0                        0.0                       0.0                  0\n",
       "4        0.0059695641327203                 0.0059695641327203             0.0062724972379628          0.0968019767870083          5.9398648086769546e-06               0.0006474452641457                     5.9398648086769546e-06                 0.006949641826152          0.191721016429666            0.0144992099979804                    0                            1                                 0                       2019    514                981            303              1                176165          0                  0.0                   3.91                0.0                 2.3                 0.0                            6.28                7.8                                     6.13                10.0                       13.58               60.0                         4.3                 2.46                12.08               0.0                     0.0                        0.0                       0.0                  0\n",
       "...      ...                                ...                            ...                         ...                         ...                                  ...                                    ...                                    ...                        ...                          ...                                   ...                          ...                               ...                     ...     ...                ...            ...              ...              ...             ...                ...                   ...                 ...                 ...                 ...                            ...                 ...                                     ...                 ...                        ...                 ...                          ...                 ...                 ...                 ...                     ...                        ...                       ...                  ...\n",
       "267,699  0.0188106301525354                 0.0187213780656295             0.04778116266545            0.0960744880786431          0.0217944165110475                   0.0007606440001959                     0.0001163171527835                     0.0084108485690865         0.0299844375542012           0.0025463021974173                    0                            0                                 1                       2007    488                941            225              17               181885          0                  9.969388674763898     1.3318035699505122  38.788336920377866  -9.228211632928383  0.0070877103013952             0.0                 9.393684345479071                       111.11073038416492  0.0                        0.0                 5.1740285200185285           0.0219719019343252  1.8145892901484628  20.006462464237572  116.793190706253        8.694407037336932          2177.1367267881337        17.08557272244708    3\n",
       "267,700  0.0012068134414386                 0.0012068134414386             0.0495859914228352          0.0016152844462875          0.2212896634472599                   0.0008976448841171                     1.4387064973519367e-05                 0.0320111834149986         0.4529978497689392           0.2639081934495171                    0                            2                                 1                       2015    13505              14478          234              5730             182599          1                  26.16                 5.7                 29.46               20.75               0.73                           5.77                7.4                                     0.0                 15.0                       0.0                 49.0                         2.55                -3.91               12.02               2.5                     0.15                       30.0                      2.6                  3\n",
       "267,701  4.750437751787229e-05              4.750437751787229e-05          0.0001663162146429          4.756254132404569e-05       5.9398648086769546e-06               2.9670242140298076e-05                 5.9398648086769546e-06                 0.0001899593462652         0.0071456573648383           0.0004976697235737                    0                            2                                 3                       2018    14542              15819          916              7244             146592          90                 34.720256851122606    6.82188498106422    33.15686652498415   13.80244802735613   0.06                           0.0                 7.596817564437032                       49.70242354708257   35.0                       33.1257649126739    51.0171361914929             0.5200489605471226  2.620048960547123   9.52                0.0                     0.0                        0.0                       -14.438714593888244  3\n",
       "267,702  0.0004633094550768                 0.0004633094550768             0.0182294450978295          0.0004633094550768          0.0011649856730803                   0.0001306770257908                     5.939864808676954e-05                  0.0005821067512503         0.0431828171590814           0.0010028273676245                    0                            2                                 2                       2020    14674              15973          1151             1149             157122          30                 19.21                 1.07                23.78               3.4                 3.0                            6.04                5.0                                     42.0                75.0                       38.11               58.0                         3.0                 1.14                19.74               5.79                    0.44                       1710.26                   2.2                  3\n",
       "267,703  0.0174218330618817                 0.0174218330618817             0.1828162283792647          0.0507873876870979          0.102171293825182                    0.0037478446709994                     0.0005689661399066                     0.0458155100768874         0.2231432058392611           0.1218623278201915                    0                            1                                 1                       2017    13678              14720          697              537              176976          11                 23.316368234464232    2.4749738359308364  26.22375635362103   11.131008919341538  2.003184242162957              5.926305940421601   6.749115418882045                       20.303642980748474  48.65244692941736          21.380521282489827  53.73048938588347            2.847263281209853   -0.708719973785882  15.691259344820466  4.7042352738768365      0.3126534934921838         968.218274563558          1.0015087708526755   3"
      ]
     },
     "execution_count": 95,
     "metadata": {},
     "output_type": "execute_result"
    }
   ],
   "source": [
    "smote_train.drop('Unnamed: 0', inplace=True)"
   ]
  },
  {
   "cell_type": "code",
   "execution_count": 96,
   "id": "28b7d0f9",
   "metadata": {},
   "outputs": [
    {
     "data": {
      "text/html": [
       "<table>\n",
       "<thead>\n",
       "<tr><th>#                                 </th><th>frequency_encoded_conflict_name  </th><th>frequency_encoded_dyad_name  </th><th>frequency_encoded_side_a  </th><th>frequency_encoded_side_b  </th><th>frequency_encoded_source_original  </th><th>frequency_encoded_where_coordinates  </th><th>frequency_encoded_where_description  </th><th>frequency_encoded_adm_1  </th><th>frequency_encoded_country  </th><th>frequency_encoded_media_org_source  </th><th>label_encoded_active_year  </th><th>label_encoded_type_of_violence  </th><th>label_encoded_region  </th><th>year  </th><th>conflict_new_id  </th><th>dyad_new_id  </th><th>side_a_new_id  </th><th>side_b_new_id  </th><th>priogrid_gid  </th><th>conflict_length  </th><th>capital_investment  </th><th>economic_growth  </th><th>savings_pcnt_gdp  </th><th>inflation  </th><th>pcnt_world_tourist_arrivals  </th><th>death_rate_p1000  </th><th>human_flight_brain_drain_index_score  </th><th>government_debt  </th><th>inv_freedom_index_score  </th><th>external_debt  </th><th>labor_freedom_index_score  </th><th>remittances  </th><th>pop_growth_pcnt  </th><th>banking_z_score  </th><th>oil_reserves_barrels  </th><th>pcnt_world_oil_reserves  </th><th>oil_prod_barrels_daily  </th><th>trade_balance  </th><th>incident_classification  </th></tr>\n",
       "</thead>\n",
       "<tbody>\n",
       "<tr><td><i style='opacity: 0.6'>0</i>     </td><td>0.0099611532841512               </td><td>0.0015324851206386           </td><td>0.0102165674709243        </td><td>0.0015324851206386        </td><td>1.7819594426030862e-05             </td><td>2.969932404338477e-05                </td><td>5.9398648086769546e-06               </td><td>0.0008494006676408       </td><td>0.0108164938166007         </td><td>0.00772182425128                    </td><td>0                          </td><td>0                               </td><td>1                     </td><td>2007  </td><td>234              </td><td>478          </td><td>121            </td><td>208            </td><td>176111        </td><td>0                </td><td>21.47               </td><td>5.77             </td><td>24.52             </td><td>0.5        </td><td>0.23                         </td><td>0.0               </td><td>3.5                                   </td><td>72.96            </td><td>70.0                     </td><td>0.0            </td><td>65.0                       </td><td>0.32         </td><td>1.78             </td><td>29.37            </td><td>0.0                   </td><td>0.0                      </td><td>0.1                     </td><td>-0.92          </td><td>0                        </td></tr>\n",
       "<tr><td><i style='opacity: 0.6'>1</i>     </td><td>0.3510519500576167               </td><td>0.3510519500576167           </td><td>0.3930349145253454        </td><td>0.3510519500576167        </td><td>0.2212896634472599                 </td><td>0.0069615215557693                   </td><td>0.0009563182341969                   </td><td>0.0948121220761015       </td><td>0.4529978497689392         </td><td>0.0368449814082231                  </td><td>0                          </td><td>0                               </td><td>1                     </td><td>2013  </td><td>299              </td><td>11973        </td><td>118            </td><td>4456           </td><td>178275        </td><td>0                </td><td>26.16               </td><td>5.7              </td><td>29.46             </td><td>20.75      </td><td>0.73                         </td><td>5.51              </td><td>6.2                                   </td><td>0.0              </td><td>10.0                     </td><td>0.0            </td><td>49.0                       </td><td>2.55         </td><td>-4.29            </td><td>5.17             </td><td>2.5                   </td><td>0.15                     </td><td>58.04                   </td><td>2.6            </td><td>0                        </td></tr>\n",
       "<tr><td><i style='opacity: 0.6'>2</i>     </td><td>0.0099611532841512               </td><td>0.0015324851206386           </td><td>0.0102165674709243        </td><td>0.0015324851206386        </td><td>5.9398648086769546e-06             </td><td>1.1879729617353907e-05               </td><td>5.9398648086769546e-06               </td><td>0.0002791736460078       </td><td>0.0108164938166007         </td><td>0.0052152013020183                  </td><td>0                          </td><td>0                               </td><td>1                     </td><td>2009  </td><td>234              </td><td>478          </td><td>121            </td><td>208            </td><td>174669        </td><td>0                </td><td>18.47               </td><td>0.92             </td><td>22.06             </td><td>3.3        </td><td>0.27                         </td><td>0.0               </td><td>4.0                                   </td><td>74.53            </td><td>80.0                     </td><td>0.0            </td><td>65.0                       </td><td>0.24         </td><td>2.39             </td><td>28.37            </td><td>0.0                   </td><td>0.0                      </td><td>0.1                     </td><td>2.5            </td><td>0                        </td></tr>\n",
       "<tr><td><i style='opacity: 0.6'>3</i>     </td><td>0.3510519500576167               </td><td>0.3510519500576167           </td><td>0.3930349145253454        </td><td>0.3510519500576167        </td><td>0.1189160934697126                 </td><td>0.0250365301685733                   </td><td>2.375945923470781e-05                </td><td>0.0842866816351259       </td><td>0.4529978497689392         </td><td>0.1223196360050845                  </td><td>0                          </td><td>0                               </td><td>1                     </td><td>2013  </td><td>299              </td><td>11973        </td><td>118            </td><td>4456           </td><td>181875        </td><td>0                </td><td>26.16               </td><td>5.7              </td><td>29.46             </td><td>20.75      </td><td>0.73                         </td><td>5.51              </td><td>6.2                                   </td><td>0.0              </td><td>10.0                     </td><td>0.0            </td><td>49.0                       </td><td>2.55         </td><td>-4.29            </td><td>5.17             </td><td>2.5                   </td><td>0.15                     </td><td>58.04                   </td><td>2.6            </td><td>0                        </td></tr>\n",
       "<tr><td><i style='opacity: 0.6'>4</i>     </td><td>0.3510519500576167               </td><td>0.3510519500576167           </td><td>0.3930349145253454        </td><td>0.3510519500576167        </td><td>0.1189160934697126                 </td><td>0.0005642871568243                   </td><td>0.0001484966202169                   </td><td>0.0522708103163572       </td><td>0.4529978497689392         </td><td>0.1223196360050845                  </td><td>0                          </td><td>0                               </td><td>1                     </td><td>2012  </td><td>299              </td><td>11973        </td><td>118            </td><td>4456           </td><td>181154        </td><td>0                </td><td>26.16               </td><td>5.7              </td><td>29.46             </td><td>36.7       </td><td>0.73                         </td><td>5.23              </td><td>6.0                                   </td><td>0.0              </td><td>20.0                     </td><td>0.0            </td><td>50.0                       </td><td>2.55         </td><td>-3.08            </td><td>5.09             </td><td>2.5                   </td><td>0.16                     </td><td>145.23                  </td><td>2.6            </td><td>0                        </td></tr>\n",
       "<tr><td>...                               </td><td>...                              </td><td>...                          </td><td>...                       </td><td>...                       </td><td>...                                </td><td>...                                  </td><td>...                                  </td><td>...                      </td><td>...                        </td><td>...                                 </td><td>...                        </td><td>...                             </td><td>...                   </td><td>...   </td><td>...              </td><td>...          </td><td>...            </td><td>...            </td><td>...           </td><td>...              </td><td>...                 </td><td>...              </td><td>...               </td><td>...        </td><td>...                          </td><td>...               </td><td>...                                   </td><td>...              </td><td>...                      </td><td>...            </td><td>...                        </td><td>...          </td><td>...              </td><td>...              </td><td>...                   </td><td>...                      </td><td>...                     </td><td>...            </td><td>...                      </td></tr>\n",
       "<tr><td><i style='opacity: 0.6'>50,500</i></td><td>2.969932404338477e-05            </td><td>2.969932404338477e-05        </td><td>5.939864808676954e-05     </td><td>2.969932404338477e-05     </td><td>1.1879729617353907e-05             </td><td>5.9398648086769546e-06               </td><td>1.1879729617353907e-05               </td><td>2.969932404338477e-05    </td><td>5.939864808676954e-05      </td><td>0.0088741580241633                  </td><td>1                          </td><td>0                               </td><td>4                     </td><td>2010  </td><td>392              </td><td>839          </td><td>63             </td><td>342            </td><td>191244        </td><td>0                </td><td>20.52               </td><td>6.25             </td><td>10.73             </td><td>7.1        </td><td>0.12                         </td><td>0.0               </td><td>5.8                                   </td><td>37.2             </td><td>70.0                     </td><td>73.09          </td><td>94.0                       </td><td>9.67         </td><td>-0.73            </td><td>5.71             </td><td>0.04                  </td><td>0.0                      </td><td>1.0                     </td><td>-16.99         </td><td>0                        </td></tr>\n",
       "<tr><td><i style='opacity: 0.6'>50,501</i></td><td>0.0068249046651698               </td><td>0.0068249046651698           </td><td>0.0133528160899057        </td><td>0.0074723499293156        </td><td>0.0633189588604963                 </td><td>0.0004811290495028                   </td><td>2.375945923470781e-05                </td><td>0.0156396640412464       </td><td>0.028113380139468          </td><td>0.0016988013352816                  </td><td>0                          </td><td>0                               </td><td>3                     </td><td>2017  </td><td>297              </td><td>640          </td><td>84             </td><td>1051           </td><td>145827        </td><td>0                </td><td>15.47               </td><td>0.81             </td><td>18.27             </td><td>16.5       </td><td>0.47                         </td><td>12.11             </td><td>7.2                                   </td><td>18.2             </td><td>40.0                     </td><td>11.86          </td><td>74.0                       </td><td>5.86         </td><td>2.61             </td><td>16.24            </td><td>37.06                 </td><td>2.25                     </td><td>1945.9                  </td><td>0.0            </td><td>1                        </td></tr>\n",
       "<tr><td><i style='opacity: 0.6'>50,502</i></td><td>0.0106620573315751               </td><td>0.0106620573315751           </td><td>0.0107036363852358        </td><td>0.0106620573315751        </td><td>0.000439549995842                  </td><td>3.5639188852061724e-05               </td><td>3.5639188852061724e-05               </td><td>0.0009147391805362       </td><td>0.01117882556993           </td><td>4.751891846941564e-05               </td><td>0                          </td><td>0                               </td><td>0                     </td><td>2007  </td><td>352              </td><td>776          </td><td>145            </td><td>320            </td><td>142363        </td><td>1                </td><td>27.95               </td><td>6.8              </td><td>23.63             </td><td>15.8       </td><td>0.06                         </td><td>5.83              </td><td>6.9                                   </td><td>85.0             </td><td>30.0                     </td><td>44.26          </td><td>69.0                       </td><td>7.75         </td><td>0.74             </td><td>11.45            </td><td>0.0                   </td><td>0.0                      </td><td>0.0                     </td><td>-10.38         </td><td>1                        </td></tr>\n",
       "<tr><td><i style='opacity: 0.6'>50,503</i></td><td>0.0223517112750513               </td><td>0.0215498295258799           </td><td>0.0248108153058436        </td><td>0.0219299808736353        </td><td>0.0189778680637228                 </td><td>4.751891846941564e-05                </td><td>5.9398648086769546e-06               </td><td>0.0188471910379319       </td><td>0.0331563253620347         </td><td>0.0016631621464295                  </td><td>0                          </td><td>0                               </td><td>0                     </td><td>2012  </td><td>404              </td><td>857          </td><td>142            </td><td>356            </td><td>179063        </td><td>0                </td><td>15.08               </td><td>3.51             </td><td>13.89             </td><td>9.7        </td><td>0.1                          </td><td>7.35              </td><td>7.2                                   </td><td>64.3             </td><td>35.0                     </td><td>28.3           </td><td>48.0                       </td><td>6.24         </td><td>2.13             </td><td>12.36            </td><td>0.28                  </td><td>0.02                     </td><td>71.0                    </td><td>-8.01          </td><td>1                        </td></tr>\n",
       "<tr><td><i style='opacity: 0.6'>50,504</i></td><td>0.1743172125402425               </td><td>0.1737648051130356           </td><td>0.1836962590731435        </td><td>0.1748042814545541        </td><td>0.0009028594509188                 </td><td>0.0003623317533292                   </td><td>5.939864808676954e-05                </td><td>0.0238188578827945       </td><td>0.191721016429666          </td><td>0.0088741580241633                  </td><td>0                          </td><td>0                               </td><td>0                     </td><td>2007  </td><td>333              </td><td>735          </td><td>130            </td><td>303            </td><td>176170        </td><td>0                </td><td>0.0                 </td><td>13.83            </td><td>0.0               </td><td>8.7        </td><td>0.0                          </td><td>9.29              </td><td>7.0                                   </td><td>20.14            </td><td>0.0                      </td><td>0.0            </td><td>0.0                        </td><td>0.0          </td><td>2.49             </td><td>20.69            </td><td>0.0                   </td><td>0.0                      </td><td>0.0                     </td><td>0.0            </td><td>0                        </td></tr>\n",
       "</tbody>\n",
       "</table>"
      ],
      "text/plain": [
       "#       frequency_encoded_conflict_name    frequency_encoded_dyad_name    frequency_encoded_side_a    frequency_encoded_side_b    frequency_encoded_source_original    frequency_encoded_where_coordinates    frequency_encoded_where_description    frequency_encoded_adm_1    frequency_encoded_country    frequency_encoded_media_org_source    label_encoded_active_year    label_encoded_type_of_violence    label_encoded_region    year    conflict_new_id    dyad_new_id    side_a_new_id    side_b_new_id    priogrid_gid    conflict_length    capital_investment    economic_growth    savings_pcnt_gdp    inflation    pcnt_world_tourist_arrivals    death_rate_p1000    human_flight_brain_drain_index_score    government_debt    inv_freedom_index_score    external_debt    labor_freedom_index_score    remittances    pop_growth_pcnt    banking_z_score    oil_reserves_barrels    pcnt_world_oil_reserves    oil_prod_barrels_daily    trade_balance    incident_classification\n",
       "0       0.0099611532841512                 0.0015324851206386             0.0102165674709243          0.0015324851206386          1.7819594426030862e-05               2.969932404338477e-05                  5.9398648086769546e-06                 0.0008494006676408         0.0108164938166007           0.00772182425128                      0                            0                                 1                       2007    234                478            121              208              176111          0                  21.47                 5.77               24.52               0.5          0.23                           0.0                 3.5                                     72.96              70.0                       0.0              65.0                         0.32           1.78               29.37              0.0                     0.0                        0.1                       -0.92            0\n",
       "1       0.3510519500576167                 0.3510519500576167             0.3930349145253454          0.3510519500576167          0.2212896634472599                   0.0069615215557693                     0.0009563182341969                     0.0948121220761015         0.4529978497689392           0.0368449814082231                    0                            0                                 1                       2013    299                11973          118              4456             178275          0                  26.16                 5.7                29.46               20.75        0.73                           5.51                6.2                                     0.0                10.0                       0.0              49.0                         2.55           -4.29              5.17               2.5                     0.15                       58.04                     2.6              0\n",
       "2       0.0099611532841512                 0.0015324851206386             0.0102165674709243          0.0015324851206386          5.9398648086769546e-06               1.1879729617353907e-05                 5.9398648086769546e-06                 0.0002791736460078         0.0108164938166007           0.0052152013020183                    0                            0                                 1                       2009    234                478            121              208              174669          0                  18.47                 0.92               22.06               3.3          0.27                           0.0                 4.0                                     74.53              80.0                       0.0              65.0                         0.24           2.39               28.37              0.0                     0.0                        0.1                       2.5              0\n",
       "3       0.3510519500576167                 0.3510519500576167             0.3930349145253454          0.3510519500576167          0.1189160934697126                   0.0250365301685733                     2.375945923470781e-05                  0.0842866816351259         0.4529978497689392           0.1223196360050845                    0                            0                                 1                       2013    299                11973          118              4456             181875          0                  26.16                 5.7                29.46               20.75        0.73                           5.51                6.2                                     0.0                10.0                       0.0              49.0                         2.55           -4.29              5.17               2.5                     0.15                       58.04                     2.6              0\n",
       "4       0.3510519500576167                 0.3510519500576167             0.3930349145253454          0.3510519500576167          0.1189160934697126                   0.0005642871568243                     0.0001484966202169                     0.0522708103163572         0.4529978497689392           0.1223196360050845                    0                            0                                 1                       2012    299                11973          118              4456             181154          0                  26.16                 5.7                29.46               36.7         0.73                           5.23                6.0                                     0.0                20.0                       0.0              50.0                         2.55           -3.08              5.09               2.5                     0.16                       145.23                    2.6              0\n",
       "...     ...                                ...                            ...                         ...                         ...                                  ...                                    ...                                    ...                        ...                          ...                                   ...                          ...                               ...                     ...     ...                ...            ...              ...              ...             ...                ...                   ...                ...                 ...          ...                            ...                 ...                                     ...                ...                        ...              ...                          ...            ...                ...                ...                     ...                        ...                       ...              ...\n",
       "50,500  2.969932404338477e-05              2.969932404338477e-05          5.939864808676954e-05       2.969932404338477e-05       1.1879729617353907e-05               5.9398648086769546e-06                 1.1879729617353907e-05                 2.969932404338477e-05      5.939864808676954e-05        0.0088741580241633                    1                            0                                 4                       2010    392                839            63               342              191244          0                  20.52                 6.25               10.73               7.1          0.12                           0.0                 5.8                                     37.2               70.0                       73.09            94.0                         9.67           -0.73              5.71               0.04                    0.0                        1.0                       -16.99           0\n",
       "50,501  0.0068249046651698                 0.0068249046651698             0.0133528160899057          0.0074723499293156          0.0633189588604963                   0.0004811290495028                     2.375945923470781e-05                  0.0156396640412464         0.028113380139468            0.0016988013352816                    0                            0                                 3                       2017    297                640            84               1051             145827          0                  15.47                 0.81               18.27               16.5         0.47                           12.11               7.2                                     18.2               40.0                       11.86            74.0                         5.86           2.61               16.24              37.06                   2.25                       1945.9                    0.0              1\n",
       "50,502  0.0106620573315751                 0.0106620573315751             0.0107036363852358          0.0106620573315751          0.000439549995842                    3.5639188852061724e-05                 3.5639188852061724e-05                 0.0009147391805362         0.01117882556993             4.751891846941564e-05                 0                            0                                 0                       2007    352                776            145              320              142363          1                  27.95                 6.8                23.63               15.8         0.06                           5.83                6.9                                     85.0               30.0                       44.26            69.0                         7.75           0.74               11.45              0.0                     0.0                        0.0                       -10.38           1\n",
       "50,503  0.0223517112750513                 0.0215498295258799             0.0248108153058436          0.0219299808736353          0.0189778680637228                   4.751891846941564e-05                  5.9398648086769546e-06                 0.0188471910379319         0.0331563253620347           0.0016631621464295                    0                            0                                 0                       2012    404                857            142              356              179063          0                  15.08                 3.51               13.89               9.7          0.1                            7.35                7.2                                     64.3               35.0                       28.3             48.0                         6.24           2.13               12.36              0.28                    0.02                       71.0                      -8.01            1\n",
       "50,504  0.1743172125402425                 0.1737648051130356             0.1836962590731435          0.1748042814545541          0.0009028594509188                   0.0003623317533292                     5.939864808676954e-05                  0.0238188578827945         0.191721016429666            0.0088741580241633                    0                            0                                 0                       2007    333                735            130              303              176170          0                  0.0                   13.83              0.0                 8.7          0.0                            9.29                7.0                                     20.14              0.0                        0.0              0.0                          0.0            2.49               20.69              0.0                     0.0                        0.0                       0.0              0"
      ]
     },
     "execution_count": 96,
     "metadata": {},
     "output_type": "execute_result"
    }
   ],
   "source": [
    "smote_test.drop('Unnamed: 0', inplace=True)"
   ]
  },
  {
   "cell_type": "markdown",
   "id": "c87be40d",
   "metadata": {},
   "source": [
    "#### Scaling Features"
   ]
  },
  {
   "cell_type": "code",
   "execution_count": 97,
   "id": "f0bbaee1",
   "metadata": {},
   "outputs": [],
   "source": [
    "## Training Data\n",
    "\n",
    "scaler = vaex.ml.StandardScaler(features=sm_features)\n",
    "scaler.fit(smote_train)\n",
    "smote_train = scaler.transform(smote_train)"
   ]
  },
  {
   "cell_type": "code",
   "execution_count": 98,
   "id": "bbb1a6b8",
   "metadata": {},
   "outputs": [],
   "source": [
    "## Test Data\n",
    "\n",
    "scaler = vaex.ml.StandardScaler(features=sm_features)\n",
    "scaler.fit(smote_test)\n",
    "smote_test = scaler.transform(smote_test)"
   ]
  },
  {
   "cell_type": "code",
   "execution_count": 107,
   "id": "320ce73b",
   "metadata": {},
   "outputs": [
    {
     "data": {
      "text/plain": [
       "3    66926\n",
       "2    66926\n",
       "1    66926\n",
       "0    66926\n",
       "dtype: int64"
      ]
     },
     "execution_count": 107,
     "metadata": {},
     "output_type": "execute_result"
    }
   ],
   "source": [
    "smote_train.incident_classification.value_counts()"
   ]
  },
  {
   "cell_type": "code",
   "execution_count": 99,
   "id": "c1b570d1",
   "metadata": {},
   "outputs": [
    {
     "name": "stderr",
     "output_type": "stream",
     "text": [
      "C:\\ProgramData\\Anaconda3\\lib\\site-packages\\xgboost\\sklearn.py:1146: UserWarning: The use of label encoder in XGBClassifier is deprecated and will be removed in a future release. To remove this warning, do the following: 1) Pass option use_label_encoder=False when constructing XGBClassifier object; and 2) Encode your labels (y) as integers starting with 0, i.e. 0, 1, 2, ..., [num_class - 1].\n",
      "  warnings.warn(label_encoder_deprecation_msg, UserWarning)\n"
     ]
    },
    {
     "data": {
      "text/html": [
       "<table>\n",
       "<thead>\n",
       "<tr><th>#                                  </th><th>frequency_encoded_conflict_name  </th><th>frequency_encoded_dyad_name  </th><th>frequency_encoded_side_a  </th><th>frequency_encoded_side_b  </th><th>frequency_encoded_source_original  </th><th>frequency_encoded_where_coordinates  </th><th>frequency_encoded_where_description  </th><th>frequency_encoded_adm_1  </th><th>frequency_encoded_country  </th><th>frequency_encoded_media_org_source  </th><th>label_encoded_active_year  </th><th>label_encoded_type_of_violence  </th><th>label_encoded_region  </th><th>year  </th><th>conflict_new_id  </th><th>dyad_new_id  </th><th>side_a_new_id  </th><th>side_b_new_id  </th><th>priogrid_gid  </th><th>conflict_length  </th><th>capital_investment  </th><th>economic_growth   </th><th>savings_pcnt_gdp  </th><th>inflation         </th><th>pcnt_world_tourist_arrivals  </th><th>death_rate_p1000  </th><th>human_flight_brain_drain_index_score  </th><th>government_debt   </th><th>inv_freedom_index_score  </th><th>external_debt     </th><th>labor_freedom_index_score  </th><th>remittances       </th><th>pop_growth_pcnt   </th><th>banking_z_score   </th><th>oil_reserves_barrels  </th><th>pcnt_world_oil_reserves  </th><th>oil_prod_barrels_daily  </th><th>trade_balance      </th><th>incident_classification  </th><th>standard_scaled_frequency_encoded_conflict_name  </th><th>standard_scaled_frequency_encoded_dyad_name  </th><th>standard_scaled_frequency_encoded_side_a  </th><th>standard_scaled_frequency_encoded_side_b  </th><th>standard_scaled_frequency_encoded_source_original  </th><th>standard_scaled_frequency_encoded_where_coordinates  </th><th>standard_scaled_frequency_encoded_where_description  </th><th>standard_scaled_frequency_encoded_adm_1  </th><th>standard_scaled_frequency_encoded_country  </th><th>standard_scaled_frequency_encoded_media_org_source  </th><th>standard_scaled_label_encoded_active_year  </th><th>standard_scaled_label_encoded_type_of_violence  </th><th>standard_scaled_label_encoded_region  </th><th>standard_scaled_year  </th><th>standard_scaled_conflict_new_id  </th><th>standard_scaled_dyad_new_id  </th><th>standard_scaled_side_a_new_id  </th><th>standard_scaled_side_b_new_id  </th><th>standard_scaled_priogrid_gid  </th><th>standard_scaled_conflict_length  </th><th>standard_scaled_capital_investment  </th><th>standard_scaled_economic_growth  </th><th>standard_scaled_savings_pcnt_gdp  </th><th>standard_scaled_inflation  </th><th>standard_scaled_pcnt_world_tourist_arrivals  </th><th>standard_scaled_death_rate_p1000  </th><th>standard_scaled_human_flight_brain_drain_index_score  </th><th>standard_scaled_government_debt  </th><th>standard_scaled_inv_freedom_index_score  </th><th>standard_scaled_external_debt  </th><th>standard_scaled_labor_freedom_index_score  </th><th>standard_scaled_remittances  </th><th>standard_scaled_pop_growth_pcnt  </th><th>standard_scaled_banking_z_score  </th><th>standard_scaled_oil_reserves_barrels  </th><th>standard_scaled_pcnt_world_oil_reserves  </th><th>standard_scaled_oil_prod_barrels_daily  </th><th>standard_scaled_trade_balance  </th><th>xgb_pred  </th></tr>\n",
       "</thead>\n",
       "<tbody>\n",
       "<tr><td><i style='opacity: 0.6'>0</i>      </td><td>0.1743172125402425               </td><td>0.1737648051130356           </td><td>0.1836962590731435        </td><td>0.1748042814545541        </td><td>0.0234565261294652                 </td><td>0.0015324851206386                   </td><td>2.969932404338477e-05                </td><td>0.0138101856801739       </td><td>0.191721016429666          </td><td>0.0219478004680613                  </td><td>0                          </td><td>0                               </td><td>0                     </td><td>2018  </td><td>333              </td><td>735          </td><td>130            </td><td>303            </td><td>177617        </td><td>0                </td><td>0.0                 </td><td>1.19              </td><td>0.0               </td><td>0.6               </td><td>0.0                          </td><td>6.42              </td><td>8.1                                   </td><td>7.38              </td><td>10.0                     </td><td>14.44             </td><td>57.0                       </td><td>4.38              </td><td>2.38              </td><td>12.08             </td><td>0.0                   </td><td>0.0                      </td><td>0.0                     </td><td>0.0                </td><td>1                        </td><td>0.360910585245035                                </td><td>0.3598551567119127                           </td><td>0.16166797925587542                       </td><td>0.26004498447044216                       </td><td>-0.39818668921484507                               </td><td>-0.12201570757973777                                 </td><td>-0.2759345136586167                                  </td><td>-0.35775623624354935                     </td><td>-0.08228810822089194                       </td><td>-0.5094878350626896                                 </td><td>-0.10391732225875634                       </td><td>-0.5957097492228259                             </td><td>-1.1194352725700767                   </td><td>1.0354006655703927    </td><td>-0.6130745704619057              </td><td>-1.0655476423681862          </td><td>-0.3144245433158613            </td><td>-0.7532806865153355            </td><td>0.4915774663441789            </td><td>-0.2209650830029598              </td><td>-1.7136106252201502                 </td><td>-0.45158534111135035             </td><td>-1.540274039657214                </td><td>-1.091252433552501         </td><td>-0.7552316031532852                          </td><td>0.1971993907761489                </td><td>0.841347997248282                                     </td><td>-0.5330275451762791              </td><td>-0.8398777678416749                      </td><td>0.04277637820046915            </td><td>0.2544728950422382                         </td><td>0.852055592969366            </td><td>0.7830336237973046               </td><td>-0.04472566710374392             </td><td>-0.3763536335043053                   </td><td>-0.37888714869510864                     </td><td>-0.5456306032171392                     </td><td>0.1161648232168928             </td><td>1         </td></tr>\n",
       "<tr><td><i style='opacity: 0.6'>1</i>      </td><td>0.1743172125402425               </td><td>0.1737648051130356           </td><td>0.1836962590731435        </td><td>0.1748042814545541        </td><td>0.0633189588604963                 </td><td>0.0003266925644772                   </td><td>2.375945923470781e-05                </td><td>0.0167207194364256       </td><td>0.191721016429666          </td><td>0.0002672939163904                  </td><td>0                          </td><td>0                               </td><td>0                     </td><td>2011  </td><td>333              </td><td>735          </td><td>130            </td><td>303            </td><td>179060        </td><td>0                </td><td>0.0                 </td><td>0.43              </td><td>0.0               </td><td>11.8              </td><td>0.0                          </td><td>7.94              </td><td>7.2                                   </td><td>7.5               </td><td>65.0                     </td><td>13.97             </td><td>0.0                        </td><td>1.01              </td><td>3.14              </td><td>12.29             </td><td>0.0                   </td><td>0.0                      </td><td>0.0                     </td><td>0.0                </td><td>2                        </td><td>0.360910585245035                                </td><td>0.3598551567119127                           </td><td>0.16166797925587542                       </td><td>0.26004498447044216                       </td><td>0.07808613314002928                                </td><td>-0.38389783518594267                                 </td><td>-0.28402173629564587                                 </td><td>-0.25928110250491215                     </td><td>-0.08228810822089194                       </td><td>-0.7195400313432024                                 </td><td>-0.10391732225875634                       </td><td>-0.5957097492228259                             </td><td>-1.1194352725700767                   </td><td>-1.0180519405076125   </td><td>-0.6130745704619057              </td><td>-1.0655476423681862          </td><td>-0.3144245433158613            </td><td>-0.7532806865153355            </td><td>0.582540952734315             </td><td>-0.2209650830029598              </td><td>-1.7136106252201502                 </td><td>-0.5730414531476175              </td><td>-1.540274039657214                </td><td>-0.021814816365110033      </td><td>-0.7552316031532852                          </td><td>0.6975380777217194                </td><td>0.06346293913098774                                   </td><td>-0.5287948541500367              </td><td>1.4853577048095192                       </td><td>0.01575109888868609            </td><td>-2.7948762384348385                        </td><td>-0.9007455856416964          </td><td>1.0530839991999073               </td><td>-0.017475429381780573            </td><td>-0.3763536335043053                   </td><td>-0.37888714869510864                     </td><td>-0.5456306032171392                     </td><td>0.1161648232168928             </td><td>0         </td></tr>\n",
       "<tr><td><i style='opacity: 0.6'>2</i>      </td><td>0.1743172125402425               </td><td>0.1737648051130356           </td><td>0.1836962590731435        </td><td>0.1748042814545541        </td><td>5.9398648086769546e-06             </td><td>6.53385128954465e-05                 </td><td>5.9398648086769546e-06               </td><td>0.0238188578827945       </td><td>0.191721016429666          </td><td>0.0174097437542321                  </td><td>0                          </td><td>0                               </td><td>0                     </td><td>2017  </td><td>333              </td><td>735          </td><td>130            </td><td>303            </td><td>175449        </td><td>0                </td><td>0.0                 </td><td>2.65              </td><td>0.0               </td><td>5.0               </td><td>0.0                          </td><td>6.57              </td><td>8.2                                   </td><td>8.0               </td><td>55.0                     </td><td>14.39             </td><td>60.0                       </td><td>4.36              </td><td>2.55              </td><td>11.5              </td><td>0.0                   </td><td>0.0                      </td><td>0.0                     </td><td>0.0                </td><td>0                        </td><td>0.360910585245035                                </td><td>0.3598551567119127                           </td><td>0.16166797925587542                       </td><td>0.26004498447044216                       </td><td>-0.6783722208281715                                </td><td>-0.440660463829646                                   </td><td>-0.3082834042067334                                  </td><td>-0.019122357979053355                    </td><td>-0.08228810822089194                       </td><td>-0.5534549249142819                                 </td><td>-0.10391732225875634                       </td><td>-0.5957097492228259                             </td><td>-1.1194352725700767                   </td><td>0.7420502932735349    </td><td>-0.6130745704619057              </td><td>-1.0655476423681862          </td><td>-0.3144245433158613            </td><td>-0.7532806865153355            </td><td>0.35491160460210347           </td><td>-0.2209650830029598              </td><td>-1.7136106252201502                 </td><td>-0.21826175746273208             </td><td>-1.540274039657214                </td><td>-0.6711162268003116        </td><td>-0.7552316031532852                          </td><td>0.24657491909314608               </td><td>0.9277796703724256                                    </td><td>-0.5111586415406932              </td><td>1.0625876188729386                       </td><td>0.03990134848644973            </td><td>0.4149649546989264                         </td><td>0.8416532120874014           </td><td>0.8434396288215709               </td><td>-0.1199882284310716              </td><td>-0.3763536335043053                   </td><td>-0.37888714869510864                     </td><td>-0.5456306032171392                     </td><td>0.1161648232168928             </td><td>2         </td></tr>\n",
       "<tr><td><i style='opacity: 0.6'>3</i>      </td><td>0.0059695641327203               </td><td>0.0059695641327203           </td><td>0.0062724972379628        </td><td>0.0968019767870083        </td><td>0.0083870891098518                 </td><td>7.127837770412345e-05                </td><td>5.9398648086769546e-06               </td><td>0.0042767026622474       </td><td>0.191721016429666          </td><td>0.0104007032799933                  </td><td>0                          </td><td>1                               </td><td>0                     </td><td>2020  </td><td>514              </td><td>981          </td><td>303            </td><td>1              </td><td>179767        </td><td>0                </td><td>0.0                 </td><td>2.55              </td><td>0.0               </td><td>1.45              </td><td>0.0                          </td><td>6.35              </td><td>7.5                                   </td><td>6.76              </td><td>10.0                     </td><td>14.01             </td><td>62.0                       </td><td>4.34              </td><td>2.46              </td><td>12.08             </td><td>0.0                   </td><td>0.0                      </td><td>0.0                     </td><td>0.0                </td><td>0                        </td><td>-0.806981827613355                               </td><td>-0.8024631095413517                          </td><td>-0.9212250981265484                       </td><td>-0.32193537163900626                      </td><td>-0.5782349905580595                                </td><td>-0.4393704040877435                                  </td><td>-0.3082834042067334                                  </td><td>-0.6803125416527596                      </td><td>-0.08228810822089194                       </td><td>-0.6213622102871599                                 </td><td>-0.10391732225875634                       </td><td>0.6677699660788536                              </td><td>-1.1194352725700767                   </td><td>1.6221014101641085    </td><td>-0.580995983786492               </td><td>-1.0257903142907596          </td><td>-0.17882872359534654           </td><td>-0.8835475392986264            </td><td>0.6271086484223443            </td><td>-0.2209650830029598              </td><td>-1.7136106252201502                 </td><td>-0.23424282483592512             </td><td>-1.540274039657214                </td><td>-1.0100897572481007        </td><td>-0.7552316031532852                          </td><td>0.17415747756155017               </td><td>0.3227579585034192                                    </td><td>-0.5548964488118651              </td><td>-0.8398777678416749                      </td><td>0.01805112265990163            </td><td>0.5219596611367185                         </td><td>0.8312508312054364           </td><td>0.8114599791028417               </td><td>-0.04472566710374392             </td><td>-0.3763536335043053                   </td><td>-0.37888714869510864                     </td><td>-0.5456306032171392                     </td><td>0.1161648232168928             </td><td>0         </td></tr>\n",
       "<tr><td><i style='opacity: 0.6'>4</i>      </td><td>0.0059695641327203               </td><td>0.0059695641327203           </td><td>0.0062724972379628        </td><td>0.0968019767870083        </td><td>5.9398648086769546e-06             </td><td>0.0006474452641457                   </td><td>5.9398648086769546e-06               </td><td>0.006949641826152        </td><td>0.191721016429666          </td><td>0.0144992099979804                  </td><td>0                          </td><td>1                               </td><td>0                     </td><td>2019  </td><td>514              </td><td>981          </td><td>303            </td><td>1              </td><td>176165        </td><td>0                </td><td>0.0                 </td><td>3.91              </td><td>0.0               </td><td>2.3               </td><td>0.0                          </td><td>6.28              </td><td>7.8                                   </td><td>6.13              </td><td>10.0                     </td><td>13.58             </td><td>60.0                       </td><td>4.3               </td><td>2.46              </td><td>12.08             </td><td>0.0                   </td><td>0.0                      </td><td>0.0                     </td><td>0.0                </td><td>0                        </td><td>-0.806981827613355                               </td><td>-0.8024631095413517                          </td><td>-0.9212250981265484                       </td><td>-0.32193537163900626                      </td><td>-0.6783722208281715                                </td><td>-0.3142346091232191                                  </td><td>-0.3082834042067334                                  </td><td>-0.5898761943417669                      </td><td>-0.08228810822089194                       </td><td>-0.5816537129081041                                 </td><td>-0.10391732225875634                       </td><td>0.6677699660788536                              </td><td>-1.1194352725700767                   </td><td>1.3287510378672507    </td><td>-0.580995983786492               </td><td>-1.0257903142907596          </td><td>-0.17882872359534654           </td><td>-0.8835475392986264            </td><td>0.4000466401220878            </td><td>-0.2209650830029598              </td><td>-1.7136106252201502                 </td><td>-0.0169003085604998              </td><td>-1.540274039657214                </td><td>-0.9289270809437005        </td><td>-0.7552316031532852                          </td><td>0.15111556434695175               </td><td>0.5820529778758506                                    </td><td>-0.5771180766996378              </td><td>-0.8398777678416749                      </td><td>-0.0066741328806658945         </td><td>0.4149649546989264                         </td><td>0.8104460694415069           </td><td>0.8114599791028417               </td><td>-0.04472566710374392             </td><td>-0.3763536335043053                   </td><td>-0.37888714869510864                     </td><td>-0.5456306032171392                     </td><td>0.1161648232168928             </td><td>0         </td></tr>\n",
       "<tr><td>...                                </td><td>...                              </td><td>...                          </td><td>...                       </td><td>...                       </td><td>...                                </td><td>...                                  </td><td>...                                  </td><td>...                      </td><td>...                        </td><td>...                                 </td><td>...                        </td><td>...                             </td><td>...                   </td><td>...   </td><td>...              </td><td>...          </td><td>...            </td><td>...            </td><td>...           </td><td>...              </td><td>...                 </td><td>...               </td><td>...               </td><td>...               </td><td>...                          </td><td>...               </td><td>...                                   </td><td>...               </td><td>...                      </td><td>...               </td><td>...                        </td><td>...               </td><td>...               </td><td>...               </td><td>...                   </td><td>...                      </td><td>...                     </td><td>...                </td><td>...                      </td><td>...                                              </td><td>...                                          </td><td>...                                       </td><td>...                                       </td><td>...                                                </td><td>...                                                  </td><td>...                                                  </td><td>...                                      </td><td>...                                        </td><td>...                                                 </td><td>...                                        </td><td>...                                             </td><td>...                                   </td><td>...                   </td><td>...                              </td><td>...                          </td><td>...                            </td><td>...                            </td><td>...                           </td><td>...                              </td><td>...                                 </td><td>...                              </td><td>...                               </td><td>...                        </td><td>...                                          </td><td>...                               </td><td>...                                                   </td><td>...                              </td><td>...                                      </td><td>...                            </td><td>...                                        </td><td>...                          </td><td>...                              </td><td>...                              </td><td>...                                   </td><td>...                                      </td><td>...                                     </td><td>...                            </td><td>...       </td></tr>\n",
       "<tr><td><i style='opacity: 0.6'>267,699</i></td><td>0.0188106301525354               </td><td>0.0187213780656295           </td><td>0.04778116266545          </td><td>0.0960744880786431        </td><td>0.0217944165110475                 </td><td>0.0007606440001959                   </td><td>0.0001163171527835                   </td><td>0.0084108485690865       </td><td>0.0299844375542012         </td><td>0.0025463021974173                  </td><td>0                          </td><td>0                               </td><td>1                     </td><td>2007  </td><td>488              </td><td>941          </td><td>225            </td><td>17             </td><td>181885        </td><td>0                </td><td>9.969388674763898   </td><td>1.3318035699505122</td><td>38.788336920377866</td><td>-9.228211632928383</td><td>0.0070877103013952           </td><td>0.0               </td><td>9.393684345479071                     </td><td>111.11073038416492</td><td>0.0                      </td><td>0.0               </td><td>5.1740285200185285         </td><td>0.0219719019343252</td><td>1.8145892901484628</td><td>20.006462464237572</td><td>116.793190706253      </td><td>8.694407037336932        </td><td>2177.1367267881337      </td><td>17.08557272244708  </td><td>3                        </td><td>-0.7178984117211872                              </td><td>-0.7141312463997622                          </td><td>-0.6678799656714874                       </td><td>-0.32736321302605875                      </td><td>-0.41804542800202255                               </td><td>-0.28964934718269714                                 </td><td>-0.15800292970504087                                 </td><td>-0.540437657811758                       </td><td>-0.928886600995218                         </td><td>-0.6974597956425156                                 </td><td>-0.10391732225875634                       </td><td>-0.5957097492228259                             </td><td>-0.16143051508447884                  </td><td>-2.191453429695044    </td><td>-0.5856039575630707              </td><td>-1.0322549204822111          </td><td>-0.23996441109939365           </td><td>-0.8766459841842799            </td><td>0.7606226222091136            </td><td>-0.2209650830029598              </td><td>-0.7896278620344059                 </td><td>-0.42892361705996607             </td><td>1.361694345897072                 </td><td>-2.029704150510744         </td><td>-0.746871323513178                           </td><td>-1.9160732211913256               </td><td>1.9595010219909734                                    </td><td>3.1258068851789482               </td><td>-1.2626478537782557                      </td><td>-0.787532203208357             </td><td>-2.518079407134765                         </td><td>-1.4146378155498154          </td><td>0.5821265521498578               </td><td>0.9838361731090854               </td><td>3.2594991917144087                    </td><td>3.9274309402678                          </td><td>1.5468893011364135                      </td><td>1.601920202374407              </td><td>3         </td></tr>\n",
       "<tr><td><i style='opacity: 0.6'>267,700</i></td><td>0.0012068134414386               </td><td>0.0012068134414386           </td><td>0.0495859914228352        </td><td>0.0016152844462875        </td><td>0.2212896634472599                 </td><td>0.0008976448841171                   </td><td>1.4387064973519367e-05               </td><td>0.0320111834149986       </td><td>0.4529978497689392         </td><td>0.2639081934495171                  </td><td>0                          </td><td>2                               </td><td>1                     </td><td>2015  </td><td>13505            </td><td>14478        </td><td>234            </td><td>5730           </td><td>182599        </td><td>1                </td><td>26.16               </td><td>5.7               </td><td>29.46             </td><td>20.75             </td><td>0.73                         </td><td>5.77              </td><td>7.4                                   </td><td>0.0               </td><td>15.0                     </td><td>0.0               </td><td>49.0                       </td><td>2.55              </td><td>-3.91             </td><td>12.02             </td><td>2.5                   </td><td>0.15                     </td><td>30.0                    </td><td>2.6                </td><td>3                        </td><td>-0.8400228617430329                              </td><td>-0.8354547015182453                          </td><td>-0.6568643240966642                       </td><td>-1.0321295811747406                       </td><td>1.9655061466295043                                 </td><td>-0.259894574869762                                   </td><td>-0.29678240366328057                                 </td><td>0.2580571630216592                       </td><td>1.285346689298822                          </td><td>1.8347522239747582                                  </td><td>-0.10391732225875634                       </td><td>1.9312496813805333                              </td><td>-0.16143051508447884                  </td><td>0.1553495486798191    </td><td>1.7213958366571604               </td><td>1.1555294298597532           </td><td>-0.23291029331046514           </td><td>1.58764053883208               </td><td>0.8056315822108857            </td><td>-0.19649604588021868             </td><td>0.7109501852260843                  </td><td>0.26916079741965554              </td><td>0.66379025972024                  </td><td>0.8327804223694566         </td><td>0.10583690525865302                          </td><td>-0.016761231930838505             </td><td>0.23632628537927564                                   </td><td>-0.7933380432901883              </td><td>-0.6284927248733845                      </td><td>-0.787532203208357             </td><td>-0.1735059307089305                        </td><td>-0.09976225773040981         </td><td>-1.4519885621005502              </td><td>-0.05251144931001926             </td><td>-0.29852690398282017                  </td><td>-0.30459252336062603                     </td><td>-0.5167965863369878                     </td><td>0.342259906393962              </td><td>3         </td></tr>\n",
       "<tr><td><i style='opacity: 0.6'>267,701</i></td><td>4.750437751787229e-05            </td><td>4.750437751787229e-05        </td><td>0.0001663162146429        </td><td>4.756254132404569e-05     </td><td>5.9398648086769546e-06             </td><td>2.9670242140298076e-05               </td><td>5.9398648086769546e-06               </td><td>0.0001899593462652       </td><td>0.0071456573648383         </td><td>0.0004976697235737                  </td><td>0                          </td><td>2                               </td><td>3                     </td><td>2018  </td><td>14542            </td><td>15819        </td><td>916            </td><td>7244           </td><td>146592        </td><td>90               </td><td>34.720256851122606  </td><td>6.82188498106422  </td><td>33.15686652498415 </td><td>13.80244802735613 </td><td>0.06                         </td><td>0.0               </td><td>7.596817564437032                     </td><td>49.70242354708257 </td><td>35.0                     </td><td>33.1257649126739  </td><td>51.0171361914929           </td><td>0.5200489605471226</td><td>2.620048960547123 </td><td>9.52              </td><td>0.0                   </td><td>0.0                      </td><td>0.0                     </td><td>-14.438714593888244</td><td>3                        </td><td>-0.8480654347918316                              </td><td>-0.8434852397704363                          </td><td>-0.9584937316568173                       </td><td>-1.043826458035237                        </td><td>-0.6783722208281715                                </td><td>-0.44840713848413954                                 </td><td>-0.3082834042067334                                  </td><td>-0.8185836040420549                      </td><td>-1.0484345537190525                        </td><td>-0.7173080288688406                                 </td><td>-0.10391732225875634                       </td><td>1.9312496813805333                              </td><td>1.7545789998867172                    </td><td>1.0354006655703927    </td><td>1.9051830984383988               </td><td>1.3722553524281638           </td><td>0.3016350769172287             </td><td>2.2407001915271207             </td><td>-1.4641690099232991           </td><td>1.981248258043741                </td><td>1.5043318094074971                  </td><td>0.4484499920932624               </td><td>0.9403731357311415                </td><td>0.16938993782393724        </td><td>-0.6844588490372354                          </td><td>-1.9160732211913256               </td><td>0.406438999324392                                     </td><td>0.9597869744617832               </td><td>0.21704744699977704                      </td><td>1.1172189652628712             </td><td>-0.0655944833820159                        </td><td>-1.155578451936865           </td><td>0.8683300868377718               </td><td>-0.3769190412381558              </td><td>-0.3763536335043053                   </td><td>-0.37888714869510864                     </td><td>-0.5456306032171392                     </td><td>-1.1394207064273862            </td><td>3         </td></tr>\n",
       "<tr><td><i style='opacity: 0.6'>267,702</i></td><td>0.0004633094550768               </td><td>0.0004633094550768           </td><td>0.0182294450978295        </td><td>0.0004633094550768        </td><td>0.0011649856730803                 </td><td>0.0001306770257908                   </td><td>5.939864808676954e-05                </td><td>0.0005821067512503       </td><td>0.0431828171590814         </td><td>0.0010028273676245                  </td><td>0                          </td><td>2                               </td><td>2                     </td><td>2020  </td><td>14674            </td><td>15973        </td><td>1151           </td><td>1149           </td><td>157122        </td><td>30               </td><td>19.21               </td><td>1.07              </td><td>23.78             </td><td>3.4               </td><td>3.0                          </td><td>6.04              </td><td>5.0                                   </td><td>42.0              </td><td>75.0                     </td><td>38.11             </td><td>58.0                       </td><td>3.0               </td><td>1.14              </td><td>19.74             </td><td>5.79                  </td><td>0.44                     </td><td>1710.26                 </td><td>2.2                </td><td>3                        </td><td>-0.8451808349776807                              </td><td>-0.8406049564321008                          </td><td>-0.848246733052199                        </td><td>-1.0407245428040335                       </td><td>-0.664524043972814                                 </td><td>-0.42646980666873857                                 </td><td>-0.2354984004734708                                  </td><td>-0.805315670602623                       </td><td>-0.859800631956893                         </td><td>-0.7124137948550794                                 </td><td>-0.10391732225875634                       </td><td>1.9312496813805333                              </td><td>0.7965742424011192                    </td><td>1.6221014101641085    </td><td>1.928577426842568                </td><td>1.3971440862652518           </td><td>0.4858259302948065             </td><td>-0.3883609598442625            </td><td>-0.8003814065358199           </td><td>0.5131060306792739               </td><td>0.06681036746609477                 </td><td>-0.47076262195918195             </td><td>0.2388382834655238                </td><td>-0.8238930292556531        </td><td>2.7834061026492005                           </td><td>0.07211471903975637               </td><td>-1.8380338696001775                                   </td><td>0.6881038158946604               </td><td>1.9081277907461                          </td><td>1.4038154448172917             </td><td>0.3079702482611342                         </td><td>0.13429131211379744          </td><td>0.3424251165614795               </td><td>0.9492591945640662               </td><td>-0.1961069279325457                   </td><td>-0.16095624771395967                     </td><td>1.0981582537644512                      </td><td>0.30747604744364365            </td><td>3         </td></tr>\n",
       "<tr><td><i style='opacity: 0.6'>267,703</i></td><td>0.0174218330618817               </td><td>0.0174218330618817           </td><td>0.1828162283792647        </td><td>0.0507873876870979        </td><td>0.102171293825182                  </td><td>0.0037478446709994                   </td><td>0.0005689661399066                   </td><td>0.0458155100768874       </td><td>0.2231432058392611         </td><td>0.1218623278201915                  </td><td>0                          </td><td>1                               </td><td>1                     </td><td>2017  </td><td>13678            </td><td>14720        </td><td>697            </td><td>537            </td><td>176976        </td><td>11               </td><td>23.316368234464232  </td><td>2.4749738359308364</td><td>26.22375635362103 </td><td>11.131008919341538</td><td>2.003184242162957            </td><td>5.926305940421601 </td><td>6.749115418882045                     </td><td>20.303642980748474</td><td>48.65244692941736        </td><td>21.380521282489827</td><td>53.73048938588347          </td><td>2.847263281209853 </td><td>-0.708719973785882</td><td>15.691259344820466</td><td>4.7042352738768365    </td><td>0.3126534934921838       </td><td>968.218274563558        </td><td>1.0015087708526755 </td><td>3                        </td><td>-0.7275330315125367                              </td><td>-0.7231331995353188                          </td><td>0.15629677566720013                       </td><td>-0.6652532654465454                       </td><td>0.5422903966771883                                 </td><td>0.3591309618839893                                   </td><td>0.45828603531361656                                  </td><td>0.7251133898327864                       </td><td>0.08218908289315903                        </td><td>0.4585368677100805                                  </td><td>-0.10391732225875634                       </td><td>0.6677699660788536                              </td><td>-0.16143051508447884                  </td><td>0.7420502932735349    </td><td>1.752056585247473                </td><td>1.1946402973180346           </td><td>0.12998487738663492            </td><td>-0.6523454429680174            </td><td>0.4511702627571539            </td><td>0.04819432534719254              </td><td>0.44739673958166315                 </td><td>-0.24623280666334046             </td><td>0.42166910951416386               </td><td>-0.0856937652239497        </td><td>1.6076161605091206                           </td><td>0.03469002398517248               </td><td>-0.32624414818804837                                  </td><td>-0.07717931458482105             </td><td>0.7942320631592156                       </td><td>0.4418604765593262             </td><td>0.07956273086591648                        </td><td>0.054850035937964794         </td><td>-0.3144795188795295              </td><td>0.423882312048731                </td><td>-0.22990753499812844                  </td><td>-0.2240306543049827                      </td><td>0.3849567991974168                      </td><td>0.20325567277400816            </td><td>3         </td></tr>\n",
       "</tbody>\n",
       "</table>"
      ],
      "text/plain": [
       "#        frequency_encoded_conflict_name    frequency_encoded_dyad_name    frequency_encoded_side_a    frequency_encoded_side_b    frequency_encoded_source_original    frequency_encoded_where_coordinates    frequency_encoded_where_description    frequency_encoded_adm_1    frequency_encoded_country    frequency_encoded_media_org_source    label_encoded_active_year    label_encoded_type_of_violence    label_encoded_region    year    conflict_new_id    dyad_new_id    side_a_new_id    side_b_new_id    priogrid_gid    conflict_length    capital_investment    economic_growth     savings_pcnt_gdp    inflation           pcnt_world_tourist_arrivals    death_rate_p1000    human_flight_brain_drain_index_score    government_debt     inv_freedom_index_score    external_debt       labor_freedom_index_score    remittances         pop_growth_pcnt     banking_z_score     oil_reserves_barrels    pcnt_world_oil_reserves    oil_prod_barrels_daily    trade_balance        incident_classification    standard_scaled_frequency_encoded_conflict_name    standard_scaled_frequency_encoded_dyad_name    standard_scaled_frequency_encoded_side_a    standard_scaled_frequency_encoded_side_b    standard_scaled_frequency_encoded_source_original    standard_scaled_frequency_encoded_where_coordinates    standard_scaled_frequency_encoded_where_description    standard_scaled_frequency_encoded_adm_1    standard_scaled_frequency_encoded_country    standard_scaled_frequency_encoded_media_org_source    standard_scaled_label_encoded_active_year    standard_scaled_label_encoded_type_of_violence    standard_scaled_label_encoded_region    standard_scaled_year    standard_scaled_conflict_new_id    standard_scaled_dyad_new_id    standard_scaled_side_a_new_id    standard_scaled_side_b_new_id    standard_scaled_priogrid_gid    standard_scaled_conflict_length    standard_scaled_capital_investment    standard_scaled_economic_growth    standard_scaled_savings_pcnt_gdp    standard_scaled_inflation    standard_scaled_pcnt_world_tourist_arrivals    standard_scaled_death_rate_p1000    standard_scaled_human_flight_brain_drain_index_score    standard_scaled_government_debt    standard_scaled_inv_freedom_index_score    standard_scaled_external_debt    standard_scaled_labor_freedom_index_score    standard_scaled_remittances    standard_scaled_pop_growth_pcnt    standard_scaled_banking_z_score    standard_scaled_oil_reserves_barrels    standard_scaled_pcnt_world_oil_reserves    standard_scaled_oil_prod_barrels_daily    standard_scaled_trade_balance    xgb_pred\n",
       "0        0.1743172125402425                 0.1737648051130356             0.1836962590731435          0.1748042814545541          0.0234565261294652                   0.0015324851206386                     2.969932404338477e-05                  0.0138101856801739         0.191721016429666            0.0219478004680613                    0                            0                                 0                       2018    333                735            130              303              177617          0                  0.0                   1.19                0.0                 0.6                 0.0                            6.42                8.1                                     7.38                10.0                       14.44               57.0                         4.38                2.38                12.08               0.0                     0.0                        0.0                       0.0                  1                          0.360910585245035                                  0.3598551567119127                             0.16166797925587542                         0.26004498447044216                         -0.39818668921484507                                 -0.12201570757973777                                   -0.2759345136586167                                    -0.35775623624354935                       -0.08228810822089194                         -0.5094878350626896                                   -0.10391732225875634                         -0.5957097492228259                               -1.1194352725700767                     1.0354006655703927      -0.6130745704619057                -1.0655476423681862            -0.3144245433158613              -0.7532806865153355              0.4915774663441789              -0.2209650830029598                -1.7136106252201502                   -0.45158534111135035               -1.540274039657214                  -1.091252433552501           -0.7552316031532852                            0.1971993907761489                  0.841347997248282                                       -0.5330275451762791                -0.8398777678416749                        0.04277637820046915              0.2544728950422382                           0.852055592969366              0.7830336237973046                 -0.04472566710374392               -0.3763536335043053                     -0.37888714869510864                       -0.5456306032171392                       0.1161648232168928               1\n",
       "1        0.1743172125402425                 0.1737648051130356             0.1836962590731435          0.1748042814545541          0.0633189588604963                   0.0003266925644772                     2.375945923470781e-05                  0.0167207194364256         0.191721016429666            0.0002672939163904                    0                            0                                 0                       2011    333                735            130              303              179060          0                  0.0                   0.43                0.0                 11.8                0.0                            7.94                7.2                                     7.5                 65.0                       13.97               0.0                          1.01                3.14                12.29               0.0                     0.0                        0.0                       0.0                  2                          0.360910585245035                                  0.3598551567119127                             0.16166797925587542                         0.26004498447044216                         0.07808613314002928                                  -0.38389783518594267                                   -0.28402173629564587                                   -0.25928110250491215                       -0.08228810822089194                         -0.7195400313432024                                   -0.10391732225875634                         -0.5957097492228259                               -1.1194352725700767                     -1.0180519405076125     -0.6130745704619057                -1.0655476423681862            -0.3144245433158613              -0.7532806865153355              0.582540952734315               -0.2209650830029598                -1.7136106252201502                   -0.5730414531476175                -1.540274039657214                  -0.021814816365110033        -0.7552316031532852                            0.6975380777217194                  0.06346293913098774                                     -0.5287948541500367                1.4853577048095192                         0.01575109888868609              -2.7948762384348385                          -0.9007455856416964            1.0530839991999073                 -0.017475429381780573              -0.3763536335043053                     -0.37888714869510864                       -0.5456306032171392                       0.1161648232168928               0\n",
       "2        0.1743172125402425                 0.1737648051130356             0.1836962590731435          0.1748042814545541          5.9398648086769546e-06               6.53385128954465e-05                   5.9398648086769546e-06                 0.0238188578827945         0.191721016429666            0.0174097437542321                    0                            0                                 0                       2017    333                735            130              303              175449          0                  0.0                   2.65                0.0                 5.0                 0.0                            6.57                8.2                                     8.0                 55.0                       14.39               60.0                         4.36                2.55                11.5                0.0                     0.0                        0.0                       0.0                  0                          0.360910585245035                                  0.3598551567119127                             0.16166797925587542                         0.26004498447044216                         -0.6783722208281715                                  -0.440660463829646                                     -0.3082834042067334                                    -0.019122357979053355                      -0.08228810822089194                         -0.5534549249142819                                   -0.10391732225875634                         -0.5957097492228259                               -1.1194352725700767                     0.7420502932735349      -0.6130745704619057                -1.0655476423681862            -0.3144245433158613              -0.7532806865153355              0.35491160460210347             -0.2209650830029598                -1.7136106252201502                   -0.21826175746273208               -1.540274039657214                  -0.6711162268003116          -0.7552316031532852                            0.24657491909314608                 0.9277796703724256                                      -0.5111586415406932                1.0625876188729386                         0.03990134848644973              0.4149649546989264                           0.8416532120874014             0.8434396288215709                 -0.1199882284310716                -0.3763536335043053                     -0.37888714869510864                       -0.5456306032171392                       0.1161648232168928               2\n",
       "3        0.0059695641327203                 0.0059695641327203             0.0062724972379628          0.0968019767870083          0.0083870891098518                   7.127837770412345e-05                  5.9398648086769546e-06                 0.0042767026622474         0.191721016429666            0.0104007032799933                    0                            1                                 0                       2020    514                981            303              1                179767          0                  0.0                   2.55                0.0                 1.45                0.0                            6.35                7.5                                     6.76                10.0                       14.01               62.0                         4.34                2.46                12.08               0.0                     0.0                        0.0                       0.0                  0                          -0.806981827613355                                 -0.8024631095413517                            -0.9212250981265484                         -0.32193537163900626                        -0.5782349905580595                                  -0.4393704040877435                                    -0.3082834042067334                                    -0.6803125416527596                        -0.08228810822089194                         -0.6213622102871599                                   -0.10391732225875634                         0.6677699660788536                                -1.1194352725700767                     1.6221014101641085      -0.580995983786492                 -1.0257903142907596            -0.17882872359534654             -0.8835475392986264              0.6271086484223443              -0.2209650830029598                -1.7136106252201502                   -0.23424282483592512               -1.540274039657214                  -1.0100897572481007          -0.7552316031532852                            0.17415747756155017                 0.3227579585034192                                      -0.5548964488118651                -0.8398777678416749                        0.01805112265990163              0.5219596611367185                           0.8312508312054364             0.8114599791028417                 -0.04472566710374392               -0.3763536335043053                     -0.37888714869510864                       -0.5456306032171392                       0.1161648232168928               0\n",
       "4        0.0059695641327203                 0.0059695641327203             0.0062724972379628          0.0968019767870083          5.9398648086769546e-06               0.0006474452641457                     5.9398648086769546e-06                 0.006949641826152          0.191721016429666            0.0144992099979804                    0                            1                                 0                       2019    514                981            303              1                176165          0                  0.0                   3.91                0.0                 2.3                 0.0                            6.28                7.8                                     6.13                10.0                       13.58               60.0                         4.3                 2.46                12.08               0.0                     0.0                        0.0                       0.0                  0                          -0.806981827613355                                 -0.8024631095413517                            -0.9212250981265484                         -0.32193537163900626                        -0.6783722208281715                                  -0.3142346091232191                                    -0.3082834042067334                                    -0.5898761943417669                        -0.08228810822089194                         -0.5816537129081041                                   -0.10391732225875634                         0.6677699660788536                                -1.1194352725700767                     1.3287510378672507      -0.580995983786492                 -1.0257903142907596            -0.17882872359534654             -0.8835475392986264              0.4000466401220878              -0.2209650830029598                -1.7136106252201502                   -0.0169003085604998                -1.540274039657214                  -0.9289270809437005          -0.7552316031532852                            0.15111556434695175                 0.5820529778758506                                      -0.5771180766996378                -0.8398777678416749                        -0.0066741328806658945           0.4149649546989264                           0.8104460694415069             0.8114599791028417                 -0.04472566710374392               -0.3763536335043053                     -0.37888714869510864                       -0.5456306032171392                       0.1161648232168928               0\n",
       "...      ...                                ...                            ...                         ...                         ...                                  ...                                    ...                                    ...                        ...                          ...                                   ...                          ...                               ...                     ...     ...                ...            ...              ...              ...             ...                ...                   ...                 ...                 ...                 ...                            ...                 ...                                     ...                 ...                        ...                 ...                          ...                 ...                 ...                 ...                     ...                        ...                       ...                  ...                        ...                                                ...                                            ...                                         ...                                         ...                                                  ...                                                    ...                                                    ...                                        ...                                          ...                                                   ...                                          ...                                               ...                                     ...                     ...                                ...                            ...                              ...                              ...                             ...                                ...                                   ...                                ...                                 ...                          ...                                            ...                                 ...                                                     ...                                ...                                        ...                              ...                                          ...                            ...                                ...                                ...                                     ...                                        ...                                       ...                              ...\n",
       "267,699  0.0188106301525354                 0.0187213780656295             0.04778116266545            0.0960744880786431          0.0217944165110475                   0.0007606440001959                     0.0001163171527835                     0.0084108485690865         0.0299844375542012           0.0025463021974173                    0                            0                                 1                       2007    488                941            225              17               181885          0                  9.969388674763898     1.3318035699505122  38.788336920377866  -9.228211632928383  0.0070877103013952             0.0                 9.393684345479071                       111.11073038416492  0.0                        0.0                 5.1740285200185285           0.0219719019343252  1.8145892901484628  20.006462464237572  116.793190706253        8.694407037336932          2177.1367267881337        17.08557272244708    3                          -0.7178984117211872                                -0.7141312463997622                            -0.6678799656714874                         -0.32736321302605875                        -0.41804542800202255                                 -0.28964934718269714                                   -0.15800292970504087                                   -0.540437657811758                         -0.928886600995218                           -0.6974597956425156                                   -0.10391732225875634                         -0.5957097492228259                               -0.16143051508447884                    -2.191453429695044      -0.5856039575630707                -1.0322549204822111            -0.23996441109939365             -0.8766459841842799              0.7606226222091136              -0.2209650830029598                -0.7896278620344059                   -0.42892361705996607               1.361694345897072                   -2.029704150510744           -0.746871323513178                             -1.9160732211913256                 1.9595010219909734                                      3.1258068851789482                 -1.2626478537782557                        -0.787532203208357               -2.518079407134765                           -1.4146378155498154            0.5821265521498578                 0.9838361731090854                 3.2594991917144087                      3.9274309402678                            1.5468893011364135                        1.601920202374407                3\n",
       "267,700  0.0012068134414386                 0.0012068134414386             0.0495859914228352          0.0016152844462875          0.2212896634472599                   0.0008976448841171                     1.4387064973519367e-05                 0.0320111834149986         0.4529978497689392           0.2639081934495171                    0                            2                                 1                       2015    13505              14478          234              5730             182599          1                  26.16                 5.7                 29.46               20.75               0.73                           5.77                7.4                                     0.0                 15.0                       0.0                 49.0                         2.55                -3.91               12.02               2.5                     0.15                       30.0                      2.6                  3                          -0.8400228617430329                                -0.8354547015182453                            -0.6568643240966642                         -1.0321295811747406                         1.9655061466295043                                   -0.259894574869762                                     -0.29678240366328057                                   0.2580571630216592                         1.285346689298822                            1.8347522239747582                                    -0.10391732225875634                         1.9312496813805333                                -0.16143051508447884                    0.1553495486798191      1.7213958366571604                 1.1555294298597532             -0.23291029331046514             1.58764053883208                 0.8056315822108857              -0.19649604588021868               0.7109501852260843                    0.26916079741965554                0.66379025972024                    0.8327804223694566           0.10583690525865302                            -0.016761231930838505               0.23632628537927564                                     -0.7933380432901883                -0.6284927248733845                        -0.787532203208357               -0.1735059307089305                          -0.09976225773040981           -1.4519885621005502                -0.05251144931001926               -0.29852690398282017                    -0.30459252336062603                       -0.5167965863369878                       0.342259906393962                3\n",
       "267,701  4.750437751787229e-05              4.750437751787229e-05          0.0001663162146429          4.756254132404569e-05       5.9398648086769546e-06               2.9670242140298076e-05                 5.9398648086769546e-06                 0.0001899593462652         0.0071456573648383           0.0004976697235737                    0                            2                                 3                       2018    14542              15819          916              7244             146592          90                 34.720256851122606    6.82188498106422    33.15686652498415   13.80244802735613   0.06                           0.0                 7.596817564437032                       49.70242354708257   35.0                       33.1257649126739    51.0171361914929             0.5200489605471226  2.620048960547123   9.52                0.0                     0.0                        0.0                       -14.438714593888244  3                          -0.8480654347918316                                -0.8434852397704363                            -0.9584937316568173                         -1.043826458035237                          -0.6783722208281715                                  -0.44840713848413954                                   -0.3082834042067334                                    -0.8185836040420549                        -1.0484345537190525                          -0.7173080288688406                                   -0.10391732225875634                         1.9312496813805333                                1.7545789998867172                      1.0354006655703927      1.9051830984383988                 1.3722553524281638             0.3016350769172287               2.2407001915271207               -1.4641690099232991             1.981248258043741                  1.5043318094074971                    0.4484499920932624                 0.9403731357311415                  0.16938993782393724          -0.6844588490372354                            -1.9160732211913256                 0.406438999324392                                       0.9597869744617832                 0.21704744699977704                        1.1172189652628712               -0.0655944833820159                          -1.155578451936865             0.8683300868377718                 -0.3769190412381558                -0.3763536335043053                     -0.37888714869510864                       -0.5456306032171392                       -1.1394207064273862              3\n",
       "267,702  0.0004633094550768                 0.0004633094550768             0.0182294450978295          0.0004633094550768          0.0011649856730803                   0.0001306770257908                     5.939864808676954e-05                  0.0005821067512503         0.0431828171590814           0.0010028273676245                    0                            2                                 2                       2020    14674              15973          1151             1149             157122          30                 19.21                 1.07                23.78               3.4                 3.0                            6.04                5.0                                     42.0                75.0                       38.11               58.0                         3.0                 1.14                19.74               5.79                    0.44                       1710.26                   2.2                  3                          -0.8451808349776807                                -0.8406049564321008                            -0.848246733052199                          -1.0407245428040335                         -0.664524043972814                                   -0.42646980666873857                                   -0.2354984004734708                                    -0.805315670602623                         -0.859800631956893                           -0.7124137948550794                                   -0.10391732225875634                         1.9312496813805333                                0.7965742424011192                      1.6221014101641085      1.928577426842568                  1.3971440862652518             0.4858259302948065               -0.3883609598442625              -0.8003814065358199             0.5131060306792739                 0.06681036746609477                   -0.47076262195918195               0.2388382834655238                  -0.8238930292556531          2.7834061026492005                             0.07211471903975637                 -1.8380338696001775                                     0.6881038158946604                 1.9081277907461                            1.4038154448172917               0.3079702482611342                           0.13429131211379744            0.3424251165614795                 0.9492591945640662                 -0.1961069279325457                     -0.16095624771395967                       1.0981582537644512                        0.30747604744364365              3\n",
       "267,703  0.0174218330618817                 0.0174218330618817             0.1828162283792647          0.0507873876870979          0.102171293825182                    0.0037478446709994                     0.0005689661399066                     0.0458155100768874         0.2231432058392611           0.1218623278201915                    0                            1                                 1                       2017    13678              14720          697              537              176976          11                 23.316368234464232    2.4749738359308364  26.22375635362103   11.131008919341538  2.003184242162957              5.926305940421601   6.749115418882045                       20.303642980748474  48.65244692941736          21.380521282489827  53.73048938588347            2.847263281209853   -0.708719973785882  15.691259344820466  4.7042352738768365      0.3126534934921838         968.218274563558          1.0015087708526755   3                          -0.7275330315125367                                -0.7231331995353188                            0.15629677566720013                         -0.6652532654465454                         0.5422903966771883                                   0.3591309618839893                                     0.45828603531361656                                    0.7251133898327864                         0.08218908289315903                          0.4585368677100805                                    -0.10391732225875634                         0.6677699660788536                                -0.16143051508447884                    0.7420502932735349      1.752056585247473                  1.1946402973180346             0.12998487738663492              -0.6523454429680174              0.4511702627571539              0.04819432534719254                0.44739673958166315                   -0.24623280666334046               0.42166910951416386                 -0.0856937652239497          1.6076161605091206                             0.03469002398517248                 -0.32624414818804837                                    -0.07717931458482105               0.7942320631592156                         0.4418604765593262               0.07956273086591648                          0.054850035937964794           -0.3144795188795295                0.423882312048731                  -0.22990753499812844                    -0.2240306543049827                        0.3849567991974168                        0.20325567277400816              3"
      ]
     },
     "execution_count": 99,
     "metadata": {},
     "output_type": "execute_result"
    }
   ],
   "source": [
    "xgb_sm_model = xgboost.sklearn.XGBClassifier(max_depth=11,\n",
    "                                          objective='multi:softmax',\n",
    "                                          learning_rate=0.1,\n",
    "                                          n_estimators=500,\n",
    "                                          subsample=0.75,\n",
    "                                          colsample_bylevel=1,\n",
    "                                          colsample_bytree=1,\n",
    "                                          scale_pos_weight=1.5,\n",
    "                                          reg_lambda=1.5,\n",
    "                                          reg_alpha=5,\n",
    "                                          n_jobs=8,\n",
    "                                          random_state=42,\n",
    "                                          use_label_encoder=True,\n",
    "                                          verbosity=0)\n",
    "\n",
    "vaex_sm_xgb_model = vaex.ml.sklearn.Predictor(features=sm_features,\n",
    "                                           target='incident_classification',\n",
    "                                           model=xgb_sm_model,\n",
    "                                           prediction_name='xgb_pred')\n",
    "\n",
    "vaex_sm_xgb_model.fit(smote_train)\n",
    "smote_train = vaex_sm_xgb_model.transform(smote_train)\n",
    "\n",
    "smote_train"
   ]
  },
  {
   "cell_type": "code",
   "execution_count": 100,
   "id": "d7b7a9a9",
   "metadata": {},
   "outputs": [],
   "source": [
    "y_true_sm = smote_train.incident_classification.values\n",
    "y_pred_sm = smote_train.xgb_pred.values"
   ]
  },
  {
   "cell_type": "code",
   "execution_count": 101,
   "id": "7f1fe08f",
   "metadata": {},
   "outputs": [
    {
     "name": "stdout",
     "output_type": "stream",
     "text": [
      "Model 2 Training Accuracy Score:  0.8779883752203926\n",
      "Model 2 Training F1 Score:  0.8775513374071228\n"
     ]
    }
   ],
   "source": [
    "print(\"Model 2 Training Accuracy Score: \", accuracy_score(y_true_sm, y_pred_sm))\n",
    "print(\"Model 2 Training F1 Score: \", f1_score(y_true_sm, y_pred_sm, average='weighted'))"
   ]
  },
  {
   "cell_type": "markdown",
   "id": "764ce4bb",
   "metadata": {},
   "source": [
    "###### Test Results:"
   ]
  },
  {
   "cell_type": "code",
   "execution_count": 102,
   "id": "fc78c6f4",
   "metadata": {},
   "outputs": [],
   "source": [
    "state = smote_train.state_get()  #Get the state from Train data\n",
    "smote_test.state_set(state) # Apply state to Test data"
   ]
  },
  {
   "cell_type": "code",
   "execution_count": 103,
   "id": "11e95aff",
   "metadata": {},
   "outputs": [],
   "source": [
    "y_sm_test_true = smote_test.incident_classification.values\n",
    "y_sm_test_pred = smote_test.xgb_pred.values"
   ]
  },
  {
   "cell_type": "code",
   "execution_count": 104,
   "id": "29ea00ed",
   "metadata": {},
   "outputs": [
    {
     "name": "stdout",
     "output_type": "stream",
     "text": [
      "Model 2 Test Accuracy Score:  0.6237600237600237\n",
      "Model 2 Test F1 Score:  0.6194488331798036\n"
     ]
    }
   ],
   "source": [
    "print(\"Model 2 Test Accuracy Score: \", accuracy_score(y_sm_test_true, y_sm_test_pred))\n",
    "print(\"Model 2 Test F1 Score: \", f1_score(y_sm_test_true, y_sm_test_pred, average='weighted'))"
   ]
  },
  {
   "cell_type": "code",
   "execution_count": 105,
   "id": "0822fc45",
   "metadata": {},
   "outputs": [
    {
     "name": "stdout",
     "output_type": "stream",
     "text": [
      "              precision    recall  f1-score   support\n",
      "\n",
      "           0       0.72      0.76      0.74     28777\n",
      "           1       0.51      0.47      0.49     16758\n",
      "           2       0.36      0.35      0.35      4823\n",
      "           3       0.27      0.31      0.29       147\n",
      "\n",
      "    accuracy                           0.62     50505\n",
      "   macro avg       0.47      0.47      0.47     50505\n",
      "weighted avg       0.62      0.62      0.62     50505\n",
      "\n"
     ]
    }
   ],
   "source": [
    "print(metrics.classification_report(y_sm_test_true, y_sm_test_pred))"
   ]
  },
  {
   "cell_type": "code",
   "execution_count": 106,
   "id": "fef39575",
   "metadata": {},
   "outputs": [
    {
     "name": "stdout",
     "output_type": "stream",
     "text": [
      "Confusion Matrix: \n",
      "[[21976  5599  1169    33]\n",
      " [ 7180  7816  1732    30]\n",
      " [ 1218  1882  1666    57]\n",
      " [   20    19    63    45]]\n"
     ]
    }
   ],
   "source": [
    "print(f'Confusion Matrix: \\n{confusion_matrix(y_sm_test_true, y_sm_test_pred)}')"
   ]
  },
  {
   "cell_type": "markdown",
   "id": "ddf4f37d",
   "metadata": {},
   "source": [
    "# Vaex Results\n",
    "As Models 1, 2 and 3 were executed on data with an imbalanced class distribution, we cannot rely on the results they provide. However, It is interesting to include for comparison with the final model, model 4, where we resolved the class imbalance. The scores do drop when we resolve the class imbalance, however, bearing in mind what the baseline accuracy of the model is when balanced (25%), the scored produced by the model are still relatively high. One thing to note is regularization did not have as much of an impact on the scores as I had anticipated, neither did changing the lambda values. I would like to continue experimenting with the different parameters, as the XGB model offers many. In particular I'd like to explore the 'colsample' parameters, as well as the different objective measures."
   ]
  },
  {
   "cell_type": "code",
   "execution_count": 134,
   "id": "8b51799a",
   "metadata": {},
   "outputs": [],
   "source": [
    "F1 = pd.DataFrame({'Model 1: F1 ': f1_score(y_test_true, y_test_pred, average='weighted'),\n",
    "                       'Model 2: F1': f1_score(y_test2_true, y_test2_pred, average='weighted'),\n",
    "                       'Model 3: F1': f1_score(y_test3_true, y_test3_pred, average='weighted'),\n",
    "                       'Model 4: F1': f1_score(y_sm_test_true, y_sm_test_pred, average='weighted')},\n",
    "                      index=['XGB_F1_scores'])"
   ]
  },
  {
   "cell_type": "code",
   "execution_count": 133,
   "id": "4d500d59",
   "metadata": {},
   "outputs": [],
   "source": [
    "accuracy = pd.DataFrame({'Model 1: Accuracy': accuracy_score(y_test_true, y_test_pred),\n",
    "                       'Model 2: Accuracy': accuracy_score(y_test2_true, y_test2_pred),\n",
    "                       'Model 3: Accuracy': accuracy_score(y_test3_true, y_test3_pred),\n",
    "                       'Model 4: Accuracy': accuracy_score(y_sm_test_true, y_sm_test_pred)},\n",
    "                      index=['XGB_accuracy_scores'])"
   ]
  },
  {
   "cell_type": "code",
   "execution_count": 149,
   "id": "9c5bd7ca",
   "metadata": {},
   "outputs": [],
   "source": [
    "F1 = F1.T"
   ]
  },
  {
   "cell_type": "code",
   "execution_count": 151,
   "id": "d3f3f32a",
   "metadata": {},
   "outputs": [],
   "source": [
    "accuracy = accuracy.T"
   ]
  },
  {
   "cell_type": "code",
   "execution_count": 150,
   "id": "9be1a269",
   "metadata": {},
   "outputs": [
    {
     "data": {
      "text/html": [
       "<div>\n",
       "<style scoped>\n",
       "    .dataframe tbody tr th:only-of-type {\n",
       "        vertical-align: middle;\n",
       "    }\n",
       "\n",
       "    .dataframe tbody tr th {\n",
       "        vertical-align: top;\n",
       "    }\n",
       "\n",
       "    .dataframe thead th {\n",
       "        text-align: right;\n",
       "    }\n",
       "</style>\n",
       "<table border=\"1\" class=\"dataframe\">\n",
       "  <thead>\n",
       "    <tr style=\"text-align: right;\">\n",
       "      <th></th>\n",
       "      <th>XGB_F1_scores</th>\n",
       "    </tr>\n",
       "  </thead>\n",
       "  <tbody>\n",
       "    <tr>\n",
       "      <th>Model 1: F1</th>\n",
       "      <td>0.634430</td>\n",
       "    </tr>\n",
       "    <tr>\n",
       "      <th>Model 2: F1</th>\n",
       "      <td>0.630241</td>\n",
       "    </tr>\n",
       "    <tr>\n",
       "      <th>Model 3: F1</th>\n",
       "      <td>0.628723</td>\n",
       "    </tr>\n",
       "    <tr>\n",
       "      <th>Model 4: F1</th>\n",
       "      <td>0.619449</td>\n",
       "    </tr>\n",
       "  </tbody>\n",
       "</table>\n",
       "</div>"
      ],
      "text/plain": [
       "              XGB_F1_scores\n",
       "Model 1: F1        0.634430\n",
       "Model 2: F1        0.630241\n",
       "Model 3: F1        0.628723\n",
       "Model 4: F1        0.619449"
      ]
     },
     "execution_count": 150,
     "metadata": {},
     "output_type": "execute_result"
    }
   ],
   "source": [
    "F1"
   ]
  },
  {
   "cell_type": "code",
   "execution_count": 152,
   "id": "62c83c43",
   "metadata": {},
   "outputs": [
    {
     "data": {
      "text/html": [
       "<div>\n",
       "<style scoped>\n",
       "    .dataframe tbody tr th:only-of-type {\n",
       "        vertical-align: middle;\n",
       "    }\n",
       "\n",
       "    .dataframe tbody tr th {\n",
       "        vertical-align: top;\n",
       "    }\n",
       "\n",
       "    .dataframe thead th {\n",
       "        text-align: right;\n",
       "    }\n",
       "</style>\n",
       "<table border=\"1\" class=\"dataframe\">\n",
       "  <thead>\n",
       "    <tr style=\"text-align: right;\">\n",
       "      <th></th>\n",
       "      <th>XGB_accuracy_scores</th>\n",
       "    </tr>\n",
       "  </thead>\n",
       "  <tbody>\n",
       "    <tr>\n",
       "      <th>Model 1: Accuracy</th>\n",
       "      <td>0.649045</td>\n",
       "    </tr>\n",
       "    <tr>\n",
       "      <th>Model 2: Accuracy</th>\n",
       "      <td>0.645689</td>\n",
       "    </tr>\n",
       "    <tr>\n",
       "      <th>Model 3: Accuracy</th>\n",
       "      <td>0.646580</td>\n",
       "    </tr>\n",
       "    <tr>\n",
       "      <th>Model 4: Accuracy</th>\n",
       "      <td>0.623760</td>\n",
       "    </tr>\n",
       "  </tbody>\n",
       "</table>\n",
       "</div>"
      ],
      "text/plain": [
       "                   XGB_accuracy_scores\n",
       "Model 1: Accuracy             0.649045\n",
       "Model 2: Accuracy             0.645689\n",
       "Model 3: Accuracy             0.646580\n",
       "Model 4: Accuracy             0.623760"
      ]
     },
     "execution_count": 152,
     "metadata": {},
     "output_type": "execute_result"
    }
   ],
   "source": [
    "accuracy"
   ]
  },
  {
   "cell_type": "code",
   "execution_count": 126,
   "id": "6d8bcb4b",
   "metadata": {},
   "outputs": [
    {
     "data": {
      "text/html": [
       "<div>\n",
       "<style scoped>\n",
       "    .dataframe tbody tr th:only-of-type {\n",
       "        vertical-align: middle;\n",
       "    }\n",
       "\n",
       "    .dataframe tbody tr th {\n",
       "        vertical-align: top;\n",
       "    }\n",
       "\n",
       "    .dataframe thead th {\n",
       "        text-align: right;\n",
       "    }\n",
       "</style>\n",
       "<table border=\"1\" class=\"dataframe\">\n",
       "  <thead>\n",
       "    <tr style=\"text-align: right;\">\n",
       "      <th></th>\n",
       "      <th>test_scores</th>\n",
       "    </tr>\n",
       "  </thead>\n",
       "  <tbody>\n",
       "    <tr>\n",
       "      <th>Model 1: Accuracy</th>\n",
       "      <td>0.649045</td>\n",
       "    </tr>\n",
       "    <tr>\n",
       "      <th>Model 1: F1</th>\n",
       "      <td>0.634430</td>\n",
       "    </tr>\n",
       "    <tr>\n",
       "      <th>Model 2: Accuracy</th>\n",
       "      <td>0.645689</td>\n",
       "    </tr>\n",
       "    <tr>\n",
       "      <th>Model 2: F1</th>\n",
       "      <td>0.630241</td>\n",
       "    </tr>\n",
       "    <tr>\n",
       "      <th>Model 3: Accuracy</th>\n",
       "      <td>0.646580</td>\n",
       "    </tr>\n",
       "    <tr>\n",
       "      <th>Model 3: F1</th>\n",
       "      <td>0.628723</td>\n",
       "    </tr>\n",
       "    <tr>\n",
       "      <th>Model 4: Accuracy</th>\n",
       "      <td>0.623760</td>\n",
       "    </tr>\n",
       "    <tr>\n",
       "      <th>Model 4: F1</th>\n",
       "      <td>0.619449</td>\n",
       "    </tr>\n",
       "  </tbody>\n",
       "</table>\n",
       "</div>"
      ],
      "text/plain": [
       "                   test_scores\n",
       "Model 1: Accuracy     0.649045\n",
       "Model 1: F1           0.634430\n",
       "Model 2: Accuracy     0.645689\n",
       "Model 2: F1           0.630241\n",
       "Model 3: Accuracy     0.646580\n",
       "Model 3: F1           0.628723\n",
       "Model 4: Accuracy     0.623760\n",
       "Model 4: F1           0.619449"
      ]
     },
     "execution_count": 126,
     "metadata": {},
     "output_type": "execute_result"
    }
   ],
   "source": [
    "results.plot()"
   ]
  },
  {
   "cell_type": "code",
   "execution_count": 154,
   "id": "353e7fa7",
   "metadata": {},
   "outputs": [
    {
     "data": {
      "image/png": "[encoded data removed]",
      "text/plain": [
       "<Figure size 432x288 with 1 Axes>"
      ]
     },
     "metadata": {
      "needs_background": "light"
     },
     "output_type": "display_data"
    }
   ],
   "source": [
    "accuracy.plot()\n",
    "plt.show()"
   ]
  },
  {
   "cell_type": "code",
   "execution_count": 153,
   "id": "f8a87e1b",
   "metadata": {},
   "outputs": [
    {
     "data": {
      "image/png": "[encoded data removed]",
      "text/plain": [
       "<Figure size 432x288 with 1 Axes>"
      ]
     },
     "metadata": {
      "needs_background": "light"
     },
     "output_type": "display_data"
    }
   ],
   "source": [
    "F1.plot()\n",
    "plt.show()"
   ]
  }
 ],
 "metadata": {
  "kernelspec": {
   "display_name": "Python 3",
   "language": "python",
   "name": "python3"
  },
  "language_info": {
   "codemirror_mode": {
    "name": "ipython",
    "version": 3
   },
   "file_extension": ".py",
   "mimetype": "text/x-python",
   "name": "python",
   "nbconvert_exporter": "python",
   "pygments_lexer": "ipython3",
   "version": "3.8.8"
  }
 },
 "nbformat": 4,
 "nbformat_minor": 5
}
